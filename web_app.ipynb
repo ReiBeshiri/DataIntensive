{
 "cells": [
  {
   "cell_type": "markdown",
   "metadata": {},
   "source": [
    "# Applicazione Web"
   ]
  },
  {
   "cell_type": "markdown",
   "metadata": {},
   "source": [
    "- Per prima cosa predisponiamo tre cartelle:\n",
    "    - __template__: conterrà i template delle nostre pagine.\n",
    "    - __instance__: conterrà file di lavoro e temporanei dell'applicazione.\n",
    "    - __static__: conterrà i file statici (es. css)."
   ]
  },
  {
   "cell_type": "code",
   "execution_count": 1,
   "metadata": {},
   "outputs": [],
   "source": [
    "import os\n",
    "if not os.path.isdir(\"templates\"):\n",
    "    os.mkdir(\"templates\")"
   ]
  },
  {
   "cell_type": "code",
   "execution_count": 2,
   "metadata": {},
   "outputs": [],
   "source": [
    "if not os.path.isdir(\"instance\"):\n",
    "    os.mkdir(\"instance\")"
   ]
  },
  {
   "cell_type": "code",
   "execution_count": 3,
   "metadata": {},
   "outputs": [],
   "source": [
    "if not os.path.isdir(\"static\"):\n",
    "    os.mkdir(\"static\")"
   ]
  },
  {
   "cell_type": "markdown",
   "metadata": {},
   "source": [
    "## Template\n",
    "\n",
    "- Per prima scriviamo il template \"astratto\" per le nostre pagine."
   ]
  },
  {
   "cell_type": "code",
   "execution_count": 137,
   "metadata": {},
   "outputs": [
    {
     "name": "stdout",
     "output_type": "stream",
     "text": [
      "Overwriting templates/master.html\n"
     ]
    }
   ],
   "source": [
    "%%writefile templates/master.html\n",
    "<!DOCTYPE html>\n",
    "<html>\n",
    "  <head>\n",
    "    <link rel=\"stylesheet\" type=\"text/css\" href=\"{{ url_for(\"static\", filename=\"style.css\") }}\">\n",
    "  </head>\n",
    "  <body>\n",
    "    <h1>{% block title %} {% endblock %}</h1>\n",
    "    {% block main %}{% endblock %}\n",
    "  </body>\n",
    "</html>"
   ]
  },
  {
   "cell_type": "markdown",
   "metadata": {},
   "source": [
    "- Passiamo alla scrittura dei template delle pagine vere e proprie."
   ]
  },
  {
   "cell_type": "code",
   "execution_count": 167,
   "metadata": {},
   "outputs": [
    {
     "name": "stdout",
     "output_type": "stream",
     "text": [
      "Overwriting templates/home.html\n"
     ]
    }
   ],
   "source": [
    "%%writefile templates/home.html\n",
    "{% extends \"master.html\" %}\n",
    "{% block title %}Stock Exchange Market Predictor{% endblock %}\n",
    "{% block main %}\n",
    "<form method=\"GET\" action=\"{{ url_for(\"predict\") }}\">\n",
    "  <p>Open Price: <input type=\"number\" step=\"0.01\" name=\"Open\">\n",
    "  <p>Market Index: <select name=\"Index\">\n",
    "   <option value=\"1\">NASDAQ</option>\n",
    "   <option value=\"2\">DJIA</option>\n",
    "  </select></p>\n",
    "  <p><button type=\"submit\">Predict</button></p>\n",
    "</form>\n",
    "<img src=\"{{ url_for('static', filename='compare.png') }}\" />\n",
    "{% endblock %}"
   ]
  },
  {
   "cell_type": "code",
   "execution_count": 168,
   "metadata": {},
   "outputs": [
    {
     "name": "stdout",
     "output_type": "stream",
     "text": [
      "Overwriting templates/market_index.html\n"
     ]
    }
   ],
   "source": [
    "%%writefile templates/market_index.html\n",
    "{% extends \"master.html\" %}\n",
    "{% block title %}{{ index }}{% endblock %}\n",
    "{% block main %}\n",
    "<p>Open: {{ open_price }}</p>\n",
    "<p>Predicted Direction: {{ direction }}</p> \n",
    "<p>Predicted Close: {{ close_price[0] | round(2) }}$</p>\n",
    "\n",
    "<p> Classification ROI model: {{ roi | round(2) }}% with accuracy: {{ acc | round(2) }}%</p>\n",
    "<p> RMSE Prediction model: {{ rmse | round(2) }}$</p>\n",
    "<a href=\"{{ url_for(\"home\") }}\">Home</a>\n",
    "{% if index == \"NASDAQ\" %}\n",
    "    <img src=\"{{ url_for('static', filename='close-nasdaq-compare.png')}}\" />\n",
    "{% else %}\n",
    "    <img src=\"{{ url_for('static', filename='close-djia-compare.png')}}\" />\n",
    "{% endif %}\n",
    "{% endblock %}"
   ]
  },
  {
   "cell_type": "markdown",
   "metadata": {},
   "source": [
    "## Routing\n",
    "\n",
    "- Definiamo ora le funzioni che dovranno rispondere alle richieste.\n",
    "- Predisponiamo le routine di risposta alle richieste inviate al sito."
   ]
  },
  {
   "cell_type": "code",
   "execution_count": 169,
   "metadata": {},
   "outputs": [
    {
     "name": "stdout",
     "output_type": "stream",
     "text": [
      "Overwriting progetto.py\n"
     ]
    }
   ],
   "source": [
    "%%writefile progetto.py\n",
    "from flask import Flask, request, render_template\n",
    "import pandas as pd\n",
    "import pickle\n",
    "import yfinance as yf\n",
    "\n",
    "app = Flask(__name__)\n",
    "\n",
    "@app.route(\"/\")\n",
    "def home():\n",
    "    return render_template(\"home.html\")\n",
    "    \n",
    "@app.route(\"/predict\")\n",
    "def predict():\n",
    "    open_price = float(request.args[\"Open\"])\n",
    "    \n",
    "    n = 5\n",
    "\n",
    "    if int(request.args[\"Index\"]) == 1:\n",
    "        df = nasdaq.tail(n)\n",
    "        with open(\"instance/model_classification_nasdaq.bin\", \"rb\") as f:\n",
    "            model_classification = pickle.load(f)\n",
    "        with open(\"instance/model_regression_nasdaq.bin\", \"rb\") as f:\n",
    "            model_regression = pickle.load(f)\n",
    "        roi = model_stat.loc[\"nasdaq\"][\"roi\"]\n",
    "        rmse = model_stat.loc[\"nasdaq\"][\"rmse\"]\n",
    "        index = \"NASDAQ\"\n",
    "        acc = model_stat.loc[\"nasdaq\"][\"acc\"]\n",
    "    else: \n",
    "        df = djia.tail(n)\n",
    "        with open(\"instance/model_classification_djia.bin\", \"rb\") as f:\n",
    "            model_classification = pickle.load(f)\n",
    "        with open(\"instance/model_regression_djia.bin\", \"rb\") as f:\n",
    "            model_regression = pickle.load(f)\n",
    "        roi = model_stat.loc[\"djia\"][\"roi\"]\n",
    "        rmse = model_stat.loc[\"djia\"][\"rmse\"]\n",
    "        index = \"DJIA\"\n",
    "        acc = model_stat.loc[\"djia\"][\"acc\"]\n",
    "    \n",
    "    x = pd.DataFrame({\"Open\": [open_price]})\n",
    "    \n",
    "    x[\"VolumeLag1\"] = df.iloc[n-1][\"Volume\"]\n",
    "    \n",
    "    for i in range(1,6):\n",
    "        x[\"ROILag{}\".format(i)] = df.iloc[n-i][\"ROI\"]\n",
    "    for i in range(1,6):\n",
    "        x[\"OpenLag{}\".format(i)] = df.iloc[n-i][\"Open\"]\n",
    "    for i in range(1,6):\n",
    "        x[\"CloseLag{}\".format(i)] = df.iloc[n-i][\"Close\"]\n",
    "    for i in range(1,6):\n",
    "        x[\"HighLag{}\".format(i)] = df.iloc[n-i][\"High\"]\n",
    "    for i in range(1,6):\n",
    "        x[\"LowLag{}\".format(i)] = df.iloc[n-i][\"Low\"]\n",
    "\n",
    "    label = model_classification.predict(x.head(1))\n",
    "    close = model_regression.predict(x.head(1))\n",
    "    \n",
    "    return render_template(\"market_index.html\", \\\n",
    "                           index=index, \\\n",
    "                           open_price=open_price, \\\n",
    "                           direction=label, \\\n",
    "                           close_price=close, \\\n",
    "                           roi=roi, \\\n",
    "                           rmse=rmse, \\\n",
    "                           acc=acc)\n",
    "\n",
    "\n",
    "def setup():\n",
    "    model_stat = pd.read_csv (r'instance/model_stat.csv')\n",
    "    model_stat.set_index('title', inplace=True)\n",
    "    \n",
    "    # Download file CSV dei due indici.\n",
    "    nasdaq = yf.download(\"^IXIC\", period=\"ytd\")\n",
    "    djia = yf.download(\"^DJI\", period=\"ytd\")\n",
    "    \n",
    "    # Drop del giorno odierno.\n",
    "    nasdaq.drop(nasdaq.tail(1).index, inplace=True)\n",
    "    djia.drop(djia.tail(1).index, inplace=True)\n",
    "    \n",
    "    nasdaq[\"ROI\"] = 100*(nasdaq[\"Close\"] - nasdaq[\"Open\"]) / nasdaq[\"Open\"] # Guadagno percentuale.\n",
    "    djia[\"ROI\"] = 100*(djia[\"Close\"] - djia[\"Open\"]) / djia[\"Open\"] # Guadagno percentuale.\n",
    "    \n",
    "    return model_stat, nasdaq, djia\n",
    "    \n",
    "model_stat, nasdaq, djia = setup()"
   ]
  },
  {
   "cell_type": "markdown",
   "metadata": {},
   "source": [
    "## CSS\n",
    "\n",
    "- File di stile per le nostre pagine."
   ]
  },
  {
   "cell_type": "code",
   "execution_count": 1,
   "metadata": {},
   "outputs": [
    {
     "name": "stdout",
     "output_type": "stream",
     "text": [
      "Overwriting static/style.css\n"
     ]
    }
   ],
   "source": [
    "%%writefile static/style.css\n",
    "\n",
    "h1 {\n",
    "    text-align: center;\n",
    "}\n",
    "\n",
    "div {\n",
    "    width: 100%;\n",
    "}\n",
    "\n",
    "form {\n",
    "    text-align: center;\n",
    "}\n",
    "\n",
    "img {\n",
    "    width: 70%;\n",
    "    margin-left: auto;\n",
    "    margin-right: auto;\n",
    "    display: block\n",
    "}\n",
    "\n",
    "div > * {\n",
    "    text-align: center;\n",
    "}"
   ]
  }
 ],
 "metadata": {
  "kernelspec": {
   "display_name": "Python 3",
   "language": "python",
   "name": "python3"
  },
  "language_info": {
   "codemirror_mode": {
    "name": "ipython",
    "version": 3
   },
   "file_extension": ".py",
   "mimetype": "text/x-python",
   "name": "python",
   "nbconvert_exporter": "python",
   "pygments_lexer": "ipython3",
   "version": "3.7.1"
  }
 },
 "nbformat": 4,
 "nbformat_minor": 2
}
