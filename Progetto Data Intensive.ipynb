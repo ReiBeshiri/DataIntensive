{
 "cells": [
  {
   "cell_type": "markdown",
   "metadata": {},
   "source": [
    "# Progetto Data-Intensive: Predizione Indice di Borsa\n",
    "\n",
    "**Progetto di Applicazioni Data Intensive**  \n",
    "\n",
    "Gruppo:\n",
    "- Mattia Vincenzi\n",
    "    - matricola: 792970\n",
    "    - mail: ´mattia.vincenzi2@studio.unibo.it´\n",
    "- Rei Beshiri\n",
    "    - matricola: 789973\n",
    "    - mail: ´rei.beshiri@studio.unibo.it´"
   ]
  },
  {
   "cell_type": "markdown",
   "metadata": {},
   "source": [
    "# Obiettivo: Predizione Indice di Borsa\n",
    "\n",
    "- Ci è stato commissionato da un'impresa di gestione fondi, lo sviluppo di un applicativo per il supporto decisionale riguardo gli investimenti da effettuare in borsa. \n",
    "\n",
    "- Gli indici azionari sono la sintesi del valore del paniere di titoli azionari che rappresentano.\n",
    "    - Ad esempio: S&P 500, Nasdaq, DJIA ...  \n",
    "    \n",
    "- I movimenti dell'indice sono una buona approssimazione del variare nel tempo della valorizzazione dei titoli compresi nel portafoglio. Esistono differenti metodologie di calcolo degli indici, a seconda della ponderazione che viene attribuita alle azioni del paniere.\n",
    "\n",
    "- L'analisi si basa sui principali indici.\n",
    "\n",
    "- Il nostro obiettivo è quello di creare un modello in grado di predire l'andamento di un indice nel giorno successivo, al fine di massimizzare il guadagno di un possibile investimento."
   ]
  },
  {
   "cell_type": "markdown",
   "metadata": {},
   "source": [
    "# Nasdaq\n",
    "\n",
    "- __NASDAQ (National Association of Securities Dealers Automated Quotation)__ è il primo esempio al mondo di mercato borsistico elettronico, cioè di un mercato costituito da una rete di computer.\n",
    "\n",
    "- Il __NASDAQ__ è, essenzialmente, l'indice dei principali titoli tecnologici della borsa americana. \n",
    "\n",
    "- Vi sono anche quotate compagnie di molteplici settori, tra cui quelle informatiche come Microsoft, Cisco Systems, IBM, Apple, Google, Yahoo, Facebook e Amazon."
   ]
  },
  {
   "cell_type": "markdown",
   "metadata": {},
   "source": [
    "# Raccolta Dati e Analisi Esplorativa\n",
    "\n",
    "- I dati per effettuare l'analisi sono reperibili da Yahoo Finance (https://finance.yahoo.com). \n",
    "\n",
    "- Per scaricarli ed utilizzarli in maniera agevole abbiamo utilizzato la libreria Python yfinance, una evoluzione di fix-yahoo-finance (https://github.com/ranaroussi/yfinance).\n",
    "\n",
    "- Per prima cosa sarà quindi necessario installare la libreria da terminale con il comando:\n",
    "    - pip install yfinance --upgrade --no-cache-dir\n"
   ]
  },
  {
   "cell_type": "markdown",
   "metadata": {},
   "source": [
    "- Una volta seguiti i passi precedenti sarà quindi possibile effettuare l'import della libreria."
   ]
  },
  {
   "cell_type": "code",
   "execution_count": 201,
   "metadata": {},
   "outputs": [],
   "source": [
    "import yfinance as yf"
   ]
  },
  {
   "cell_type": "markdown",
   "metadata": {},
   "source": [
    "- Abbiamo scelto l'utilizzo di tale libreria in quanto consente di scaricare i dati storici del mercato in maniera semplice ed immediata.\n",
    "\n",
    "- Il comando sotto riportato consente di specificare:\n",
    "    - ISIN (International Security Identification Number): codice identificativo a livello internazionale per identificare indici, azioni ecc...\n",
    "    - La data di inizio.\n",
    "    - La data di fine.\n",
    "    \n",
    "- Nel nostro caso abbiamo scaricato tutti i dati relativi all'ultimo ventennio."
   ]
  },
  {
   "cell_type": "code",
   "execution_count": 202,
   "metadata": {},
   "outputs": [
    {
     "name": "stdout",
     "output_type": "stream",
     "text": [
      "[*********************100%***********************]  1 of 1 downloaded\n"
     ]
    }
   ],
   "source": [
    "nasdaq = yf.download(\"^IXIC\", start=\"1999-01-01\", end=\"2019-05-27\") #^IXIC"
   ]
  },
  {
   "cell_type": "markdown",
   "metadata": {},
   "source": [
    "- La libreria yfinance ci restituisce i dati sotto forma di DataFrame Pandas, senza bisogno di ulteiori conversioni."
   ]
  },
  {
   "cell_type": "code",
   "execution_count": 203,
   "metadata": {},
   "outputs": [],
   "source": [
    "import pandas as pd\n",
    "import numpy as np"
   ]
  },
  {
   "cell_type": "code",
   "execution_count": 204,
   "metadata": {
    "scrolled": true
   },
   "outputs": [
    {
     "data": {
      "text/html": [
       "<div>\n",
       "<style scoped>\n",
       "    .dataframe tbody tr th:only-of-type {\n",
       "        vertical-align: middle;\n",
       "    }\n",
       "\n",
       "    .dataframe tbody tr th {\n",
       "        vertical-align: top;\n",
       "    }\n",
       "\n",
       "    .dataframe thead th {\n",
       "        text-align: right;\n",
       "    }\n",
       "</style>\n",
       "<table border=\"1\" class=\"dataframe\">\n",
       "  <thead>\n",
       "    <tr style=\"text-align: right;\">\n",
       "      <th></th>\n",
       "      <th>Open</th>\n",
       "      <th>High</th>\n",
       "      <th>Low</th>\n",
       "      <th>Close</th>\n",
       "      <th>Adj Close</th>\n",
       "      <th>Volume</th>\n",
       "    </tr>\n",
       "    <tr>\n",
       "      <th>Date</th>\n",
       "      <th></th>\n",
       "      <th></th>\n",
       "      <th></th>\n",
       "      <th></th>\n",
       "      <th></th>\n",
       "      <th></th>\n",
       "    </tr>\n",
       "  </thead>\n",
       "  <tbody>\n",
       "    <tr>\n",
       "      <th>1998-12-31</th>\n",
       "      <td>2169.38</td>\n",
       "      <td>2200.63</td>\n",
       "      <td>2165.74</td>\n",
       "      <td>2192.69</td>\n",
       "      <td>2192.69</td>\n",
       "      <td>886630000</td>\n",
       "    </tr>\n",
       "    <tr>\n",
       "      <th>1999-01-04</th>\n",
       "      <td>2207.54</td>\n",
       "      <td>2233.57</td>\n",
       "      <td>2192.68</td>\n",
       "      <td>2208.05</td>\n",
       "      <td>2208.05</td>\n",
       "      <td>936660000</td>\n",
       "    </tr>\n",
       "    <tr>\n",
       "      <th>1999-01-05</th>\n",
       "      <td>2207.75</td>\n",
       "      <td>2251.77</td>\n",
       "      <td>2206.49</td>\n",
       "      <td>2251.27</td>\n",
       "      <td>2251.27</td>\n",
       "      <td>948350000</td>\n",
       "    </tr>\n",
       "    <tr>\n",
       "      <th>1999-01-06</th>\n",
       "      <td>2286.13</td>\n",
       "      <td>2320.95</td>\n",
       "      <td>2286.13</td>\n",
       "      <td>2320.86</td>\n",
       "      <td>2320.86</td>\n",
       "      <td>1252650000</td>\n",
       "    </tr>\n",
       "    <tr>\n",
       "      <th>1999-01-07</th>\n",
       "      <td>2293.27</td>\n",
       "      <td>2333.70</td>\n",
       "      <td>2284.24</td>\n",
       "      <td>2326.09</td>\n",
       "      <td>2326.09</td>\n",
       "      <td>1200900000</td>\n",
       "    </tr>\n",
       "    <tr>\n",
       "      <th>1999-01-08</th>\n",
       "      <td>2363.80</td>\n",
       "      <td>2369.55</td>\n",
       "      <td>2314.95</td>\n",
       "      <td>2344.41</td>\n",
       "      <td>2344.41</td>\n",
       "      <td>1286690000</td>\n",
       "    </tr>\n",
       "    <tr>\n",
       "      <th>1999-01-11</th>\n",
       "      <td>2373.97</td>\n",
       "      <td>2384.72</td>\n",
       "      <td>2348.24</td>\n",
       "      <td>2384.59</td>\n",
       "      <td>2384.59</td>\n",
       "      <td>1140930000</td>\n",
       "    </tr>\n",
       "    <tr>\n",
       "      <th>1999-01-12</th>\n",
       "      <td>2395.90</td>\n",
       "      <td>2396.30</td>\n",
       "      <td>2320.21</td>\n",
       "      <td>2320.75</td>\n",
       "      <td>2320.75</td>\n",
       "      <td>1107300000</td>\n",
       "    </tr>\n",
       "    <tr>\n",
       "      <th>1999-01-13</th>\n",
       "      <td>2222.28</td>\n",
       "      <td>2353.33</td>\n",
       "      <td>2205.69</td>\n",
       "      <td>2316.81</td>\n",
       "      <td>2316.81</td>\n",
       "      <td>1195470000</td>\n",
       "    </tr>\n",
       "    <tr>\n",
       "      <th>1999-01-14</th>\n",
       "      <td>2337.31</td>\n",
       "      <td>2338.29</td>\n",
       "      <td>2276.36</td>\n",
       "      <td>2276.82</td>\n",
       "      <td>2276.82</td>\n",
       "      <td>1012270000</td>\n",
       "    </tr>\n",
       "  </tbody>\n",
       "</table>\n",
       "</div>"
      ],
      "text/plain": [
       "               Open     High      Low    Close  Adj Close      Volume\n",
       "Date                                                                 \n",
       "1998-12-31  2169.38  2200.63  2165.74  2192.69    2192.69   886630000\n",
       "1999-01-04  2207.54  2233.57  2192.68  2208.05    2208.05   936660000\n",
       "1999-01-05  2207.75  2251.77  2206.49  2251.27    2251.27   948350000\n",
       "1999-01-06  2286.13  2320.95  2286.13  2320.86    2320.86  1252650000\n",
       "1999-01-07  2293.27  2333.70  2284.24  2326.09    2326.09  1200900000\n",
       "1999-01-08  2363.80  2369.55  2314.95  2344.41    2344.41  1286690000\n",
       "1999-01-11  2373.97  2384.72  2348.24  2384.59    2384.59  1140930000\n",
       "1999-01-12  2395.90  2396.30  2320.21  2320.75    2320.75  1107300000\n",
       "1999-01-13  2222.28  2353.33  2205.69  2316.81    2316.81  1195470000\n",
       "1999-01-14  2337.31  2338.29  2276.36  2276.82    2276.82  1012270000"
      ]
     },
     "execution_count": 204,
     "metadata": {},
     "output_type": "execute_result"
    }
   ],
   "source": [
    "nasdaq.head(10)"
   ]
  },
  {
   "cell_type": "markdown",
   "metadata": {},
   "source": [
    "- Visualizziamo la dimensione della nostra matrice."
   ]
  },
  {
   "cell_type": "code",
   "execution_count": 205,
   "metadata": {},
   "outputs": [
    {
     "data": {
      "text/plain": [
       "(5132, 6)"
      ]
     },
     "execution_count": 205,
     "metadata": {},
     "output_type": "execute_result"
    }
   ],
   "source": [
    "nasdaq.shape"
   ]
  },
  {
   "cell_type": "markdown",
   "metadata": {},
   "source": [
    "- Le Features presenti nel nostro DataSet (composto da 5000 record) sono:\n",
    "    - `Date`: data utilizzata come indice del DataFrame. \n",
    "    - `Open`: indica il valore del titolo all'apertura del mercato (Dollari).\n",
    "    - `Close`: indica il valore alla chiusura del mercato.\n",
    "    - `High`: indica il valore massimo raggiunto dal titolo nell'arco della giornata.\n",
    "    - `Low`: indica il valore minimo raggiunto dal titolo nell'arco della giornata.\n",
    "    - `Adj Close`: è una versione corretta del prezzo di chiusura. \n",
    "    - `Volume`: indica il numero totale di titoli scambiati durante quel giorno. "
   ]
  },
  {
   "cell_type": "markdown",
   "metadata": {},
   "source": [
    "- Con i dati presenti nel DataFrame possiamo visualizzare l'andamento del prezzo di apertura nel tempo."
   ]
  },
  {
   "cell_type": "code",
   "execution_count": 206,
   "metadata": {},
   "outputs": [
    {
     "data": {
      "text/plain": [
       "<matplotlib.axes._subplots.AxesSubplot at 0x1a1fa0c7b8>"
      ]
     },
     "execution_count": 206,
     "metadata": {},
     "output_type": "execute_result"
    },
    {
     "data": {
      "image/png": "[encoded data removed]",
      "text/plain": [
       "<Figure size 864x288 with 1 Axes>"
      ]
     },
     "metadata": {
      "needs_background": "light"
     },
     "output_type": "display_data"
    }
   ],
   "source": [
    "import matplotlib.pyplot as plt\n",
    "%matplotlib inline\n",
    "\n",
    "nasdaq[\"Open\"].plot(figsize=(12, 4))"
   ]
  },
  {
   "cell_type": "markdown",
   "metadata": {},
   "source": [
    "- Possiamo vedere anche l'andamento delle transazioni nel tempo. \n",
    "    - `Nota`: Scala logaritmica sulle y."
   ]
  },
  {
   "cell_type": "code",
   "execution_count": 207,
   "metadata": {},
   "outputs": [
    {
     "data": {
      "text/plain": [
       "<matplotlib.axes._subplots.AxesSubplot at 0x1a20130908>"
      ]
     },
     "execution_count": 207,
     "metadata": {},
     "output_type": "execute_result"
    },
    {
     "data": {
      "image/png": "[encoded data removed]",
      "text/plain": [
       "<Figure size 864x288 with 1 Axes>"
      ]
     },
     "metadata": {
      "needs_background": "light"
     },
     "output_type": "display_data"
    }
   ],
   "source": [
    "nasdaq[\"Volume\"].plot(figsize=(12, 4))"
   ]
  },
  {
   "cell_type": "markdown",
   "metadata": {},
   "source": [
    "- Trattandosi di informazioni numeriche possiamo otterne informaizioni utili sulla distribuzione delle `features`."
   ]
  },
  {
   "cell_type": "code",
   "execution_count": 208,
   "metadata": {},
   "outputs": [
    {
     "data": {
      "text/html": [
       "<div>\n",
       "<style scoped>\n",
       "    .dataframe tbody tr th:only-of-type {\n",
       "        vertical-align: middle;\n",
       "    }\n",
       "\n",
       "    .dataframe tbody tr th {\n",
       "        vertical-align: top;\n",
       "    }\n",
       "\n",
       "    .dataframe thead th {\n",
       "        text-align: right;\n",
       "    }\n",
       "</style>\n",
       "<table border=\"1\" class=\"dataframe\">\n",
       "  <thead>\n",
       "    <tr style=\"text-align: right;\">\n",
       "      <th></th>\n",
       "      <th>Open</th>\n",
       "      <th>High</th>\n",
       "      <th>Low</th>\n",
       "      <th>Close</th>\n",
       "      <th>Adj Close</th>\n",
       "      <th>Volume</th>\n",
       "    </tr>\n",
       "  </thead>\n",
       "  <tbody>\n",
       "    <tr>\n",
       "      <th>count</th>\n",
       "      <td>5132.000000</td>\n",
       "      <td>5132.000000</td>\n",
       "      <td>5132.000000</td>\n",
       "      <td>5132.000000</td>\n",
       "      <td>5132.000000</td>\n",
       "      <td>5.132000e+03</td>\n",
       "    </tr>\n",
       "    <tr>\n",
       "      <th>mean</th>\n",
       "      <td>3293.728396</td>\n",
       "      <td>3316.067013</td>\n",
       "      <td>3267.747901</td>\n",
       "      <td>3293.181647</td>\n",
       "      <td>3293.181647</td>\n",
       "      <td>1.880664e+09</td>\n",
       "    </tr>\n",
       "    <tr>\n",
       "      <th>std</th>\n",
       "      <td>1697.520915</td>\n",
       "      <td>1704.006922</td>\n",
       "      <td>1690.042113</td>\n",
       "      <td>1697.807087</td>\n",
       "      <td>1697.807087</td>\n",
       "      <td>4.392974e+08</td>\n",
       "    </tr>\n",
       "    <tr>\n",
       "      <th>min</th>\n",
       "      <td>1116.760000</td>\n",
       "      <td>1135.890000</td>\n",
       "      <td>1108.490000</td>\n",
       "      <td>1114.110000</td>\n",
       "      <td>1114.110000</td>\n",
       "      <td>2.214300e+08</td>\n",
       "    </tr>\n",
       "    <tr>\n",
       "      <th>25%</th>\n",
       "      <td>2091.650000</td>\n",
       "      <td>2105.365000</td>\n",
       "      <td>2075.575000</td>\n",
       "      <td>2090.185000</td>\n",
       "      <td>2090.185000</td>\n",
       "      <td>1.646770e+09</td>\n",
       "    </tr>\n",
       "    <tr>\n",
       "      <th>50%</th>\n",
       "      <td>2598.345000</td>\n",
       "      <td>2616.195000</td>\n",
       "      <td>2574.205000</td>\n",
       "      <td>2597.140000</td>\n",
       "      <td>2597.140000</td>\n",
       "      <td>1.868835e+09</td>\n",
       "    </tr>\n",
       "    <tr>\n",
       "      <th>75%</th>\n",
       "      <td>4324.832500</td>\n",
       "      <td>4340.745000</td>\n",
       "      <td>4287.660000</td>\n",
       "      <td>4321.492500</td>\n",
       "      <td>4321.492500</td>\n",
       "      <td>2.106108e+09</td>\n",
       "    </tr>\n",
       "    <tr>\n",
       "      <th>max</th>\n",
       "      <td>8150.850000</td>\n",
       "      <td>8176.080000</td>\n",
       "      <td>8136.410000</td>\n",
       "      <td>8164.000000</td>\n",
       "      <td>8164.000000</td>\n",
       "      <td>4.553600e+09</td>\n",
       "    </tr>\n",
       "  </tbody>\n",
       "</table>\n",
       "</div>"
      ],
      "text/plain": [
       "              Open         High          Low        Close    Adj Close  \\\n",
       "count  5132.000000  5132.000000  5132.000000  5132.000000  5132.000000   \n",
       "mean   3293.728396  3316.067013  3267.747901  3293.181647  3293.181647   \n",
       "std    1697.520915  1704.006922  1690.042113  1697.807087  1697.807087   \n",
       "min    1116.760000  1135.890000  1108.490000  1114.110000  1114.110000   \n",
       "25%    2091.650000  2105.365000  2075.575000  2090.185000  2090.185000   \n",
       "50%    2598.345000  2616.195000  2574.205000  2597.140000  2597.140000   \n",
       "75%    4324.832500  4340.745000  4287.660000  4321.492500  4321.492500   \n",
       "max    8150.850000  8176.080000  8136.410000  8164.000000  8164.000000   \n",
       "\n",
       "             Volume  \n",
       "count  5.132000e+03  \n",
       "mean   1.880664e+09  \n",
       "std    4.392974e+08  \n",
       "min    2.214300e+08  \n",
       "25%    1.646770e+09  \n",
       "50%    1.868835e+09  \n",
       "75%    2.106108e+09  \n",
       "max    4.553600e+09  "
      ]
     },
     "execution_count": 208,
     "metadata": {},
     "output_type": "execute_result"
    }
   ],
   "source": [
    "nasdaq.describe()"
   ]
  },
  {
   "cell_type": "markdown",
   "metadata": {},
   "source": [
    "# Analisi dei dati e selezione delle features\n",
    "\n"
   ]
  },
  {
   "cell_type": "markdown",
   "metadata": {},
   "source": [
    "- Fortunatamente essendo Yahoo Finance ben organizzato non presenta dati mancanti o NaN all'interno del DataSet."
   ]
  },
  {
   "cell_type": "markdown",
   "metadata": {},
   "source": [
    "- Dopo aver analizzato la distribuzione e le caratteristiche dei dati, abbiamo notato che la features `Adj Close` è identica a `Close`. Per questo motivo possiamo eliminarla in quanto dati duplicati non sono utili nella realizzazione di un modello di classificazione."
   ]
  },
  {
   "cell_type": "markdown",
   "metadata": {},
   "source": [
    "- Dai valori $O_d$ di apertura e $C_d$ di chiusura di ogni giorno $d$, possiamo definire la variazione dell'indice  (ROI) ($\\delta_d$) come segue:\n",
    "$$ \\delta_d=\\frac{C_d-O_d}{O_d} $$\n",
    "\n",
    "- Consideriamo il capitale investito come il prezzo di una azione in apertura.\n",
    "- Se positivo abbiamo che il prezzo di chiusura > del prezzo di apertura\n",
    "- Se negativo contrario\n",
    "\n",
    "- Abbiamo chiamato questa feature __ROI__ in quanto corrisponde esattamente alla redditività del capitale investito sul singolo titolo."
   ]
  },
  {
   "cell_type": "code",
   "execution_count": 209,
   "metadata": {},
   "outputs": [],
   "source": [
    "nasdaq[\"ROI\"] = 100*(nasdaq[\"Close\"] - nasdaq[\"Open\"]) / nasdaq[\"Open\"] # Guadagno percentuale."
   ]
  },
  {
   "cell_type": "code",
   "execution_count": 210,
   "metadata": {},
   "outputs": [
    {
     "data": {
      "text/html": [
       "<div>\n",
       "<style scoped>\n",
       "    .dataframe tbody tr th:only-of-type {\n",
       "        vertical-align: middle;\n",
       "    }\n",
       "\n",
       "    .dataframe tbody tr th {\n",
       "        vertical-align: top;\n",
       "    }\n",
       "\n",
       "    .dataframe thead th {\n",
       "        text-align: right;\n",
       "    }\n",
       "</style>\n",
       "<table border=\"1\" class=\"dataframe\">\n",
       "  <thead>\n",
       "    <tr style=\"text-align: right;\">\n",
       "      <th></th>\n",
       "      <th>Open</th>\n",
       "      <th>High</th>\n",
       "      <th>Low</th>\n",
       "      <th>Close</th>\n",
       "      <th>Adj Close</th>\n",
       "      <th>Volume</th>\n",
       "      <th>ROI</th>\n",
       "    </tr>\n",
       "    <tr>\n",
       "      <th>Date</th>\n",
       "      <th></th>\n",
       "      <th></th>\n",
       "      <th></th>\n",
       "      <th></th>\n",
       "      <th></th>\n",
       "      <th></th>\n",
       "      <th></th>\n",
       "    </tr>\n",
       "  </thead>\n",
       "  <tbody>\n",
       "    <tr>\n",
       "      <th>2019-05-13</th>\n",
       "      <td>7720.07</td>\n",
       "      <td>7760.83</td>\n",
       "      <td>7627.22</td>\n",
       "      <td>7647.02</td>\n",
       "      <td>7647.02</td>\n",
       "      <td>2478860000</td>\n",
       "      <td>-0.946235</td>\n",
       "    </tr>\n",
       "    <tr>\n",
       "      <th>2019-05-14</th>\n",
       "      <td>7689.66</td>\n",
       "      <td>7776.20</td>\n",
       "      <td>7665.30</td>\n",
       "      <td>7734.49</td>\n",
       "      <td>7734.49</td>\n",
       "      <td>2084850000</td>\n",
       "      <td>0.582991</td>\n",
       "    </tr>\n",
       "    <tr>\n",
       "      <th>2019-05-15</th>\n",
       "      <td>7682.80</td>\n",
       "      <td>7838.72</td>\n",
       "      <td>7682.24</td>\n",
       "      <td>7822.15</td>\n",
       "      <td>7822.15</td>\n",
       "      <td>2001530000</td>\n",
       "      <td>1.813792</td>\n",
       "    </tr>\n",
       "    <tr>\n",
       "      <th>2019-05-16</th>\n",
       "      <td>7832.58</td>\n",
       "      <td>7946.23</td>\n",
       "      <td>7826.67</td>\n",
       "      <td>7898.05</td>\n",
       "      <td>7898.05</td>\n",
       "      <td>2163120000</td>\n",
       "      <td>0.835868</td>\n",
       "    </tr>\n",
       "    <tr>\n",
       "      <th>2019-05-17</th>\n",
       "      <td>7829.03</td>\n",
       "      <td>7918.71</td>\n",
       "      <td>7810.35</td>\n",
       "      <td>7816.28</td>\n",
       "      <td>7816.28</td>\n",
       "      <td>2134120000</td>\n",
       "      <td>-0.162855</td>\n",
       "    </tr>\n",
       "    <tr>\n",
       "      <th>2019-05-20</th>\n",
       "      <td>7714.06</td>\n",
       "      <td>7747.27</td>\n",
       "      <td>7678.35</td>\n",
       "      <td>7702.38</td>\n",
       "      <td>7702.38</td>\n",
       "      <td>2122410000</td>\n",
       "      <td>-0.151412</td>\n",
       "    </tr>\n",
       "    <tr>\n",
       "      <th>2019-05-21</th>\n",
       "      <td>7765.57</td>\n",
       "      <td>7804.44</td>\n",
       "      <td>7752.92</td>\n",
       "      <td>7785.72</td>\n",
       "      <td>7785.72</td>\n",
       "      <td>1993210000</td>\n",
       "      <td>0.259479</td>\n",
       "    </tr>\n",
       "    <tr>\n",
       "      <th>2019-05-22</th>\n",
       "      <td>7749.80</td>\n",
       "      <td>7786.33</td>\n",
       "      <td>7738.35</td>\n",
       "      <td>7750.84</td>\n",
       "      <td>7750.84</td>\n",
       "      <td>1881830000</td>\n",
       "      <td>0.013420</td>\n",
       "    </tr>\n",
       "    <tr>\n",
       "      <th>2019-05-23</th>\n",
       "      <td>7660.72</td>\n",
       "      <td>7665.15</td>\n",
       "      <td>7585.32</td>\n",
       "      <td>7628.28</td>\n",
       "      <td>7628.28</td>\n",
       "      <td>2243420000</td>\n",
       "      <td>-0.423459</td>\n",
       "    </tr>\n",
       "    <tr>\n",
       "      <th>2019-05-24</th>\n",
       "      <td>7675.57</td>\n",
       "      <td>7694.15</td>\n",
       "      <td>7631.25</td>\n",
       "      <td>7637.01</td>\n",
       "      <td>7637.01</td>\n",
       "      <td>1682920000</td>\n",
       "      <td>-0.502373</td>\n",
       "    </tr>\n",
       "  </tbody>\n",
       "</table>\n",
       "</div>"
      ],
      "text/plain": [
       "               Open     High      Low    Close  Adj Close      Volume  \\\n",
       "Date                                                                    \n",
       "2019-05-13  7720.07  7760.83  7627.22  7647.02    7647.02  2478860000   \n",
       "2019-05-14  7689.66  7776.20  7665.30  7734.49    7734.49  2084850000   \n",
       "2019-05-15  7682.80  7838.72  7682.24  7822.15    7822.15  2001530000   \n",
       "2019-05-16  7832.58  7946.23  7826.67  7898.05    7898.05  2163120000   \n",
       "2019-05-17  7829.03  7918.71  7810.35  7816.28    7816.28  2134120000   \n",
       "2019-05-20  7714.06  7747.27  7678.35  7702.38    7702.38  2122410000   \n",
       "2019-05-21  7765.57  7804.44  7752.92  7785.72    7785.72  1993210000   \n",
       "2019-05-22  7749.80  7786.33  7738.35  7750.84    7750.84  1881830000   \n",
       "2019-05-23  7660.72  7665.15  7585.32  7628.28    7628.28  2243420000   \n",
       "2019-05-24  7675.57  7694.15  7631.25  7637.01    7637.01  1682920000   \n",
       "\n",
       "                 ROI  \n",
       "Date                  \n",
       "2019-05-13 -0.946235  \n",
       "2019-05-14  0.582991  \n",
       "2019-05-15  1.813792  \n",
       "2019-05-16  0.835868  \n",
       "2019-05-17 -0.162855  \n",
       "2019-05-20 -0.151412  \n",
       "2019-05-21  0.259479  \n",
       "2019-05-22  0.013420  \n",
       "2019-05-23 -0.423459  \n",
       "2019-05-24 -0.502373  "
      ]
     },
     "execution_count": 210,
     "metadata": {},
     "output_type": "execute_result"
    }
   ],
   "source": [
    "nasdaq.tail(10)"
   ]
  },
  {
   "cell_type": "markdown",
   "metadata": {},
   "source": [
    "- Possiamo plottare la variabile di interesse che vogliamo predire."
   ]
  },
  {
   "cell_type": "code",
   "execution_count": 211,
   "metadata": {},
   "outputs": [
    {
     "data": {
      "text/plain": [
       "<matplotlib.axes._subplots.AxesSubplot at 0x1a2000de80>"
      ]
     },
     "execution_count": 211,
     "metadata": {},
     "output_type": "execute_result"
    },
    {
     "data": {
      "image/png": "[encoded data removed]",
      "text/plain": [
       "<Figure size 864x288 with 1 Axes>"
      ]
     },
     "metadata": {
      "needs_background": "light"
     },
     "output_type": "display_data"
    }
   ],
   "source": [
    "nasdaq[\"ROI\"].plot(figsize=(12, 4))"
   ]
  },
  {
   "cell_type": "markdown",
   "metadata": {},
   "source": [
    "- Perchè abbiamo aggiunto questa features ? \n",
    "    - Perchè è di nostro interesse valutare se l'indice durante la giornata crescerà o calerà. Questo per poter consigliare la corretta azione di Trading da svolgere all'apertura del mercato:\n",
    "        - Vendere nel caso in cui il tittolo durante la giornata cali.\n",
    "        - Comprare nel caso in cui il titolo salga."
   ]
  },
  {
   "cell_type": "markdown",
   "metadata": {},
   "source": [
    "- Per poter effettuare una qualsiasi predizione sul giorno corrente è necessario basarsi anche sui dati dei giorni precedenti, che devono essere noti all'apertura del giorno da predire.\n",
    "- Considerando che la settimana in borsa è di 5 giorni (da Lunedì a Venerdì) dobbiamo aggiungere tante features quanti sono i giorni precedenti che vogliamo considerare (nel nostro caso 5)."
   ]
  },
  {
   "cell_type": "markdown",
   "metadata": {},
   "source": [
    "- Le features che abbiamo deciso di considerare anche per i giorni precedenti sono:\n",
    "    - `ROI`: la consideriamo dei 5 giorni precedenti, in quanto riflette la redditività del capitale investito.\n",
    "    - `Open` e `Close`: abbiamo deciso di includerle entrambe in quanto il ROI può non catturare grandi variazioni da un prezzo di chiusura del giorno precedente al prezzo di apertura del giorno successivo, non dovendo essere per forza identici.\n",
    "    - `Volume`: il volume delle transazioni del giorno predente.\n",
    "    \n",
    "    \n",
    "- Esempio: Se il mercato il giorno n apre e chiude allo stesso prezzo es. apertura: 50, chiusura: 50, il giorno n+1 (il successivo) può avere una drastica variazione in apertura (positiva o negativa) a fronte di possibili eventi (es. altri mercati, un attentato, una buona notizia e così via), portando quindi un eventuale apertura a 10 ed una possibile chiusura a 10; tale cambiamento non viene catturato dal solo ROI."
   ]
  },
  {
   "cell_type": "code",
   "execution_count": 212,
   "metadata": {},
   "outputs": [],
   "source": [
    "for i in range(1, 6):\n",
    "    nasdaq[\"ROILag{}\".format(i)] = nasdaq[\"ROI\"].shift(i)"
   ]
  },
  {
   "cell_type": "code",
   "execution_count": 213,
   "metadata": {},
   "outputs": [
    {
     "data": {
      "text/html": [
       "<div>\n",
       "<style scoped>\n",
       "    .dataframe tbody tr th:only-of-type {\n",
       "        vertical-align: middle;\n",
       "    }\n",
       "\n",
       "    .dataframe tbody tr th {\n",
       "        vertical-align: top;\n",
       "    }\n",
       "\n",
       "    .dataframe thead th {\n",
       "        text-align: right;\n",
       "    }\n",
       "</style>\n",
       "<table border=\"1\" class=\"dataframe\">\n",
       "  <thead>\n",
       "    <tr style=\"text-align: right;\">\n",
       "      <th></th>\n",
       "      <th>Open</th>\n",
       "      <th>High</th>\n",
       "      <th>Low</th>\n",
       "      <th>Close</th>\n",
       "      <th>Adj Close</th>\n",
       "      <th>Volume</th>\n",
       "      <th>ROI</th>\n",
       "      <th>ROILag1</th>\n",
       "      <th>ROILag2</th>\n",
       "      <th>ROILag3</th>\n",
       "      <th>ROILag4</th>\n",
       "      <th>ROILag5</th>\n",
       "    </tr>\n",
       "    <tr>\n",
       "      <th>Date</th>\n",
       "      <th></th>\n",
       "      <th></th>\n",
       "      <th></th>\n",
       "      <th></th>\n",
       "      <th></th>\n",
       "      <th></th>\n",
       "      <th></th>\n",
       "      <th></th>\n",
       "      <th></th>\n",
       "      <th></th>\n",
       "      <th></th>\n",
       "      <th></th>\n",
       "    </tr>\n",
       "  </thead>\n",
       "  <tbody>\n",
       "    <tr>\n",
       "      <th>1998-12-31</th>\n",
       "      <td>2169.38</td>\n",
       "      <td>2200.63</td>\n",
       "      <td>2165.74</td>\n",
       "      <td>2192.69</td>\n",
       "      <td>2192.69</td>\n",
       "      <td>886630000</td>\n",
       "      <td>1.074501</td>\n",
       "      <td>NaN</td>\n",
       "      <td>NaN</td>\n",
       "      <td>NaN</td>\n",
       "      <td>NaN</td>\n",
       "      <td>NaN</td>\n",
       "    </tr>\n",
       "    <tr>\n",
       "      <th>1999-01-04</th>\n",
       "      <td>2207.54</td>\n",
       "      <td>2233.57</td>\n",
       "      <td>2192.68</td>\n",
       "      <td>2208.05</td>\n",
       "      <td>2208.05</td>\n",
       "      <td>936660000</td>\n",
       "      <td>0.023103</td>\n",
       "      <td>1.074501</td>\n",
       "      <td>NaN</td>\n",
       "      <td>NaN</td>\n",
       "      <td>NaN</td>\n",
       "      <td>NaN</td>\n",
       "    </tr>\n",
       "    <tr>\n",
       "      <th>1999-01-05</th>\n",
       "      <td>2207.75</td>\n",
       "      <td>2251.77</td>\n",
       "      <td>2206.49</td>\n",
       "      <td>2251.27</td>\n",
       "      <td>2251.27</td>\n",
       "      <td>948350000</td>\n",
       "      <td>1.971238</td>\n",
       "      <td>0.023103</td>\n",
       "      <td>1.074501</td>\n",
       "      <td>NaN</td>\n",
       "      <td>NaN</td>\n",
       "      <td>NaN</td>\n",
       "    </tr>\n",
       "    <tr>\n",
       "      <th>1999-01-06</th>\n",
       "      <td>2286.13</td>\n",
       "      <td>2320.95</td>\n",
       "      <td>2286.13</td>\n",
       "      <td>2320.86</td>\n",
       "      <td>2320.86</td>\n",
       "      <td>1252650000</td>\n",
       "      <td>1.519161</td>\n",
       "      <td>1.971238</td>\n",
       "      <td>0.023103</td>\n",
       "      <td>1.074501</td>\n",
       "      <td>NaN</td>\n",
       "      <td>NaN</td>\n",
       "    </tr>\n",
       "    <tr>\n",
       "      <th>1999-01-07</th>\n",
       "      <td>2293.27</td>\n",
       "      <td>2333.70</td>\n",
       "      <td>2284.24</td>\n",
       "      <td>2326.09</td>\n",
       "      <td>2326.09</td>\n",
       "      <td>1200900000</td>\n",
       "      <td>1.431144</td>\n",
       "      <td>1.519161</td>\n",
       "      <td>1.971238</td>\n",
       "      <td>0.023103</td>\n",
       "      <td>1.074501</td>\n",
       "      <td>NaN</td>\n",
       "    </tr>\n",
       "    <tr>\n",
       "      <th>1999-01-08</th>\n",
       "      <td>2363.80</td>\n",
       "      <td>2369.55</td>\n",
       "      <td>2314.95</td>\n",
       "      <td>2344.41</td>\n",
       "      <td>2344.41</td>\n",
       "      <td>1286690000</td>\n",
       "      <td>-0.820289</td>\n",
       "      <td>1.431144</td>\n",
       "      <td>1.519161</td>\n",
       "      <td>1.971238</td>\n",
       "      <td>0.023103</td>\n",
       "      <td>1.074501</td>\n",
       "    </tr>\n",
       "    <tr>\n",
       "      <th>1999-01-11</th>\n",
       "      <td>2373.97</td>\n",
       "      <td>2384.72</td>\n",
       "      <td>2348.24</td>\n",
       "      <td>2384.59</td>\n",
       "      <td>2384.59</td>\n",
       "      <td>1140930000</td>\n",
       "      <td>0.447352</td>\n",
       "      <td>-0.820289</td>\n",
       "      <td>1.431144</td>\n",
       "      <td>1.519161</td>\n",
       "      <td>1.971238</td>\n",
       "      <td>0.023103</td>\n",
       "    </tr>\n",
       "    <tr>\n",
       "      <th>1999-01-12</th>\n",
       "      <td>2395.90</td>\n",
       "      <td>2396.30</td>\n",
       "      <td>2320.21</td>\n",
       "      <td>2320.75</td>\n",
       "      <td>2320.75</td>\n",
       "      <td>1107300000</td>\n",
       "      <td>-3.136608</td>\n",
       "      <td>0.447352</td>\n",
       "      <td>-0.820289</td>\n",
       "      <td>1.431144</td>\n",
       "      <td>1.519161</td>\n",
       "      <td>1.971238</td>\n",
       "    </tr>\n",
       "    <tr>\n",
       "      <th>1999-01-13</th>\n",
       "      <td>2222.28</td>\n",
       "      <td>2353.33</td>\n",
       "      <td>2205.69</td>\n",
       "      <td>2316.81</td>\n",
       "      <td>2316.81</td>\n",
       "      <td>1195470000</td>\n",
       "      <td>4.253739</td>\n",
       "      <td>-3.136608</td>\n",
       "      <td>0.447352</td>\n",
       "      <td>-0.820289</td>\n",
       "      <td>1.431144</td>\n",
       "      <td>1.519161</td>\n",
       "    </tr>\n",
       "    <tr>\n",
       "      <th>1999-01-14</th>\n",
       "      <td>2337.31</td>\n",
       "      <td>2338.29</td>\n",
       "      <td>2276.36</td>\n",
       "      <td>2276.82</td>\n",
       "      <td>2276.82</td>\n",
       "      <td>1012270000</td>\n",
       "      <td>-2.588018</td>\n",
       "      <td>4.253739</td>\n",
       "      <td>-3.136608</td>\n",
       "      <td>0.447352</td>\n",
       "      <td>-0.820289</td>\n",
       "      <td>1.431144</td>\n",
       "    </tr>\n",
       "  </tbody>\n",
       "</table>\n",
       "</div>"
      ],
      "text/plain": [
       "               Open     High      Low    Close  Adj Close      Volume  \\\n",
       "Date                                                                    \n",
       "1998-12-31  2169.38  2200.63  2165.74  2192.69    2192.69   886630000   \n",
       "1999-01-04  2207.54  2233.57  2192.68  2208.05    2208.05   936660000   \n",
       "1999-01-05  2207.75  2251.77  2206.49  2251.27    2251.27   948350000   \n",
       "1999-01-06  2286.13  2320.95  2286.13  2320.86    2320.86  1252650000   \n",
       "1999-01-07  2293.27  2333.70  2284.24  2326.09    2326.09  1200900000   \n",
       "1999-01-08  2363.80  2369.55  2314.95  2344.41    2344.41  1286690000   \n",
       "1999-01-11  2373.97  2384.72  2348.24  2384.59    2384.59  1140930000   \n",
       "1999-01-12  2395.90  2396.30  2320.21  2320.75    2320.75  1107300000   \n",
       "1999-01-13  2222.28  2353.33  2205.69  2316.81    2316.81  1195470000   \n",
       "1999-01-14  2337.31  2338.29  2276.36  2276.82    2276.82  1012270000   \n",
       "\n",
       "                 ROI   ROILag1   ROILag2   ROILag3   ROILag4   ROILag5  \n",
       "Date                                                                    \n",
       "1998-12-31  1.074501       NaN       NaN       NaN       NaN       NaN  \n",
       "1999-01-04  0.023103  1.074501       NaN       NaN       NaN       NaN  \n",
       "1999-01-05  1.971238  0.023103  1.074501       NaN       NaN       NaN  \n",
       "1999-01-06  1.519161  1.971238  0.023103  1.074501       NaN       NaN  \n",
       "1999-01-07  1.431144  1.519161  1.971238  0.023103  1.074501       NaN  \n",
       "1999-01-08 -0.820289  1.431144  1.519161  1.971238  0.023103  1.074501  \n",
       "1999-01-11  0.447352 -0.820289  1.431144  1.519161  1.971238  0.023103  \n",
       "1999-01-12 -3.136608  0.447352 -0.820289  1.431144  1.519161  1.971238  \n",
       "1999-01-13  4.253739 -3.136608  0.447352 -0.820289  1.431144  1.519161  \n",
       "1999-01-14 -2.588018  4.253739 -3.136608  0.447352 -0.820289  1.431144  "
      ]
     },
     "execution_count": 213,
     "metadata": {},
     "output_type": "execute_result"
    }
   ],
   "source": [
    "nasdaq.head(10)"
   ]
  },
  {
   "cell_type": "markdown",
   "metadata": {},
   "source": [
    "- Per quanto riguarda il Volume delle trasnazioni abbiamo deciso di considerare solo quello del giorno precedente."
   ]
  },
  {
   "cell_type": "code",
   "execution_count": 214,
   "metadata": {},
   "outputs": [],
   "source": [
    "nasdaq[\"VolumeLag1\"] = nasdaq[\"Volume\"].shift(1)"
   ]
  },
  {
   "cell_type": "code",
   "execution_count": 215,
   "metadata": {},
   "outputs": [
    {
     "data": {
      "text/html": [
       "<div>\n",
       "<style scoped>\n",
       "    .dataframe tbody tr th:only-of-type {\n",
       "        vertical-align: middle;\n",
       "    }\n",
       "\n",
       "    .dataframe tbody tr th {\n",
       "        vertical-align: top;\n",
       "    }\n",
       "\n",
       "    .dataframe thead th {\n",
       "        text-align: right;\n",
       "    }\n",
       "</style>\n",
       "<table border=\"1\" class=\"dataframe\">\n",
       "  <thead>\n",
       "    <tr style=\"text-align: right;\">\n",
       "      <th></th>\n",
       "      <th>Open</th>\n",
       "      <th>High</th>\n",
       "      <th>Low</th>\n",
       "      <th>Close</th>\n",
       "      <th>Adj Close</th>\n",
       "      <th>Volume</th>\n",
       "      <th>ROI</th>\n",
       "      <th>ROILag1</th>\n",
       "      <th>ROILag2</th>\n",
       "      <th>ROILag3</th>\n",
       "      <th>ROILag4</th>\n",
       "      <th>ROILag5</th>\n",
       "      <th>VolumeLag1</th>\n",
       "    </tr>\n",
       "    <tr>\n",
       "      <th>Date</th>\n",
       "      <th></th>\n",
       "      <th></th>\n",
       "      <th></th>\n",
       "      <th></th>\n",
       "      <th></th>\n",
       "      <th></th>\n",
       "      <th></th>\n",
       "      <th></th>\n",
       "      <th></th>\n",
       "      <th></th>\n",
       "      <th></th>\n",
       "      <th></th>\n",
       "      <th></th>\n",
       "    </tr>\n",
       "  </thead>\n",
       "  <tbody>\n",
       "    <tr>\n",
       "      <th>1998-12-31</th>\n",
       "      <td>2169.38</td>\n",
       "      <td>2200.63</td>\n",
       "      <td>2165.74</td>\n",
       "      <td>2192.69</td>\n",
       "      <td>2192.69</td>\n",
       "      <td>886630000</td>\n",
       "      <td>1.074501</td>\n",
       "      <td>NaN</td>\n",
       "      <td>NaN</td>\n",
       "      <td>NaN</td>\n",
       "      <td>NaN</td>\n",
       "      <td>NaN</td>\n",
       "      <td>NaN</td>\n",
       "    </tr>\n",
       "    <tr>\n",
       "      <th>1999-01-04</th>\n",
       "      <td>2207.54</td>\n",
       "      <td>2233.57</td>\n",
       "      <td>2192.68</td>\n",
       "      <td>2208.05</td>\n",
       "      <td>2208.05</td>\n",
       "      <td>936660000</td>\n",
       "      <td>0.023103</td>\n",
       "      <td>1.074501</td>\n",
       "      <td>NaN</td>\n",
       "      <td>NaN</td>\n",
       "      <td>NaN</td>\n",
       "      <td>NaN</td>\n",
       "      <td>8.866300e+08</td>\n",
       "    </tr>\n",
       "    <tr>\n",
       "      <th>1999-01-05</th>\n",
       "      <td>2207.75</td>\n",
       "      <td>2251.77</td>\n",
       "      <td>2206.49</td>\n",
       "      <td>2251.27</td>\n",
       "      <td>2251.27</td>\n",
       "      <td>948350000</td>\n",
       "      <td>1.971238</td>\n",
       "      <td>0.023103</td>\n",
       "      <td>1.074501</td>\n",
       "      <td>NaN</td>\n",
       "      <td>NaN</td>\n",
       "      <td>NaN</td>\n",
       "      <td>9.366600e+08</td>\n",
       "    </tr>\n",
       "    <tr>\n",
       "      <th>1999-01-06</th>\n",
       "      <td>2286.13</td>\n",
       "      <td>2320.95</td>\n",
       "      <td>2286.13</td>\n",
       "      <td>2320.86</td>\n",
       "      <td>2320.86</td>\n",
       "      <td>1252650000</td>\n",
       "      <td>1.519161</td>\n",
       "      <td>1.971238</td>\n",
       "      <td>0.023103</td>\n",
       "      <td>1.074501</td>\n",
       "      <td>NaN</td>\n",
       "      <td>NaN</td>\n",
       "      <td>9.483500e+08</td>\n",
       "    </tr>\n",
       "    <tr>\n",
       "      <th>1999-01-07</th>\n",
       "      <td>2293.27</td>\n",
       "      <td>2333.70</td>\n",
       "      <td>2284.24</td>\n",
       "      <td>2326.09</td>\n",
       "      <td>2326.09</td>\n",
       "      <td>1200900000</td>\n",
       "      <td>1.431144</td>\n",
       "      <td>1.519161</td>\n",
       "      <td>1.971238</td>\n",
       "      <td>0.023103</td>\n",
       "      <td>1.074501</td>\n",
       "      <td>NaN</td>\n",
       "      <td>1.252650e+09</td>\n",
       "    </tr>\n",
       "    <tr>\n",
       "      <th>1999-01-08</th>\n",
       "      <td>2363.80</td>\n",
       "      <td>2369.55</td>\n",
       "      <td>2314.95</td>\n",
       "      <td>2344.41</td>\n",
       "      <td>2344.41</td>\n",
       "      <td>1286690000</td>\n",
       "      <td>-0.820289</td>\n",
       "      <td>1.431144</td>\n",
       "      <td>1.519161</td>\n",
       "      <td>1.971238</td>\n",
       "      <td>0.023103</td>\n",
       "      <td>1.074501</td>\n",
       "      <td>1.200900e+09</td>\n",
       "    </tr>\n",
       "    <tr>\n",
       "      <th>1999-01-11</th>\n",
       "      <td>2373.97</td>\n",
       "      <td>2384.72</td>\n",
       "      <td>2348.24</td>\n",
       "      <td>2384.59</td>\n",
       "      <td>2384.59</td>\n",
       "      <td>1140930000</td>\n",
       "      <td>0.447352</td>\n",
       "      <td>-0.820289</td>\n",
       "      <td>1.431144</td>\n",
       "      <td>1.519161</td>\n",
       "      <td>1.971238</td>\n",
       "      <td>0.023103</td>\n",
       "      <td>1.286690e+09</td>\n",
       "    </tr>\n",
       "    <tr>\n",
       "      <th>1999-01-12</th>\n",
       "      <td>2395.90</td>\n",
       "      <td>2396.30</td>\n",
       "      <td>2320.21</td>\n",
       "      <td>2320.75</td>\n",
       "      <td>2320.75</td>\n",
       "      <td>1107300000</td>\n",
       "      <td>-3.136608</td>\n",
       "      <td>0.447352</td>\n",
       "      <td>-0.820289</td>\n",
       "      <td>1.431144</td>\n",
       "      <td>1.519161</td>\n",
       "      <td>1.971238</td>\n",
       "      <td>1.140930e+09</td>\n",
       "    </tr>\n",
       "    <tr>\n",
       "      <th>1999-01-13</th>\n",
       "      <td>2222.28</td>\n",
       "      <td>2353.33</td>\n",
       "      <td>2205.69</td>\n",
       "      <td>2316.81</td>\n",
       "      <td>2316.81</td>\n",
       "      <td>1195470000</td>\n",
       "      <td>4.253739</td>\n",
       "      <td>-3.136608</td>\n",
       "      <td>0.447352</td>\n",
       "      <td>-0.820289</td>\n",
       "      <td>1.431144</td>\n",
       "      <td>1.519161</td>\n",
       "      <td>1.107300e+09</td>\n",
       "    </tr>\n",
       "    <tr>\n",
       "      <th>1999-01-14</th>\n",
       "      <td>2337.31</td>\n",
       "      <td>2338.29</td>\n",
       "      <td>2276.36</td>\n",
       "      <td>2276.82</td>\n",
       "      <td>2276.82</td>\n",
       "      <td>1012270000</td>\n",
       "      <td>-2.588018</td>\n",
       "      <td>4.253739</td>\n",
       "      <td>-3.136608</td>\n",
       "      <td>0.447352</td>\n",
       "      <td>-0.820289</td>\n",
       "      <td>1.431144</td>\n",
       "      <td>1.195470e+09</td>\n",
       "    </tr>\n",
       "  </tbody>\n",
       "</table>\n",
       "</div>"
      ],
      "text/plain": [
       "               Open     High      Low    Close  Adj Close      Volume  \\\n",
       "Date                                                                    \n",
       "1998-12-31  2169.38  2200.63  2165.74  2192.69    2192.69   886630000   \n",
       "1999-01-04  2207.54  2233.57  2192.68  2208.05    2208.05   936660000   \n",
       "1999-01-05  2207.75  2251.77  2206.49  2251.27    2251.27   948350000   \n",
       "1999-01-06  2286.13  2320.95  2286.13  2320.86    2320.86  1252650000   \n",
       "1999-01-07  2293.27  2333.70  2284.24  2326.09    2326.09  1200900000   \n",
       "1999-01-08  2363.80  2369.55  2314.95  2344.41    2344.41  1286690000   \n",
       "1999-01-11  2373.97  2384.72  2348.24  2384.59    2384.59  1140930000   \n",
       "1999-01-12  2395.90  2396.30  2320.21  2320.75    2320.75  1107300000   \n",
       "1999-01-13  2222.28  2353.33  2205.69  2316.81    2316.81  1195470000   \n",
       "1999-01-14  2337.31  2338.29  2276.36  2276.82    2276.82  1012270000   \n",
       "\n",
       "                 ROI   ROILag1   ROILag2   ROILag3   ROILag4   ROILag5  \\\n",
       "Date                                                                     \n",
       "1998-12-31  1.074501       NaN       NaN       NaN       NaN       NaN   \n",
       "1999-01-04  0.023103  1.074501       NaN       NaN       NaN       NaN   \n",
       "1999-01-05  1.971238  0.023103  1.074501       NaN       NaN       NaN   \n",
       "1999-01-06  1.519161  1.971238  0.023103  1.074501       NaN       NaN   \n",
       "1999-01-07  1.431144  1.519161  1.971238  0.023103  1.074501       NaN   \n",
       "1999-01-08 -0.820289  1.431144  1.519161  1.971238  0.023103  1.074501   \n",
       "1999-01-11  0.447352 -0.820289  1.431144  1.519161  1.971238  0.023103   \n",
       "1999-01-12 -3.136608  0.447352 -0.820289  1.431144  1.519161  1.971238   \n",
       "1999-01-13  4.253739 -3.136608  0.447352 -0.820289  1.431144  1.519161   \n",
       "1999-01-14 -2.588018  4.253739 -3.136608  0.447352 -0.820289  1.431144   \n",
       "\n",
       "              VolumeLag1  \n",
       "Date                      \n",
       "1998-12-31           NaN  \n",
       "1999-01-04  8.866300e+08  \n",
       "1999-01-05  9.366600e+08  \n",
       "1999-01-06  9.483500e+08  \n",
       "1999-01-07  1.252650e+09  \n",
       "1999-01-08  1.200900e+09  \n",
       "1999-01-11  1.286690e+09  \n",
       "1999-01-12  1.140930e+09  \n",
       "1999-01-13  1.107300e+09  \n",
       "1999-01-14  1.195470e+09  "
      ]
     },
     "execution_count": 215,
     "metadata": {},
     "output_type": "execute_result"
    }
   ],
   "source": [
    "nasdaq.head(10)"
   ]
  },
  {
   "cell_type": "markdown",
   "metadata": {},
   "source": [
    "- Come spiegato precedentemente consideriamo in aggiunta l'Open e Close dei 5 giorni passati."
   ]
  },
  {
   "cell_type": "code",
   "execution_count": 216,
   "metadata": {},
   "outputs": [],
   "source": [
    "for i in range(1, 6):\n",
    "    nasdaq[\"OpenLag{}\".format(i)] = nasdaq[\"Open\"].shift(i)"
   ]
  },
  {
   "cell_type": "code",
   "execution_count": 217,
   "metadata": {},
   "outputs": [],
   "source": [
    "for i in range(1, 6):\n",
    "    nasdaq[\"CloseLag{}\".format(i)] = nasdaq[\"Close\"].shift(i)"
   ]
  },
  {
   "cell_type": "code",
   "execution_count": 218,
   "metadata": {},
   "outputs": [],
   "source": [
    "for i in range(1, 6):\n",
    "    nasdaq[\"HighLag{}\".format(i)] = nasdaq[\"High\"].shift(i)"
   ]
  },
  {
   "cell_type": "code",
   "execution_count": 219,
   "metadata": {},
   "outputs": [],
   "source": [
    "for i in range(1, 6):\n",
    "    nasdaq[\"LowLag{}\".format(i)] = nasdaq[\"Low\"].shift(i)"
   ]
  },
  {
   "cell_type": "code",
   "execution_count": 220,
   "metadata": {},
   "outputs": [
    {
     "data": {
      "text/plain": [
       "Index(['Open', 'High', 'Low', 'Close', 'Adj Close', 'Volume', 'ROI', 'ROILag1',\n",
       "       'ROILag2', 'ROILag3', 'ROILag4', 'ROILag5', 'VolumeLag1', 'OpenLag1',\n",
       "       'OpenLag2', 'OpenLag3', 'OpenLag4', 'OpenLag5', 'CloseLag1',\n",
       "       'CloseLag2', 'CloseLag3', 'CloseLag4', 'CloseLag5', 'HighLag1',\n",
       "       'HighLag2', 'HighLag3', 'HighLag4', 'HighLag5', 'LowLag1', 'LowLag2',\n",
       "       'LowLag3', 'LowLag4', 'LowLag5'],\n",
       "      dtype='object')"
      ]
     },
     "execution_count": 220,
     "metadata": {},
     "output_type": "execute_result"
    }
   ],
   "source": [
    "nasdaq.columns"
   ]
  },
  {
   "cell_type": "markdown",
   "metadata": {},
   "source": [
    "- Ora avendo considerato tutte le features di nostro interesse estraiamo quelle che riteniamo importanti per le nostre predizioni."
   ]
  },
  {
   "cell_type": "code",
   "execution_count": 221,
   "metadata": {},
   "outputs": [],
   "source": [
    "features = [\"Open\"] + [\"VolumeLag1\"] \\\n",
    "                    + [\"ROILag{}\".format(i) for i in range(1,6)] \\\n",
    "                    + [\"OpenLag{}\".format(i) for i in range(1,6)] \\\n",
    "                    + [\"CloseLag{}\".format(i) for i in range(1,6)] \\\n",
    "                    + [\"HighLag{}\".format(i) for i in range(1,6)] \\\n",
    "                    + [\"LowLag{}\".format(i) for i in range(1,6)]"
   ]
  },
  {
   "cell_type": "code",
   "execution_count": 222,
   "metadata": {},
   "outputs": [
    {
     "data": {
      "text/plain": [
       "['Open',\n",
       " 'VolumeLag1',\n",
       " 'ROILag1',\n",
       " 'ROILag2',\n",
       " 'ROILag3',\n",
       " 'ROILag4',\n",
       " 'ROILag5',\n",
       " 'OpenLag1',\n",
       " 'OpenLag2',\n",
       " 'OpenLag3',\n",
       " 'OpenLag4',\n",
       " 'OpenLag5',\n",
       " 'CloseLag1',\n",
       " 'CloseLag2',\n",
       " 'CloseLag3',\n",
       " 'CloseLag4',\n",
       " 'CloseLag5',\n",
       " 'HighLag1',\n",
       " 'HighLag2',\n",
       " 'HighLag3',\n",
       " 'HighLag4',\n",
       " 'HighLag5',\n",
       " 'LowLag1',\n",
       " 'LowLag2',\n",
       " 'LowLag3',\n",
       " 'LowLag4',\n",
       " 'LowLag5']"
      ]
     },
     "execution_count": 222,
     "metadata": {},
     "output_type": "execute_result"
    }
   ],
   "source": [
    "features"
   ]
  },
  {
   "cell_type": "markdown",
   "metadata": {},
   "source": [
    "- Chiamiamo X l'insieme delle osservazioni contenenti i record di nostro interesse."
   ]
  },
  {
   "cell_type": "code",
   "execution_count": 223,
   "metadata": {},
   "outputs": [],
   "source": [
    "X = nasdaq[features].copy()"
   ]
  },
  {
   "cell_type": "code",
   "execution_count": 224,
   "metadata": {},
   "outputs": [
    {
     "data": {
      "text/html": [
       "<div>\n",
       "<style scoped>\n",
       "    .dataframe tbody tr th:only-of-type {\n",
       "        vertical-align: middle;\n",
       "    }\n",
       "\n",
       "    .dataframe tbody tr th {\n",
       "        vertical-align: top;\n",
       "    }\n",
       "\n",
       "    .dataframe thead th {\n",
       "        text-align: right;\n",
       "    }\n",
       "</style>\n",
       "<table border=\"1\" class=\"dataframe\">\n",
       "  <thead>\n",
       "    <tr style=\"text-align: right;\">\n",
       "      <th></th>\n",
       "      <th>Open</th>\n",
       "      <th>VolumeLag1</th>\n",
       "      <th>ROILag1</th>\n",
       "      <th>ROILag2</th>\n",
       "      <th>ROILag3</th>\n",
       "      <th>ROILag4</th>\n",
       "      <th>ROILag5</th>\n",
       "      <th>OpenLag1</th>\n",
       "      <th>OpenLag2</th>\n",
       "      <th>OpenLag3</th>\n",
       "      <th>...</th>\n",
       "      <th>HighLag1</th>\n",
       "      <th>HighLag2</th>\n",
       "      <th>HighLag3</th>\n",
       "      <th>HighLag4</th>\n",
       "      <th>HighLag5</th>\n",
       "      <th>LowLag1</th>\n",
       "      <th>LowLag2</th>\n",
       "      <th>LowLag3</th>\n",
       "      <th>LowLag4</th>\n",
       "      <th>LowLag5</th>\n",
       "    </tr>\n",
       "    <tr>\n",
       "      <th>Date</th>\n",
       "      <th></th>\n",
       "      <th></th>\n",
       "      <th></th>\n",
       "      <th></th>\n",
       "      <th></th>\n",
       "      <th></th>\n",
       "      <th></th>\n",
       "      <th></th>\n",
       "      <th></th>\n",
       "      <th></th>\n",
       "      <th></th>\n",
       "      <th></th>\n",
       "      <th></th>\n",
       "      <th></th>\n",
       "      <th></th>\n",
       "      <th></th>\n",
       "      <th></th>\n",
       "      <th></th>\n",
       "      <th></th>\n",
       "      <th></th>\n",
       "      <th></th>\n",
       "    </tr>\n",
       "  </thead>\n",
       "  <tbody>\n",
       "    <tr>\n",
       "      <th>1998-12-31</th>\n",
       "      <td>2169.38</td>\n",
       "      <td>NaN</td>\n",
       "      <td>NaN</td>\n",
       "      <td>NaN</td>\n",
       "      <td>NaN</td>\n",
       "      <td>NaN</td>\n",
       "      <td>NaN</td>\n",
       "      <td>NaN</td>\n",
       "      <td>NaN</td>\n",
       "      <td>NaN</td>\n",
       "      <td>...</td>\n",
       "      <td>NaN</td>\n",
       "      <td>NaN</td>\n",
       "      <td>NaN</td>\n",
       "      <td>NaN</td>\n",
       "      <td>NaN</td>\n",
       "      <td>NaN</td>\n",
       "      <td>NaN</td>\n",
       "      <td>NaN</td>\n",
       "      <td>NaN</td>\n",
       "      <td>NaN</td>\n",
       "    </tr>\n",
       "    <tr>\n",
       "      <th>1999-01-04</th>\n",
       "      <td>2207.54</td>\n",
       "      <td>8.866300e+08</td>\n",
       "      <td>1.074501</td>\n",
       "      <td>NaN</td>\n",
       "      <td>NaN</td>\n",
       "      <td>NaN</td>\n",
       "      <td>NaN</td>\n",
       "      <td>2169.38</td>\n",
       "      <td>NaN</td>\n",
       "      <td>NaN</td>\n",
       "      <td>...</td>\n",
       "      <td>2200.63</td>\n",
       "      <td>NaN</td>\n",
       "      <td>NaN</td>\n",
       "      <td>NaN</td>\n",
       "      <td>NaN</td>\n",
       "      <td>2165.74</td>\n",
       "      <td>NaN</td>\n",
       "      <td>NaN</td>\n",
       "      <td>NaN</td>\n",
       "      <td>NaN</td>\n",
       "    </tr>\n",
       "    <tr>\n",
       "      <th>1999-01-05</th>\n",
       "      <td>2207.75</td>\n",
       "      <td>9.366600e+08</td>\n",
       "      <td>0.023103</td>\n",
       "      <td>1.074501</td>\n",
       "      <td>NaN</td>\n",
       "      <td>NaN</td>\n",
       "      <td>NaN</td>\n",
       "      <td>2207.54</td>\n",
       "      <td>2169.38</td>\n",
       "      <td>NaN</td>\n",
       "      <td>...</td>\n",
       "      <td>2233.57</td>\n",
       "      <td>2200.63</td>\n",
       "      <td>NaN</td>\n",
       "      <td>NaN</td>\n",
       "      <td>NaN</td>\n",
       "      <td>2192.68</td>\n",
       "      <td>2165.74</td>\n",
       "      <td>NaN</td>\n",
       "      <td>NaN</td>\n",
       "      <td>NaN</td>\n",
       "    </tr>\n",
       "    <tr>\n",
       "      <th>1999-01-06</th>\n",
       "      <td>2286.13</td>\n",
       "      <td>9.483500e+08</td>\n",
       "      <td>1.971238</td>\n",
       "      <td>0.023103</td>\n",
       "      <td>1.074501</td>\n",
       "      <td>NaN</td>\n",
       "      <td>NaN</td>\n",
       "      <td>2207.75</td>\n",
       "      <td>2207.54</td>\n",
       "      <td>2169.38</td>\n",
       "      <td>...</td>\n",
       "      <td>2251.77</td>\n",
       "      <td>2233.57</td>\n",
       "      <td>2200.63</td>\n",
       "      <td>NaN</td>\n",
       "      <td>NaN</td>\n",
       "      <td>2206.49</td>\n",
       "      <td>2192.68</td>\n",
       "      <td>2165.74</td>\n",
       "      <td>NaN</td>\n",
       "      <td>NaN</td>\n",
       "    </tr>\n",
       "    <tr>\n",
       "      <th>1999-01-07</th>\n",
       "      <td>2293.27</td>\n",
       "      <td>1.252650e+09</td>\n",
       "      <td>1.519161</td>\n",
       "      <td>1.971238</td>\n",
       "      <td>0.023103</td>\n",
       "      <td>1.074501</td>\n",
       "      <td>NaN</td>\n",
       "      <td>2286.13</td>\n",
       "      <td>2207.75</td>\n",
       "      <td>2207.54</td>\n",
       "      <td>...</td>\n",
       "      <td>2320.95</td>\n",
       "      <td>2251.77</td>\n",
       "      <td>2233.57</td>\n",
       "      <td>2200.63</td>\n",
       "      <td>NaN</td>\n",
       "      <td>2286.13</td>\n",
       "      <td>2206.49</td>\n",
       "      <td>2192.68</td>\n",
       "      <td>2165.74</td>\n",
       "      <td>NaN</td>\n",
       "    </tr>\n",
       "    <tr>\n",
       "      <th>1999-01-08</th>\n",
       "      <td>2363.80</td>\n",
       "      <td>1.200900e+09</td>\n",
       "      <td>1.431144</td>\n",
       "      <td>1.519161</td>\n",
       "      <td>1.971238</td>\n",
       "      <td>0.023103</td>\n",
       "      <td>1.074501</td>\n",
       "      <td>2293.27</td>\n",
       "      <td>2286.13</td>\n",
       "      <td>2207.75</td>\n",
       "      <td>...</td>\n",
       "      <td>2333.70</td>\n",
       "      <td>2320.95</td>\n",
       "      <td>2251.77</td>\n",
       "      <td>2233.57</td>\n",
       "      <td>2200.63</td>\n",
       "      <td>2284.24</td>\n",
       "      <td>2286.13</td>\n",
       "      <td>2206.49</td>\n",
       "      <td>2192.68</td>\n",
       "      <td>2165.74</td>\n",
       "    </tr>\n",
       "    <tr>\n",
       "      <th>1999-01-11</th>\n",
       "      <td>2373.97</td>\n",
       "      <td>1.286690e+09</td>\n",
       "      <td>-0.820289</td>\n",
       "      <td>1.431144</td>\n",
       "      <td>1.519161</td>\n",
       "      <td>1.971238</td>\n",
       "      <td>0.023103</td>\n",
       "      <td>2363.80</td>\n",
       "      <td>2293.27</td>\n",
       "      <td>2286.13</td>\n",
       "      <td>...</td>\n",
       "      <td>2369.55</td>\n",
       "      <td>2333.70</td>\n",
       "      <td>2320.95</td>\n",
       "      <td>2251.77</td>\n",
       "      <td>2233.57</td>\n",
       "      <td>2314.95</td>\n",
       "      <td>2284.24</td>\n",
       "      <td>2286.13</td>\n",
       "      <td>2206.49</td>\n",
       "      <td>2192.68</td>\n",
       "    </tr>\n",
       "    <tr>\n",
       "      <th>1999-01-12</th>\n",
       "      <td>2395.90</td>\n",
       "      <td>1.140930e+09</td>\n",
       "      <td>0.447352</td>\n",
       "      <td>-0.820289</td>\n",
       "      <td>1.431144</td>\n",
       "      <td>1.519161</td>\n",
       "      <td>1.971238</td>\n",
       "      <td>2373.97</td>\n",
       "      <td>2363.80</td>\n",
       "      <td>2293.27</td>\n",
       "      <td>...</td>\n",
       "      <td>2384.72</td>\n",
       "      <td>2369.55</td>\n",
       "      <td>2333.70</td>\n",
       "      <td>2320.95</td>\n",
       "      <td>2251.77</td>\n",
       "      <td>2348.24</td>\n",
       "      <td>2314.95</td>\n",
       "      <td>2284.24</td>\n",
       "      <td>2286.13</td>\n",
       "      <td>2206.49</td>\n",
       "    </tr>\n",
       "    <tr>\n",
       "      <th>1999-01-13</th>\n",
       "      <td>2222.28</td>\n",
       "      <td>1.107300e+09</td>\n",
       "      <td>-3.136608</td>\n",
       "      <td>0.447352</td>\n",
       "      <td>-0.820289</td>\n",
       "      <td>1.431144</td>\n",
       "      <td>1.519161</td>\n",
       "      <td>2395.90</td>\n",
       "      <td>2373.97</td>\n",
       "      <td>2363.80</td>\n",
       "      <td>...</td>\n",
       "      <td>2396.30</td>\n",
       "      <td>2384.72</td>\n",
       "      <td>2369.55</td>\n",
       "      <td>2333.70</td>\n",
       "      <td>2320.95</td>\n",
       "      <td>2320.21</td>\n",
       "      <td>2348.24</td>\n",
       "      <td>2314.95</td>\n",
       "      <td>2284.24</td>\n",
       "      <td>2286.13</td>\n",
       "    </tr>\n",
       "    <tr>\n",
       "      <th>1999-01-14</th>\n",
       "      <td>2337.31</td>\n",
       "      <td>1.195470e+09</td>\n",
       "      <td>4.253739</td>\n",
       "      <td>-3.136608</td>\n",
       "      <td>0.447352</td>\n",
       "      <td>-0.820289</td>\n",
       "      <td>1.431144</td>\n",
       "      <td>2222.28</td>\n",
       "      <td>2395.90</td>\n",
       "      <td>2373.97</td>\n",
       "      <td>...</td>\n",
       "      <td>2353.33</td>\n",
       "      <td>2396.30</td>\n",
       "      <td>2384.72</td>\n",
       "      <td>2369.55</td>\n",
       "      <td>2333.70</td>\n",
       "      <td>2205.69</td>\n",
       "      <td>2320.21</td>\n",
       "      <td>2348.24</td>\n",
       "      <td>2314.95</td>\n",
       "      <td>2284.24</td>\n",
       "    </tr>\n",
       "  </tbody>\n",
       "</table>\n",
       "<p>10 rows × 27 columns</p>\n",
       "</div>"
      ],
      "text/plain": [
       "               Open    VolumeLag1   ROILag1   ROILag2   ROILag3   ROILag4  \\\n",
       "Date                                                                        \n",
       "1998-12-31  2169.38           NaN       NaN       NaN       NaN       NaN   \n",
       "1999-01-04  2207.54  8.866300e+08  1.074501       NaN       NaN       NaN   \n",
       "1999-01-05  2207.75  9.366600e+08  0.023103  1.074501       NaN       NaN   \n",
       "1999-01-06  2286.13  9.483500e+08  1.971238  0.023103  1.074501       NaN   \n",
       "1999-01-07  2293.27  1.252650e+09  1.519161  1.971238  0.023103  1.074501   \n",
       "1999-01-08  2363.80  1.200900e+09  1.431144  1.519161  1.971238  0.023103   \n",
       "1999-01-11  2373.97  1.286690e+09 -0.820289  1.431144  1.519161  1.971238   \n",
       "1999-01-12  2395.90  1.140930e+09  0.447352 -0.820289  1.431144  1.519161   \n",
       "1999-01-13  2222.28  1.107300e+09 -3.136608  0.447352 -0.820289  1.431144   \n",
       "1999-01-14  2337.31  1.195470e+09  4.253739 -3.136608  0.447352 -0.820289   \n",
       "\n",
       "             ROILag5  OpenLag1  OpenLag2  OpenLag3  ...  HighLag1  HighLag2  \\\n",
       "Date                                                ...                       \n",
       "1998-12-31       NaN       NaN       NaN       NaN  ...       NaN       NaN   \n",
       "1999-01-04       NaN   2169.38       NaN       NaN  ...   2200.63       NaN   \n",
       "1999-01-05       NaN   2207.54   2169.38       NaN  ...   2233.57   2200.63   \n",
       "1999-01-06       NaN   2207.75   2207.54   2169.38  ...   2251.77   2233.57   \n",
       "1999-01-07       NaN   2286.13   2207.75   2207.54  ...   2320.95   2251.77   \n",
       "1999-01-08  1.074501   2293.27   2286.13   2207.75  ...   2333.70   2320.95   \n",
       "1999-01-11  0.023103   2363.80   2293.27   2286.13  ...   2369.55   2333.70   \n",
       "1999-01-12  1.971238   2373.97   2363.80   2293.27  ...   2384.72   2369.55   \n",
       "1999-01-13  1.519161   2395.90   2373.97   2363.80  ...   2396.30   2384.72   \n",
       "1999-01-14  1.431144   2222.28   2395.90   2373.97  ...   2353.33   2396.30   \n",
       "\n",
       "            HighLag3  HighLag4  HighLag5  LowLag1  LowLag2  LowLag3  LowLag4  \\\n",
       "Date                                                                           \n",
       "1998-12-31       NaN       NaN       NaN      NaN      NaN      NaN      NaN   \n",
       "1999-01-04       NaN       NaN       NaN  2165.74      NaN      NaN      NaN   \n",
       "1999-01-05       NaN       NaN       NaN  2192.68  2165.74      NaN      NaN   \n",
       "1999-01-06   2200.63       NaN       NaN  2206.49  2192.68  2165.74      NaN   \n",
       "1999-01-07   2233.57   2200.63       NaN  2286.13  2206.49  2192.68  2165.74   \n",
       "1999-01-08   2251.77   2233.57   2200.63  2284.24  2286.13  2206.49  2192.68   \n",
       "1999-01-11   2320.95   2251.77   2233.57  2314.95  2284.24  2286.13  2206.49   \n",
       "1999-01-12   2333.70   2320.95   2251.77  2348.24  2314.95  2284.24  2286.13   \n",
       "1999-01-13   2369.55   2333.70   2320.95  2320.21  2348.24  2314.95  2284.24   \n",
       "1999-01-14   2384.72   2369.55   2333.70  2205.69  2320.21  2348.24  2314.95   \n",
       "\n",
       "            LowLag5  \n",
       "Date                 \n",
       "1998-12-31      NaN  \n",
       "1999-01-04      NaN  \n",
       "1999-01-05      NaN  \n",
       "1999-01-06      NaN  \n",
       "1999-01-07      NaN  \n",
       "1999-01-08  2165.74  \n",
       "1999-01-11  2192.68  \n",
       "1999-01-12  2206.49  \n",
       "1999-01-13  2286.13  \n",
       "1999-01-14  2284.24  \n",
       "\n",
       "[10 rows x 27 columns]"
      ]
     },
     "execution_count": 224,
     "metadata": {},
     "output_type": "execute_result"
    }
   ],
   "source": [
    "X.head(10)"
   ]
  },
  {
   "cell_type": "markdown",
   "metadata": {},
   "source": [
    "- Come possiamo vedere dal DataFrame sono presenti alcuni valori NaN a causa dello shift. Abbiamo infatti voluto considerare i dati dei 5 giorni lavorativi precedenti, dati che non sono disponibili per i primi 5 giorni del DataSet."
   ]
  },
  {
   "cell_type": "markdown",
   "metadata": {},
   "source": [
    "- Essendo pochi i dati NaN rispetto al totale, possiamo semplicemnte dropparli (meno dello 0.1%)."
   ]
  },
  {
   "cell_type": "code",
   "execution_count": 225,
   "metadata": {},
   "outputs": [
    {
     "data": {
      "text/plain": [
       "0.09742790335151988"
      ]
     },
     "execution_count": 225,
     "metadata": {},
     "output_type": "execute_result"
    }
   ],
   "source": [
    "5 / X.shape[0] * 100"
   ]
  },
  {
   "cell_type": "code",
   "execution_count": 226,
   "metadata": {},
   "outputs": [],
   "source": [
    "X.dropna(inplace=True)"
   ]
  },
  {
   "cell_type": "code",
   "execution_count": 227,
   "metadata": {},
   "outputs": [
    {
     "data": {
      "text/html": [
       "<div>\n",
       "<style scoped>\n",
       "    .dataframe tbody tr th:only-of-type {\n",
       "        vertical-align: middle;\n",
       "    }\n",
       "\n",
       "    .dataframe tbody tr th {\n",
       "        vertical-align: top;\n",
       "    }\n",
       "\n",
       "    .dataframe thead th {\n",
       "        text-align: right;\n",
       "    }\n",
       "</style>\n",
       "<table border=\"1\" class=\"dataframe\">\n",
       "  <thead>\n",
       "    <tr style=\"text-align: right;\">\n",
       "      <th></th>\n",
       "      <th>Open</th>\n",
       "      <th>VolumeLag1</th>\n",
       "      <th>ROILag1</th>\n",
       "      <th>ROILag2</th>\n",
       "      <th>ROILag3</th>\n",
       "      <th>ROILag4</th>\n",
       "      <th>ROILag5</th>\n",
       "      <th>OpenLag1</th>\n",
       "      <th>OpenLag2</th>\n",
       "      <th>OpenLag3</th>\n",
       "      <th>...</th>\n",
       "      <th>HighLag1</th>\n",
       "      <th>HighLag2</th>\n",
       "      <th>HighLag3</th>\n",
       "      <th>HighLag4</th>\n",
       "      <th>HighLag5</th>\n",
       "      <th>LowLag1</th>\n",
       "      <th>LowLag2</th>\n",
       "      <th>LowLag3</th>\n",
       "      <th>LowLag4</th>\n",
       "      <th>LowLag5</th>\n",
       "    </tr>\n",
       "    <tr>\n",
       "      <th>Date</th>\n",
       "      <th></th>\n",
       "      <th></th>\n",
       "      <th></th>\n",
       "      <th></th>\n",
       "      <th></th>\n",
       "      <th></th>\n",
       "      <th></th>\n",
       "      <th></th>\n",
       "      <th></th>\n",
       "      <th></th>\n",
       "      <th></th>\n",
       "      <th></th>\n",
       "      <th></th>\n",
       "      <th></th>\n",
       "      <th></th>\n",
       "      <th></th>\n",
       "      <th></th>\n",
       "      <th></th>\n",
       "      <th></th>\n",
       "      <th></th>\n",
       "      <th></th>\n",
       "    </tr>\n",
       "  </thead>\n",
       "  <tbody>\n",
       "    <tr>\n",
       "      <th>1999-01-08</th>\n",
       "      <td>2363.80</td>\n",
       "      <td>1.200900e+09</td>\n",
       "      <td>1.431144</td>\n",
       "      <td>1.519161</td>\n",
       "      <td>1.971238</td>\n",
       "      <td>0.023103</td>\n",
       "      <td>1.074501</td>\n",
       "      <td>2293.27</td>\n",
       "      <td>2286.13</td>\n",
       "      <td>2207.75</td>\n",
       "      <td>...</td>\n",
       "      <td>2333.70</td>\n",
       "      <td>2320.95</td>\n",
       "      <td>2251.77</td>\n",
       "      <td>2233.57</td>\n",
       "      <td>2200.63</td>\n",
       "      <td>2284.24</td>\n",
       "      <td>2286.13</td>\n",
       "      <td>2206.49</td>\n",
       "      <td>2192.68</td>\n",
       "      <td>2165.74</td>\n",
       "    </tr>\n",
       "    <tr>\n",
       "      <th>1999-01-11</th>\n",
       "      <td>2373.97</td>\n",
       "      <td>1.286690e+09</td>\n",
       "      <td>-0.820289</td>\n",
       "      <td>1.431144</td>\n",
       "      <td>1.519161</td>\n",
       "      <td>1.971238</td>\n",
       "      <td>0.023103</td>\n",
       "      <td>2363.80</td>\n",
       "      <td>2293.27</td>\n",
       "      <td>2286.13</td>\n",
       "      <td>...</td>\n",
       "      <td>2369.55</td>\n",
       "      <td>2333.70</td>\n",
       "      <td>2320.95</td>\n",
       "      <td>2251.77</td>\n",
       "      <td>2233.57</td>\n",
       "      <td>2314.95</td>\n",
       "      <td>2284.24</td>\n",
       "      <td>2286.13</td>\n",
       "      <td>2206.49</td>\n",
       "      <td>2192.68</td>\n",
       "    </tr>\n",
       "    <tr>\n",
       "      <th>1999-01-12</th>\n",
       "      <td>2395.90</td>\n",
       "      <td>1.140930e+09</td>\n",
       "      <td>0.447352</td>\n",
       "      <td>-0.820289</td>\n",
       "      <td>1.431144</td>\n",
       "      <td>1.519161</td>\n",
       "      <td>1.971238</td>\n",
       "      <td>2373.97</td>\n",
       "      <td>2363.80</td>\n",
       "      <td>2293.27</td>\n",
       "      <td>...</td>\n",
       "      <td>2384.72</td>\n",
       "      <td>2369.55</td>\n",
       "      <td>2333.70</td>\n",
       "      <td>2320.95</td>\n",
       "      <td>2251.77</td>\n",
       "      <td>2348.24</td>\n",
       "      <td>2314.95</td>\n",
       "      <td>2284.24</td>\n",
       "      <td>2286.13</td>\n",
       "      <td>2206.49</td>\n",
       "    </tr>\n",
       "    <tr>\n",
       "      <th>1999-01-13</th>\n",
       "      <td>2222.28</td>\n",
       "      <td>1.107300e+09</td>\n",
       "      <td>-3.136608</td>\n",
       "      <td>0.447352</td>\n",
       "      <td>-0.820289</td>\n",
       "      <td>1.431144</td>\n",
       "      <td>1.519161</td>\n",
       "      <td>2395.90</td>\n",
       "      <td>2373.97</td>\n",
       "      <td>2363.80</td>\n",
       "      <td>...</td>\n",
       "      <td>2396.30</td>\n",
       "      <td>2384.72</td>\n",
       "      <td>2369.55</td>\n",
       "      <td>2333.70</td>\n",
       "      <td>2320.95</td>\n",
       "      <td>2320.21</td>\n",
       "      <td>2348.24</td>\n",
       "      <td>2314.95</td>\n",
       "      <td>2284.24</td>\n",
       "      <td>2286.13</td>\n",
       "    </tr>\n",
       "    <tr>\n",
       "      <th>1999-01-14</th>\n",
       "      <td>2337.31</td>\n",
       "      <td>1.195470e+09</td>\n",
       "      <td>4.253739</td>\n",
       "      <td>-3.136608</td>\n",
       "      <td>0.447352</td>\n",
       "      <td>-0.820289</td>\n",
       "      <td>1.431144</td>\n",
       "      <td>2222.28</td>\n",
       "      <td>2395.90</td>\n",
       "      <td>2373.97</td>\n",
       "      <td>...</td>\n",
       "      <td>2353.33</td>\n",
       "      <td>2396.30</td>\n",
       "      <td>2384.72</td>\n",
       "      <td>2369.55</td>\n",
       "      <td>2333.70</td>\n",
       "      <td>2205.69</td>\n",
       "      <td>2320.21</td>\n",
       "      <td>2348.24</td>\n",
       "      <td>2314.95</td>\n",
       "      <td>2284.24</td>\n",
       "    </tr>\n",
       "  </tbody>\n",
       "</table>\n",
       "<p>5 rows × 27 columns</p>\n",
       "</div>"
      ],
      "text/plain": [
       "               Open    VolumeLag1   ROILag1   ROILag2   ROILag3   ROILag4  \\\n",
       "Date                                                                        \n",
       "1999-01-08  2363.80  1.200900e+09  1.431144  1.519161  1.971238  0.023103   \n",
       "1999-01-11  2373.97  1.286690e+09 -0.820289  1.431144  1.519161  1.971238   \n",
       "1999-01-12  2395.90  1.140930e+09  0.447352 -0.820289  1.431144  1.519161   \n",
       "1999-01-13  2222.28  1.107300e+09 -3.136608  0.447352 -0.820289  1.431144   \n",
       "1999-01-14  2337.31  1.195470e+09  4.253739 -3.136608  0.447352 -0.820289   \n",
       "\n",
       "             ROILag5  OpenLag1  OpenLag2  OpenLag3  ...  HighLag1  HighLag2  \\\n",
       "Date                                                ...                       \n",
       "1999-01-08  1.074501   2293.27   2286.13   2207.75  ...   2333.70   2320.95   \n",
       "1999-01-11  0.023103   2363.80   2293.27   2286.13  ...   2369.55   2333.70   \n",
       "1999-01-12  1.971238   2373.97   2363.80   2293.27  ...   2384.72   2369.55   \n",
       "1999-01-13  1.519161   2395.90   2373.97   2363.80  ...   2396.30   2384.72   \n",
       "1999-01-14  1.431144   2222.28   2395.90   2373.97  ...   2353.33   2396.30   \n",
       "\n",
       "            HighLag3  HighLag4  HighLag5  LowLag1  LowLag2  LowLag3  LowLag4  \\\n",
       "Date                                                                           \n",
       "1999-01-08   2251.77   2233.57   2200.63  2284.24  2286.13  2206.49  2192.68   \n",
       "1999-01-11   2320.95   2251.77   2233.57  2314.95  2284.24  2286.13  2206.49   \n",
       "1999-01-12   2333.70   2320.95   2251.77  2348.24  2314.95  2284.24  2286.13   \n",
       "1999-01-13   2369.55   2333.70   2320.95  2320.21  2348.24  2314.95  2284.24   \n",
       "1999-01-14   2384.72   2369.55   2333.70  2205.69  2320.21  2348.24  2314.95   \n",
       "\n",
       "            LowLag5  \n",
       "Date                 \n",
       "1999-01-08  2165.74  \n",
       "1999-01-11  2192.68  \n",
       "1999-01-12  2206.49  \n",
       "1999-01-13  2286.13  \n",
       "1999-01-14  2284.24  \n",
       "\n",
       "[5 rows x 27 columns]"
      ]
     },
     "execution_count": 227,
     "metadata": {},
     "output_type": "execute_result"
    }
   ],
   "source": [
    "X.head(5)"
   ]
  },
  {
   "cell_type": "markdown",
   "metadata": {},
   "source": [
    "- Ora abbiamo predisposto il DataSet per poter effettuare le nostre predizioni. Abbiamo evitato volutamente la definizione della variabile dipendente (y), in quanto verrà definita successivamente in base al tipo di analisi."
   ]
  },
  {
   "cell_type": "markdown",
   "metadata": {},
   "source": [
    "# Predizione mediante Classificazione\n",
    "\n"
   ]
  },
  {
   "cell_type": "markdown",
   "metadata": {},
   "source": [
    "- In questo paragrafo, basandoci sui dati predisposti precedentemente abbiamo deciso di predire l'andamento di mercato alla chiusura della giornata in esame ('Up' or 'Down')."
   ]
  },
  {
   "cell_type": "markdown",
   "metadata": {},
   "source": [
    "- In questo caso la variabile dipendente (y) diventa il ROI. \n",
    "- Dovendo effettuare un compito di classificazione bianaria è necessario trasformare la colonna da predire in etichette."
   ]
  },
  {
   "cell_type": "code",
   "execution_count": 228,
   "metadata": {},
   "outputs": [],
   "source": [
    "y = nasdaq[5:][\"ROI\"].copy()"
   ]
  },
  {
   "cell_type": "code",
   "execution_count": 229,
   "metadata": {},
   "outputs": [
    {
     "data": {
      "text/plain": [
       "Date\n",
       "1999-01-08   -0.820289\n",
       "1999-01-11    0.447352\n",
       "1999-01-12   -3.136608\n",
       "1999-01-13    4.253739\n",
       "1999-01-14   -2.588018\n",
       "Name: ROI, dtype: float64"
      ]
     },
     "execution_count": 229,
     "metadata": {},
     "output_type": "execute_result"
    }
   ],
   "source": [
    "y.head(5)"
   ]
  },
  {
   "cell_type": "markdown",
   "metadata": {},
   "source": [
    "- Dato che dal DataFrame X abbiamo scartato le prime 5 righe contenenti valori NaN, è necessario quindi eseguire la stessa operazione sulle y."
   ]
  },
  {
   "cell_type": "markdown",
   "metadata": {},
   "source": [
    "- Eseguiamo l'etichettamento.\n",
    "- Creiamo una Series Pandas in cui sostituiamo i valori:\n",
    "    - Negativi con l'etichetta __Down__. \n",
    "    - Positivi con l'etichetta __Up__."
   ]
  },
  {
   "cell_type": "code",
   "execution_count": 230,
   "metadata": {},
   "outputs": [],
   "source": [
    "y = pd.Series(np.where(y >= 0, \"Up\", \"Down\"), index=y.index)"
   ]
  },
  {
   "cell_type": "code",
   "execution_count": 231,
   "metadata": {},
   "outputs": [
    {
     "data": {
      "text/plain": [
       "Date\n",
       "1999-01-08    Down\n",
       "1999-01-11      Up\n",
       "1999-01-12    Down\n",
       "dtype: object"
      ]
     },
     "execution_count": 231,
     "metadata": {},
     "output_type": "execute_result"
    }
   ],
   "source": [
    "y.head(3)"
   ]
  },
  {
   "cell_type": "markdown",
   "metadata": {},
   "source": [
    "- È interessante controllare la distribuzione delle etichette una volta assegnate, essendo la variabile y categorica."
   ]
  },
  {
   "cell_type": "code",
   "execution_count": 232,
   "metadata": {},
   "outputs": [
    {
     "data": {
      "text/plain": [
       "Up      2724\n",
       "Down    2403\n",
       "dtype: int64"
      ]
     },
     "execution_count": 232,
     "metadata": {},
     "output_type": "execute_result"
    }
   ],
   "source": [
    "y.value_counts()"
   ]
  },
  {
   "cell_type": "markdown",
   "metadata": {},
   "source": [
    "## Divisione Training Set e Validation Set"
   ]
  },
  {
   "cell_type": "markdown",
   "metadata": {},
   "source": [
    "- È necessario dividere i dati in 3 insiemi disgiunti:\n",
    "    - __Training Set__: insieme utilizzato per l'addestramento del modello.\n",
    "    - __Validation Set__: insieme utilizzato per il tuning degli iperparametri.\n",
    "    - __Test Set__: utilizzato come insieme per stabilire l'accuratezza del modello a regime, su dati ignoti.\n",
    "- Dato che il procedimento che eseguiamo è un procedimento a spirale, ovvero dove possiamo addestrare modelli diversi sul training e testarne diversi iperparametri sul validation, serve per forza un terzo insieme di dati mai visti per confermare la bontà del modello."
   ]
  },
  {
   "cell_type": "markdown",
   "metadata": {},
   "source": [
    "- Solitamente quando si effettua tale divisione le osservazioni di X vengono suddivise casualmente tra Validation e Training. Nel nostro dominio questa cosa non è possibile perchè essendo il tempo un fattore determinante provocherebbe errori di valutazione e costruzione del modello.\n",
    "\n"
   ]
  },
  {
   "cell_type": "markdown",
   "metadata": {},
   "source": [
    "- Per prima cosa andiamo ad estrarre i dati del Test Set. \n",
    "- Avendo a disposizione circa 5000 osservazioni ne utilizziamo il 20%."
   ]
  },
  {
   "cell_type": "code",
   "execution_count": 233,
   "metadata": {},
   "outputs": [
    {
     "data": {
      "text/plain": [
       "1025"
      ]
     },
     "execution_count": 233,
     "metadata": {},
     "output_type": "execute_result"
    }
   ],
   "source": [
    "test_perc = X.shape[0] * 20 // 100 # // --> divisione intera.\n",
    "test_perc"
   ]
  },
  {
   "cell_type": "code",
   "execution_count": 234,
   "metadata": {},
   "outputs": [],
   "source": [
    "x_test = X.tail(test_perc).copy()\n",
    "y_test = y.tail(test_perc).copy()"
   ]
  },
  {
   "cell_type": "code",
   "execution_count": 235,
   "metadata": {},
   "outputs": [
    {
     "data": {
      "text/html": [
       "<div>\n",
       "<style scoped>\n",
       "    .dataframe tbody tr th:only-of-type {\n",
       "        vertical-align: middle;\n",
       "    }\n",
       "\n",
       "    .dataframe tbody tr th {\n",
       "        vertical-align: top;\n",
       "    }\n",
       "\n",
       "    .dataframe thead th {\n",
       "        text-align: right;\n",
       "    }\n",
       "</style>\n",
       "<table border=\"1\" class=\"dataframe\">\n",
       "  <thead>\n",
       "    <tr style=\"text-align: right;\">\n",
       "      <th></th>\n",
       "      <th>Open</th>\n",
       "      <th>VolumeLag1</th>\n",
       "      <th>ROILag1</th>\n",
       "      <th>ROILag2</th>\n",
       "      <th>ROILag3</th>\n",
       "      <th>ROILag4</th>\n",
       "      <th>ROILag5</th>\n",
       "      <th>OpenLag1</th>\n",
       "      <th>OpenLag2</th>\n",
       "      <th>OpenLag3</th>\n",
       "      <th>...</th>\n",
       "      <th>HighLag1</th>\n",
       "      <th>HighLag2</th>\n",
       "      <th>HighLag3</th>\n",
       "      <th>HighLag4</th>\n",
       "      <th>HighLag5</th>\n",
       "      <th>LowLag1</th>\n",
       "      <th>LowLag2</th>\n",
       "      <th>LowLag3</th>\n",
       "      <th>LowLag4</th>\n",
       "      <th>LowLag5</th>\n",
       "    </tr>\n",
       "    <tr>\n",
       "      <th>Date</th>\n",
       "      <th></th>\n",
       "      <th></th>\n",
       "      <th></th>\n",
       "      <th></th>\n",
       "      <th></th>\n",
       "      <th></th>\n",
       "      <th></th>\n",
       "      <th></th>\n",
       "      <th></th>\n",
       "      <th></th>\n",
       "      <th></th>\n",
       "      <th></th>\n",
       "      <th></th>\n",
       "      <th></th>\n",
       "      <th></th>\n",
       "      <th></th>\n",
       "      <th></th>\n",
       "      <th></th>\n",
       "      <th></th>\n",
       "      <th></th>\n",
       "      <th></th>\n",
       "    </tr>\n",
       "  </thead>\n",
       "  <tbody>\n",
       "    <tr>\n",
       "      <th>2019-05-20</th>\n",
       "      <td>7714.06</td>\n",
       "      <td>2.134120e+09</td>\n",
       "      <td>-0.162855</td>\n",
       "      <td>0.835868</td>\n",
       "      <td>1.813792</td>\n",
       "      <td>0.582991</td>\n",
       "      <td>-0.946235</td>\n",
       "      <td>7829.03</td>\n",
       "      <td>7832.58</td>\n",
       "      <td>7682.80</td>\n",
       "      <td>...</td>\n",
       "      <td>7918.71</td>\n",
       "      <td>7946.23</td>\n",
       "      <td>7838.72</td>\n",
       "      <td>7776.20</td>\n",
       "      <td>7760.83</td>\n",
       "      <td>7810.35</td>\n",
       "      <td>7826.67</td>\n",
       "      <td>7682.24</td>\n",
       "      <td>7665.30</td>\n",
       "      <td>7627.22</td>\n",
       "    </tr>\n",
       "    <tr>\n",
       "      <th>2019-05-21</th>\n",
       "      <td>7765.57</td>\n",
       "      <td>2.122410e+09</td>\n",
       "      <td>-0.151412</td>\n",
       "      <td>-0.162855</td>\n",
       "      <td>0.835868</td>\n",
       "      <td>1.813792</td>\n",
       "      <td>0.582991</td>\n",
       "      <td>7714.06</td>\n",
       "      <td>7829.03</td>\n",
       "      <td>7832.58</td>\n",
       "      <td>...</td>\n",
       "      <td>7747.27</td>\n",
       "      <td>7918.71</td>\n",
       "      <td>7946.23</td>\n",
       "      <td>7838.72</td>\n",
       "      <td>7776.20</td>\n",
       "      <td>7678.35</td>\n",
       "      <td>7810.35</td>\n",
       "      <td>7826.67</td>\n",
       "      <td>7682.24</td>\n",
       "      <td>7665.30</td>\n",
       "    </tr>\n",
       "    <tr>\n",
       "      <th>2019-05-22</th>\n",
       "      <td>7749.80</td>\n",
       "      <td>1.993210e+09</td>\n",
       "      <td>0.259479</td>\n",
       "      <td>-0.151412</td>\n",
       "      <td>-0.162855</td>\n",
       "      <td>0.835868</td>\n",
       "      <td>1.813792</td>\n",
       "      <td>7765.57</td>\n",
       "      <td>7714.06</td>\n",
       "      <td>7829.03</td>\n",
       "      <td>...</td>\n",
       "      <td>7804.44</td>\n",
       "      <td>7747.27</td>\n",
       "      <td>7918.71</td>\n",
       "      <td>7946.23</td>\n",
       "      <td>7838.72</td>\n",
       "      <td>7752.92</td>\n",
       "      <td>7678.35</td>\n",
       "      <td>7810.35</td>\n",
       "      <td>7826.67</td>\n",
       "      <td>7682.24</td>\n",
       "    </tr>\n",
       "    <tr>\n",
       "      <th>2019-05-23</th>\n",
       "      <td>7660.72</td>\n",
       "      <td>1.881830e+09</td>\n",
       "      <td>0.013420</td>\n",
       "      <td>0.259479</td>\n",
       "      <td>-0.151412</td>\n",
       "      <td>-0.162855</td>\n",
       "      <td>0.835868</td>\n",
       "      <td>7749.80</td>\n",
       "      <td>7765.57</td>\n",
       "      <td>7714.06</td>\n",
       "      <td>...</td>\n",
       "      <td>7786.33</td>\n",
       "      <td>7804.44</td>\n",
       "      <td>7747.27</td>\n",
       "      <td>7918.71</td>\n",
       "      <td>7946.23</td>\n",
       "      <td>7738.35</td>\n",
       "      <td>7752.92</td>\n",
       "      <td>7678.35</td>\n",
       "      <td>7810.35</td>\n",
       "      <td>7826.67</td>\n",
       "    </tr>\n",
       "    <tr>\n",
       "      <th>2019-05-24</th>\n",
       "      <td>7675.57</td>\n",
       "      <td>2.243420e+09</td>\n",
       "      <td>-0.423459</td>\n",
       "      <td>0.013420</td>\n",
       "      <td>0.259479</td>\n",
       "      <td>-0.151412</td>\n",
       "      <td>-0.162855</td>\n",
       "      <td>7660.72</td>\n",
       "      <td>7749.80</td>\n",
       "      <td>7765.57</td>\n",
       "      <td>...</td>\n",
       "      <td>7665.15</td>\n",
       "      <td>7786.33</td>\n",
       "      <td>7804.44</td>\n",
       "      <td>7747.27</td>\n",
       "      <td>7918.71</td>\n",
       "      <td>7585.32</td>\n",
       "      <td>7738.35</td>\n",
       "      <td>7752.92</td>\n",
       "      <td>7678.35</td>\n",
       "      <td>7810.35</td>\n",
       "    </tr>\n",
       "  </tbody>\n",
       "</table>\n",
       "<p>5 rows × 27 columns</p>\n",
       "</div>"
      ],
      "text/plain": [
       "               Open    VolumeLag1   ROILag1   ROILag2   ROILag3   ROILag4  \\\n",
       "Date                                                                        \n",
       "2019-05-20  7714.06  2.134120e+09 -0.162855  0.835868  1.813792  0.582991   \n",
       "2019-05-21  7765.57  2.122410e+09 -0.151412 -0.162855  0.835868  1.813792   \n",
       "2019-05-22  7749.80  1.993210e+09  0.259479 -0.151412 -0.162855  0.835868   \n",
       "2019-05-23  7660.72  1.881830e+09  0.013420  0.259479 -0.151412 -0.162855   \n",
       "2019-05-24  7675.57  2.243420e+09 -0.423459  0.013420  0.259479 -0.151412   \n",
       "\n",
       "             ROILag5  OpenLag1  OpenLag2  OpenLag3  ...  HighLag1  HighLag2  \\\n",
       "Date                                                ...                       \n",
       "2019-05-20 -0.946235   7829.03   7832.58   7682.80  ...   7918.71   7946.23   \n",
       "2019-05-21  0.582991   7714.06   7829.03   7832.58  ...   7747.27   7918.71   \n",
       "2019-05-22  1.813792   7765.57   7714.06   7829.03  ...   7804.44   7747.27   \n",
       "2019-05-23  0.835868   7749.80   7765.57   7714.06  ...   7786.33   7804.44   \n",
       "2019-05-24 -0.162855   7660.72   7749.80   7765.57  ...   7665.15   7786.33   \n",
       "\n",
       "            HighLag3  HighLag4  HighLag5  LowLag1  LowLag2  LowLag3  LowLag4  \\\n",
       "Date                                                                           \n",
       "2019-05-20   7838.72   7776.20   7760.83  7810.35  7826.67  7682.24  7665.30   \n",
       "2019-05-21   7946.23   7838.72   7776.20  7678.35  7810.35  7826.67  7682.24   \n",
       "2019-05-22   7918.71   7946.23   7838.72  7752.92  7678.35  7810.35  7826.67   \n",
       "2019-05-23   7747.27   7918.71   7946.23  7738.35  7752.92  7678.35  7810.35   \n",
       "2019-05-24   7804.44   7747.27   7918.71  7585.32  7738.35  7752.92  7678.35   \n",
       "\n",
       "            LowLag5  \n",
       "Date                 \n",
       "2019-05-20  7627.22  \n",
       "2019-05-21  7665.30  \n",
       "2019-05-22  7682.24  \n",
       "2019-05-23  7826.67  \n",
       "2019-05-24  7810.35  \n",
       "\n",
       "[5 rows x 27 columns]"
      ]
     },
     "execution_count": 235,
     "metadata": {},
     "output_type": "execute_result"
    }
   ],
   "source": [
    "x_test.tail(5)"
   ]
  },
  {
   "cell_type": "code",
   "execution_count": 236,
   "metadata": {},
   "outputs": [
    {
     "data": {
      "text/plain": [
       "Date\n",
       "2019-05-20    Down\n",
       "2019-05-21      Up\n",
       "2019-05-22      Up\n",
       "2019-05-23    Down\n",
       "2019-05-24    Down\n",
       "dtype: object"
      ]
     },
     "execution_count": 236,
     "metadata": {},
     "output_type": "execute_result"
    }
   ],
   "source": [
    "y_test.tail(5)"
   ]
  },
  {
   "cell_type": "markdown",
   "metadata": {},
   "source": [
    "- Il restante 80% circa lo dividiamo con il metodo __Hold Out__ con proporzione del 60% delle istanze nel Training Set e il restante 20% nel Validation Set."
   ]
  },
  {
   "cell_type": "code",
   "execution_count": 237,
   "metadata": {},
   "outputs": [
    {
     "data": {
      "text/plain": [
       "3076"
      ]
     },
     "execution_count": 237,
     "metadata": {},
     "output_type": "execute_result"
    }
   ],
   "source": [
    "train_perc = X.shape[0] * 60 // 100\n",
    "train_perc"
   ]
  },
  {
   "cell_type": "code",
   "execution_count": 238,
   "metadata": {},
   "outputs": [
    {
     "data": {
      "text/plain": [
       "1026"
      ]
     },
     "execution_count": 238,
     "metadata": {},
     "output_type": "execute_result"
    }
   ],
   "source": [
    "validation_perc = (X.shape[0] - train_perc - test_perc)\n",
    "validation_perc"
   ]
  },
  {
   "cell_type": "markdown",
   "metadata": {},
   "source": [
    "- Controlliamo che la divisione sia avvenuta con successo."
   ]
  },
  {
   "cell_type": "code",
   "execution_count": 239,
   "metadata": {},
   "outputs": [
    {
     "data": {
      "text/plain": [
       "True"
      ]
     },
     "execution_count": 239,
     "metadata": {},
     "output_type": "execute_result"
    }
   ],
   "source": [
    "test_perc + train_perc + validation_perc == X.shape[0] == y.shape[0]"
   ]
  },
  {
   "cell_type": "code",
   "execution_count": 240,
   "metadata": {},
   "outputs": [],
   "source": [
    "x_train = X[0:train_perc]\n",
    "y_train = y[0:train_perc]"
   ]
  },
  {
   "cell_type": "code",
   "execution_count": 241,
   "metadata": {},
   "outputs": [
    {
     "data": {
      "text/html": [
       "<div>\n",
       "<style scoped>\n",
       "    .dataframe tbody tr th:only-of-type {\n",
       "        vertical-align: middle;\n",
       "    }\n",
       "\n",
       "    .dataframe tbody tr th {\n",
       "        vertical-align: top;\n",
       "    }\n",
       "\n",
       "    .dataframe thead th {\n",
       "        text-align: right;\n",
       "    }\n",
       "</style>\n",
       "<table border=\"1\" class=\"dataframe\">\n",
       "  <thead>\n",
       "    <tr style=\"text-align: right;\">\n",
       "      <th></th>\n",
       "      <th>Open</th>\n",
       "      <th>VolumeLag1</th>\n",
       "      <th>ROILag1</th>\n",
       "      <th>ROILag2</th>\n",
       "      <th>ROILag3</th>\n",
       "      <th>ROILag4</th>\n",
       "      <th>ROILag5</th>\n",
       "      <th>OpenLag1</th>\n",
       "      <th>OpenLag2</th>\n",
       "      <th>OpenLag3</th>\n",
       "      <th>...</th>\n",
       "      <th>HighLag1</th>\n",
       "      <th>HighLag2</th>\n",
       "      <th>HighLag3</th>\n",
       "      <th>HighLag4</th>\n",
       "      <th>HighLag5</th>\n",
       "      <th>LowLag1</th>\n",
       "      <th>LowLag2</th>\n",
       "      <th>LowLag3</th>\n",
       "      <th>LowLag4</th>\n",
       "      <th>LowLag5</th>\n",
       "    </tr>\n",
       "    <tr>\n",
       "      <th>Date</th>\n",
       "      <th></th>\n",
       "      <th></th>\n",
       "      <th></th>\n",
       "      <th></th>\n",
       "      <th></th>\n",
       "      <th></th>\n",
       "      <th></th>\n",
       "      <th></th>\n",
       "      <th></th>\n",
       "      <th></th>\n",
       "      <th></th>\n",
       "      <th></th>\n",
       "      <th></th>\n",
       "      <th></th>\n",
       "      <th></th>\n",
       "      <th></th>\n",
       "      <th></th>\n",
       "      <th></th>\n",
       "      <th></th>\n",
       "      <th></th>\n",
       "      <th></th>\n",
       "    </tr>\n",
       "  </thead>\n",
       "  <tbody>\n",
       "    <tr>\n",
       "      <th>2011-03-24</th>\n",
       "      <td>2715.88</td>\n",
       "      <td>1.769950e+09</td>\n",
       "      <td>0.774586</td>\n",
       "      <td>-0.306820</td>\n",
       "      <td>0.621199</td>\n",
       "      <td>-0.820472</td>\n",
       "      <td>-0.754119</td>\n",
       "      <td>2677.56</td>\n",
       "      <td>2692.13</td>\n",
       "      <td>2675.47</td>\n",
       "      <td>...</td>\n",
       "      <td>2704.30</td>\n",
       "      <td>2695.46</td>\n",
       "      <td>2699.70</td>\n",
       "      <td>2665.56</td>\n",
       "      <td>2660.50</td>\n",
       "      <td>2660.17</td>\n",
       "      <td>2679.41</td>\n",
       "      <td>2674.99</td>\n",
       "      <td>2639.76</td>\n",
       "      <td>2634.17</td>\n",
       "    </tr>\n",
       "    <tr>\n",
       "      <th>2011-03-25</th>\n",
       "      <td>2746.34</td>\n",
       "      <td>1.954180e+09</td>\n",
       "      <td>0.756293</td>\n",
       "      <td>0.774586</td>\n",
       "      <td>-0.306820</td>\n",
       "      <td>0.621199</td>\n",
       "      <td>-0.820472</td>\n",
       "      <td>2715.88</td>\n",
       "      <td>2677.56</td>\n",
       "      <td>2692.13</td>\n",
       "      <td>...</td>\n",
       "      <td>2740.39</td>\n",
       "      <td>2704.30</td>\n",
       "      <td>2695.46</td>\n",
       "      <td>2699.70</td>\n",
       "      <td>2665.56</td>\n",
       "      <td>2703.42</td>\n",
       "      <td>2660.17</td>\n",
       "      <td>2679.41</td>\n",
       "      <td>2674.99</td>\n",
       "      <td>2639.76</td>\n",
       "    </tr>\n",
       "    <tr>\n",
       "      <th>2011-03-28</th>\n",
       "      <td>2752.33</td>\n",
       "      <td>1.857570e+09</td>\n",
       "      <td>-0.119432</td>\n",
       "      <td>0.756293</td>\n",
       "      <td>0.774586</td>\n",
       "      <td>-0.306820</td>\n",
       "      <td>0.621199</td>\n",
       "      <td>2746.34</td>\n",
       "      <td>2715.88</td>\n",
       "      <td>2677.56</td>\n",
       "      <td>...</td>\n",
       "      <td>2762.55</td>\n",
       "      <td>2740.39</td>\n",
       "      <td>2704.30</td>\n",
       "      <td>2695.46</td>\n",
       "      <td>2699.70</td>\n",
       "      <td>2740.17</td>\n",
       "      <td>2703.42</td>\n",
       "      <td>2660.17</td>\n",
       "      <td>2679.41</td>\n",
       "      <td>2674.99</td>\n",
       "    </tr>\n",
       "    <tr>\n",
       "      <th>2011-03-29</th>\n",
       "      <td>2727.83</td>\n",
       "      <td>1.669260e+09</td>\n",
       "      <td>-0.786606</td>\n",
       "      <td>-0.119432</td>\n",
       "      <td>0.756293</td>\n",
       "      <td>0.774586</td>\n",
       "      <td>-0.306820</td>\n",
       "      <td>2752.33</td>\n",
       "      <td>2746.34</td>\n",
       "      <td>2715.88</td>\n",
       "      <td>...</td>\n",
       "      <td>2754.63</td>\n",
       "      <td>2762.55</td>\n",
       "      <td>2740.39</td>\n",
       "      <td>2704.30</td>\n",
       "      <td>2695.46</td>\n",
       "      <td>2730.68</td>\n",
       "      <td>2740.17</td>\n",
       "      <td>2703.42</td>\n",
       "      <td>2660.17</td>\n",
       "      <td>2679.41</td>\n",
       "    </tr>\n",
       "    <tr>\n",
       "      <th>2011-03-30</th>\n",
       "      <td>2772.36</td>\n",
       "      <td>1.631160e+09</td>\n",
       "      <td>1.065316</td>\n",
       "      <td>-0.786606</td>\n",
       "      <td>-0.119432</td>\n",
       "      <td>0.756293</td>\n",
       "      <td>0.774586</td>\n",
       "      <td>2727.83</td>\n",
       "      <td>2752.33</td>\n",
       "      <td>2746.34</td>\n",
       "      <td>...</td>\n",
       "      <td>2756.89</td>\n",
       "      <td>2754.63</td>\n",
       "      <td>2762.55</td>\n",
       "      <td>2740.39</td>\n",
       "      <td>2704.30</td>\n",
       "      <td>2720.19</td>\n",
       "      <td>2730.68</td>\n",
       "      <td>2740.17</td>\n",
       "      <td>2703.42</td>\n",
       "      <td>2660.17</td>\n",
       "    </tr>\n",
       "  </tbody>\n",
       "</table>\n",
       "<p>5 rows × 27 columns</p>\n",
       "</div>"
      ],
      "text/plain": [
       "               Open    VolumeLag1   ROILag1   ROILag2   ROILag3   ROILag4  \\\n",
       "Date                                                                        \n",
       "2011-03-24  2715.88  1.769950e+09  0.774586 -0.306820  0.621199 -0.820472   \n",
       "2011-03-25  2746.34  1.954180e+09  0.756293  0.774586 -0.306820  0.621199   \n",
       "2011-03-28  2752.33  1.857570e+09 -0.119432  0.756293  0.774586 -0.306820   \n",
       "2011-03-29  2727.83  1.669260e+09 -0.786606 -0.119432  0.756293  0.774586   \n",
       "2011-03-30  2772.36  1.631160e+09  1.065316 -0.786606 -0.119432  0.756293   \n",
       "\n",
       "             ROILag5  OpenLag1  OpenLag2  OpenLag3  ...  HighLag1  HighLag2  \\\n",
       "Date                                                ...                       \n",
       "2011-03-24 -0.754119   2677.56   2692.13   2675.47  ...   2704.30   2695.46   \n",
       "2011-03-25 -0.820472   2715.88   2677.56   2692.13  ...   2740.39   2704.30   \n",
       "2011-03-28  0.621199   2746.34   2715.88   2677.56  ...   2762.55   2740.39   \n",
       "2011-03-29 -0.306820   2752.33   2746.34   2715.88  ...   2754.63   2762.55   \n",
       "2011-03-30  0.774586   2727.83   2752.33   2746.34  ...   2756.89   2754.63   \n",
       "\n",
       "            HighLag3  HighLag4  HighLag5  LowLag1  LowLag2  LowLag3  LowLag4  \\\n",
       "Date                                                                           \n",
       "2011-03-24   2699.70   2665.56   2660.50  2660.17  2679.41  2674.99  2639.76   \n",
       "2011-03-25   2695.46   2699.70   2665.56  2703.42  2660.17  2679.41  2674.99   \n",
       "2011-03-28   2704.30   2695.46   2699.70  2740.17  2703.42  2660.17  2679.41   \n",
       "2011-03-29   2740.39   2704.30   2695.46  2730.68  2740.17  2703.42  2660.17   \n",
       "2011-03-30   2762.55   2740.39   2704.30  2720.19  2730.68  2740.17  2703.42   \n",
       "\n",
       "            LowLag5  \n",
       "Date                 \n",
       "2011-03-24  2634.17  \n",
       "2011-03-25  2639.76  \n",
       "2011-03-28  2674.99  \n",
       "2011-03-29  2679.41  \n",
       "2011-03-30  2660.17  \n",
       "\n",
       "[5 rows x 27 columns]"
      ]
     },
     "execution_count": 241,
     "metadata": {},
     "output_type": "execute_result"
    }
   ],
   "source": [
    "x_train.tail(5)"
   ]
  },
  {
   "cell_type": "code",
   "execution_count": 242,
   "metadata": {},
   "outputs": [
    {
     "data": {
      "text/plain": [
       "Date\n",
       "2011-03-24      Up\n",
       "2011-03-25    Down\n",
       "2011-03-28    Down\n",
       "2011-03-29      Up\n",
       "2011-03-30      Up\n",
       "dtype: object"
      ]
     },
     "execution_count": 242,
     "metadata": {},
     "output_type": "execute_result"
    }
   ],
   "source": [
    "y_train.tail(5)"
   ]
  },
  {
   "cell_type": "code",
   "execution_count": 243,
   "metadata": {},
   "outputs": [],
   "source": [
    "x_val = X[train_perc:train_perc+validation_perc]\n",
    "y_val = y[train_perc:train_perc+validation_perc]"
   ]
  },
  {
   "cell_type": "code",
   "execution_count": 244,
   "metadata": {},
   "outputs": [
    {
     "data": {
      "text/html": [
       "<div>\n",
       "<style scoped>\n",
       "    .dataframe tbody tr th:only-of-type {\n",
       "        vertical-align: middle;\n",
       "    }\n",
       "\n",
       "    .dataframe tbody tr th {\n",
       "        vertical-align: top;\n",
       "    }\n",
       "\n",
       "    .dataframe thead th {\n",
       "        text-align: right;\n",
       "    }\n",
       "</style>\n",
       "<table border=\"1\" class=\"dataframe\">\n",
       "  <thead>\n",
       "    <tr style=\"text-align: right;\">\n",
       "      <th></th>\n",
       "      <th>Open</th>\n",
       "      <th>VolumeLag1</th>\n",
       "      <th>ROILag1</th>\n",
       "      <th>ROILag2</th>\n",
       "      <th>ROILag3</th>\n",
       "      <th>ROILag4</th>\n",
       "      <th>ROILag5</th>\n",
       "      <th>OpenLag1</th>\n",
       "      <th>OpenLag2</th>\n",
       "      <th>OpenLag3</th>\n",
       "      <th>...</th>\n",
       "      <th>HighLag1</th>\n",
       "      <th>HighLag2</th>\n",
       "      <th>HighLag3</th>\n",
       "      <th>HighLag4</th>\n",
       "      <th>HighLag5</th>\n",
       "      <th>LowLag1</th>\n",
       "      <th>LowLag2</th>\n",
       "      <th>LowLag3</th>\n",
       "      <th>LowLag4</th>\n",
       "      <th>LowLag5</th>\n",
       "    </tr>\n",
       "    <tr>\n",
       "      <th>Date</th>\n",
       "      <th></th>\n",
       "      <th></th>\n",
       "      <th></th>\n",
       "      <th></th>\n",
       "      <th></th>\n",
       "      <th></th>\n",
       "      <th></th>\n",
       "      <th></th>\n",
       "      <th></th>\n",
       "      <th></th>\n",
       "      <th></th>\n",
       "      <th></th>\n",
       "      <th></th>\n",
       "      <th></th>\n",
       "      <th></th>\n",
       "      <th></th>\n",
       "      <th></th>\n",
       "      <th></th>\n",
       "      <th></th>\n",
       "      <th></th>\n",
       "      <th></th>\n",
       "    </tr>\n",
       "  </thead>\n",
       "  <tbody>\n",
       "    <tr>\n",
       "      <th>2015-04-23</th>\n",
       "      <td>5020.22</td>\n",
       "      <td>1.696380e+09</td>\n",
       "      <td>0.171091</td>\n",
       "      <td>-0.196260</td>\n",
       "      <td>0.736779</td>\n",
       "      <td>-0.690681</td>\n",
       "      <td>0.168622</td>\n",
       "      <td>5026.57</td>\n",
       "      <td>5023.96</td>\n",
       "      <td>4958.07</td>\n",
       "      <td>...</td>\n",
       "      <td>5040.65</td>\n",
       "      <td>5028.22</td>\n",
       "      <td>5000.20</td>\n",
       "      <td>4974.09</td>\n",
       "      <td>5016.00</td>\n",
       "      <td>4992.62</td>\n",
       "      <td>5009.51</td>\n",
       "      <td>4952.68</td>\n",
       "      <td>4912.33</td>\n",
       "      <td>4996.00</td>\n",
       "    </tr>\n",
       "    <tr>\n",
       "      <th>2015-04-24</th>\n",
       "      <td>5096.34</td>\n",
       "      <td>1.858620e+09</td>\n",
       "      <td>0.713913</td>\n",
       "      <td>0.171091</td>\n",
       "      <td>-0.196260</td>\n",
       "      <td>0.736779</td>\n",
       "      <td>-0.690681</td>\n",
       "      <td>5020.22</td>\n",
       "      <td>5026.57</td>\n",
       "      <td>5023.96</td>\n",
       "      <td>...</td>\n",
       "      <td>5073.09</td>\n",
       "      <td>5040.65</td>\n",
       "      <td>5028.22</td>\n",
       "      <td>5000.20</td>\n",
       "      <td>4974.09</td>\n",
       "      <td>5019.29</td>\n",
       "      <td>4992.62</td>\n",
       "      <td>5009.51</td>\n",
       "      <td>4952.68</td>\n",
       "      <td>4912.33</td>\n",
       "    </tr>\n",
       "    <tr>\n",
       "      <th>2015-04-27</th>\n",
       "      <td>5104.36</td>\n",
       "      <td>1.895150e+09</td>\n",
       "      <td>-0.083589</td>\n",
       "      <td>0.713913</td>\n",
       "      <td>0.171091</td>\n",
       "      <td>-0.196260</td>\n",
       "      <td>0.736779</td>\n",
       "      <td>5096.34</td>\n",
       "      <td>5020.22</td>\n",
       "      <td>5026.57</td>\n",
       "      <td>...</td>\n",
       "      <td>5100.37</td>\n",
       "      <td>5073.09</td>\n",
       "      <td>5040.65</td>\n",
       "      <td>5028.22</td>\n",
       "      <td>5000.20</td>\n",
       "      <td>5081.21</td>\n",
       "      <td>5019.29</td>\n",
       "      <td>4992.62</td>\n",
       "      <td>5009.51</td>\n",
       "      <td>4952.68</td>\n",
       "    </tr>\n",
       "    <tr>\n",
       "      <th>2015-04-28</th>\n",
       "      <td>5063.26</td>\n",
       "      <td>2.172470e+09</td>\n",
       "      <td>-0.864163</td>\n",
       "      <td>-0.083589</td>\n",
       "      <td>0.713913</td>\n",
       "      <td>0.171091</td>\n",
       "      <td>-0.196260</td>\n",
       "      <td>5104.36</td>\n",
       "      <td>5096.34</td>\n",
       "      <td>5020.22</td>\n",
       "      <td>...</td>\n",
       "      <td>5119.83</td>\n",
       "      <td>5100.37</td>\n",
       "      <td>5073.09</td>\n",
       "      <td>5040.65</td>\n",
       "      <td>5028.22</td>\n",
       "      <td>5053.54</td>\n",
       "      <td>5081.21</td>\n",
       "      <td>5019.29</td>\n",
       "      <td>4992.62</td>\n",
       "      <td>5009.51</td>\n",
       "    </tr>\n",
       "    <tr>\n",
       "      <th>2015-04-29</th>\n",
       "      <td>5028.45</td>\n",
       "      <td>2.032500e+09</td>\n",
       "      <td>-0.154841</td>\n",
       "      <td>-0.864163</td>\n",
       "      <td>-0.083589</td>\n",
       "      <td>0.713913</td>\n",
       "      <td>0.171091</td>\n",
       "      <td>5063.26</td>\n",
       "      <td>5104.36</td>\n",
       "      <td>5096.34</td>\n",
       "      <td>...</td>\n",
       "      <td>5075.30</td>\n",
       "      <td>5119.83</td>\n",
       "      <td>5100.37</td>\n",
       "      <td>5073.09</td>\n",
       "      <td>5040.65</td>\n",
       "      <td>5006.28</td>\n",
       "      <td>5053.54</td>\n",
       "      <td>5081.21</td>\n",
       "      <td>5019.29</td>\n",
       "      <td>4992.62</td>\n",
       "    </tr>\n",
       "  </tbody>\n",
       "</table>\n",
       "<p>5 rows × 27 columns</p>\n",
       "</div>"
      ],
      "text/plain": [
       "               Open    VolumeLag1   ROILag1   ROILag2   ROILag3   ROILag4  \\\n",
       "Date                                                                        \n",
       "2015-04-23  5020.22  1.696380e+09  0.171091 -0.196260  0.736779 -0.690681   \n",
       "2015-04-24  5096.34  1.858620e+09  0.713913  0.171091 -0.196260  0.736779   \n",
       "2015-04-27  5104.36  1.895150e+09 -0.083589  0.713913  0.171091 -0.196260   \n",
       "2015-04-28  5063.26  2.172470e+09 -0.864163 -0.083589  0.713913  0.171091   \n",
       "2015-04-29  5028.45  2.032500e+09 -0.154841 -0.864163 -0.083589  0.713913   \n",
       "\n",
       "             ROILag5  OpenLag1  OpenLag2  OpenLag3  ...  HighLag1  HighLag2  \\\n",
       "Date                                                ...                       \n",
       "2015-04-23  0.168622   5026.57   5023.96   4958.07  ...   5040.65   5028.22   \n",
       "2015-04-24 -0.690681   5020.22   5026.57   5023.96  ...   5073.09   5040.65   \n",
       "2015-04-27  0.736779   5096.34   5020.22   5026.57  ...   5100.37   5073.09   \n",
       "2015-04-28 -0.196260   5104.36   5096.34   5020.22  ...   5119.83   5100.37   \n",
       "2015-04-29  0.171091   5063.26   5104.36   5096.34  ...   5075.30   5119.83   \n",
       "\n",
       "            HighLag3  HighLag4  HighLag5  LowLag1  LowLag2  LowLag3  LowLag4  \\\n",
       "Date                                                                           \n",
       "2015-04-23   5000.20   4974.09   5016.00  4992.62  5009.51  4952.68  4912.33   \n",
       "2015-04-24   5028.22   5000.20   4974.09  5019.29  4992.62  5009.51  4952.68   \n",
       "2015-04-27   5040.65   5028.22   5000.20  5081.21  5019.29  4992.62  5009.51   \n",
       "2015-04-28   5073.09   5040.65   5028.22  5053.54  5081.21  5019.29  4992.62   \n",
       "2015-04-29   5100.37   5073.09   5040.65  5006.28  5053.54  5081.21  5019.29   \n",
       "\n",
       "            LowLag5  \n",
       "Date                 \n",
       "2015-04-23  4996.00  \n",
       "2015-04-24  4912.33  \n",
       "2015-04-27  4952.68  \n",
       "2015-04-28  5009.51  \n",
       "2015-04-29  4992.62  \n",
       "\n",
       "[5 rows x 27 columns]"
      ]
     },
     "execution_count": 244,
     "metadata": {},
     "output_type": "execute_result"
    }
   ],
   "source": [
    "x_val.tail(5)"
   ]
  },
  {
   "cell_type": "code",
   "execution_count": 245,
   "metadata": {},
   "outputs": [
    {
     "data": {
      "text/plain": [
       "Date\n",
       "2015-04-23      Up\n",
       "2015-04-24    Down\n",
       "2015-04-27    Down\n",
       "2015-04-28    Down\n",
       "2015-04-29    Down\n",
       "dtype: object"
      ]
     },
     "execution_count": 245,
     "metadata": {},
     "output_type": "execute_result"
    }
   ],
   "source": [
    "y_val.tail(5)"
   ]
  },
  {
   "cell_type": "markdown",
   "metadata": {},
   "source": [
    "- Abbiamo deciso di eseguire una divisione generalizzando i calcoli in modo che possa funionare con un qualsiasi dominio in un qualsiasi range temporale. \n",
    "    - __Test Set__: ~20% del totale.\n",
    "    - __Training Set__: ~60% del totale.\n",
    "    - __Validation Set__: ~20% del totale."
   ]
  },
  {
   "cell_type": "markdown",
   "metadata": {},
   "source": [
    "- Avendo effettuato la nostra divisione, possiamo plottare i dati relativi alla distribuzione delle variabili categoriche che vogliamo predire nei tre insiemi."
   ]
  },
  {
   "cell_type": "code",
   "execution_count": 246,
   "metadata": {},
   "outputs": [
    {
     "data": {
      "text/plain": [
       "<matplotlib.axes._subplots.AxesSubplot at 0x1a1fa83f98>"
      ]
     },
     "execution_count": 246,
     "metadata": {},
     "output_type": "execute_result"
    },
    {
     "data": {
      "image/png": "[encoded data removed]",
      "text/plain": [
       "<Figure size 648x432 with 3 Axes>"
      ]
     },
     "metadata": {},
     "output_type": "display_data"
    }
   ],
   "source": [
    "plt.figure(figsize=(9, 6))\n",
    "y_train.value_counts().plot.pie(ax=plt.subplot(1, 3, 1))\n",
    "y_val.value_counts().plot.pie(ax=plt.subplot(1, 3, 2))\n",
    "y_test.value_counts().plot.pie(ax=plt.subplot(1, 3, 3))"
   ]
  },
  {
   "cell_type": "markdown",
   "metadata": {},
   "source": [
    "- Le distriubuzioni sembrano abbastanza equilibrate nei tre insiemi."
   ]
  },
  {
   "cell_type": "markdown",
   "metadata": {},
   "source": [
    "## Modello di Classificazione"
   ]
  },
  {
   "cell_type": "markdown",
   "metadata": {},
   "source": [
    "- La metrica di default utilizzata per valutare i modelli di classificazione è __l'accuratezza__, ovvero la percentuale di casi classificati correttamente sul totale delle classificazioni.\n",
    "- In questo dominio tale metrica non risulta particolarmente utile in quanto il nostro obiettivo è quello di massimizzare il guadagno di un investitore che esegue azioni di Tradining (Compra e Vende azioni/titoli...). \n",
    "- Supponendo che il modello ottenga una buona accuratezza dato che funziona sulla maggior parte dei casi medi, ma che predica erroneamente la maggior parte dei casi estremi (forti fluttuazioni di mercato, sia Up che Down), allora potrebbe provocare perdite di denaro. \n",
    "    - Ad esempio: se a fronte di un periodo di mercato di crescita stabile, ma lenta, il modello predice correttamente l'andamento positivo di mercato, ci suggerisce di acquistare titoli (anche se ad un basso potenziale di guadagno). Alla prima brusca caduta dei titoli (dovuta ad esempio all'avvenimento di un certo evento) il modello se predirà erroneamente avremmo una grande perdita di denaro. __In altre parole essendo la metrica quantitativa e non qualitativa non è in grado di catturare il potenziale guadagno, ma solo la percentuale di successo__."
   ]
  },
  {
   "cell_type": "markdown",
   "metadata": {},
   "source": [
    "## Metrica: ROI (_Return Of Investiment_)"
   ]
  },
  {
   "cell_type": "markdown",
   "metadata": {},
   "source": [
    "- Definiamo una metrica adatta al nostro dominio, che utilizzeremo per confrontare e addestrare i modelli di classificazione."
   ]
  },
  {
   "cell_type": "markdown",
   "metadata": {},
   "source": [
    "- Essendoci stato commissionato un modello di supporto alle decisioni di Trading, stabiliamo come calcolare il guadagno derivante dalle azioni di Trading.\n",
    "- Ipotizziamo un trader che:\n",
    "  - all'inizio di ogni giornata $d$ compra o vende (allo scoperto) un singolo titolo al suo valore di apertura $O_d$ a seconda della predizione del modello.\n",
    "  - a fine giornata rivende o ricompra tale titolo al suo valore di chiusura $C_d$.\n",
    "- Il guadagno (o perdita) alla fine di ciascuna giornata sarà quindi:\n",
    "$$ R_d = \\left\\{\\begin{array}{lr}C_d-O_d&:\\text{pred. \"Up\"}\\\\O_d-C_d&:\\text{pred. \"Down\"}\\end{array}\\right. $$\n",
    "\n",
    "- A inizio giornata se un titolo è predetto \"Up\" lo compriamo in quanto il valore di apertura sarà minore di quello di chiusura, e lo rivendiamo a fine giornata. \n",
    "- Al contrario se un titolo è predetto \"Down\" allora il prezzo di apertura è maggiore di quello di chiusura, quindi l'azione sarà di vendere e poi ricomprare a fine giornata.\n",
    "- Facendo la differenza avremmo il nostro guadagno."
   ]
  },
  {
   "cell_type": "markdown",
   "metadata": {},
   "source": [
    "- La funzione di calcolo del guadagno prende in input i valori reali e quelli predetti.\n",
    "- Di quelli reali ne calcola la differenza tra chiusura e aperura, che sarà quella reale.\n",
    "- Di quelli predetti va a calcolare la somma tra tutti gli ipotetici guadagni derivanti dalle predizioni del modello, sommando le effettive differenze.\n",
    "    - Nel caso in cui il modello abbia predetto bene, si ha un guadagno sia con una azione Compra-Vendi che Vendi-Compra.\n",
    "    - Nel caso un cui il modello abbia predetto male, si ha invece una perdita dovuta al suggerimento dell'azione sbagliata (Ad esempio: Compra-Vendi al posto che Vendi-Compra). "
   ]
  },
  {
   "cell_type": "code",
   "execution_count": 247,
   "metadata": {},
   "outputs": [],
   "source": [
    "def gain(real, pred):\n",
    "    diffs = nasdaq.loc[real.index, \"Close\"] - nasdaq.loc[real.index, \"Open\"]\n",
    "    return np.where(\n",
    "        pred == \"Up\",\n",
    "        diffs, # chiusura \"Up\": compra e vendi, guadagna C-O\n",
    "        -diffs # chiusura \"Down\": vendi e compra, guadagna O-C\n",
    "    ).sum()"
   ]
  },
  {
   "cell_type": "markdown",
   "metadata": {},
   "source": [
    "- Testando ad esempio la funzione sulle y reali del validation set, ci aspettiamo un guadagno massimo."
   ]
  },
  {
   "cell_type": "markdown",
   "metadata": {},
   "source": [
    "- Questo rappresenta il guadagno nel periodo del validation set avendo seguito sempre il consiglio del modello."
   ]
  },
  {
   "cell_type": "code",
   "execution_count": 248,
   "metadata": {},
   "outputs": [
    {
     "data": {
      "text/plain": [
       "22209.050000000003"
      ]
     },
     "execution_count": 248,
     "metadata": {},
     "output_type": "execute_result"
    }
   ],
   "source": [
    "gain(y_val, y_val)"
   ]
  },
  {
   "cell_type": "markdown",
   "metadata": {},
   "source": [
    "- Il __ROI (_Return on Investment_)__ esprime il guadagno di una o più operazioni in borsa in rapporto all'investimento iniziale.\n",
    "- La cifra investita in questo caso è pari al valore d'apertura del titolo che varia quotidianamente.\n",
    "- Per fare una stima del ROI usiamo la media di tale valore nel periodo di investimento, ossia di test."
   ]
  },
  {
   "cell_type": "markdown",
   "metadata": {},
   "source": [
    "- Presupponiamo di investire la media dei prezzi di apertura del __Test Set__."
   ]
  },
  {
   "cell_type": "code",
   "execution_count": 249,
   "metadata": {},
   "outputs": [
    {
     "data": {
      "text/plain": [
       "6140.924253658536"
      ]
     },
     "execution_count": 249,
     "metadata": {},
     "output_type": "execute_result"
    }
   ],
   "source": [
    "mean_open_test = nasdaq.loc[x_test.index, \"Open\"].mean()\n",
    "mean_open_test"
   ]
  },
  {
   "cell_type": "code",
   "execution_count": 250,
   "metadata": {},
   "outputs": [],
   "source": [
    "def roi(real, pred):\n",
    "    return gain(real, pred) / mean_open_test"
   ]
  },
  {
   "cell_type": "code",
   "execution_count": 251,
   "metadata": {},
   "outputs": [
    {
     "data": {
      "text/plain": [
       "3.6165647193529002"
      ]
     },
     "execution_count": 251,
     "metadata": {},
     "output_type": "execute_result"
    }
   ],
   "source": [
    "roi(y_val, y_val)"
   ]
  },
  {
   "cell_type": "markdown",
   "metadata": {},
   "source": [
    "- Definiamo una funzione che passati i valori reali e predetti stampi:\n",
    "    - __Accuratezza__: misura di default per modelli di classificazione.\n",
    "    - __ROI__: il ritorno dell'investimento.\n",
    "    - __F1 measure__: Media armonica tra la precisione e la recall. Per confrontare i modelli tra loro è difficile con due misure (precisione e recall), possiamo quindi utilizzare come una sola misura, cioè la F1-measure.\n",
    "    - __Guadagno__."
   ]
  },
  {
   "cell_type": "code",
   "execution_count": 252,
   "metadata": {},
   "outputs": [],
   "source": [
    "from sklearn.metrics import f1_score\n",
    "def model_stat(x, y, model):\n",
    "    print(\"Accuratezza: \", model.score(x, y))\n",
    "    print(\"ROI: \", roi(y, model.predict(x)))\n",
    "    print(\"Guadagno: \", gain(y, model.predict(x)))\n",
    "    print(\"F1: \", f1_score(y, model.predict(x), average=\"macro\"))"
   ]
  },
  {
   "cell_type": "markdown",
   "metadata": {},
   "source": [
    "## Modelli di Classificazione\n",
    "- Di seguito verranno testati i vari modelli di classificazione prima singolarmente per analizzarne i singoli risultati e, successivamente, mediante la grid search, per confrontarli ed eseguire il __tuning__ degli iperparametri."
   ]
  },
  {
   "cell_type": "markdown",
   "metadata": {},
   "source": [
    "## Perceptron\n",
    "- Come primo modello testiamo il __Perceptron__. Questo algoritmo parte dall’idea che sommiamo ad un iperpiano casuale le istanze che vengono classificate sbagliate, assumendo che le due classi siano separabili linearmente (condizione necessaria per la convergenza)."
   ]
  },
  {
   "cell_type": "code",
   "execution_count": 253,
   "metadata": {},
   "outputs": [
    {
     "name": "stdout",
     "output_type": "stream",
     "text": [
      "CPU times: user 8.63 ms, sys: 1.72 ms, total: 10.4 ms\n",
      "Wall time: 8.25 ms\n"
     ]
    },
    {
     "name": "stderr",
     "output_type": "stream",
     "text": [
      "/anaconda3/lib/python3.7/site-packages/sklearn/linear_model/stochastic_gradient.py:166: FutureWarning: max_iter and tol parameters have been added in Perceptron in 0.19. If both are left unset, they default to max_iter=5 and tol=None. If tol is not None, max_iter defaults to max_iter=1000. From 0.21, default max_iter will be 1000, and default tol will be 1e-3.\n",
      "  FutureWarning)\n"
     ]
    }
   ],
   "source": [
    "%%time\n",
    "from sklearn.linear_model import Perceptron\n",
    "perceptron = Perceptron()\n",
    "perceptron.fit(x_train, y_train);"
   ]
  },
  {
   "cell_type": "code",
   "execution_count": 254,
   "metadata": {},
   "outputs": [
    {
     "name": "stdout",
     "output_type": "stream",
     "text": [
      "Accuratezza:  0.4551656920077973\n",
      "ROI:  -0.1341638434164318\n",
      "Guadagno:  -823.8900000000122\n",
      "F1:  0.31279303415941057\n"
     ]
    },
    {
     "name": "stderr",
     "output_type": "stream",
     "text": [
      "/anaconda3/lib/python3.7/site-packages/sklearn/metrics/classification.py:1143: UndefinedMetricWarning: F-score is ill-defined and being set to 0.0 in labels with no predicted samples.\n",
      "  'precision', 'predicted', average, warn_for)\n"
     ]
    }
   ],
   "source": [
    "model_stat(x_val, y_val, perceptron)"
   ]
  },
  {
   "cell_type": "markdown",
   "metadata": {},
   "source": [
    "- Proviamo lo stesso algoritmo all'interno di una Pipeline, standardizzando i dati prima di darglieli in pasto.\n",
    "- Con lo __StandardScaler()__ i dati vengono riportati nell'intervallo 0-1, centrati su media 0 e deviazione standard 1."
   ]
  },
  {
   "cell_type": "code",
   "execution_count": 255,
   "metadata": {},
   "outputs": [
    {
     "name": "stdout",
     "output_type": "stream",
     "text": [
      "CPU times: user 20.5 ms, sys: 1.65 ms, total: 22.2 ms\n",
      "Wall time: 12.9 ms\n"
     ]
    },
    {
     "name": "stderr",
     "output_type": "stream",
     "text": [
      "/anaconda3/lib/python3.7/site-packages/sklearn/linear_model/stochastic_gradient.py:166: FutureWarning: max_iter and tol parameters have been added in Perceptron in 0.19. If both are left unset, they default to max_iter=5 and tol=None. If tol is not None, max_iter defaults to max_iter=1000. From 0.21, default max_iter will be 1000, and default tol will be 1e-3.\n",
      "  FutureWarning)\n"
     ]
    }
   ],
   "source": [
    "%%time\n",
    "from sklearn.pipeline import Pipeline\n",
    "from sklearn.preprocessing import StandardScaler\n",
    "p_scale = Pipeline([\n",
    "    (\"scaler\", StandardScaler()),\n",
    "    (\"model\",  Perceptron())\n",
    "])\n",
    "p_scale.fit(x_train, y_train)"
   ]
  },
  {
   "cell_type": "code",
   "execution_count": 256,
   "metadata": {},
   "outputs": [
    {
     "name": "stdout",
     "output_type": "stream",
     "text": [
      "Accuratezza:  0.5428849902534113\n",
      "ROI:  0.07589899838323745\n",
      "Guadagno:  466.0900000000129\n",
      "F1:  0.3576157260621433\n"
     ]
    }
   ],
   "source": [
    "model_stat(x_val, y_val, p_scale)"
   ]
  },
  {
   "cell_type": "markdown",
   "metadata": {},
   "source": [
    "## Regressione Logistica\n",
    "- La __regressione logistica__ è un modello di classificazione binaria, che sfrutta la regressione lineare per fare classificazione."
   ]
  },
  {
   "cell_type": "code",
   "execution_count": 257,
   "metadata": {},
   "outputs": [
    {
     "name": "stdout",
     "output_type": "stream",
     "text": [
      "CPU times: user 10.9 ms, sys: 1.28 ms, total: 12.1 ms\n",
      "Wall time: 7.3 ms\n"
     ]
    },
    {
     "name": "stderr",
     "output_type": "stream",
     "text": [
      "/anaconda3/lib/python3.7/site-packages/sklearn/linear_model/logistic.py:433: FutureWarning: Default solver will be changed to 'lbfgs' in 0.22. Specify a solver to silence this warning.\n",
      "  FutureWarning)\n"
     ]
    }
   ],
   "source": [
    "%%time\n",
    "from sklearn.linear_model import LogisticRegression\n",
    "log_regr = LogisticRegression()\n",
    "\n",
    "log_regr.fit(x_test, y_test)"
   ]
  },
  {
   "cell_type": "code",
   "execution_count": 258,
   "metadata": {},
   "outputs": [
    {
     "name": "stdout",
     "output_type": "stream",
     "text": [
      "Accuratezza:  0.5448343079922028\n",
      "ROI:  0.1341638434164318\n",
      "Guadagno:  823.8900000000122\n",
      "F1:  0.35268138801261834\n"
     ]
    },
    {
     "name": "stderr",
     "output_type": "stream",
     "text": [
      "/anaconda3/lib/python3.7/site-packages/sklearn/metrics/classification.py:1143: UndefinedMetricWarning: F-score is ill-defined and being set to 0.0 in labels with no predicted samples.\n",
      "  'precision', 'predicted', average, warn_for)\n"
     ]
    }
   ],
   "source": [
    "model_stat(x_val, y_val, log_regr)"
   ]
  },
  {
   "cell_type": "markdown",
   "metadata": {},
   "source": [
    "- Anche in questo caso testiamo la regressione logistica dopo aver eseguito la standardizzazione."
   ]
  },
  {
   "cell_type": "code",
   "execution_count": 259,
   "metadata": {},
   "outputs": [
    {
     "name": "stdout",
     "output_type": "stream",
     "text": [
      "CPU times: user 43.2 ms, sys: 2.04 ms, total: 45.2 ms\n",
      "Wall time: 35.7 ms\n"
     ]
    },
    {
     "name": "stderr",
     "output_type": "stream",
     "text": [
      "/anaconda3/lib/python3.7/site-packages/sklearn/linear_model/logistic.py:433: FutureWarning: Default solver will be changed to 'lbfgs' in 0.22. Specify a solver to silence this warning.\n",
      "  FutureWarning)\n"
     ]
    }
   ],
   "source": [
    "%%time\n",
    "log_scale = Pipeline([\n",
    "    (\"scaler\", StandardScaler()),\n",
    "    (\"model\",  LogisticRegression())\n",
    "])\n",
    "log_scale.fit(x_train, y_train)"
   ]
  },
  {
   "cell_type": "code",
   "execution_count": 260,
   "metadata": {},
   "outputs": [
    {
     "name": "stdout",
     "output_type": "stream",
     "text": [
      "Accuratezza:  0.5116959064327485\n",
      "ROI:  0.031088154179114147\n",
      "Guadagno:  190.90999999999804\n",
      "F1:  0.5043387451533242\n"
     ]
    }
   ],
   "source": [
    "model_stat(x_val, y_val, log_scale)"
   ]
  },
  {
   "cell_type": "markdown",
   "metadata": {},
   "source": [
    "- Testiamo la regressione logistica applicando la __penalità l1__. Tale penalità consente di annullare alcuni parametri per rendere più semplice il modello, eliminando le variabili meno necessarie e meno influenti sulla variabile da predire.\n"
   ]
  },
  {
   "cell_type": "code",
   "execution_count": 261,
   "metadata": {},
   "outputs": [
    {
     "name": "stderr",
     "output_type": "stream",
     "text": [
      "/anaconda3/lib/python3.7/site-packages/sklearn/linear_model/logistic.py:433: FutureWarning: Default solver will be changed to 'lbfgs' in 0.22. Specify a solver to silence this warning.\n",
      "  FutureWarning)\n"
     ]
    },
    {
     "name": "stdout",
     "output_type": "stream",
     "text": [
      "CPU times: user 6.04 s, sys: 40.7 ms, total: 6.08 s\n",
      "Wall time: 6.17 s\n"
     ]
    },
    {
     "name": "stderr",
     "output_type": "stream",
     "text": [
      "/anaconda3/lib/python3.7/site-packages/sklearn/svm/base.py:922: ConvergenceWarning: Liblinear failed to converge, increase the number of iterations.\n",
      "  \"the number of iterations.\", ConvergenceWarning)\n"
     ]
    }
   ],
   "source": [
    "%%time\n",
    "log_param = Pipeline([\n",
    "    (\"scaler\", StandardScaler()),\n",
    "    (\"model\",  LogisticRegression(penalty=\"l1\", C=10))\n",
    "])\n",
    "log_param.fit(x_train, y_train)"
   ]
  },
  {
   "cell_type": "code",
   "execution_count": 262,
   "metadata": {},
   "outputs": [
    {
     "name": "stdout",
     "output_type": "stream",
     "text": [
      "Accuratezza:  0.5\n",
      "ROI:  -0.014312177836691066\n",
      "Guadagno:  -87.89000000001033\n",
      "F1:  0.4991202167435743\n"
     ]
    }
   ],
   "source": [
    "model_stat(x_val, y_val, log_param)"
   ]
  },
  {
   "cell_type": "code",
   "execution_count": 263,
   "metadata": {},
   "outputs": [
    {
     "data": {
      "text/plain": [
       "array([[ 2.65074393,  0.0556815 , -0.01230021,  0.14783217,  0.21328074,\n",
       "        -0.09635498,  0.12488084,  0.        ,  6.68686258,  7.30066959,\n",
       "         0.        ,  2.47452852, -5.1944039 , -3.63626817, -0.81887255,\n",
       "         2.01567209, -1.44175305,  1.91987993, -3.93816952, -2.117108  ,\n",
       "        -4.5176078 ,  1.36358553,  2.39042093, -0.70305162, -3.12298243,\n",
       "         0.        , -1.33927904]])"
      ]
     },
     "execution_count": 263,
     "metadata": {},
     "output_type": "execute_result"
    }
   ],
   "source": [
    "log_param.named_steps[\"model\"].coef_"
   ]
  },
  {
   "cell_type": "markdown",
   "metadata": {},
   "source": [
    "- Abbiamo applicato la __norma L1__, la stessa che nei modelli di regressione viene applicata dalla LASSO. Tale penalità ci consente di eliminare i parametri meno influenti. Andando a vedere tali parametri ricavati dal modello dopo l'addestramento possiamo effettivamente vedere il peso dei coefficienti ricavati. Possiamo notare che alcuni assumono valore nullo.\n",
    "\n",
    "- Dalla figura sotto riporatta possiamo ricavare che le features che incidono maggiormente sulla predizione della variabile dipendente (__Up__ o __Down__) sono:\n",
    "    - __Open__.\n",
    "    - __OpenLag2__.\n",
    "    - __OPenLag3__.\n",
    "    - __CloseLag1__.\n",
    "    - __HighLag4__.\n",
    "    ...\n",
    "    \n",
    "- I parametri calcolati dall'algoritmo associati a tali features sono quelli che incidono maggiormente (sia in senso positivo che negativo) sulla predizione di y.\n",
    "\n",
    "- Altri, come ad esempio __LowLag4__ vengono invece azzerati, in quanto hanno poca influenza sulla variabile dipendente."
   ]
  },
  {
   "cell_type": "code",
   "execution_count": 264,
   "metadata": {},
   "outputs": [
    {
     "data": {
      "text/plain": [
       "Open          2.650744\n",
       "VolumeLag1    0.055681\n",
       "ROILag1      -0.012300\n",
       "ROILag2       0.147832\n",
       "ROILag3       0.213281\n",
       "ROILag4      -0.096355\n",
       "ROILag5       0.124881\n",
       "OpenLag1      0.000000\n",
       "OpenLag2      6.686863\n",
       "OpenLag3      7.300670\n",
       "OpenLag4      0.000000\n",
       "OpenLag5      2.474529\n",
       "CloseLag1    -5.194404\n",
       "CloseLag2    -3.636268\n",
       "CloseLag3    -0.818873\n",
       "CloseLag4     2.015672\n",
       "CloseLag5    -1.441753\n",
       "HighLag1      1.919880\n",
       "HighLag2     -3.938170\n",
       "HighLag3     -2.117108\n",
       "HighLag4     -4.517608\n",
       "HighLag5      1.363586\n",
       "LowLag1       2.390421\n",
       "LowLag2      -0.703052\n",
       "LowLag3      -3.122982\n",
       "LowLag4       0.000000\n",
       "LowLag5      -1.339279\n",
       "dtype: float64"
      ]
     },
     "execution_count": 264,
     "metadata": {},
     "output_type": "execute_result"
    }
   ],
   "source": [
    "pd.Series(log_param.named_steps[\"model\"].coef_[0], index=x_train.columns)"
   ]
  },
  {
   "cell_type": "markdown",
   "metadata": {},
   "source": [
    "- Possiamo notare che, seppur il modello risulti più semplice l'accuratezza raggiunta non è molto soddisfacente in quando ha un valore del 50%. Stesso discorso vale per il ROI di circa il 0.5%."
   ]
  },
  {
   "cell_type": "markdown",
   "metadata": {},
   "source": [
    "- Stessa cosa di prima ma con la __penalità l2__. Tale penalità limita il valore assunto dai parametri per evitare overfitting.\n"
   ]
  },
  {
   "cell_type": "code",
   "execution_count": 265,
   "metadata": {},
   "outputs": [
    {
     "name": "stdout",
     "output_type": "stream",
     "text": [
      "CPU times: user 32.4 ms, sys: 2.45 ms, total: 34.8 ms\n",
      "Wall time: 32.1 ms\n"
     ]
    },
    {
     "name": "stderr",
     "output_type": "stream",
     "text": [
      "/anaconda3/lib/python3.7/site-packages/sklearn/linear_model/logistic.py:433: FutureWarning: Default solver will be changed to 'lbfgs' in 0.22. Specify a solver to silence this warning.\n",
      "  FutureWarning)\n"
     ]
    }
   ],
   "source": [
    "%%time\n",
    "log_param_l2 = Pipeline([\n",
    "    (\"scaler\", StandardScaler()),\n",
    "    (\"model\",  LogisticRegression(penalty=\"l2\", C=10))\n",
    "])\n",
    "log_param_l2.fit(x_train, y_train)"
   ]
  },
  {
   "cell_type": "code",
   "execution_count": 266,
   "metadata": {},
   "outputs": [
    {
     "name": "stdout",
     "output_type": "stream",
     "text": [
      "Accuratezza:  0.5\n",
      "ROI:  -0.04223631318127494\n",
      "Guadagno:  -259.370000000009\n",
      "F1:  0.4968641114982578\n"
     ]
    }
   ],
   "source": [
    "model_stat(x_val, y_val, log_param_l2)"
   ]
  },
  {
   "cell_type": "code",
   "execution_count": 267,
   "metadata": {},
   "outputs": [
    {
     "name": "stderr",
     "output_type": "stream",
     "text": [
      "/anaconda3/lib/python3.7/site-packages/sklearn/linear_model/logistic.py:433: FutureWarning: Default solver will be changed to 'lbfgs' in 0.22. Specify a solver to silence this warning.\n",
      "  FutureWarning)\n"
     ]
    },
    {
     "name": "stdout",
     "output_type": "stream",
     "text": [
      "CPU times: user 1min 40s, sys: 439 ms, total: 1min 41s\n",
      "Wall time: 1min 41s\n"
     ]
    }
   ],
   "source": [
    "%%time\n",
    "from sklearn.preprocessing import PolynomialFeatures\n",
    "log_poly = Pipeline([\n",
    "    (\"scaler\", StandardScaler()),\n",
    "    (\"poly\", PolynomialFeatures(degree=3)), \n",
    "    (\"logreg\", LogisticRegression())\n",
    "])\n",
    "\n",
    "log_poly.fit(x_train, y_train)"
   ]
  },
  {
   "cell_type": "code",
   "execution_count": 268,
   "metadata": {},
   "outputs": [
    {
     "name": "stdout",
     "output_type": "stream",
     "text": [
      "Accuratezza:  0.49610136452241715\n",
      "ROI:  0.005307018724519382\n",
      "Guadagno:  32.590000000021064\n",
      "F1:  0.4947531449221663\n"
     ]
    }
   ],
   "source": [
    "model_stat(x_val, y_val, log_poly)"
   ]
  },
  {
   "cell_type": "markdown",
   "metadata": {},
   "source": [
    "## SVM (_Support Vector Machines_)\n",
    "- Le __SVM__ sono un modello utilizzabile sia per la classificazione che per la regressione, da qui il nome __SVC__ dove la __C__ sta per _Classification_.\n",
    "- Aggiungono un __criterio di ottimalità__ per individuare la separazione lineare ottima tra le istanze delle due classi. \n",
    "- Con training set piccoli solitamnete si ottengono buoni risultati."
   ]
  },
  {
   "cell_type": "code",
   "execution_count": 269,
   "metadata": {},
   "outputs": [
    {
     "name": "stdout",
     "output_type": "stream",
     "text": [
      "CPU times: user 958 ms, sys: 10.2 ms, total: 968 ms\n",
      "Wall time: 956 ms\n"
     ]
    }
   ],
   "source": [
    "%%time\n",
    "from sklearn.svm import SVC\n",
    "svm_scale = Pipeline([\n",
    "    (\"scaler\", StandardScaler()),\n",
    "    (\"svm\",    SVC(C=40, kernel=\"rbf\", gamma=0.13))\n",
    "])\n",
    "svm_scale.fit(x_train, y_train)"
   ]
  },
  {
   "cell_type": "code",
   "execution_count": 270,
   "metadata": {},
   "outputs": [
    {
     "name": "stdout",
     "output_type": "stream",
     "text": [
      "Accuratezza:  0.5087719298245614\n",
      "ROI:  0.07236532835187606\n",
      "Guadagno:  444.3899999999994\n",
      "F1:  0.508770063229572\n"
     ]
    }
   ],
   "source": [
    "model_stat(x_val, y_val, svm_scale)"
   ]
  },
  {
   "cell_type": "code",
   "execution_count": 271,
   "metadata": {},
   "outputs": [
    {
     "name": "stdout",
     "output_type": "stream",
     "text": [
      "CPU times: user 622 ms, sys: 6.05 ms, total: 628 ms\n",
      "Wall time: 633 ms\n"
     ]
    }
   ],
   "source": [
    "%%time\n",
    "svm_poly = Pipeline([\n",
    "    (\"scaler\", StandardScaler()),\n",
    "    (\"model\",  SVC(kernel=\"poly\", degree=3))\n",
    "])\n",
    "svm_poly.fit(x_train, y_train)"
   ]
  },
  {
   "cell_type": "code",
   "execution_count": 272,
   "metadata": {},
   "outputs": [
    {
     "name": "stdout",
     "output_type": "stream",
     "text": [
      "Accuratezza:  0.5350877192982456\n",
      "ROI:  0.1106331835301917\n",
      "Guadagno:  679.3900000000103\n",
      "F1:  0.38644595192634373\n"
     ]
    }
   ],
   "source": [
    "model_stat(x_val, y_val, svm_poly)"
   ]
  },
  {
   "cell_type": "markdown",
   "metadata": {},
   "source": [
    "## Grid Search\n",
    "\n",
    "- Fino a questo momento abbiamo impostato a mano i valori dei diversi iperparametri, ovvero il grado del polinomio, il peso della regolarizzazione ecc… Il __ROI__ può infatti dipendere fortemente da questi valori, proprio per questo andiamo alla ricerca degli iperparametri che lo massimizzano.\n",
    "\n",
    "- La __grid search__ è un metodo messo a disposizione da scikit learn che consente di eseguire automaticamente la k-fold cross validation su un modello con diversi valori degli iperparametri.\n",
    "\n",
    "- Nei modelli di classificazione la metrica di default utilizzata su cui effettuare il ranking è l'accuratezza, ma nel nostro dominio, come descritto sopra, tale misura non è molto indicativa. A tal proposito dobbiamo cambiare la metrica utilizzata dalla __grid search__.\n",
    "\n",
    "- Vogliamo trovare il modello che massimizzi il __ROI__. Ad esempio un modello può essere molto accurato, ma sbagliare in alcuni giorni in cui ci sono parecchie variazioni e commettere quindi molto errore. A noi interessa quindi un modello che sbagli di poco.\n",
    "\n",
    "- Naturalmente effettuando la k-cross validation, la grid search è da eseguire sull'insieme complessivo dei dati, per poter fare il __tuning degli iperparametri__. \n",
    "\n",
    "- Nel nostro dominio non possiamo mischiare i dati ma dobbiamo tenere fissi quelli del validation.\n",
    "\n",
    "- In automatico la __Grid Search__ al termine addestra il modello su tutti i dati usando gli iperparametri che hanno fornito i migliori risultati. Possiamo quindi utilizzare la gs come un modello ordinario essendo stato addestrato con gli iperparametri migliori."
   ]
  },
  {
   "cell_type": "markdown",
   "metadata": {},
   "source": [
    "- Definiamo lo __scorer__ da passare poi alla __grid search__."
   ]
  },
  {
   "cell_type": "code",
   "execution_count": 273,
   "metadata": {},
   "outputs": [],
   "source": [
    "from sklearn.metrics import make_scorer\n",
    "roi_scorer = make_scorer(roi, greater_is_better=True) \n",
    "# greater_is_better=True --> perchè maggiore è il ROI maggiore sarà il guadagno."
   ]
  },
  {
   "cell_type": "markdown",
   "metadata": {},
   "source": [
    "- Normalmente la __grid search__ effettua la k-fold cross validation.\n",
    "  - sono generate k divisioni tra training e validation set mescolando casualmente i dati.\n",
    "  \n",
    "- Nella __k-fold cross validation__ i dati vengono mescolati e presi casualmente, ma nel nostro dominio vogliamo che i dati appartenenti all'insieme di validation siano di un insieme specifico. \n",
    "    - mescolando i dati, si ha il validation su giorni non consecutivi."
   ]
  },
  {
   "cell_type": "code",
   "execution_count": 274,
   "metadata": {},
   "outputs": [],
   "source": [
    "from sklearn.model_selection import PredefinedSplit\n",
    "x_for_grid_search = X[0:train_perc + validation_perc]\n",
    "is_train = np.full((x_for_grid_search.shape[0], 1), False, dtype=bool)\n",
    "is_train[0:train_perc] = True\n",
    "split = PredefinedSplit(np.where(is_train, -1, 0))"
   ]
  },
  {
   "cell_type": "markdown",
   "metadata": {},
   "source": [
    "- Definiamo la Pipeline per __Perceptron__."
   ]
  },
  {
   "cell_type": "code",
   "execution_count": 275,
   "metadata": {},
   "outputs": [],
   "source": [
    "perceptron_pipeline = Pipeline([\n",
    "    (\"scaler\", StandardScaler()),\n",
    "    (\"model\",  Perceptron(random_state=42))\n",
    "])\n",
    "\n",
    "perceptron_grid = {\n",
    "    \"scaler\": [None, StandardScaler()],\n",
    "    \"model__penalty\": [None, \"l1\", \"l2\", \"elasticnet\"], # Penalizzazioni Lasso, Ridge, Elastic.\n",
    "    \"model__alpha\": np.logspace(-3, 3, 7) # Peso della regolarizzazione.\n",
    "}"
   ]
  },
  {
   "cell_type": "markdown",
   "metadata": {},
   "source": [
    "- Definiamo la Pipeline per la __regressione logistica__."
   ]
  },
  {
   "cell_type": "code",
   "execution_count": 276,
   "metadata": {},
   "outputs": [],
   "source": [
    "log_pipeline = Pipeline([\n",
    "    (\"scaler\", StandardScaler()),\n",
    "    (\"model\",  LogisticRegression(random_state=42))\n",
    "])\n",
    "\n",
    "log_grid = {\n",
    "    \"scaler\": [None, StandardScaler()],\n",
    "    \"model__penalty\": [\"l1\", \"l2\"],\n",
    "    \"model__C\": np.logspace(-3, 3, 7)\n",
    "}"
   ]
  },
  {
   "cell_type": "markdown",
   "metadata": {},
   "source": [
    "- Definiamo la Pipeline per le __SVC__."
   ]
  },
  {
   "cell_type": "code",
   "execution_count": 277,
   "metadata": {},
   "outputs": [],
   "source": [
    "svc_pipeline = Pipeline([\n",
    "    (\"scaler\", StandardScaler()),\n",
    "    (\"model\",  SVC(random_state=42))\n",
    "])\n",
    "\n",
    "svc_grid = [{\n",
    "    # Grid for SVC with rbs.\n",
    "    \"model__kernel\": [\"rbf\"],\n",
    "    \"model__C\": np.logspace(-3, 3, 7),\n",
    "    \"model__gamma\": np.logspace(-3, 3, 7) # Gamma: regola ampiezza gaussiane.\n",
    "},\n",
    "{\n",
    "    # Grid for SVC with poly.\n",
    "    \"model__kernel\": [\"poly\"],\n",
    "    \"model__C\": np.logspace(-3, 3, 7),\n",
    "    \"model__degree\": range(1, 5)\n",
    "}]"
   ]
  },
  {
   "cell_type": "markdown",
   "metadata": {},
   "source": [
    "- Importiamo e inizializziamo la __GridSearchCV__ che effettuerà la cross validation e a cui passeremo sia lo scorer che lo splitter predefinito. \n"
   ]
  },
  {
   "cell_type": "code",
   "execution_count": 278,
   "metadata": {},
   "outputs": [],
   "source": [
    "from sklearn.model_selection import GridSearchCV\n",
    "\n",
    "# Sistemiamo la y in base alle x scelte per la grid search.\n",
    "y_for_grid_search = y.reindex_like(x_for_grid_search)"
   ]
  },
  {
   "cell_type": "code",
   "execution_count": 279,
   "metadata": {},
   "outputs": [
    {
     "name": "stderr",
     "output_type": "stream",
     "text": [
      "/anaconda3/lib/python3.7/site-packages/sklearn/linear_model/stochastic_gradient.py:166: FutureWarning: max_iter and tol parameters have been added in Perceptron in 0.19. If both are left unset, they default to max_iter=5 and tol=None. If tol is not None, max_iter defaults to max_iter=1000. From 0.21, default max_iter will be 1000, and default tol will be 1e-3.\n",
      "  FutureWarning)\n",
      "/anaconda3/lib/python3.7/site-packages/sklearn/linear_model/stochastic_gradient.py:166: FutureWarning: max_iter and tol parameters have been added in Perceptron in 0.19. If both are left unset, they default to max_iter=5 and tol=None. If tol is not None, max_iter defaults to max_iter=1000. From 0.21, default max_iter will be 1000, and default tol will be 1e-3.\n",
      "  FutureWarning)\n",
      "/anaconda3/lib/python3.7/site-packages/sklearn/linear_model/stochastic_gradient.py:166: FutureWarning: max_iter and tol parameters have been added in Perceptron in 0.19. If both are left unset, they default to max_iter=5 and tol=None. If tol is not None, max_iter defaults to max_iter=1000. From 0.21, default max_iter will be 1000, and default tol will be 1e-3.\n",
      "  FutureWarning)\n",
      "/anaconda3/lib/python3.7/site-packages/sklearn/linear_model/stochastic_gradient.py:166: FutureWarning: max_iter and tol parameters have been added in Perceptron in 0.19. If both are left unset, they default to max_iter=5 and tol=None. If tol is not None, max_iter defaults to max_iter=1000. From 0.21, default max_iter will be 1000, and default tol will be 1e-3.\n",
      "  FutureWarning)\n",
      "/anaconda3/lib/python3.7/site-packages/sklearn/linear_model/stochastic_gradient.py:166: FutureWarning: max_iter and tol parameters have been added in Perceptron in 0.19. If both are left unset, they default to max_iter=5 and tol=None. If tol is not None, max_iter defaults to max_iter=1000. From 0.21, default max_iter will be 1000, and default tol will be 1e-3.\n",
      "  FutureWarning)\n",
      "/anaconda3/lib/python3.7/site-packages/sklearn/linear_model/stochastic_gradient.py:166: FutureWarning: max_iter and tol parameters have been added in Perceptron in 0.19. If both are left unset, they default to max_iter=5 and tol=None. If tol is not None, max_iter defaults to max_iter=1000. From 0.21, default max_iter will be 1000, and default tol will be 1e-3.\n",
      "  FutureWarning)\n",
      "/anaconda3/lib/python3.7/site-packages/sklearn/linear_model/stochastic_gradient.py:166: FutureWarning: max_iter and tol parameters have been added in Perceptron in 0.19. If both are left unset, they default to max_iter=5 and tol=None. If tol is not None, max_iter defaults to max_iter=1000. From 0.21, default max_iter will be 1000, and default tol will be 1e-3.\n",
      "  FutureWarning)\n",
      "/anaconda3/lib/python3.7/site-packages/sklearn/linear_model/stochastic_gradient.py:166: FutureWarning: max_iter and tol parameters have been added in Perceptron in 0.19. If both are left unset, they default to max_iter=5 and tol=None. If tol is not None, max_iter defaults to max_iter=1000. From 0.21, default max_iter will be 1000, and default tol will be 1e-3.\n",
      "  FutureWarning)\n",
      "/anaconda3/lib/python3.7/site-packages/sklearn/linear_model/stochastic_gradient.py:166: FutureWarning: max_iter and tol parameters have been added in Perceptron in 0.19. If both are left unset, they default to max_iter=5 and tol=None. If tol is not None, max_iter defaults to max_iter=1000. From 0.21, default max_iter will be 1000, and default tol will be 1e-3.\n",
      "  FutureWarning)\n",
      "/anaconda3/lib/python3.7/site-packages/sklearn/linear_model/stochastic_gradient.py:166: FutureWarning: max_iter and tol parameters have been added in Perceptron in 0.19. If both are left unset, they default to max_iter=5 and tol=None. If tol is not None, max_iter defaults to max_iter=1000. From 0.21, default max_iter will be 1000, and default tol will be 1e-3.\n",
      "  FutureWarning)\n",
      "/anaconda3/lib/python3.7/site-packages/sklearn/linear_model/stochastic_gradient.py:166: FutureWarning: max_iter and tol parameters have been added in Perceptron in 0.19. If both are left unset, they default to max_iter=5 and tol=None. If tol is not None, max_iter defaults to max_iter=1000. From 0.21, default max_iter will be 1000, and default tol will be 1e-3.\n",
      "  FutureWarning)\n",
      "/anaconda3/lib/python3.7/site-packages/sklearn/linear_model/stochastic_gradient.py:166: FutureWarning: max_iter and tol parameters have been added in Perceptron in 0.19. If both are left unset, they default to max_iter=5 and tol=None. If tol is not None, max_iter defaults to max_iter=1000. From 0.21, default max_iter will be 1000, and default tol will be 1e-3.\n",
      "  FutureWarning)\n",
      "/anaconda3/lib/python3.7/site-packages/sklearn/linear_model/stochastic_gradient.py:166: FutureWarning: max_iter and tol parameters have been added in Perceptron in 0.19. If both are left unset, they default to max_iter=5 and tol=None. If tol is not None, max_iter defaults to max_iter=1000. From 0.21, default max_iter will be 1000, and default tol will be 1e-3.\n",
      "  FutureWarning)\n",
      "/anaconda3/lib/python3.7/site-packages/sklearn/linear_model/stochastic_gradient.py:166: FutureWarning: max_iter and tol parameters have been added in Perceptron in 0.19. If both are left unset, they default to max_iter=5 and tol=None. If tol is not None, max_iter defaults to max_iter=1000. From 0.21, default max_iter will be 1000, and default tol will be 1e-3.\n",
      "  FutureWarning)\n",
      "/anaconda3/lib/python3.7/site-packages/sklearn/linear_model/stochastic_gradient.py:166: FutureWarning: max_iter and tol parameters have been added in Perceptron in 0.19. If both are left unset, they default to max_iter=5 and tol=None. If tol is not None, max_iter defaults to max_iter=1000. From 0.21, default max_iter will be 1000, and default tol will be 1e-3.\n",
      "  FutureWarning)\n",
      "/anaconda3/lib/python3.7/site-packages/sklearn/linear_model/stochastic_gradient.py:166: FutureWarning: max_iter and tol parameters have been added in Perceptron in 0.19. If both are left unset, they default to max_iter=5 and tol=None. If tol is not None, max_iter defaults to max_iter=1000. From 0.21, default max_iter will be 1000, and default tol will be 1e-3.\n",
      "  FutureWarning)\n",
      "/anaconda3/lib/python3.7/site-packages/sklearn/linear_model/stochastic_gradient.py:166: FutureWarning: max_iter and tol parameters have been added in Perceptron in 0.19. If both are left unset, they default to max_iter=5 and tol=None. If tol is not None, max_iter defaults to max_iter=1000. From 0.21, default max_iter will be 1000, and default tol will be 1e-3.\n",
      "  FutureWarning)\n",
      "/anaconda3/lib/python3.7/site-packages/sklearn/linear_model/stochastic_gradient.py:166: FutureWarning: max_iter and tol parameters have been added in Perceptron in 0.19. If both are left unset, they default to max_iter=5 and tol=None. If tol is not None, max_iter defaults to max_iter=1000. From 0.21, default max_iter will be 1000, and default tol will be 1e-3.\n",
      "  FutureWarning)\n",
      "/anaconda3/lib/python3.7/site-packages/sklearn/linear_model/stochastic_gradient.py:166: FutureWarning: max_iter and tol parameters have been added in Perceptron in 0.19. If both are left unset, they default to max_iter=5 and tol=None. If tol is not None, max_iter defaults to max_iter=1000. From 0.21, default max_iter will be 1000, and default tol will be 1e-3.\n",
      "  FutureWarning)\n",
      "/anaconda3/lib/python3.7/site-packages/sklearn/linear_model/stochastic_gradient.py:166: FutureWarning: max_iter and tol parameters have been added in Perceptron in 0.19. If both are left unset, they default to max_iter=5 and tol=None. If tol is not None, max_iter defaults to max_iter=1000. From 0.21, default max_iter will be 1000, and default tol will be 1e-3.\n",
      "  FutureWarning)\n",
      "/anaconda3/lib/python3.7/site-packages/sklearn/linear_model/stochastic_gradient.py:166: FutureWarning: max_iter and tol parameters have been added in Perceptron in 0.19. If both are left unset, they default to max_iter=5 and tol=None. If tol is not None, max_iter defaults to max_iter=1000. From 0.21, default max_iter will be 1000, and default tol will be 1e-3.\n",
      "  FutureWarning)\n",
      "/anaconda3/lib/python3.7/site-packages/sklearn/linear_model/stochastic_gradient.py:166: FutureWarning: max_iter and tol parameters have been added in Perceptron in 0.19. If both are left unset, they default to max_iter=5 and tol=None. If tol is not None, max_iter defaults to max_iter=1000. From 0.21, default max_iter will be 1000, and default tol will be 1e-3.\n",
      "  FutureWarning)\n",
      "/anaconda3/lib/python3.7/site-packages/sklearn/linear_model/stochastic_gradient.py:166: FutureWarning: max_iter and tol parameters have been added in Perceptron in 0.19. If both are left unset, they default to max_iter=5 and tol=None. If tol is not None, max_iter defaults to max_iter=1000. From 0.21, default max_iter will be 1000, and default tol will be 1e-3.\n",
      "  FutureWarning)\n",
      "/anaconda3/lib/python3.7/site-packages/sklearn/linear_model/stochastic_gradient.py:166: FutureWarning: max_iter and tol parameters have been added in Perceptron in 0.19. If both are left unset, they default to max_iter=5 and tol=None. If tol is not None, max_iter defaults to max_iter=1000. From 0.21, default max_iter will be 1000, and default tol will be 1e-3.\n",
      "  FutureWarning)\n",
      "/anaconda3/lib/python3.7/site-packages/sklearn/linear_model/stochastic_gradient.py:166: FutureWarning: max_iter and tol parameters have been added in Perceptron in 0.19. If both are left unset, they default to max_iter=5 and tol=None. If tol is not None, max_iter defaults to max_iter=1000. From 0.21, default max_iter will be 1000, and default tol will be 1e-3.\n",
      "  FutureWarning)\n",
      "/anaconda3/lib/python3.7/site-packages/sklearn/linear_model/stochastic_gradient.py:166: FutureWarning: max_iter and tol parameters have been added in Perceptron in 0.19. If both are left unset, they default to max_iter=5 and tol=None. If tol is not None, max_iter defaults to max_iter=1000. From 0.21, default max_iter will be 1000, and default tol will be 1e-3.\n",
      "  FutureWarning)\n",
      "/anaconda3/lib/python3.7/site-packages/sklearn/linear_model/stochastic_gradient.py:166: FutureWarning: max_iter and tol parameters have been added in Perceptron in 0.19. If both are left unset, they default to max_iter=5 and tol=None. If tol is not None, max_iter defaults to max_iter=1000. From 0.21, default max_iter will be 1000, and default tol will be 1e-3.\n",
      "  FutureWarning)\n",
      "/anaconda3/lib/python3.7/site-packages/sklearn/linear_model/stochastic_gradient.py:166: FutureWarning: max_iter and tol parameters have been added in Perceptron in 0.19. If both are left unset, they default to max_iter=5 and tol=None. If tol is not None, max_iter defaults to max_iter=1000. From 0.21, default max_iter will be 1000, and default tol will be 1e-3.\n",
      "  FutureWarning)\n",
      "/anaconda3/lib/python3.7/site-packages/sklearn/linear_model/stochastic_gradient.py:166: FutureWarning: max_iter and tol parameters have been added in Perceptron in 0.19. If both are left unset, they default to max_iter=5 and tol=None. If tol is not None, max_iter defaults to max_iter=1000. From 0.21, default max_iter will be 1000, and default tol will be 1e-3.\n",
      "  FutureWarning)\n"
     ]
    },
    {
     "name": "stderr",
     "output_type": "stream",
     "text": [
      "/anaconda3/lib/python3.7/site-packages/sklearn/linear_model/stochastic_gradient.py:166: FutureWarning: max_iter and tol parameters have been added in Perceptron in 0.19. If both are left unset, they default to max_iter=5 and tol=None. If tol is not None, max_iter defaults to max_iter=1000. From 0.21, default max_iter will be 1000, and default tol will be 1e-3.\n",
      "  FutureWarning)\n",
      "/anaconda3/lib/python3.7/site-packages/sklearn/linear_model/stochastic_gradient.py:166: FutureWarning: max_iter and tol parameters have been added in Perceptron in 0.19. If both are left unset, they default to max_iter=5 and tol=None. If tol is not None, max_iter defaults to max_iter=1000. From 0.21, default max_iter will be 1000, and default tol will be 1e-3.\n",
      "  FutureWarning)\n",
      "/anaconda3/lib/python3.7/site-packages/sklearn/linear_model/stochastic_gradient.py:166: FutureWarning: max_iter and tol parameters have been added in Perceptron in 0.19. If both are left unset, they default to max_iter=5 and tol=None. If tol is not None, max_iter defaults to max_iter=1000. From 0.21, default max_iter will be 1000, and default tol will be 1e-3.\n",
      "  FutureWarning)\n",
      "/anaconda3/lib/python3.7/site-packages/sklearn/linear_model/stochastic_gradient.py:166: FutureWarning: max_iter and tol parameters have been added in Perceptron in 0.19. If both are left unset, they default to max_iter=5 and tol=None. If tol is not None, max_iter defaults to max_iter=1000. From 0.21, default max_iter will be 1000, and default tol will be 1e-3.\n",
      "  FutureWarning)\n",
      "/anaconda3/lib/python3.7/site-packages/sklearn/linear_model/stochastic_gradient.py:166: FutureWarning: max_iter and tol parameters have been added in Perceptron in 0.19. If both are left unset, they default to max_iter=5 and tol=None. If tol is not None, max_iter defaults to max_iter=1000. From 0.21, default max_iter will be 1000, and default tol will be 1e-3.\n",
      "  FutureWarning)\n",
      "/anaconda3/lib/python3.7/site-packages/sklearn/linear_model/stochastic_gradient.py:166: FutureWarning: max_iter and tol parameters have been added in Perceptron in 0.19. If both are left unset, they default to max_iter=5 and tol=None. If tol is not None, max_iter defaults to max_iter=1000. From 0.21, default max_iter will be 1000, and default tol will be 1e-3.\n",
      "  FutureWarning)\n",
      "/anaconda3/lib/python3.7/site-packages/sklearn/linear_model/stochastic_gradient.py:166: FutureWarning: max_iter and tol parameters have been added in Perceptron in 0.19. If both are left unset, they default to max_iter=5 and tol=None. If tol is not None, max_iter defaults to max_iter=1000. From 0.21, default max_iter will be 1000, and default tol will be 1e-3.\n",
      "  FutureWarning)\n",
      "/anaconda3/lib/python3.7/site-packages/sklearn/linear_model/stochastic_gradient.py:166: FutureWarning: max_iter and tol parameters have been added in Perceptron in 0.19. If both are left unset, they default to max_iter=5 and tol=None. If tol is not None, max_iter defaults to max_iter=1000. From 0.21, default max_iter will be 1000, and default tol will be 1e-3.\n",
      "  FutureWarning)\n",
      "/anaconda3/lib/python3.7/site-packages/sklearn/linear_model/stochastic_gradient.py:166: FutureWarning: max_iter and tol parameters have been added in Perceptron in 0.19. If both are left unset, they default to max_iter=5 and tol=None. If tol is not None, max_iter defaults to max_iter=1000. From 0.21, default max_iter will be 1000, and default tol will be 1e-3.\n",
      "  FutureWarning)\n",
      "/anaconda3/lib/python3.7/site-packages/sklearn/linear_model/stochastic_gradient.py:166: FutureWarning: max_iter and tol parameters have been added in Perceptron in 0.19. If both are left unset, they default to max_iter=5 and tol=None. If tol is not None, max_iter defaults to max_iter=1000. From 0.21, default max_iter will be 1000, and default tol will be 1e-3.\n",
      "  FutureWarning)\n",
      "/anaconda3/lib/python3.7/site-packages/sklearn/linear_model/stochastic_gradient.py:166: FutureWarning: max_iter and tol parameters have been added in Perceptron in 0.19. If both are left unset, they default to max_iter=5 and tol=None. If tol is not None, max_iter defaults to max_iter=1000. From 0.21, default max_iter will be 1000, and default tol will be 1e-3.\n",
      "  FutureWarning)\n",
      "/anaconda3/lib/python3.7/site-packages/sklearn/linear_model/stochastic_gradient.py:166: FutureWarning: max_iter and tol parameters have been added in Perceptron in 0.19. If both are left unset, they default to max_iter=5 and tol=None. If tol is not None, max_iter defaults to max_iter=1000. From 0.21, default max_iter will be 1000, and default tol will be 1e-3.\n",
      "  FutureWarning)\n",
      "/anaconda3/lib/python3.7/site-packages/sklearn/linear_model/stochastic_gradient.py:166: FutureWarning: max_iter and tol parameters have been added in Perceptron in 0.19. If both are left unset, they default to max_iter=5 and tol=None. If tol is not None, max_iter defaults to max_iter=1000. From 0.21, default max_iter will be 1000, and default tol will be 1e-3.\n",
      "  FutureWarning)\n",
      "/anaconda3/lib/python3.7/site-packages/sklearn/linear_model/stochastic_gradient.py:166: FutureWarning: max_iter and tol parameters have been added in Perceptron in 0.19. If both are left unset, they default to max_iter=5 and tol=None. If tol is not None, max_iter defaults to max_iter=1000. From 0.21, default max_iter will be 1000, and default tol will be 1e-3.\n",
      "  FutureWarning)\n",
      "/anaconda3/lib/python3.7/site-packages/sklearn/linear_model/stochastic_gradient.py:166: FutureWarning: max_iter and tol parameters have been added in Perceptron in 0.19. If both are left unset, they default to max_iter=5 and tol=None. If tol is not None, max_iter defaults to max_iter=1000. From 0.21, default max_iter will be 1000, and default tol will be 1e-3.\n",
      "  FutureWarning)\n",
      "/anaconda3/lib/python3.7/site-packages/sklearn/linear_model/stochastic_gradient.py:166: FutureWarning: max_iter and tol parameters have been added in Perceptron in 0.19. If both are left unset, they default to max_iter=5 and tol=None. If tol is not None, max_iter defaults to max_iter=1000. From 0.21, default max_iter will be 1000, and default tol will be 1e-3.\n",
      "  FutureWarning)\n",
      "/anaconda3/lib/python3.7/site-packages/sklearn/linear_model/stochastic_gradient.py:166: FutureWarning: max_iter and tol parameters have been added in Perceptron in 0.19. If both are left unset, they default to max_iter=5 and tol=None. If tol is not None, max_iter defaults to max_iter=1000. From 0.21, default max_iter will be 1000, and default tol will be 1e-3.\n",
      "  FutureWarning)\n",
      "/anaconda3/lib/python3.7/site-packages/sklearn/linear_model/stochastic_gradient.py:166: FutureWarning: max_iter and tol parameters have been added in Perceptron in 0.19. If both are left unset, they default to max_iter=5 and tol=None. If tol is not None, max_iter defaults to max_iter=1000. From 0.21, default max_iter will be 1000, and default tol will be 1e-3.\n",
      "  FutureWarning)\n",
      "/anaconda3/lib/python3.7/site-packages/sklearn/linear_model/stochastic_gradient.py:166: FutureWarning: max_iter and tol parameters have been added in Perceptron in 0.19. If both are left unset, they default to max_iter=5 and tol=None. If tol is not None, max_iter defaults to max_iter=1000. From 0.21, default max_iter will be 1000, and default tol will be 1e-3.\n",
      "  FutureWarning)\n",
      "/anaconda3/lib/python3.7/site-packages/sklearn/linear_model/stochastic_gradient.py:166: FutureWarning: max_iter and tol parameters have been added in Perceptron in 0.19. If both are left unset, they default to max_iter=5 and tol=None. If tol is not None, max_iter defaults to max_iter=1000. From 0.21, default max_iter will be 1000, and default tol will be 1e-3.\n",
      "  FutureWarning)\n",
      "/anaconda3/lib/python3.7/site-packages/sklearn/linear_model/stochastic_gradient.py:166: FutureWarning: max_iter and tol parameters have been added in Perceptron in 0.19. If both are left unset, they default to max_iter=5 and tol=None. If tol is not None, max_iter defaults to max_iter=1000. From 0.21, default max_iter will be 1000, and default tol will be 1e-3.\n",
      "  FutureWarning)\n",
      "/anaconda3/lib/python3.7/site-packages/sklearn/linear_model/stochastic_gradient.py:166: FutureWarning: max_iter and tol parameters have been added in Perceptron in 0.19. If both are left unset, they default to max_iter=5 and tol=None. If tol is not None, max_iter defaults to max_iter=1000. From 0.21, default max_iter will be 1000, and default tol will be 1e-3.\n",
      "  FutureWarning)\n",
      "/anaconda3/lib/python3.7/site-packages/sklearn/linear_model/stochastic_gradient.py:166: FutureWarning: max_iter and tol parameters have been added in Perceptron in 0.19. If both are left unset, they default to max_iter=5 and tol=None. If tol is not None, max_iter defaults to max_iter=1000. From 0.21, default max_iter will be 1000, and default tol will be 1e-3.\n",
      "  FutureWarning)\n",
      "/anaconda3/lib/python3.7/site-packages/sklearn/linear_model/stochastic_gradient.py:166: FutureWarning: max_iter and tol parameters have been added in Perceptron in 0.19. If both are left unset, they default to max_iter=5 and tol=None. If tol is not None, max_iter defaults to max_iter=1000. From 0.21, default max_iter will be 1000, and default tol will be 1e-3.\n",
      "  FutureWarning)\n",
      "/anaconda3/lib/python3.7/site-packages/sklearn/linear_model/stochastic_gradient.py:166: FutureWarning: max_iter and tol parameters have been added in Perceptron in 0.19. If both are left unset, they default to max_iter=5 and tol=None. If tol is not None, max_iter defaults to max_iter=1000. From 0.21, default max_iter will be 1000, and default tol will be 1e-3.\n",
      "  FutureWarning)\n",
      "/anaconda3/lib/python3.7/site-packages/sklearn/linear_model/stochastic_gradient.py:166: FutureWarning: max_iter and tol parameters have been added in Perceptron in 0.19. If both are left unset, they default to max_iter=5 and tol=None. If tol is not None, max_iter defaults to max_iter=1000. From 0.21, default max_iter will be 1000, and default tol will be 1e-3.\n",
      "  FutureWarning)\n",
      "/anaconda3/lib/python3.7/site-packages/sklearn/linear_model/stochastic_gradient.py:166: FutureWarning: max_iter and tol parameters have been added in Perceptron in 0.19. If both are left unset, they default to max_iter=5 and tol=None. If tol is not None, max_iter defaults to max_iter=1000. From 0.21, default max_iter will be 1000, and default tol will be 1e-3.\n",
      "  FutureWarning)\n"
     ]
    },
    {
     "name": "stderr",
     "output_type": "stream",
     "text": [
      "/anaconda3/lib/python3.7/site-packages/sklearn/linear_model/stochastic_gradient.py:166: FutureWarning: max_iter and tol parameters have been added in Perceptron in 0.19. If both are left unset, they default to max_iter=5 and tol=None. If tol is not None, max_iter defaults to max_iter=1000. From 0.21, default max_iter will be 1000, and default tol will be 1e-3.\n",
      "  FutureWarning)\n"
     ]
    },
    {
     "data": {
      "text/plain": [
       "GridSearchCV(cv=PredefinedSplit(test_fold=array([-1, -1, ...,  0,  0])),\n",
       "       error_score='raise-deprecating',\n",
       "       estimator=Pipeline(memory=None,\n",
       "     steps=[('scaler', StandardScaler(copy=True, with_mean=True, with_std=True)), ('model', Perceptron(alpha=0.0001, class_weight=None, early_stopping=False, eta0=1.0,\n",
       "      fit_intercept=True, max_iter=None, n_iter=None, n_iter_no_change=5,\n",
       "      n_jobs=None, penalty=None, random_state=42, shuffle=True, tol=None,\n",
       "      validation_fraction=0.1, verbose=0, warm_start=False))]),\n",
       "       fit_params=None, iid='warn', n_jobs=None,\n",
       "       param_grid={'scaler': [None, StandardScaler(copy=True, with_mean=True, with_std=True)], 'model__penalty': [None, 'l1', 'l2', 'elasticnet'], 'model__alpha': array([1.e-03, 1.e-02, 1.e-01, 1.e+00, 1.e+01, 1.e+02, 1.e+03])},\n",
       "       pre_dispatch='2*n_jobs', refit=True, return_train_score='warn',\n",
       "       scoring=make_scorer(roi), verbose=0)"
      ]
     },
     "execution_count": 279,
     "metadata": {},
     "output_type": "execute_result"
    }
   ],
   "source": [
    "gs_perceptron = GridSearchCV(perceptron_pipeline, perceptron_grid, scoring=roi_scorer, cv=split)\n",
    "gs_perceptron.fit(x_for_grid_search, y_for_grid_search)"
   ]
  },
  {
   "cell_type": "code",
   "execution_count": 280,
   "metadata": {},
   "outputs": [
    {
     "name": "stderr",
     "output_type": "stream",
     "text": [
      "/anaconda3/lib/python3.7/site-packages/sklearn/utils/deprecation.py:125: FutureWarning: You are accessing a training score ('split0_train_score'), which will not be available by default any more in 0.21. If you need training scores, please set return_train_score=True\n",
      "  warnings.warn(*warn_args, **warn_kwargs)\n",
      "/anaconda3/lib/python3.7/site-packages/sklearn/utils/deprecation.py:125: FutureWarning: You are accessing a training score ('mean_train_score'), which will not be available by default any more in 0.21. If you need training scores, please set return_train_score=True\n",
      "  warnings.warn(*warn_args, **warn_kwargs)\n",
      "/anaconda3/lib/python3.7/site-packages/sklearn/utils/deprecation.py:125: FutureWarning: You are accessing a training score ('std_train_score'), which will not be available by default any more in 0.21. If you need training scores, please set return_train_score=True\n",
      "  warnings.warn(*warn_args, **warn_kwargs)\n"
     ]
    },
    {
     "data": {
      "text/html": [
       "<div>\n",
       "<style scoped>\n",
       "    .dataframe tbody tr th:only-of-type {\n",
       "        vertical-align: middle;\n",
       "    }\n",
       "\n",
       "    .dataframe tbody tr th {\n",
       "        vertical-align: top;\n",
       "    }\n",
       "\n",
       "    .dataframe thead th {\n",
       "        text-align: right;\n",
       "    }\n",
       "</style>\n",
       "<table border=\"1\" class=\"dataframe\">\n",
       "  <thead>\n",
       "    <tr style=\"text-align: right;\">\n",
       "      <th></th>\n",
       "      <th>mean_fit_time</th>\n",
       "      <th>std_fit_time</th>\n",
       "      <th>mean_score_time</th>\n",
       "      <th>std_score_time</th>\n",
       "      <th>param_model__alpha</th>\n",
       "      <th>param_model__penalty</th>\n",
       "      <th>param_scaler</th>\n",
       "      <th>params</th>\n",
       "      <th>split0_test_score</th>\n",
       "      <th>mean_test_score</th>\n",
       "      <th>std_test_score</th>\n",
       "      <th>rank_test_score</th>\n",
       "      <th>split0_train_score</th>\n",
       "      <th>mean_train_score</th>\n",
       "      <th>std_train_score</th>\n",
       "    </tr>\n",
       "  </thead>\n",
       "  <tbody>\n",
       "    <tr>\n",
       "      <th>3</th>\n",
       "      <td>0.009932</td>\n",
       "      <td>0.0</td>\n",
       "      <td>0.002148</td>\n",
       "      <td>0.0</td>\n",
       "      <td>0.001</td>\n",
       "      <td>l1</td>\n",
       "      <td>StandardScaler(copy=True, with_mean=True, with...</td>\n",
       "      <td>{'model__alpha': 0.001, 'model__penalty': 'l1'...</td>\n",
       "      <td>0.049186</td>\n",
       "      <td>0.049186</td>\n",
       "      <td>0.0</td>\n",
       "      <td>1</td>\n",
       "      <td>0.502198</td>\n",
       "      <td>0.502198</td>\n",
       "      <td>0.0</td>\n",
       "    </tr>\n",
       "    <tr>\n",
       "      <th>33</th>\n",
       "      <td>0.013374</td>\n",
       "      <td>0.0</td>\n",
       "      <td>0.002141</td>\n",
       "      <td>0.0</td>\n",
       "      <td>10</td>\n",
       "      <td>None</td>\n",
       "      <td>StandardScaler(copy=True, with_mean=True, with...</td>\n",
       "      <td>{'model__alpha': 10.0, 'model__penalty': None,...</td>\n",
       "      <td>0.022532</td>\n",
       "      <td>0.022532</td>\n",
       "      <td>0.0</td>\n",
       "      <td>2</td>\n",
       "      <td>0.858907</td>\n",
       "      <td>0.858907</td>\n",
       "      <td>0.0</td>\n",
       "    </tr>\n",
       "    <tr>\n",
       "      <th>1</th>\n",
       "      <td>0.008556</td>\n",
       "      <td>0.0</td>\n",
       "      <td>0.002206</td>\n",
       "      <td>0.0</td>\n",
       "      <td>0.001</td>\n",
       "      <td>None</td>\n",
       "      <td>StandardScaler(copy=True, with_mean=True, with...</td>\n",
       "      <td>{'model__alpha': 0.001, 'model__penalty': None...</td>\n",
       "      <td>0.022532</td>\n",
       "      <td>0.022532</td>\n",
       "      <td>0.0</td>\n",
       "      <td>2</td>\n",
       "      <td>0.858907</td>\n",
       "      <td>0.858907</td>\n",
       "      <td>0.0</td>\n",
       "    </tr>\n",
       "    <tr>\n",
       "      <th>25</th>\n",
       "      <td>0.008324</td>\n",
       "      <td>0.0</td>\n",
       "      <td>0.002245</td>\n",
       "      <td>0.0</td>\n",
       "      <td>1</td>\n",
       "      <td>None</td>\n",
       "      <td>StandardScaler(copy=True, with_mean=True, with...</td>\n",
       "      <td>{'model__alpha': 1.0, 'model__penalty': None, ...</td>\n",
       "      <td>0.022532</td>\n",
       "      <td>0.022532</td>\n",
       "      <td>0.0</td>\n",
       "      <td>2</td>\n",
       "      <td>0.858907</td>\n",
       "      <td>0.858907</td>\n",
       "      <td>0.0</td>\n",
       "    </tr>\n",
       "    <tr>\n",
       "      <th>9</th>\n",
       "      <td>0.008365</td>\n",
       "      <td>0.0</td>\n",
       "      <td>0.002188</td>\n",
       "      <td>0.0</td>\n",
       "      <td>0.01</td>\n",
       "      <td>None</td>\n",
       "      <td>StandardScaler(copy=True, with_mean=True, with...</td>\n",
       "      <td>{'model__alpha': 0.01, 'model__penalty': None,...</td>\n",
       "      <td>0.022532</td>\n",
       "      <td>0.022532</td>\n",
       "      <td>0.0</td>\n",
       "      <td>2</td>\n",
       "      <td>0.858907</td>\n",
       "      <td>0.858907</td>\n",
       "      <td>0.0</td>\n",
       "    </tr>\n",
       "  </tbody>\n",
       "</table>\n",
       "</div>"
      ],
      "text/plain": [
       "    mean_fit_time  std_fit_time  mean_score_time  std_score_time  \\\n",
       "3        0.009932           0.0         0.002148             0.0   \n",
       "33       0.013374           0.0         0.002141             0.0   \n",
       "1        0.008556           0.0         0.002206             0.0   \n",
       "25       0.008324           0.0         0.002245             0.0   \n",
       "9        0.008365           0.0         0.002188             0.0   \n",
       "\n",
       "   param_model__alpha param_model__penalty  \\\n",
       "3               0.001                   l1   \n",
       "33                 10                 None   \n",
       "1               0.001                 None   \n",
       "25                  1                 None   \n",
       "9                0.01                 None   \n",
       "\n",
       "                                         param_scaler  \\\n",
       "3   StandardScaler(copy=True, with_mean=True, with...   \n",
       "33  StandardScaler(copy=True, with_mean=True, with...   \n",
       "1   StandardScaler(copy=True, with_mean=True, with...   \n",
       "25  StandardScaler(copy=True, with_mean=True, with...   \n",
       "9   StandardScaler(copy=True, with_mean=True, with...   \n",
       "\n",
       "                                               params  split0_test_score  \\\n",
       "3   {'model__alpha': 0.001, 'model__penalty': 'l1'...           0.049186   \n",
       "33  {'model__alpha': 10.0, 'model__penalty': None,...           0.022532   \n",
       "1   {'model__alpha': 0.001, 'model__penalty': None...           0.022532   \n",
       "25  {'model__alpha': 1.0, 'model__penalty': None, ...           0.022532   \n",
       "9   {'model__alpha': 0.01, 'model__penalty': None,...           0.022532   \n",
       "\n",
       "    mean_test_score  std_test_score  rank_test_score  split0_train_score  \\\n",
       "3          0.049186             0.0                1            0.502198   \n",
       "33         0.022532             0.0                2            0.858907   \n",
       "1          0.022532             0.0                2            0.858907   \n",
       "25         0.022532             0.0                2            0.858907   \n",
       "9          0.022532             0.0                2            0.858907   \n",
       "\n",
       "    mean_train_score  std_train_score  \n",
       "3           0.502198              0.0  \n",
       "33          0.858907              0.0  \n",
       "1           0.858907              0.0  \n",
       "25          0.858907              0.0  \n",
       "9           0.858907              0.0  "
      ]
     },
     "execution_count": 280,
     "metadata": {},
     "output_type": "execute_result"
    }
   ],
   "source": [
    "pd.DataFrame(gs_perceptron.cv_results_).sort_values(\"rank_test_score\").head(5)"
   ]
  },
  {
   "cell_type": "code",
   "execution_count": 281,
   "metadata": {},
   "outputs": [
    {
     "name": "stderr",
     "output_type": "stream",
     "text": [
      "/anaconda3/lib/python3.7/site-packages/sklearn/linear_model/logistic.py:433: FutureWarning: Default solver will be changed to 'lbfgs' in 0.22. Specify a solver to silence this warning.\n",
      "  FutureWarning)\n",
      "/anaconda3/lib/python3.7/site-packages/sklearn/svm/base.py:922: ConvergenceWarning: Liblinear failed to converge, increase the number of iterations.\n",
      "  \"the number of iterations.\", ConvergenceWarning)\n",
      "/anaconda3/lib/python3.7/site-packages/sklearn/linear_model/logistic.py:433: FutureWarning: Default solver will be changed to 'lbfgs' in 0.22. Specify a solver to silence this warning.\n",
      "  FutureWarning)\n",
      "/anaconda3/lib/python3.7/site-packages/sklearn/linear_model/logistic.py:433: FutureWarning: Default solver will be changed to 'lbfgs' in 0.22. Specify a solver to silence this warning.\n",
      "  FutureWarning)\n",
      "/anaconda3/lib/python3.7/site-packages/sklearn/linear_model/logistic.py:433: FutureWarning: Default solver will be changed to 'lbfgs' in 0.22. Specify a solver to silence this warning.\n",
      "  FutureWarning)\n",
      "/anaconda3/lib/python3.7/site-packages/sklearn/linear_model/logistic.py:433: FutureWarning: Default solver will be changed to 'lbfgs' in 0.22. Specify a solver to silence this warning.\n",
      "  FutureWarning)\n",
      "/anaconda3/lib/python3.7/site-packages/sklearn/svm/base.py:922: ConvergenceWarning: Liblinear failed to converge, increase the number of iterations.\n",
      "  \"the number of iterations.\", ConvergenceWarning)\n",
      "/anaconda3/lib/python3.7/site-packages/sklearn/linear_model/logistic.py:433: FutureWarning: Default solver will be changed to 'lbfgs' in 0.22. Specify a solver to silence this warning.\n",
      "  FutureWarning)\n",
      "/anaconda3/lib/python3.7/site-packages/sklearn/linear_model/logistic.py:433: FutureWarning: Default solver will be changed to 'lbfgs' in 0.22. Specify a solver to silence this warning.\n",
      "  FutureWarning)\n",
      "/anaconda3/lib/python3.7/site-packages/sklearn/linear_model/logistic.py:433: FutureWarning: Default solver will be changed to 'lbfgs' in 0.22. Specify a solver to silence this warning.\n",
      "  FutureWarning)\n",
      "/anaconda3/lib/python3.7/site-packages/sklearn/linear_model/logistic.py:433: FutureWarning: Default solver will be changed to 'lbfgs' in 0.22. Specify a solver to silence this warning.\n",
      "  FutureWarning)\n",
      "/anaconda3/lib/python3.7/site-packages/sklearn/svm/base.py:922: ConvergenceWarning: Liblinear failed to converge, increase the number of iterations.\n",
      "  \"the number of iterations.\", ConvergenceWarning)\n",
      "/anaconda3/lib/python3.7/site-packages/sklearn/linear_model/logistic.py:433: FutureWarning: Default solver will be changed to 'lbfgs' in 0.22. Specify a solver to silence this warning.\n",
      "  FutureWarning)\n",
      "/anaconda3/lib/python3.7/site-packages/sklearn/linear_model/logistic.py:433: FutureWarning: Default solver will be changed to 'lbfgs' in 0.22. Specify a solver to silence this warning.\n",
      "  FutureWarning)\n",
      "/anaconda3/lib/python3.7/site-packages/sklearn/linear_model/logistic.py:433: FutureWarning: Default solver will be changed to 'lbfgs' in 0.22. Specify a solver to silence this warning.\n",
      "  FutureWarning)\n",
      "/anaconda3/lib/python3.7/site-packages/sklearn/linear_model/logistic.py:433: FutureWarning: Default solver will be changed to 'lbfgs' in 0.22. Specify a solver to silence this warning.\n",
      "  FutureWarning)\n",
      "/anaconda3/lib/python3.7/site-packages/sklearn/svm/base.py:922: ConvergenceWarning: Liblinear failed to converge, increase the number of iterations.\n",
      "  \"the number of iterations.\", ConvergenceWarning)\n",
      "/anaconda3/lib/python3.7/site-packages/sklearn/linear_model/logistic.py:433: FutureWarning: Default solver will be changed to 'lbfgs' in 0.22. Specify a solver to silence this warning.\n",
      "  FutureWarning)\n",
      "/anaconda3/lib/python3.7/site-packages/sklearn/linear_model/logistic.py:433: FutureWarning: Default solver will be changed to 'lbfgs' in 0.22. Specify a solver to silence this warning.\n",
      "  FutureWarning)\n",
      "/anaconda3/lib/python3.7/site-packages/sklearn/linear_model/logistic.py:433: FutureWarning: Default solver will be changed to 'lbfgs' in 0.22. Specify a solver to silence this warning.\n",
      "  FutureWarning)\n",
      "/anaconda3/lib/python3.7/site-packages/sklearn/linear_model/logistic.py:433: FutureWarning: Default solver will be changed to 'lbfgs' in 0.22. Specify a solver to silence this warning.\n",
      "  FutureWarning)\n",
      "/anaconda3/lib/python3.7/site-packages/sklearn/linear_model/logistic.py:433: FutureWarning: Default solver will be changed to 'lbfgs' in 0.22. Specify a solver to silence this warning.\n",
      "  FutureWarning)\n",
      "/anaconda3/lib/python3.7/site-packages/sklearn/svm/base.py:922: ConvergenceWarning: Liblinear failed to converge, increase the number of iterations.\n",
      "  \"the number of iterations.\", ConvergenceWarning)\n",
      "/anaconda3/lib/python3.7/site-packages/sklearn/linear_model/logistic.py:433: FutureWarning: Default solver will be changed to 'lbfgs' in 0.22. Specify a solver to silence this warning.\n",
      "  FutureWarning)\n",
      "/anaconda3/lib/python3.7/site-packages/sklearn/linear_model/logistic.py:433: FutureWarning: Default solver will be changed to 'lbfgs' in 0.22. Specify a solver to silence this warning.\n",
      "  FutureWarning)\n",
      "/anaconda3/lib/python3.7/site-packages/sklearn/linear_model/logistic.py:433: FutureWarning: Default solver will be changed to 'lbfgs' in 0.22. Specify a solver to silence this warning.\n",
      "  FutureWarning)\n",
      "/anaconda3/lib/python3.7/site-packages/sklearn/svm/base.py:922: ConvergenceWarning: Liblinear failed to converge, increase the number of iterations.\n",
      "  \"the number of iterations.\", ConvergenceWarning)\n",
      "/anaconda3/lib/python3.7/site-packages/sklearn/linear_model/logistic.py:433: FutureWarning: Default solver will be changed to 'lbfgs' in 0.22. Specify a solver to silence this warning.\n",
      "  FutureWarning)\n",
      "/anaconda3/lib/python3.7/site-packages/sklearn/svm/base.py:922: ConvergenceWarning: Liblinear failed to converge, increase the number of iterations.\n",
      "  \"the number of iterations.\", ConvergenceWarning)\n",
      "/anaconda3/lib/python3.7/site-packages/sklearn/linear_model/logistic.py:433: FutureWarning: Default solver will be changed to 'lbfgs' in 0.22. Specify a solver to silence this warning.\n",
      "  FutureWarning)\n",
      "/anaconda3/lib/python3.7/site-packages/sklearn/linear_model/logistic.py:433: FutureWarning: Default solver will be changed to 'lbfgs' in 0.22. Specify a solver to silence this warning.\n",
      "  FutureWarning)\n",
      "/anaconda3/lib/python3.7/site-packages/sklearn/linear_model/logistic.py:433: FutureWarning: Default solver will be changed to 'lbfgs' in 0.22. Specify a solver to silence this warning.\n",
      "  FutureWarning)\n",
      "/anaconda3/lib/python3.7/site-packages/sklearn/svm/base.py:922: ConvergenceWarning: Liblinear failed to converge, increase the number of iterations.\n",
      "  \"the number of iterations.\", ConvergenceWarning)\n",
      "/anaconda3/lib/python3.7/site-packages/sklearn/linear_model/logistic.py:433: FutureWarning: Default solver will be changed to 'lbfgs' in 0.22. Specify a solver to silence this warning.\n",
      "  FutureWarning)\n",
      "/anaconda3/lib/python3.7/site-packages/sklearn/svm/base.py:922: ConvergenceWarning: Liblinear failed to converge, increase the number of iterations.\n",
      "  \"the number of iterations.\", ConvergenceWarning)\n",
      "/anaconda3/lib/python3.7/site-packages/sklearn/linear_model/logistic.py:433: FutureWarning: Default solver will be changed to 'lbfgs' in 0.22. Specify a solver to silence this warning.\n",
      "  FutureWarning)\n",
      "/anaconda3/lib/python3.7/site-packages/sklearn/linear_model/logistic.py:433: FutureWarning: Default solver will be changed to 'lbfgs' in 0.22. Specify a solver to silence this warning.\n",
      "  FutureWarning)\n",
      "/anaconda3/lib/python3.7/site-packages/sklearn/linear_model/logistic.py:433: FutureWarning: Default solver will be changed to 'lbfgs' in 0.22. Specify a solver to silence this warning.\n",
      "  FutureWarning)\n"
     ]
    },
    {
     "data": {
      "text/plain": [
       "GridSearchCV(cv=PredefinedSplit(test_fold=array([-1, -1, ...,  0,  0])),\n",
       "       error_score='raise-deprecating',\n",
       "       estimator=Pipeline(memory=None,\n",
       "     steps=[('scaler', StandardScaler(copy=True, with_mean=True, with_std=True)), ('model', LogisticRegression(C=1.0, class_weight=None, dual=False, fit_intercept=True,\n",
       "          intercept_scaling=1, max_iter=100, multi_class='warn',\n",
       "          n_jobs=None, penalty='l2', random_state=42, solver='warn',\n",
       "          tol=0.0001, verbose=0, warm_start=False))]),\n",
       "       fit_params=None, iid='warn', n_jobs=None,\n",
       "       param_grid={'scaler': [None, StandardScaler(copy=True, with_mean=True, with_std=True)], 'model__penalty': ['l1', 'l2'], 'model__C': array([1.e-03, 1.e-02, 1.e-01, 1.e+00, 1.e+01, 1.e+02, 1.e+03])},\n",
       "       pre_dispatch='2*n_jobs', refit=True, return_train_score='warn',\n",
       "       scoring=make_scorer(roi), verbose=0)"
      ]
     },
     "execution_count": 281,
     "metadata": {},
     "output_type": "execute_result"
    }
   ],
   "source": [
    "gs_log = GridSearchCV(log_pipeline, log_grid, scoring=roi_scorer, cv=split)\n",
    "gs_log.fit(x_for_grid_search, y_for_grid_search)"
   ]
  },
  {
   "cell_type": "code",
   "execution_count": 282,
   "metadata": {},
   "outputs": [
    {
     "name": "stderr",
     "output_type": "stream",
     "text": [
      "/anaconda3/lib/python3.7/site-packages/sklearn/utils/deprecation.py:125: FutureWarning: You are accessing a training score ('split0_train_score'), which will not be available by default any more in 0.21. If you need training scores, please set return_train_score=True\n",
      "  warnings.warn(*warn_args, **warn_kwargs)\n",
      "/anaconda3/lib/python3.7/site-packages/sklearn/utils/deprecation.py:125: FutureWarning: You are accessing a training score ('mean_train_score'), which will not be available by default any more in 0.21. If you need training scores, please set return_train_score=True\n",
      "  warnings.warn(*warn_args, **warn_kwargs)\n",
      "/anaconda3/lib/python3.7/site-packages/sklearn/utils/deprecation.py:125: FutureWarning: You are accessing a training score ('std_train_score'), which will not be available by default any more in 0.21. If you need training scores, please set return_train_score=True\n",
      "  warnings.warn(*warn_args, **warn_kwargs)\n"
     ]
    },
    {
     "data": {
      "text/html": [
       "<div>\n",
       "<style scoped>\n",
       "    .dataframe tbody tr th:only-of-type {\n",
       "        vertical-align: middle;\n",
       "    }\n",
       "\n",
       "    .dataframe tbody tr th {\n",
       "        vertical-align: top;\n",
       "    }\n",
       "\n",
       "    .dataframe thead th {\n",
       "        text-align: right;\n",
       "    }\n",
       "</style>\n",
       "<table border=\"1\" class=\"dataframe\">\n",
       "  <thead>\n",
       "    <tr style=\"text-align: right;\">\n",
       "      <th></th>\n",
       "      <th>mean_fit_time</th>\n",
       "      <th>std_fit_time</th>\n",
       "      <th>mean_score_time</th>\n",
       "      <th>std_score_time</th>\n",
       "      <th>param_model__C</th>\n",
       "      <th>param_model__penalty</th>\n",
       "      <th>param_scaler</th>\n",
       "      <th>params</th>\n",
       "      <th>split0_test_score</th>\n",
       "      <th>mean_test_score</th>\n",
       "      <th>std_test_score</th>\n",
       "      <th>rank_test_score</th>\n",
       "      <th>split0_train_score</th>\n",
       "      <th>mean_train_score</th>\n",
       "      <th>std_train_score</th>\n",
       "    </tr>\n",
       "  </thead>\n",
       "  <tbody>\n",
       "    <tr>\n",
       "      <th>22</th>\n",
       "      <td>0.025998</td>\n",
       "      <td>0.0</td>\n",
       "      <td>0.045393</td>\n",
       "      <td>0.0</td>\n",
       "      <td>100</td>\n",
       "      <td>l2</td>\n",
       "      <td>None</td>\n",
       "      <td>{'model__C': 100.0, 'model__penalty': 'l2', 's...</td>\n",
       "      <td>0.134164</td>\n",
       "      <td>0.134164</td>\n",
       "      <td>0.0</td>\n",
       "      <td>1</td>\n",
       "      <td>-0.777769</td>\n",
       "      <td>-0.777769</td>\n",
       "      <td>0.0</td>\n",
       "    </tr>\n",
       "    <tr>\n",
       "      <th>2</th>\n",
       "      <td>0.008881</td>\n",
       "      <td>0.0</td>\n",
       "      <td>0.001824</td>\n",
       "      <td>0.0</td>\n",
       "      <td>0.001</td>\n",
       "      <td>l2</td>\n",
       "      <td>None</td>\n",
       "      <td>{'model__C': 0.001, 'model__penalty': 'l2', 's...</td>\n",
       "      <td>0.134164</td>\n",
       "      <td>0.134164</td>\n",
       "      <td>0.0</td>\n",
       "      <td>1</td>\n",
       "      <td>-0.777769</td>\n",
       "      <td>-0.777769</td>\n",
       "      <td>0.0</td>\n",
       "    </tr>\n",
       "    <tr>\n",
       "      <th>18</th>\n",
       "      <td>0.008317</td>\n",
       "      <td>0.0</td>\n",
       "      <td>0.001817</td>\n",
       "      <td>0.0</td>\n",
       "      <td>10</td>\n",
       "      <td>l2</td>\n",
       "      <td>None</td>\n",
       "      <td>{'model__C': 10.0, 'model__penalty': 'l2', 'sc...</td>\n",
       "      <td>0.134164</td>\n",
       "      <td>0.134164</td>\n",
       "      <td>0.0</td>\n",
       "      <td>1</td>\n",
       "      <td>-0.777769</td>\n",
       "      <td>-0.777769</td>\n",
       "      <td>0.0</td>\n",
       "    </tr>\n",
       "    <tr>\n",
       "      <th>6</th>\n",
       "      <td>0.008672</td>\n",
       "      <td>0.0</td>\n",
       "      <td>0.001880</td>\n",
       "      <td>0.0</td>\n",
       "      <td>0.01</td>\n",
       "      <td>l2</td>\n",
       "      <td>None</td>\n",
       "      <td>{'model__C': 0.01, 'model__penalty': 'l2', 'sc...</td>\n",
       "      <td>0.134164</td>\n",
       "      <td>0.134164</td>\n",
       "      <td>0.0</td>\n",
       "      <td>1</td>\n",
       "      <td>-0.777769</td>\n",
       "      <td>-0.777769</td>\n",
       "      <td>0.0</td>\n",
       "    </tr>\n",
       "    <tr>\n",
       "      <th>14</th>\n",
       "      <td>0.008605</td>\n",
       "      <td>0.0</td>\n",
       "      <td>0.001826</td>\n",
       "      <td>0.0</td>\n",
       "      <td>1</td>\n",
       "      <td>l2</td>\n",
       "      <td>None</td>\n",
       "      <td>{'model__C': 1.0, 'model__penalty': 'l2', 'sca...</td>\n",
       "      <td>0.134164</td>\n",
       "      <td>0.134164</td>\n",
       "      <td>0.0</td>\n",
       "      <td>1</td>\n",
       "      <td>-0.777769</td>\n",
       "      <td>-0.777769</td>\n",
       "      <td>0.0</td>\n",
       "    </tr>\n",
       "  </tbody>\n",
       "</table>\n",
       "</div>"
      ],
      "text/plain": [
       "    mean_fit_time  std_fit_time  mean_score_time  std_score_time  \\\n",
       "22       0.025998           0.0         0.045393             0.0   \n",
       "2        0.008881           0.0         0.001824             0.0   \n",
       "18       0.008317           0.0         0.001817             0.0   \n",
       "6        0.008672           0.0         0.001880             0.0   \n",
       "14       0.008605           0.0         0.001826             0.0   \n",
       "\n",
       "   param_model__C param_model__penalty param_scaler  \\\n",
       "22            100                   l2         None   \n",
       "2           0.001                   l2         None   \n",
       "18             10                   l2         None   \n",
       "6            0.01                   l2         None   \n",
       "14              1                   l2         None   \n",
       "\n",
       "                                               params  split0_test_score  \\\n",
       "22  {'model__C': 100.0, 'model__penalty': 'l2', 's...           0.134164   \n",
       "2   {'model__C': 0.001, 'model__penalty': 'l2', 's...           0.134164   \n",
       "18  {'model__C': 10.0, 'model__penalty': 'l2', 'sc...           0.134164   \n",
       "6   {'model__C': 0.01, 'model__penalty': 'l2', 'sc...           0.134164   \n",
       "14  {'model__C': 1.0, 'model__penalty': 'l2', 'sca...           0.134164   \n",
       "\n",
       "    mean_test_score  std_test_score  rank_test_score  split0_train_score  \\\n",
       "22         0.134164             0.0                1           -0.777769   \n",
       "2          0.134164             0.0                1           -0.777769   \n",
       "18         0.134164             0.0                1           -0.777769   \n",
       "6          0.134164             0.0                1           -0.777769   \n",
       "14         0.134164             0.0                1           -0.777769   \n",
       "\n",
       "    mean_train_score  std_train_score  \n",
       "22         -0.777769              0.0  \n",
       "2          -0.777769              0.0  \n",
       "18         -0.777769              0.0  \n",
       "6          -0.777769              0.0  \n",
       "14         -0.777769              0.0  "
      ]
     },
     "execution_count": 282,
     "metadata": {},
     "output_type": "execute_result"
    }
   ],
   "source": [
    "pd.DataFrame(gs_log.cv_results_).sort_values(\"rank_test_score\").head(5)"
   ]
  },
  {
   "cell_type": "code",
   "execution_count": 283,
   "metadata": {},
   "outputs": [
    {
     "data": {
      "text/plain": [
       "GridSearchCV(cv=PredefinedSplit(test_fold=array([-1, -1, ...,  0,  0])),\n",
       "       error_score='raise-deprecating',\n",
       "       estimator=Pipeline(memory=None,\n",
       "     steps=[('scaler', StandardScaler(copy=True, with_mean=True, with_std=True)), ('model', SVC(C=1.0, cache_size=200, class_weight=None, coef0=0.0,\n",
       "  decision_function_shape='ovr', degree=3, gamma='auto_deprecated',\n",
       "  kernel='rbf', max_iter=-1, probability=False, random_state=42,\n",
       "  shrinking=True, tol=0.001, verbose=False))]),\n",
       "       fit_params=None, iid='warn', n_jobs=None,\n",
       "       param_grid=[{'model__kernel': ['rbf'], 'model__C': array([1.e-03, 1.e-02, 1.e-01, 1.e+00, 1.e+01, 1.e+02, 1.e+03]), 'model__gamma': array([1.e-03, 1.e-02, 1.e-01, 1.e+00, 1.e+01, 1.e+02, 1.e+03])}, {'model__kernel': ['poly'], 'model__C': array([1.e-03, 1.e-02, 1.e-01, 1.e+00, 1.e+01, 1.e+02, 1.e+03]), 'model__degree': range(1, 5)}],\n",
       "       pre_dispatch='2*n_jobs', refit=True, return_train_score='warn',\n",
       "       scoring=make_scorer(roi), verbose=0)"
      ]
     },
     "execution_count": 283,
     "metadata": {},
     "output_type": "execute_result"
    }
   ],
   "source": [
    "gs_svc = GridSearchCV(svc_pipeline, svc_grid, scoring=roi_scorer, cv=split)\n",
    "gs_svc.fit(x_for_grid_search, y_for_grid_search)"
   ]
  },
  {
   "cell_type": "code",
   "execution_count": 284,
   "metadata": {},
   "outputs": [
    {
     "name": "stderr",
     "output_type": "stream",
     "text": [
      "/anaconda3/lib/python3.7/site-packages/sklearn/utils/deprecation.py:125: FutureWarning: You are accessing a training score ('split0_train_score'), which will not be available by default any more in 0.21. If you need training scores, please set return_train_score=True\n",
      "  warnings.warn(*warn_args, **warn_kwargs)\n",
      "/anaconda3/lib/python3.7/site-packages/sklearn/utils/deprecation.py:125: FutureWarning: You are accessing a training score ('mean_train_score'), which will not be available by default any more in 0.21. If you need training scores, please set return_train_score=True\n",
      "  warnings.warn(*warn_args, **warn_kwargs)\n",
      "/anaconda3/lib/python3.7/site-packages/sklearn/utils/deprecation.py:125: FutureWarning: You are accessing a training score ('std_train_score'), which will not be available by default any more in 0.21. If you need training scores, please set return_train_score=True\n",
      "  warnings.warn(*warn_args, **warn_kwargs)\n"
     ]
    },
    {
     "data": {
      "text/html": [
       "<div>\n",
       "<style scoped>\n",
       "    .dataframe tbody tr th:only-of-type {\n",
       "        vertical-align: middle;\n",
       "    }\n",
       "\n",
       "    .dataframe tbody tr th {\n",
       "        vertical-align: top;\n",
       "    }\n",
       "\n",
       "    .dataframe thead th {\n",
       "        text-align: right;\n",
       "    }\n",
       "</style>\n",
       "<table border=\"1\" class=\"dataframe\">\n",
       "  <thead>\n",
       "    <tr style=\"text-align: right;\">\n",
       "      <th></th>\n",
       "      <th>mean_fit_time</th>\n",
       "      <th>std_fit_time</th>\n",
       "      <th>mean_score_time</th>\n",
       "      <th>std_score_time</th>\n",
       "      <th>param_model__C</th>\n",
       "      <th>param_model__gamma</th>\n",
       "      <th>param_model__kernel</th>\n",
       "      <th>param_model__degree</th>\n",
       "      <th>params</th>\n",
       "      <th>split0_test_score</th>\n",
       "      <th>mean_test_score</th>\n",
       "      <th>std_test_score</th>\n",
       "      <th>rank_test_score</th>\n",
       "      <th>split0_train_score</th>\n",
       "      <th>mean_train_score</th>\n",
       "      <th>std_train_score</th>\n",
       "    </tr>\n",
       "  </thead>\n",
       "  <tbody>\n",
       "    <tr>\n",
       "      <th>31</th>\n",
       "      <td>0.739711</td>\n",
       "      <td>0.0</td>\n",
       "      <td>0.100864</td>\n",
       "      <td>0.0</td>\n",
       "      <td>10</td>\n",
       "      <td>1</td>\n",
       "      <td>rbf</td>\n",
       "      <td>NaN</td>\n",
       "      <td>{'model__C': 10.0, 'model__gamma': 1.0, 'model...</td>\n",
       "      <td>0.214373</td>\n",
       "      <td>0.214373</td>\n",
       "      <td>0.0</td>\n",
       "      <td>1</td>\n",
       "      <td>12.751390</td>\n",
       "      <td>12.751390</td>\n",
       "      <td>0.0</td>\n",
       "    </tr>\n",
       "    <tr>\n",
       "      <th>24</th>\n",
       "      <td>0.522822</td>\n",
       "      <td>0.0</td>\n",
       "      <td>0.105384</td>\n",
       "      <td>0.0</td>\n",
       "      <td>1</td>\n",
       "      <td>1</td>\n",
       "      <td>rbf</td>\n",
       "      <td>NaN</td>\n",
       "      <td>{'model__C': 1.0, 'model__gamma': 1.0, 'model_...</td>\n",
       "      <td>0.209947</td>\n",
       "      <td>0.209947</td>\n",
       "      <td>0.0</td>\n",
       "      <td>2</td>\n",
       "      <td>11.401808</td>\n",
       "      <td>11.401808</td>\n",
       "      <td>0.0</td>\n",
       "    </tr>\n",
       "    <tr>\n",
       "      <th>59</th>\n",
       "      <td>0.391465</td>\n",
       "      <td>0.0</td>\n",
       "      <td>0.071649</td>\n",
       "      <td>0.0</td>\n",
       "      <td>0.1</td>\n",
       "      <td>NaN</td>\n",
       "      <td>poly</td>\n",
       "      <td>3</td>\n",
       "      <td>{'model__C': 0.1, 'model__degree': 3, 'model__...</td>\n",
       "      <td>0.209407</td>\n",
       "      <td>0.209407</td>\n",
       "      <td>0.0</td>\n",
       "      <td>3</td>\n",
       "      <td>0.502120</td>\n",
       "      <td>0.502120</td>\n",
       "      <td>0.0</td>\n",
       "    </tr>\n",
       "    <tr>\n",
       "      <th>45</th>\n",
       "      <td>0.943193</td>\n",
       "      <td>0.0</td>\n",
       "      <td>0.098068</td>\n",
       "      <td>0.0</td>\n",
       "      <td>1000</td>\n",
       "      <td>1</td>\n",
       "      <td>rbf</td>\n",
       "      <td>NaN</td>\n",
       "      <td>{'model__C': 1000.0, 'model__gamma': 1.0, 'mod...</td>\n",
       "      <td>0.173549</td>\n",
       "      <td>0.173549</td>\n",
       "      <td>0.0</td>\n",
       "      <td>4</td>\n",
       "      <td>12.977695</td>\n",
       "      <td>12.977695</td>\n",
       "      <td>0.0</td>\n",
       "    </tr>\n",
       "    <tr>\n",
       "      <th>38</th>\n",
       "      <td>0.896102</td>\n",
       "      <td>0.0</td>\n",
       "      <td>0.096760</td>\n",
       "      <td>0.0</td>\n",
       "      <td>100</td>\n",
       "      <td>1</td>\n",
       "      <td>rbf</td>\n",
       "      <td>NaN</td>\n",
       "      <td>{'model__C': 100.0, 'model__gamma': 1.0, 'mode...</td>\n",
       "      <td>0.160720</td>\n",
       "      <td>0.160720</td>\n",
       "      <td>0.0</td>\n",
       "      <td>5</td>\n",
       "      <td>12.977695</td>\n",
       "      <td>12.977695</td>\n",
       "      <td>0.0</td>\n",
       "    </tr>\n",
       "  </tbody>\n",
       "</table>\n",
       "</div>"
      ],
      "text/plain": [
       "    mean_fit_time  std_fit_time  mean_score_time  std_score_time  \\\n",
       "31       0.739711           0.0         0.100864             0.0   \n",
       "24       0.522822           0.0         0.105384             0.0   \n",
       "59       0.391465           0.0         0.071649             0.0   \n",
       "45       0.943193           0.0         0.098068             0.0   \n",
       "38       0.896102           0.0         0.096760             0.0   \n",
       "\n",
       "   param_model__C param_model__gamma param_model__kernel param_model__degree  \\\n",
       "31             10                  1                 rbf                 NaN   \n",
       "24              1                  1                 rbf                 NaN   \n",
       "59            0.1                NaN                poly                   3   \n",
       "45           1000                  1                 rbf                 NaN   \n",
       "38            100                  1                 rbf                 NaN   \n",
       "\n",
       "                                               params  split0_test_score  \\\n",
       "31  {'model__C': 10.0, 'model__gamma': 1.0, 'model...           0.214373   \n",
       "24  {'model__C': 1.0, 'model__gamma': 1.0, 'model_...           0.209947   \n",
       "59  {'model__C': 0.1, 'model__degree': 3, 'model__...           0.209407   \n",
       "45  {'model__C': 1000.0, 'model__gamma': 1.0, 'mod...           0.173549   \n",
       "38  {'model__C': 100.0, 'model__gamma': 1.0, 'mode...           0.160720   \n",
       "\n",
       "    mean_test_score  std_test_score  rank_test_score  split0_train_score  \\\n",
       "31         0.214373             0.0                1           12.751390   \n",
       "24         0.209947             0.0                2           11.401808   \n",
       "59         0.209407             0.0                3            0.502120   \n",
       "45         0.173549             0.0                4           12.977695   \n",
       "38         0.160720             0.0                5           12.977695   \n",
       "\n",
       "    mean_train_score  std_train_score  \n",
       "31         12.751390              0.0  \n",
       "24         11.401808              0.0  \n",
       "59          0.502120              0.0  \n",
       "45         12.977695              0.0  \n",
       "38         12.977695              0.0  "
      ]
     },
     "execution_count": 284,
     "metadata": {},
     "output_type": "execute_result"
    }
   ],
   "source": [
    "pd.DataFrame(gs_svc.cv_results_).sort_values(\"rank_test_score\").head(5)"
   ]
  },
  {
   "cell_type": "markdown",
   "metadata": {},
   "source": [
    "- Testiamo anche un modello di classificazione basato sulle __RandomForest__.\n",
    "- Sono un tipo di algoritmo basato su __ensemble learning__ in cui vengono combinati diversi algoritmi per ottenere un modello di predizione migliore. Combina una serie di alberi decisionali, creando una foresta, ed in questo caso è utilizzato come classificatore.\n",
    "- Questo algoritmo estrapola N record casuali dal DataSet per creare un albero decisionale, basato su questi N record. Questo procedimento viene ripetuto N volte. \n",
    "- L'iperparametro __n_estimators__ di cui effettuiamo il __tuning__ nella __Grid Search__ è il numero di alberi che formano la foresta."
   ]
  },
  {
   "cell_type": "code",
   "execution_count": 285,
   "metadata": {},
   "outputs": [],
   "source": [
    "from sklearn.ensemble import RandomForestClassifier\n",
    "rf_pipeline = Pipeline([\n",
    "    (\"scaler\", StandardScaler()),\n",
    "    (\"model\",  RandomForestClassifier(random_state=42))\n",
    "])\n",
    "\n",
    "rf_grid = {\n",
    "    \"model__n_estimators\": range(20, 100)\n",
    "}"
   ]
  },
  {
   "cell_type": "code",
   "execution_count": 286,
   "metadata": {},
   "outputs": [
    {
     "data": {
      "text/plain": [
       "GridSearchCV(cv=PredefinedSplit(test_fold=array([-1, -1, ...,  0,  0])),\n",
       "       error_score='raise-deprecating',\n",
       "       estimator=Pipeline(memory=None,\n",
       "     steps=[('scaler', StandardScaler(copy=True, with_mean=True, with_std=True)), ('model', RandomForestClassifier(bootstrap=True, class_weight=None, criterion='gini',\n",
       "            max_depth=None, max_features='auto', max_leaf_nodes=None,\n",
       "            min_impurity_decrease=0.0, min_impurity_split=None,\n",
       "   ...rs='warn', n_jobs=None,\n",
       "            oob_score=False, random_state=42, verbose=0, warm_start=False))]),\n",
       "       fit_params=None, iid='warn', n_jobs=None,\n",
       "       param_grid={'model__n_estimators': range(20, 100)},\n",
       "       pre_dispatch='2*n_jobs', refit=True, return_train_score='warn',\n",
       "       scoring=make_scorer(roi), verbose=0)"
      ]
     },
     "execution_count": 286,
     "metadata": {},
     "output_type": "execute_result"
    }
   ],
   "source": [
    "gs_rf = GridSearchCV(rf_pipeline, rf_grid, scoring=roi_scorer, cv=split)\n",
    "gs_rf.fit(x_for_grid_search, y_for_grid_search)"
   ]
  },
  {
   "cell_type": "code",
   "execution_count": 287,
   "metadata": {},
   "outputs": [
    {
     "name": "stderr",
     "output_type": "stream",
     "text": [
      "/anaconda3/lib/python3.7/site-packages/sklearn/utils/deprecation.py:125: FutureWarning: You are accessing a training score ('split0_train_score'), which will not be available by default any more in 0.21. If you need training scores, please set return_train_score=True\n",
      "  warnings.warn(*warn_args, **warn_kwargs)\n",
      "/anaconda3/lib/python3.7/site-packages/sklearn/utils/deprecation.py:125: FutureWarning: You are accessing a training score ('mean_train_score'), which will not be available by default any more in 0.21. If you need training scores, please set return_train_score=True\n",
      "  warnings.warn(*warn_args, **warn_kwargs)\n",
      "/anaconda3/lib/python3.7/site-packages/sklearn/utils/deprecation.py:125: FutureWarning: You are accessing a training score ('std_train_score'), which will not be available by default any more in 0.21. If you need training scores, please set return_train_score=True\n",
      "  warnings.warn(*warn_args, **warn_kwargs)\n"
     ]
    },
    {
     "data": {
      "text/html": [
       "<div>\n",
       "<style scoped>\n",
       "    .dataframe tbody tr th:only-of-type {\n",
       "        vertical-align: middle;\n",
       "    }\n",
       "\n",
       "    .dataframe tbody tr th {\n",
       "        vertical-align: top;\n",
       "    }\n",
       "\n",
       "    .dataframe thead th {\n",
       "        text-align: right;\n",
       "    }\n",
       "</style>\n",
       "<table border=\"1\" class=\"dataframe\">\n",
       "  <thead>\n",
       "    <tr style=\"text-align: right;\">\n",
       "      <th></th>\n",
       "      <th>mean_fit_time</th>\n",
       "      <th>std_fit_time</th>\n",
       "      <th>mean_score_time</th>\n",
       "      <th>std_score_time</th>\n",
       "      <th>param_model__n_estimators</th>\n",
       "      <th>params</th>\n",
       "      <th>split0_test_score</th>\n",
       "      <th>mean_test_score</th>\n",
       "      <th>std_test_score</th>\n",
       "      <th>rank_test_score</th>\n",
       "      <th>split0_train_score</th>\n",
       "      <th>mean_train_score</th>\n",
       "      <th>std_train_score</th>\n",
       "    </tr>\n",
       "  </thead>\n",
       "  <tbody>\n",
       "    <tr>\n",
       "      <th>2</th>\n",
       "      <td>0.341545</td>\n",
       "      <td>0.0</td>\n",
       "      <td>0.006117</td>\n",
       "      <td>0.0</td>\n",
       "      <td>22</td>\n",
       "      <td>{'model__n_estimators': 22}</td>\n",
       "      <td>0.111711</td>\n",
       "      <td>0.111711</td>\n",
       "      <td>0.0</td>\n",
       "      <td>1</td>\n",
       "      <td>12.962964</td>\n",
       "      <td>12.962964</td>\n",
       "      <td>0.0</td>\n",
       "    </tr>\n",
       "    <tr>\n",
       "      <th>0</th>\n",
       "      <td>0.314360</td>\n",
       "      <td>0.0</td>\n",
       "      <td>0.006808</td>\n",
       "      <td>0.0</td>\n",
       "      <td>20</td>\n",
       "      <td>{'model__n_estimators': 20}</td>\n",
       "      <td>0.095772</td>\n",
       "      <td>0.095772</td>\n",
       "      <td>0.0</td>\n",
       "      <td>2</td>\n",
       "      <td>12.952210</td>\n",
       "      <td>12.952210</td>\n",
       "      <td>0.0</td>\n",
       "    </tr>\n",
       "    <tr>\n",
       "      <th>1</th>\n",
       "      <td>0.320196</td>\n",
       "      <td>0.0</td>\n",
       "      <td>0.010047</td>\n",
       "      <td>0.0</td>\n",
       "      <td>21</td>\n",
       "      <td>{'model__n_estimators': 21}</td>\n",
       "      <td>0.089112</td>\n",
       "      <td>0.089112</td>\n",
       "      <td>0.0</td>\n",
       "      <td>3</td>\n",
       "      <td>12.956883</td>\n",
       "      <td>12.956883</td>\n",
       "      <td>0.0</td>\n",
       "    </tr>\n",
       "    <tr>\n",
       "      <th>47</th>\n",
       "      <td>0.981425</td>\n",
       "      <td>0.0</td>\n",
       "      <td>0.013366</td>\n",
       "      <td>0.0</td>\n",
       "      <td>67</td>\n",
       "      <td>{'model__n_estimators': 67}</td>\n",
       "      <td>0.078785</td>\n",
       "      <td>0.078785</td>\n",
       "      <td>0.0</td>\n",
       "      <td>4</td>\n",
       "      <td>12.977695</td>\n",
       "      <td>12.977695</td>\n",
       "      <td>0.0</td>\n",
       "    </tr>\n",
       "    <tr>\n",
       "      <th>3</th>\n",
       "      <td>0.350084</td>\n",
       "      <td>0.0</td>\n",
       "      <td>0.006324</td>\n",
       "      <td>0.0</td>\n",
       "      <td>23</td>\n",
       "      <td>{'model__n_estimators': 23}</td>\n",
       "      <td>0.071356</td>\n",
       "      <td>0.071356</td>\n",
       "      <td>0.0</td>\n",
       "      <td>5</td>\n",
       "      <td>12.975545</td>\n",
       "      <td>12.975545</td>\n",
       "      <td>0.0</td>\n",
       "    </tr>\n",
       "  </tbody>\n",
       "</table>\n",
       "</div>"
      ],
      "text/plain": [
       "    mean_fit_time  std_fit_time  mean_score_time  std_score_time  \\\n",
       "2        0.341545           0.0         0.006117             0.0   \n",
       "0        0.314360           0.0         0.006808             0.0   \n",
       "1        0.320196           0.0         0.010047             0.0   \n",
       "47       0.981425           0.0         0.013366             0.0   \n",
       "3        0.350084           0.0         0.006324             0.0   \n",
       "\n",
       "   param_model__n_estimators                       params  split0_test_score  \\\n",
       "2                         22  {'model__n_estimators': 22}           0.111711   \n",
       "0                         20  {'model__n_estimators': 20}           0.095772   \n",
       "1                         21  {'model__n_estimators': 21}           0.089112   \n",
       "47                        67  {'model__n_estimators': 67}           0.078785   \n",
       "3                         23  {'model__n_estimators': 23}           0.071356   \n",
       "\n",
       "    mean_test_score  std_test_score  rank_test_score  split0_train_score  \\\n",
       "2          0.111711             0.0                1           12.962964   \n",
       "0          0.095772             0.0                2           12.952210   \n",
       "1          0.089112             0.0                3           12.956883   \n",
       "47         0.078785             0.0                4           12.977695   \n",
       "3          0.071356             0.0                5           12.975545   \n",
       "\n",
       "    mean_train_score  std_train_score  \n",
       "2          12.962964              0.0  \n",
       "0          12.952210              0.0  \n",
       "1          12.956883              0.0  \n",
       "47         12.977695              0.0  \n",
       "3          12.975545              0.0  "
      ]
     },
     "execution_count": 287,
     "metadata": {},
     "output_type": "execute_result"
    }
   ],
   "source": [
    "pd.DataFrame(gs_rf.cv_results_).sort_values(\"rank_test_score\").head(5)"
   ]
  },
  {
   "cell_type": "markdown",
   "metadata": {},
   "source": [
    "- Testiamo anche un modello di classificazione basato sul __Gradient Boosting__. \n",
    "- È un modello che si basa su algoritmi che addestrano alberi decisionali. Ogni osservazione viene pesata in maniera equivalente alla creazione del primo albero. Successivamente si va ad incrementare il peso associato alle osservazioni di difficile classificazione, e viceversa a diminuire quello delle osservazione di facile classificazione. Viene costruito quindi un secondo albero su questi nuovi dati pesati. Una volta fatta questa operazione viene calcolato l'errore di classificazione compiuto dall'unione di questi due alberi, per costruirne un terzo. Questo procedimento viene eseguito iterativamente per decrementare ogni volta l'errore residuo.\n",
    "\n",
    "- L'iperparametro __n_estimators__ di cui effettuiamo il __tuning__ nella __Grid Search__ rappresenta il numero di iterazioni (__boosting stages__) da eseguire.\n",
    "- Il modello è poco soggetto ad __Overfitting__."
   ]
  },
  {
   "cell_type": "code",
   "execution_count": 288,
   "metadata": {},
   "outputs": [],
   "source": [
    "from sklearn.ensemble import GradientBoostingClassifier\n",
    "gb_pipeline = Pipeline([\n",
    "    (\"scaler\", StandardScaler()),\n",
    "    (\"model\",  GradientBoostingClassifier(random_state=42))\n",
    "])\n",
    "\n",
    "gb_grid = {\n",
    "    \"model__n_estimators\": range(20, 100)\n",
    "}"
   ]
  },
  {
   "cell_type": "code",
   "execution_count": 289,
   "metadata": {},
   "outputs": [
    {
     "data": {
      "text/plain": [
       "GridSearchCV(cv=PredefinedSplit(test_fold=array([-1, -1, ...,  0,  0])),\n",
       "       error_score='raise-deprecating',\n",
       "       estimator=Pipeline(memory=None,\n",
       "     steps=[('scaler', StandardScaler(copy=True, with_mean=True, with_std=True)), ('model', GradientBoostingClassifier(criterion='friedman_mse', init=None,\n",
       "              learning_rate=0.1, loss='deviance', max_depth=3,\n",
       "              max_features=None, max_leaf_nodes=None,\n",
       "              min_impurity_decre...    subsample=1.0, tol=0.0001, validation_fraction=0.1,\n",
       "              verbose=0, warm_start=False))]),\n",
       "       fit_params=None, iid='warn', n_jobs=None,\n",
       "       param_grid={'model__n_estimators': range(20, 100)},\n",
       "       pre_dispatch='2*n_jobs', refit=True, return_train_score='warn',\n",
       "       scoring=make_scorer(roi), verbose=0)"
      ]
     },
     "execution_count": 289,
     "metadata": {},
     "output_type": "execute_result"
    }
   ],
   "source": [
    "gs_gb = GridSearchCV(gb_pipeline, gb_grid, scoring=roi_scorer, cv=split)\n",
    "gs_gb.fit(x_for_grid_search, y_for_grid_search)"
   ]
  },
  {
   "cell_type": "code",
   "execution_count": 290,
   "metadata": {},
   "outputs": [
    {
     "name": "stderr",
     "output_type": "stream",
     "text": [
      "/anaconda3/lib/python3.7/site-packages/sklearn/utils/deprecation.py:125: FutureWarning: You are accessing a training score ('split0_train_score'), which will not be available by default any more in 0.21. If you need training scores, please set return_train_score=True\n",
      "  warnings.warn(*warn_args, **warn_kwargs)\n",
      "/anaconda3/lib/python3.7/site-packages/sklearn/utils/deprecation.py:125: FutureWarning: You are accessing a training score ('mean_train_score'), which will not be available by default any more in 0.21. If you need training scores, please set return_train_score=True\n",
      "  warnings.warn(*warn_args, **warn_kwargs)\n",
      "/anaconda3/lib/python3.7/site-packages/sklearn/utils/deprecation.py:125: FutureWarning: You are accessing a training score ('std_train_score'), which will not be available by default any more in 0.21. If you need training scores, please set return_train_score=True\n",
      "  warnings.warn(*warn_args, **warn_kwargs)\n"
     ]
    },
    {
     "data": {
      "text/html": [
       "<div>\n",
       "<style scoped>\n",
       "    .dataframe tbody tr th:only-of-type {\n",
       "        vertical-align: middle;\n",
       "    }\n",
       "\n",
       "    .dataframe tbody tr th {\n",
       "        vertical-align: top;\n",
       "    }\n",
       "\n",
       "    .dataframe thead th {\n",
       "        text-align: right;\n",
       "    }\n",
       "</style>\n",
       "<table border=\"1\" class=\"dataframe\">\n",
       "  <thead>\n",
       "    <tr style=\"text-align: right;\">\n",
       "      <th></th>\n",
       "      <th>mean_fit_time</th>\n",
       "      <th>std_fit_time</th>\n",
       "      <th>mean_score_time</th>\n",
       "      <th>std_score_time</th>\n",
       "      <th>param_model__n_estimators</th>\n",
       "      <th>params</th>\n",
       "      <th>split0_test_score</th>\n",
       "      <th>mean_test_score</th>\n",
       "      <th>std_test_score</th>\n",
       "      <th>rank_test_score</th>\n",
       "      <th>split0_train_score</th>\n",
       "      <th>mean_train_score</th>\n",
       "      <th>std_train_score</th>\n",
       "    </tr>\n",
       "  </thead>\n",
       "  <tbody>\n",
       "    <tr>\n",
       "      <th>60</th>\n",
       "      <td>0.520804</td>\n",
       "      <td>0.0</td>\n",
       "      <td>0.002907</td>\n",
       "      <td>0.0</td>\n",
       "      <td>80</td>\n",
       "      <td>{'model__n_estimators': 80}</td>\n",
       "      <td>0.228124</td>\n",
       "      <td>0.228124</td>\n",
       "      <td>0.0</td>\n",
       "      <td>1</td>\n",
       "      <td>5.697641</td>\n",
       "      <td>5.697641</td>\n",
       "      <td>0.0</td>\n",
       "    </tr>\n",
       "    <tr>\n",
       "      <th>35</th>\n",
       "      <td>0.358876</td>\n",
       "      <td>0.0</td>\n",
       "      <td>0.002637</td>\n",
       "      <td>0.0</td>\n",
       "      <td>55</td>\n",
       "      <td>{'model__n_estimators': 55}</td>\n",
       "      <td>0.225942</td>\n",
       "      <td>0.225942</td>\n",
       "      <td>0.0</td>\n",
       "      <td>2</td>\n",
       "      <td>4.695577</td>\n",
       "      <td>4.695577</td>\n",
       "      <td>0.0</td>\n",
       "    </tr>\n",
       "    <tr>\n",
       "      <th>33</th>\n",
       "      <td>0.344948</td>\n",
       "      <td>0.0</td>\n",
       "      <td>0.002642</td>\n",
       "      <td>0.0</td>\n",
       "      <td>53</td>\n",
       "      <td>{'model__n_estimators': 53}</td>\n",
       "      <td>0.218040</td>\n",
       "      <td>0.218040</td>\n",
       "      <td>0.0</td>\n",
       "      <td>3</td>\n",
       "      <td>4.677407</td>\n",
       "      <td>4.677407</td>\n",
       "      <td>0.0</td>\n",
       "    </tr>\n",
       "    <tr>\n",
       "      <th>34</th>\n",
       "      <td>0.354697</td>\n",
       "      <td>0.0</td>\n",
       "      <td>0.002670</td>\n",
       "      <td>0.0</td>\n",
       "      <td>54</td>\n",
       "      <td>{'model__n_estimators': 54}</td>\n",
       "      <td>0.218040</td>\n",
       "      <td>0.218040</td>\n",
       "      <td>0.0</td>\n",
       "      <td>3</td>\n",
       "      <td>4.706748</td>\n",
       "      <td>4.706748</td>\n",
       "      <td>0.0</td>\n",
       "    </tr>\n",
       "    <tr>\n",
       "      <th>62</th>\n",
       "      <td>0.540022</td>\n",
       "      <td>0.0</td>\n",
       "      <td>0.002868</td>\n",
       "      <td>0.0</td>\n",
       "      <td>82</td>\n",
       "      <td>{'model__n_estimators': 82}</td>\n",
       "      <td>0.216800</td>\n",
       "      <td>0.216800</td>\n",
       "      <td>0.0</td>\n",
       "      <td>5</td>\n",
       "      <td>5.738384</td>\n",
       "      <td>5.738384</td>\n",
       "      <td>0.0</td>\n",
       "    </tr>\n",
       "  </tbody>\n",
       "</table>\n",
       "</div>"
      ],
      "text/plain": [
       "    mean_fit_time  std_fit_time  mean_score_time  std_score_time  \\\n",
       "60       0.520804           0.0         0.002907             0.0   \n",
       "35       0.358876           0.0         0.002637             0.0   \n",
       "33       0.344948           0.0         0.002642             0.0   \n",
       "34       0.354697           0.0         0.002670             0.0   \n",
       "62       0.540022           0.0         0.002868             0.0   \n",
       "\n",
       "   param_model__n_estimators                       params  split0_test_score  \\\n",
       "60                        80  {'model__n_estimators': 80}           0.228124   \n",
       "35                        55  {'model__n_estimators': 55}           0.225942   \n",
       "33                        53  {'model__n_estimators': 53}           0.218040   \n",
       "34                        54  {'model__n_estimators': 54}           0.218040   \n",
       "62                        82  {'model__n_estimators': 82}           0.216800   \n",
       "\n",
       "    mean_test_score  std_test_score  rank_test_score  split0_train_score  \\\n",
       "60         0.228124             0.0                1            5.697641   \n",
       "35         0.225942             0.0                2            4.695577   \n",
       "33         0.218040             0.0                3            4.677407   \n",
       "34         0.218040             0.0                3            4.706748   \n",
       "62         0.216800             0.0                5            5.738384   \n",
       "\n",
       "    mean_train_score  std_train_score  \n",
       "60          5.697641              0.0  \n",
       "35          4.695577              0.0  \n",
       "33          4.677407              0.0  \n",
       "34          4.706748              0.0  \n",
       "62          5.738384              0.0  "
      ]
     },
     "execution_count": 290,
     "metadata": {},
     "output_type": "execute_result"
    }
   ],
   "source": [
    "pd.DataFrame(gs_gb.cv_results_).sort_values(\"rank_test_score\").head(5)"
   ]
  },
  {
   "cell_type": "markdown",
   "metadata": {},
   "source": [
    "- Il numero di iterazioni ottenuto dalla __grid search__ risulta abbastanza alto in quanto, essendo il modello scarsamemte soggetto ad __Overfitting__, solitamente un numero maggiore di iterazioni comporta un miglioramento delle prestazioni."
   ]
  },
  {
   "cell_type": "markdown",
   "metadata": {},
   "source": [
    "## Modello Randomico\n",
    "\n",
    "- Il __ROI__ migliore che abbiamo ottenuto dai nostri modelli è __22.8%__, ora lo andiamo a confrontare con modelli randomici."
   ]
  },
  {
   "cell_type": "markdown",
   "metadata": {},
   "source": [
    "- Per prima cosa testiamo un modello che predice __Up__ e __Down__ casualmente."
   ]
  },
  {
   "cell_type": "code",
   "execution_count": 291,
   "metadata": {
    "scrolled": true
   },
   "outputs": [
    {
     "data": {
      "text/plain": [
       "-0.0018306957191325972"
      ]
     },
     "execution_count": 291,
     "metadata": {},
     "output_type": "execute_result"
    }
   ],
   "source": [
    "random_preds = np.random.choice([\"Up\", \"Down\"], len(y_val))\n",
    "np.mean([roi(y_val, preds) for preds in random_preds])"
   ]
  },
  {
   "cell_type": "markdown",
   "metadata": {},
   "source": [
    "- Come si può notare il ROI ottenuto da un modello di predizione casuale è molto basso o addirittura negativo "
   ]
  },
  {
   "cell_type": "markdown",
   "metadata": {},
   "source": [
    "- Ora testiamo un modello che predice tutti __Up__"
   ]
  },
  {
   "cell_type": "code",
   "execution_count": 292,
   "metadata": {},
   "outputs": [
    {
     "data": {
      "text/plain": [
       "0.1341638434164318"
      ]
     },
     "execution_count": 292,
     "metadata": {},
     "output_type": "execute_result"
    }
   ],
   "source": [
    "roi(y_val, np.repeat(\"Up\", len(y_val)))"
   ]
  },
  {
   "cell_type": "markdown",
   "metadata": {},
   "source": [
    "- In questo caso il __ROI__ è più alto, questo può essere dovuto al fatto che la distribuzione delle etichette Up e Down nel validation set pende a favore di quelle Up. "
   ]
  },
  {
   "cell_type": "code",
   "execution_count": 293,
   "metadata": {},
   "outputs": [
    {
     "data": {
      "text/plain": [
       "<matplotlib.axes._subplots.AxesSubplot at 0x1a1fbcc6a0>"
      ]
     },
     "execution_count": 293,
     "metadata": {},
     "output_type": "execute_result"
    },
    {
     "data": {
      "image/png": "[encoded data removed]",
      "text/plain": [
       "<Figure size 432x288 with 1 Axes>"
      ]
     },
     "metadata": {},
     "output_type": "display_data"
    }
   ],
   "source": [
    "y_val.value_counts().plot.pie()"
   ]
  },
  {
   "cell_type": "markdown",
   "metadata": {},
   "source": [
    "- Il nostro modello continua ad essere superiore di circa 10 punti percentuali."
   ]
  },
  {
   "cell_type": "markdown",
   "metadata": {},
   "source": [
    "## Valutazione modell di Classificazione\n",
    "\n",
    "- La valutazione dei modelli di classificazione la possiamo effettare sul __Test Set__ che abbiamo separato dai dati di analisi inizialmente.\n",
    "\n",
    "- Per la valutazione dei modelli di classificazione possiamo utilizzare la __matrice di confusione__, ovvero una matrice che permette di valutare l'effettiva accuratezza delle decisioni prese dal modello. \n",
    "\n",
    "- In questa matrice abbiamo sulla diagonale tutte le istanze classificate correttamente, mentre nelle altre celle quelle classificate in maniera errata.\n",
    "\n",
    "- Otteniamo la matrice dal modello con ROI maggiore ottenuto con la __Grid Search__."
   ]
  },
  {
   "cell_type": "code",
   "execution_count": 294,
   "metadata": {},
   "outputs": [],
   "source": [
    "from sklearn.metrics import confusion_matrix\n",
    "y_pred_svc = gs_svc.best_estimator_.predict(x_test)\n",
    "cm = confusion_matrix(y_test, y_pred_svc)"
   ]
  },
  {
   "cell_type": "code",
   "execution_count": 295,
   "metadata": {},
   "outputs": [
    {
     "data": {
      "text/html": [
       "<div>\n",
       "<style scoped>\n",
       "    .dataframe tbody tr th:only-of-type {\n",
       "        vertical-align: middle;\n",
       "    }\n",
       "\n",
       "    .dataframe tbody tr th {\n",
       "        vertical-align: top;\n",
       "    }\n",
       "\n",
       "    .dataframe thead th {\n",
       "        text-align: right;\n",
       "    }\n",
       "</style>\n",
       "<table border=\"1\" class=\"dataframe\">\n",
       "  <thead>\n",
       "    <tr style=\"text-align: right;\">\n",
       "      <th></th>\n",
       "      <th>Up</th>\n",
       "      <th>Down</th>\n",
       "    </tr>\n",
       "  </thead>\n",
       "  <tbody>\n",
       "    <tr>\n",
       "      <th>Up</th>\n",
       "      <td>112</td>\n",
       "      <td>349</td>\n",
       "    </tr>\n",
       "    <tr>\n",
       "      <th>Down</th>\n",
       "      <td>139</td>\n",
       "      <td>425</td>\n",
       "    </tr>\n",
       "  </tbody>\n",
       "</table>\n",
       "</div>"
      ],
      "text/plain": [
       "       Up  Down\n",
       "Up    112   349\n",
       "Down  139   425"
      ]
     },
     "execution_count": 295,
     "metadata": {},
     "output_type": "execute_result"
    }
   ],
   "source": [
    "classes = [\"Up\", \"Down\"]\n",
    "pd.DataFrame(cm, index=classes, columns=classes)"
   ]
  },
  {
   "cell_type": "code",
   "execution_count": 296,
   "metadata": {},
   "outputs": [
    {
     "data": {
      "text/plain": [
       "0.5239024390243903"
      ]
     },
     "execution_count": 296,
     "metadata": {},
     "output_type": "execute_result"
    }
   ],
   "source": [
    "cm.diagonal().sum() / cm.sum()"
   ]
  },
  {
   "cell_type": "markdown",
   "metadata": {},
   "source": [
    "- Da questa matrice possiamo calcolare le metriche principali, come __l'accuratezza__ (metrica di default dei modelli di classificazione), __precision__ (percentuale di esempi classificati come X che sono realmente tali) e __recall__ (percentuale di esempi realmente di classe X che sono stati rilevati essere tali dal modello).\n",
    "\n",
    "- Valutare due modelli utilizzando più metriche può risultare complesso, per questo si può utilizzare un'unica metrica che riassume le due, la __F1 measure__."
   ]
  },
  {
   "cell_type": "code",
   "execution_count": 297,
   "metadata": {},
   "outputs": [
    {
     "data": {
      "text/plain": [
       "0.47494163685527624"
      ]
     },
     "execution_count": 297,
     "metadata": {},
     "output_type": "execute_result"
    }
   ],
   "source": [
    "f1_score(y_test, y_pred_svc, average=\"macro\")"
   ]
  },
  {
   "cell_type": "markdown",
   "metadata": {},
   "source": [
    "- Possiamo effettuare le stesse considerazioni anche sugli altri modelli, come ad esempio __RandomForest o GradientBoosting__."
   ]
  },
  {
   "cell_type": "code",
   "execution_count": 298,
   "metadata": {},
   "outputs": [],
   "source": [
    "y_pred_rfr = gs_rf.best_estimator_.predict(x_test)\n",
    "cm_rf = confusion_matrix(y_test, y_pred_rfr)"
   ]
  },
  {
   "cell_type": "code",
   "execution_count": 299,
   "metadata": {},
   "outputs": [
    {
     "data": {
      "text/html": [
       "<div>\n",
       "<style scoped>\n",
       "    .dataframe tbody tr th:only-of-type {\n",
       "        vertical-align: middle;\n",
       "    }\n",
       "\n",
       "    .dataframe tbody tr th {\n",
       "        vertical-align: top;\n",
       "    }\n",
       "\n",
       "    .dataframe thead th {\n",
       "        text-align: right;\n",
       "    }\n",
       "</style>\n",
       "<table border=\"1\" class=\"dataframe\">\n",
       "  <thead>\n",
       "    <tr style=\"text-align: right;\">\n",
       "      <th></th>\n",
       "      <th>Up</th>\n",
       "      <th>Down</th>\n",
       "    </tr>\n",
       "  </thead>\n",
       "  <tbody>\n",
       "    <tr>\n",
       "      <th>Up</th>\n",
       "      <td>406</td>\n",
       "      <td>55</td>\n",
       "    </tr>\n",
       "    <tr>\n",
       "      <th>Down</th>\n",
       "      <td>504</td>\n",
       "      <td>60</td>\n",
       "    </tr>\n",
       "  </tbody>\n",
       "</table>\n",
       "</div>"
      ],
      "text/plain": [
       "       Up  Down\n",
       "Up    406    55\n",
       "Down  504    60"
      ]
     },
     "execution_count": 299,
     "metadata": {},
     "output_type": "execute_result"
    }
   ],
   "source": [
    "classes = [\"Up\", \"Down\"]\n",
    "pd.DataFrame(cm_rf, index=classes, columns=classes)"
   ]
  },
  {
   "cell_type": "code",
   "execution_count": 300,
   "metadata": {},
   "outputs": [
    {
     "data": {
      "text/plain": [
       "0.45463414634146343"
      ]
     },
     "execution_count": 300,
     "metadata": {},
     "output_type": "execute_result"
    }
   ],
   "source": [
    "cm_rf.diagonal().sum() / cm_rf.sum()"
   ]
  },
  {
   "cell_type": "markdown",
   "metadata": {},
   "source": [
    "## Ensembling\n",
    "\n",
    "- __L'Apprendimento ensemble (apprendimento d'insieme)__ in statistica e apprendimento automatico sono una serie di metodi d'insieme che usano modelli multipli per ottenere una miglior prestazione predittiva rispetto ai modelli da cui è costituito.\n",
    "\n",
    "- Il nostro obiettivo non è quello di individuare il solo modello che massimizza il ROI, ma di ottenerne i tre migliori per poter eseguire l'apprendimento __ensemble__.\n",
    "\n",
    "- Possiamo combinare i tre modelli migliori per farli lavorare insieme e ottenere tre risposte predittive separate dando come output la predizione ottenuta dalla maggioranza.\n",
    "\n",
    "- I modelli che abbiamo scelto per effettuare __ensembling__ sono:\n",
    "    - __SVC__ (_Support Vector Machine for Classification_)\n",
    "    - __LR__ (_Logistic Regression_)\n",
    "    - __GB__ (_Gradient Boosting_)"
   ]
  },
  {
   "cell_type": "code",
   "execution_count": 301,
   "metadata": {},
   "outputs": [],
   "source": [
    "from sklearn.ensemble import VotingClassifier\n",
    "\n",
    "# Lista di modelli utilizzati per la classificazione.\n",
    "estimators=[('svc', gs_svc.best_estimator_), ('log', gs_log.best_estimator_), ('gb', gs_gb.best_estimator_)]\n",
    "\n",
    "# Creiamo la classe di ensambling.\n",
    "# voting='hard': indica che la \"maggioranza vince\".\n",
    "ensemble = VotingClassifier(estimators, voting='hard')"
   ]
  },
  {
   "cell_type": "code",
   "execution_count": 302,
   "metadata": {},
   "outputs": [
    {
     "name": "stderr",
     "output_type": "stream",
     "text": [
      "/anaconda3/lib/python3.7/site-packages/sklearn/linear_model/logistic.py:433: FutureWarning: Default solver will be changed to 'lbfgs' in 0.22. Specify a solver to silence this warning.\n",
      "  FutureWarning)\n"
     ]
    },
    {
     "data": {
      "text/plain": [
       "VotingClassifier(estimators=[('svc', Pipeline(memory=None,\n",
       "     steps=[('scaler', StandardScaler(copy=True, with_mean=True, with_std=True)), ('model', SVC(C=10.0, cache_size=200, class_weight=None, coef0=0.0,\n",
       "  decision_function_shape='ovr', degree=3, gamma=1.0, kernel='rbf',\n",
       "  max_iter=-1, probability=False, random... subsample=1.0, tol=0.0001, validation_fraction=0.1,\n",
       "              verbose=0, warm_start=False))]))],\n",
       "         flatten_transform=None, n_jobs=None, voting='hard', weights=None)"
      ]
     },
     "execution_count": 302,
     "metadata": {},
     "output_type": "execute_result"
    }
   ],
   "source": [
    "ensemble.fit(x_for_grid_search, y_for_grid_search)"
   ]
  },
  {
   "cell_type": "markdown",
   "metadata": {},
   "source": [
    "## Considerazioni sui modelli\n",
    "\n",
    "- Avendo trovato i modelli migliori utilizzando la __Grid Search__ e quindi addestrando i dati mediante la __k-fold cross validation__ ed avendoli uniti per effettuare __ensemble__ possiamo andare a testarne le accuratezze sul __Test Set__."
   ]
  },
  {
   "cell_type": "code",
   "execution_count": 303,
   "metadata": {},
   "outputs": [
    {
     "name": "stdout",
     "output_type": "stream",
     "text": [
      "Accuratezza:  0.5473170731707317\n",
      "ROI:  0.3132362361991356\n",
      "Guadagno:  1923.5599999999858\n",
      "F1:  0.4711465755739994\n"
     ]
    }
   ],
   "source": [
    "model_stat(x_test, y_test, ensemble)"
   ]
  },
  {
   "cell_type": "code",
   "execution_count": 304,
   "metadata": {},
   "outputs": [
    {
     "name": "stdout",
     "output_type": "stream",
     "text": [
      "Accuratezza:  0.4790243902439024\n",
      "ROI:  0.2356843921560728\n",
      "Guadagno:  1447.319999999997\n",
      "F1:  0.4429030314380399\n"
     ]
    }
   ],
   "source": [
    "model_stat(x_test, y_test, gs_gb.best_estimator_)"
   ]
  },
  {
   "cell_type": "code",
   "execution_count": 305,
   "metadata": {},
   "outputs": [
    {
     "name": "stdout",
     "output_type": "stream",
     "text": [
      "Accuratezza:  0.5502439024390244\n",
      "ROI:  0.16471787604241622\n",
      "Guadagno:  1011.5199999999941\n",
      "F1:  0.354940213971051\n"
     ]
    },
    {
     "name": "stderr",
     "output_type": "stream",
     "text": [
      "/anaconda3/lib/python3.7/site-packages/sklearn/metrics/classification.py:1143: UndefinedMetricWarning: F-score is ill-defined and being set to 0.0 in labels with no predicted samples.\n",
      "  'precision', 'predicted', average, warn_for)\n"
     ]
    }
   ],
   "source": [
    "model_stat(x_test, y_test, gs_log.best_estimator_)"
   ]
  },
  {
   "cell_type": "code",
   "execution_count": 306,
   "metadata": {},
   "outputs": [
    {
     "name": "stdout",
     "output_type": "stream",
     "text": [
      "Accuratezza:  0.5239024390243903\n",
      "ROI:  0.17077559609617435\n",
      "Guadagno:  1048.7199999999912\n",
      "F1:  0.47494163685527624\n"
     ]
    }
   ],
   "source": [
    "model_stat(x_test, y_test, gs_svc.best_estimator_)"
   ]
  },
  {
   "cell_type": "markdown",
   "metadata": {},
   "source": [
    "- Sono state valutate le statistiche dei modelli realizzati. \n",
    "- Da questi risultati possiamo vedere che il modello di __ensembling__ porta a risultati migliori in termini di __ROI__ rispetto ad altri modelli. \n",
    "- Il modello di __ensembling__, infatti, basandosi sulle decisioni dei singoli modelli, e scegliendo l'opzione votata dalla maggioranza porta ad un miglioramento in termini di guadagno.\n",
    "- La tripletta di modelli (diversi) scelti per costruire il modello di __ensembling__ è stata scelta in questo modo:\n",
    "    - __Gradient Boosting__: massimo ROI sul __Validation Set__.\n",
    "    - __SVC__: secondo per ROI massimo sul __Validation Set__.\n",
    "    - __Logistic Regression__: terzo per ROI massimo sul __Validation Set__.\n",
    "- I risultati del modello di __ensambling__ sono buoni in termini di: \n",
    "    - __Accuratezza__: in quanto al suo interno sono presenti modelli con buona accuratezza (svc, logistic). \n",
    "    - __ROI__: massimo in quanto il modello di Gradient Boosting massimizza il guadagno.\n"
   ]
  },
  {
   "cell_type": "markdown",
   "metadata": {},
   "source": [
    "## Confidenza\n",
    "- Valutiamo l'attendibilità dell'accuratezza sull'intera popolazione dei dati, ovvero quelli ignoti. \n",
    "- Non vogliamo un singolo valore, ma un __intervallo di accuratezze__. Un’insieme di valori che assumerà l’accuratezza sui dati futuri. La dimensione dell’intervallo di accuratezza dipende dalla dimensione del test set (numero di istanze), più è piccolo il test set, più l’intervallo è grande.\n",
    "- __L'accuratezza futura__ cadrà in un dato intervallo con una certa __confidenza__.\n",
    "- La __confidenza__ la fissiamo noi al 95% e al 99%."
   ]
  },
  {
   "cell_type": "code",
   "execution_count": 307,
   "metadata": {},
   "outputs": [],
   "source": [
    "N = x_test.shape[0]\n",
    "acc = 0.55\n",
    "alpha = 0.95\n",
    "Z = 1.96"
   ]
  },
  {
   "cell_type": "code",
   "execution_count": 308,
   "metadata": {},
   "outputs": [],
   "source": [
    "import math\n",
    "a = 2 * N * acc + Z * Z\n",
    "b = Z * math.sqrt(Z * Z + 4 * N * acc - 4 * N * acc * acc)\n",
    "d = 2 * (N + Z * Z)\n",
    "\n",
    "p_up = (a + b) / d\n",
    "p_down = (a - b) / d"
   ]
  },
  {
   "cell_type": "code",
   "execution_count": 309,
   "metadata": {},
   "outputs": [
    {
     "data": {
      "text/plain": [
       "0.5802135860700166"
      ]
     },
     "execution_count": 309,
     "metadata": {},
     "output_type": "execute_result"
    }
   ],
   "source": [
    "p_up"
   ]
  },
  {
   "cell_type": "code",
   "execution_count": 310,
   "metadata": {},
   "outputs": [
    {
     "data": {
      "text/plain": [
       "0.5194130231184143"
      ]
     },
     "execution_count": 310,
     "metadata": {},
     "output_type": "execute_result"
    }
   ],
   "source": [
    "p_down"
   ]
  },
  {
   "cell_type": "code",
   "execution_count": 311,
   "metadata": {},
   "outputs": [],
   "source": [
    "Z99 = 2.58"
   ]
  },
  {
   "cell_type": "code",
   "execution_count": 312,
   "metadata": {},
   "outputs": [],
   "source": [
    "a = 2 * N * acc + Z99 * Z99\n",
    "b = Z99 * math.sqrt(Z99 * Z99 + 4 * N * acc - 4 * N * acc * acc)\n",
    "d = 2 * (N + Z99 * Z99)\n",
    "\n",
    "p_up99 = (a + b) / d\n",
    "p_down99 = (a - b) / d"
   ]
  },
  {
   "cell_type": "code",
   "execution_count": 313,
   "metadata": {},
   "outputs": [
    {
     "data": {
      "text/plain": [
       "0.5896400096058094"
      ]
     },
     "execution_count": 313,
     "metadata": {},
     "output_type": "execute_result"
    }
   ],
   "source": [
    "p_up99"
   ]
  },
  {
   "cell_type": "code",
   "execution_count": 314,
   "metadata": {},
   "outputs": [
    {
     "data": {
      "text/plain": [
       "0.5097147755726666"
      ]
     },
     "execution_count": 314,
     "metadata": {},
     "output_type": "execute_result"
    }
   ],
   "source": [
    "p_down99"
   ]
  },
  {
   "cell_type": "markdown",
   "metadata": {},
   "source": [
    "- __L'accuratezza__ futura (su dati ignoti) cadrà all'interno dell'intervallo __[0.52, 0,58]__ con il __95%__ di __confidenza__. \n",
    "- __L'accuratezza__ futura (su dati ignoti) cadrà all'interno dell'intervallo __[0.51, 0,59]__ con il __99%__ di __confidenza__. "
   ]
  },
  {
   "cell_type": "markdown",
   "metadata": {},
   "source": [
    "- Andiamo a confrontare l'efficacia del nostro modello di ensembling a confronto con un modello randomico, con confidenza del 99%.\n",
    "- Come accuratezza abbiamo utilizzato il __ROI__, in quanto è la misura su cui vogliamo confrontare i nostri modelli."
   ]
  },
  {
   "cell_type": "code",
   "execution_count": 315,
   "metadata": {},
   "outputs": [],
   "source": [
    "# Calcoliamo il ROI sul test set con il modello randomico.\n",
    "random_preds = np.random.choice([\"Up\", \"Down\"], len(y_test))\n",
    "res = np.mean([roi(y_test, preds) for preds in random_preds])"
   ]
  },
  {
   "cell_type": "code",
   "execution_count": 316,
   "metadata": {},
   "outputs": [],
   "source": [
    "e_ens = 1 - 0.31\n",
    "e_rand = 1 - res\n",
    "d = np.abs(e_ens - e_rand)\n",
    "z = 2.58\n",
    "sigma_e1 = (e_ens * (1 - e_ens)) / N\n",
    "sigma_e2 = (e_rand * (1 - e_rand)) / N\n",
    "sigma = math.sqrt(sigma_e1 + sigma_e2)\n",
    "dt_down = d - z * sigma\n",
    "dt_up = d + z * sigma"
   ]
  },
  {
   "cell_type": "code",
   "execution_count": 317,
   "metadata": {},
   "outputs": [
    {
     "data": {
      "text/plain": [
       "0.3406591056806216"
      ]
     },
     "execution_count": 317,
     "metadata": {},
     "output_type": "execute_result"
    }
   ],
   "source": [
    "dt_up"
   ]
  },
  {
   "cell_type": "code",
   "execution_count": 318,
   "metadata": {},
   "outputs": [
    {
     "data": {
      "text/plain": [
       "0.2648778613010199"
      ]
     },
     "execution_count": 318,
     "metadata": {},
     "output_type": "execute_result"
    }
   ],
   "source": [
    "dt_down"
   ]
  },
  {
   "cell_type": "markdown",
   "metadata": {},
   "source": [
    "- L'intervallo non contiene zero quindi la differenza tra il nostro modello e quello randomico è __statisticamente significativa__."
   ]
  },
  {
   "cell_type": "markdown",
   "metadata": {},
   "source": [
    "# Predizione mediante Regressione\n",
    "\n",
    "- In questo paragrafo, basandoci sui dati predisposti precedentemente, abbiamo deciso di predire il __prezzo di chiusura__ del mercato al termine della giornata in esame come supporto decisionale al modello di classificazione."
   ]
  },
  {
   "cell_type": "code",
   "execution_count": 319,
   "metadata": {
    "scrolled": true
   },
   "outputs": [
    {
     "data": {
      "text/html": [
       "<div>\n",
       "<style scoped>\n",
       "    .dataframe tbody tr th:only-of-type {\n",
       "        vertical-align: middle;\n",
       "    }\n",
       "\n",
       "    .dataframe tbody tr th {\n",
       "        vertical-align: top;\n",
       "    }\n",
       "\n",
       "    .dataframe thead th {\n",
       "        text-align: right;\n",
       "    }\n",
       "</style>\n",
       "<table border=\"1\" class=\"dataframe\">\n",
       "  <thead>\n",
       "    <tr style=\"text-align: right;\">\n",
       "      <th></th>\n",
       "      <th>Open</th>\n",
       "      <th>VolumeLag1</th>\n",
       "      <th>ROILag1</th>\n",
       "      <th>ROILag2</th>\n",
       "      <th>ROILag3</th>\n",
       "      <th>ROILag4</th>\n",
       "      <th>ROILag5</th>\n",
       "      <th>OpenLag1</th>\n",
       "      <th>OpenLag2</th>\n",
       "      <th>OpenLag3</th>\n",
       "      <th>...</th>\n",
       "      <th>HighLag1</th>\n",
       "      <th>HighLag2</th>\n",
       "      <th>HighLag3</th>\n",
       "      <th>HighLag4</th>\n",
       "      <th>HighLag5</th>\n",
       "      <th>LowLag1</th>\n",
       "      <th>LowLag2</th>\n",
       "      <th>LowLag3</th>\n",
       "      <th>LowLag4</th>\n",
       "      <th>LowLag5</th>\n",
       "    </tr>\n",
       "    <tr>\n",
       "      <th>Date</th>\n",
       "      <th></th>\n",
       "      <th></th>\n",
       "      <th></th>\n",
       "      <th></th>\n",
       "      <th></th>\n",
       "      <th></th>\n",
       "      <th></th>\n",
       "      <th></th>\n",
       "      <th></th>\n",
       "      <th></th>\n",
       "      <th></th>\n",
       "      <th></th>\n",
       "      <th></th>\n",
       "      <th></th>\n",
       "      <th></th>\n",
       "      <th></th>\n",
       "      <th></th>\n",
       "      <th></th>\n",
       "      <th></th>\n",
       "      <th></th>\n",
       "      <th></th>\n",
       "    </tr>\n",
       "  </thead>\n",
       "  <tbody>\n",
       "    <tr>\n",
       "      <th>1999-01-08</th>\n",
       "      <td>2363.80</td>\n",
       "      <td>1.200900e+09</td>\n",
       "      <td>1.431144</td>\n",
       "      <td>1.519161</td>\n",
       "      <td>1.971238</td>\n",
       "      <td>0.023103</td>\n",
       "      <td>1.074501</td>\n",
       "      <td>2293.27</td>\n",
       "      <td>2286.13</td>\n",
       "      <td>2207.75</td>\n",
       "      <td>...</td>\n",
       "      <td>2333.70</td>\n",
       "      <td>2320.95</td>\n",
       "      <td>2251.77</td>\n",
       "      <td>2233.57</td>\n",
       "      <td>2200.63</td>\n",
       "      <td>2284.24</td>\n",
       "      <td>2286.13</td>\n",
       "      <td>2206.49</td>\n",
       "      <td>2192.68</td>\n",
       "      <td>2165.74</td>\n",
       "    </tr>\n",
       "    <tr>\n",
       "      <th>1999-01-11</th>\n",
       "      <td>2373.97</td>\n",
       "      <td>1.286690e+09</td>\n",
       "      <td>-0.820289</td>\n",
       "      <td>1.431144</td>\n",
       "      <td>1.519161</td>\n",
       "      <td>1.971238</td>\n",
       "      <td>0.023103</td>\n",
       "      <td>2363.80</td>\n",
       "      <td>2293.27</td>\n",
       "      <td>2286.13</td>\n",
       "      <td>...</td>\n",
       "      <td>2369.55</td>\n",
       "      <td>2333.70</td>\n",
       "      <td>2320.95</td>\n",
       "      <td>2251.77</td>\n",
       "      <td>2233.57</td>\n",
       "      <td>2314.95</td>\n",
       "      <td>2284.24</td>\n",
       "      <td>2286.13</td>\n",
       "      <td>2206.49</td>\n",
       "      <td>2192.68</td>\n",
       "    </tr>\n",
       "    <tr>\n",
       "      <th>1999-01-12</th>\n",
       "      <td>2395.90</td>\n",
       "      <td>1.140930e+09</td>\n",
       "      <td>0.447352</td>\n",
       "      <td>-0.820289</td>\n",
       "      <td>1.431144</td>\n",
       "      <td>1.519161</td>\n",
       "      <td>1.971238</td>\n",
       "      <td>2373.97</td>\n",
       "      <td>2363.80</td>\n",
       "      <td>2293.27</td>\n",
       "      <td>...</td>\n",
       "      <td>2384.72</td>\n",
       "      <td>2369.55</td>\n",
       "      <td>2333.70</td>\n",
       "      <td>2320.95</td>\n",
       "      <td>2251.77</td>\n",
       "      <td>2348.24</td>\n",
       "      <td>2314.95</td>\n",
       "      <td>2284.24</td>\n",
       "      <td>2286.13</td>\n",
       "      <td>2206.49</td>\n",
       "    </tr>\n",
       "    <tr>\n",
       "      <th>1999-01-13</th>\n",
       "      <td>2222.28</td>\n",
       "      <td>1.107300e+09</td>\n",
       "      <td>-3.136608</td>\n",
       "      <td>0.447352</td>\n",
       "      <td>-0.820289</td>\n",
       "      <td>1.431144</td>\n",
       "      <td>1.519161</td>\n",
       "      <td>2395.90</td>\n",
       "      <td>2373.97</td>\n",
       "      <td>2363.80</td>\n",
       "      <td>...</td>\n",
       "      <td>2396.30</td>\n",
       "      <td>2384.72</td>\n",
       "      <td>2369.55</td>\n",
       "      <td>2333.70</td>\n",
       "      <td>2320.95</td>\n",
       "      <td>2320.21</td>\n",
       "      <td>2348.24</td>\n",
       "      <td>2314.95</td>\n",
       "      <td>2284.24</td>\n",
       "      <td>2286.13</td>\n",
       "    </tr>\n",
       "    <tr>\n",
       "      <th>1999-01-14</th>\n",
       "      <td>2337.31</td>\n",
       "      <td>1.195470e+09</td>\n",
       "      <td>4.253739</td>\n",
       "      <td>-3.136608</td>\n",
       "      <td>0.447352</td>\n",
       "      <td>-0.820289</td>\n",
       "      <td>1.431144</td>\n",
       "      <td>2222.28</td>\n",
       "      <td>2395.90</td>\n",
       "      <td>2373.97</td>\n",
       "      <td>...</td>\n",
       "      <td>2353.33</td>\n",
       "      <td>2396.30</td>\n",
       "      <td>2384.72</td>\n",
       "      <td>2369.55</td>\n",
       "      <td>2333.70</td>\n",
       "      <td>2205.69</td>\n",
       "      <td>2320.21</td>\n",
       "      <td>2348.24</td>\n",
       "      <td>2314.95</td>\n",
       "      <td>2284.24</td>\n",
       "    </tr>\n",
       "  </tbody>\n",
       "</table>\n",
       "<p>5 rows × 27 columns</p>\n",
       "</div>"
      ],
      "text/plain": [
       "               Open    VolumeLag1   ROILag1   ROILag2   ROILag3   ROILag4  \\\n",
       "Date                                                                        \n",
       "1999-01-08  2363.80  1.200900e+09  1.431144  1.519161  1.971238  0.023103   \n",
       "1999-01-11  2373.97  1.286690e+09 -0.820289  1.431144  1.519161  1.971238   \n",
       "1999-01-12  2395.90  1.140930e+09  0.447352 -0.820289  1.431144  1.519161   \n",
       "1999-01-13  2222.28  1.107300e+09 -3.136608  0.447352 -0.820289  1.431144   \n",
       "1999-01-14  2337.31  1.195470e+09  4.253739 -3.136608  0.447352 -0.820289   \n",
       "\n",
       "             ROILag5  OpenLag1  OpenLag2  OpenLag3  ...  HighLag1  HighLag2  \\\n",
       "Date                                                ...                       \n",
       "1999-01-08  1.074501   2293.27   2286.13   2207.75  ...   2333.70   2320.95   \n",
       "1999-01-11  0.023103   2363.80   2293.27   2286.13  ...   2369.55   2333.70   \n",
       "1999-01-12  1.971238   2373.97   2363.80   2293.27  ...   2384.72   2369.55   \n",
       "1999-01-13  1.519161   2395.90   2373.97   2363.80  ...   2396.30   2384.72   \n",
       "1999-01-14  1.431144   2222.28   2395.90   2373.97  ...   2353.33   2396.30   \n",
       "\n",
       "            HighLag3  HighLag4  HighLag5  LowLag1  LowLag2  LowLag3  LowLag4  \\\n",
       "Date                                                                           \n",
       "1999-01-08   2251.77   2233.57   2200.63  2284.24  2286.13  2206.49  2192.68   \n",
       "1999-01-11   2320.95   2251.77   2233.57  2314.95  2284.24  2286.13  2206.49   \n",
       "1999-01-12   2333.70   2320.95   2251.77  2348.24  2314.95  2284.24  2286.13   \n",
       "1999-01-13   2369.55   2333.70   2320.95  2320.21  2348.24  2314.95  2284.24   \n",
       "1999-01-14   2384.72   2369.55   2333.70  2205.69  2320.21  2348.24  2314.95   \n",
       "\n",
       "            LowLag5  \n",
       "Date                 \n",
       "1999-01-08  2165.74  \n",
       "1999-01-11  2192.68  \n",
       "1999-01-12  2206.49  \n",
       "1999-01-13  2286.13  \n",
       "1999-01-14  2284.24  \n",
       "\n",
       "[5 rows x 27 columns]"
      ]
     },
     "execution_count": 319,
     "metadata": {},
     "output_type": "execute_result"
    }
   ],
   "source": [
    "X.head(5)"
   ]
  },
  {
   "cell_type": "markdown",
   "metadata": {},
   "source": [
    "- Avendo già predisposto i dati precedentemente, ci basta cambiare la variabile su cui effettuare la predizione (__Close__).\n",
    "- Eseguiamo la divisione tra __training set__, __validation set__ e __test set__."
   ]
  },
  {
   "cell_type": "code",
   "execution_count": 320,
   "metadata": {},
   "outputs": [],
   "source": [
    "y_reg_train = nasdaq[\"Close\"].reindex_like(x_train)"
   ]
  },
  {
   "cell_type": "code",
   "execution_count": 321,
   "metadata": {},
   "outputs": [
    {
     "data": {
      "text/plain": [
       "array([ True,  True,  True, ...,  True,  True,  True])"
      ]
     },
     "execution_count": 321,
     "metadata": {},
     "output_type": "execute_result"
    }
   ],
   "source": [
    "y_reg_train.index == x_train.index # Test."
   ]
  },
  {
   "cell_type": "code",
   "execution_count": 322,
   "metadata": {},
   "outputs": [],
   "source": [
    "y_reg_val = nasdaq[\"Close\"].reindex_like(x_val)"
   ]
  },
  {
   "cell_type": "code",
   "execution_count": 323,
   "metadata": {},
   "outputs": [
    {
     "data": {
      "text/plain": [
       "array([ True,  True,  True, ...,  True,  True,  True])"
      ]
     },
     "execution_count": 323,
     "metadata": {},
     "output_type": "execute_result"
    }
   ],
   "source": [
    "y_reg_val.index == x_val.index # Test."
   ]
  },
  {
   "cell_type": "code",
   "execution_count": 324,
   "metadata": {},
   "outputs": [],
   "source": [
    "y_reg_test = nasdaq[\"Close\"].reindex_like(x_test)"
   ]
  },
  {
   "cell_type": "code",
   "execution_count": 325,
   "metadata": {},
   "outputs": [
    {
     "data": {
      "text/plain": [
       "array([ True,  True,  True, ...,  True,  True,  True])"
      ]
     },
     "execution_count": 325,
     "metadata": {},
     "output_type": "execute_result"
    }
   ],
   "source": [
    "y_reg_test.index == x_test.index # Test."
   ]
  },
  {
   "cell_type": "markdown",
   "metadata": {},
   "source": [
    "- Per prima cosa valutiamo l'errore commesso da un semplice modello di __regressione lineare__ sui nostri dati."
   ]
  },
  {
   "cell_type": "code",
   "execution_count": 326,
   "metadata": {},
   "outputs": [
    {
     "data": {
      "text/plain": [
       "LinearRegression(copy_X=True, fit_intercept=True, n_jobs=None,\n",
       "         normalize=False)"
      ]
     },
     "execution_count": 326,
     "metadata": {},
     "output_type": "execute_result"
    }
   ],
   "source": [
    "from sklearn.linear_model import LinearRegression\n",
    "lrm = LinearRegression()\n",
    "lrm.fit(x_train, y_reg_train)"
   ]
  },
  {
   "cell_type": "code",
   "execution_count": 327,
   "metadata": {},
   "outputs": [
    {
     "data": {
      "text/plain": [
       "Open          1.035110e+00\n",
       "VolumeLag1    1.235395e-09\n",
       "ROILag1      -1.651251e+00\n",
       "ROILag2       6.461379e-02\n",
       "ROILag3       4.050479e+00\n",
       "ROILag4      -2.587203e+00\n",
       "ROILag5       3.865701e+00\n",
       "OpenLag1     -1.991446e-02\n",
       "OpenLag2      2.098001e-01\n",
       "OpenLag3      3.785728e-01\n",
       "OpenLag4     -2.121490e-01\n",
       "OpenLag5      3.443730e-01\n",
       "CloseLag1    -9.064602e-02\n",
       "CloseLag2    -1.239635e-01\n",
       "CloseLag3    -9.574691e-02\n",
       "CloseLag4     8.347509e-02\n",
       "CloseLag5    -7.316485e-02\n",
       "HighLag1      1.312175e-01\n",
       "HighLag2     -1.054719e-01\n",
       "HighLag3     -1.892919e-01\n",
       "HighLag4     -6.384053e-02\n",
       "HighLag5     -7.337618e-02\n",
       "LowLag1       3.993980e-02\n",
       "LowLag2      -3.077144e-02\n",
       "LowLag3      -1.121495e-01\n",
       "LowLag4       9.634339e-02\n",
       "LowLag5      -1.346983e-01\n",
       "dtype: float64"
      ]
     },
     "execution_count": 327,
     "metadata": {},
     "output_type": "execute_result"
    }
   ],
   "source": [
    "pd.Series(lrm.coef_, index=x_train.columns)"
   ]
  },
  {
   "cell_type": "markdown",
   "metadata": {},
   "source": [
    "- Possiamo vedere il peso dei parametri del modello sulle __features__.\n",
    "- La __Open__ o __ROILag__ ad esempio incidono particolarmente sulla predizione del valore della __Close__ (sia in positivo che in negativo)."
   ]
  },
  {
   "cell_type": "markdown",
   "metadata": {},
   "source": [
    "## Misurare l'Errore del Modello\n",
    "\n",
    "- Per misurare l'errore che un modello compie su un set di dati esistono diverse metriche:\n",
    "    - __Errore quadratico medio__ (MSE): la media dei quadrati dei singoli errori.\n",
    "    - __Errore relativo__: errore relativo misura intuitivamente di quanto il modello si sbaglia in percentuale rispetto al valore reale.\n",
    "    - __Coefficiente di determinazione__ $R^2$: è una misura che esprime intuitivamente quanto il modello catturi la variabilità presente nei dati."
   ]
  },
  {
   "cell_type": "code",
   "execution_count": 328,
   "metadata": {},
   "outputs": [],
   "source": [
    "from sklearn.metrics import mean_squared_error"
   ]
  },
  {
   "cell_type": "code",
   "execution_count": 329,
   "metadata": {},
   "outputs": [],
   "source": [
    "def relative_error(y_true, y_pred):\n",
    "    return np.mean(np.abs((y_true - y_pred) / y_true))"
   ]
  },
  {
   "cell_type": "code",
   "execution_count": 330,
   "metadata": {},
   "outputs": [],
   "source": [
    "def reg_stats(X, y, model):\n",
    "    print(\"   Mean squared error: {:.5}\".format(mean_squared_error(model.predict(X), y)))\n",
    "    print(\"       Relative error: {:.5%}\".format(relative_error(model.predict(X), y)))\n",
    "    print(\"R-squared coefficient: {:.5}\".format(model.score(X, y)))"
   ]
  },
  {
   "cell_type": "markdown",
   "metadata": {},
   "source": [
    "- Ora definite queste funzioni possiamo ottenere le statistiche del modello sopra definito."
   ]
  },
  {
   "cell_type": "code",
   "execution_count": 331,
   "metadata": {},
   "outputs": [
    {
     "name": "stdout",
     "output_type": "stream",
     "text": [
      "   Mean squared error: 1013.5\n",
      "       Relative error: 0.71604%\n",
      "R-squared coefficient: 0.99824\n"
     ]
    }
   ],
   "source": [
    "reg_stats(x_val, y_reg_val, lrm)"
   ]
  },
  {
   "cell_type": "markdown",
   "metadata": {},
   "source": [
    "## Modelli Predittivi\n",
    "\n",
    "- Andiamo alla ricerca del modello di regressione che minimizzi l'errore commesso nella predizione della variabile dipendente (__Close__)."
   ]
  },
  {
   "cell_type": "markdown",
   "metadata": {},
   "source": [
    "- Prima di procedere con la creazione dei vari modelli predittivi, possiamo utilizzare la __regressione LASSO__ per valutare il peso che ogni feature ha sulla variabile dipendente (y)."
   ]
  },
  {
   "cell_type": "code",
   "execution_count": 332,
   "metadata": {},
   "outputs": [
    {
     "data": {
      "text/plain": [
       "Pipeline(memory=None,\n",
       "     steps=[('scale', StandardScaler(copy=True, with_mean=True, with_std=True)), ('lasso', Lasso(alpha=2, copy_X=True, fit_intercept=True, max_iter=1000,\n",
       "   normalize=False, positive=False, precompute=False, random_state=None,\n",
       "   selection='cyclic', tol=0.0001, warm_start=False))])"
      ]
     },
     "execution_count": 332,
     "metadata": {},
     "output_type": "execute_result"
    }
   ],
   "source": [
    "from sklearn.linear_model import Lasso\n",
    "model_lasso = Pipeline([\n",
    "    (\"scale\",  StandardScaler()),\n",
    "    (\"lasso\", Lasso(alpha=2)) # Più alpha è alto più il modello si impegnerà a minimizzare ed azzerare i theta.\n",
    "])\n",
    "model_lasso.fit(x_train, y_reg_train)"
   ]
  },
  {
   "cell_type": "code",
   "execution_count": 333,
   "metadata": {},
   "outputs": [
    {
     "data": {
      "text/plain": [
       "array([611.07308647,  -0.        ,  -0.        ,  -0.        ,\n",
       "         0.        ,   0.        ,  -0.        ,   2.888354  ,\n",
       "         8.09728624,   1.8996511 ,   0.        ,   6.25830724,\n",
       "         0.        ,   0.        ,   0.        ,   0.        ,\n",
       "         0.        ,   0.        ,   0.        ,   0.        ,\n",
       "         0.        ,   0.        ,   0.        ,   0.        ,\n",
       "         0.        ,   0.        ,   0.        ])"
      ]
     },
     "execution_count": 333,
     "metadata": {},
     "output_type": "execute_result"
    }
   ],
   "source": [
    "model_lasso.named_steps[\"lasso\"].coef_"
   ]
  },
  {
   "cell_type": "code",
   "execution_count": 334,
   "metadata": {},
   "outputs": [
    {
     "name": "stdout",
     "output_type": "stream",
     "text": [
      "   Mean squared error: 1086.7\n",
      "       Relative error: 0.75631%\n",
      "R-squared coefficient: 0.99812\n"
     ]
    }
   ],
   "source": [
    "reg_stats(x_val, y_reg_val, model_lasso)"
   ]
  },
  {
   "cell_type": "code",
   "execution_count": 335,
   "metadata": {},
   "outputs": [
    {
     "data": {
      "text/plain": [
       "Open          611.073086\n",
       "VolumeLag1     -0.000000\n",
       "ROILag1        -0.000000\n",
       "ROILag2        -0.000000\n",
       "ROILag3         0.000000\n",
       "ROILag4         0.000000\n",
       "ROILag5        -0.000000\n",
       "OpenLag1        2.888354\n",
       "OpenLag2        8.097286\n",
       "OpenLag3        1.899651\n",
       "OpenLag4        0.000000\n",
       "OpenLag5        6.258307\n",
       "CloseLag1       0.000000\n",
       "CloseLag2       0.000000\n",
       "CloseLag3       0.000000\n",
       "CloseLag4       0.000000\n",
       "CloseLag5       0.000000\n",
       "HighLag1        0.000000\n",
       "HighLag2        0.000000\n",
       "HighLag3        0.000000\n",
       "HighLag4        0.000000\n",
       "HighLag5        0.000000\n",
       "LowLag1         0.000000\n",
       "LowLag2         0.000000\n",
       "LowLag3         0.000000\n",
       "LowLag4         0.000000\n",
       "LowLag5         0.000000\n",
       "dtype: float64"
      ]
     },
     "execution_count": 335,
     "metadata": {},
     "output_type": "execute_result"
    }
   ],
   "source": [
    "pd.Series(model_lasso.named_steps[\"lasso\"].coef_, index=x_train.columns)"
   ]
  },
  {
   "cell_type": "markdown",
   "metadata": {},
   "source": [
    "- Abbiamo utilizzato la __regressione lasso__ e valutato i coefficienti assegnati alle singole feature. Questa regressione ha portato ad una netta semplificazione del modello, azzerando la maggior parte dei parametri. Nonostante questo __l'MSE__ è molto simile a quello della __regressione lineare__."
   ]
  },
  {
   "cell_type": "markdown",
   "metadata": {},
   "source": [
    "- Come fatto precedentemente abbiamo la necessità di selezionare l'insieme di dati sul totale che devono essere utilizzati come __Validation Set__ nella grid search.\n",
    "- Possiamo utilizzare la suddivisione fatta in precedenza, aggiustando le sole nuove y."
   ]
  },
  {
   "cell_type": "code",
   "execution_count": 336,
   "metadata": {},
   "outputs": [],
   "source": [
    "y_reg_for_grid_search = nasdaq[\"Close\"].reindex_like(x_for_grid_search)"
   ]
  },
  {
   "cell_type": "code",
   "execution_count": 337,
   "metadata": {},
   "outputs": [
    {
     "data": {
      "text/plain": [
       "array([ True,  True,  True, ...,  True,  True,  True])"
      ]
     },
     "execution_count": 337,
     "metadata": {},
     "output_type": "execute_result"
    }
   ],
   "source": [
    "y_reg_for_grid_search.index == x_for_grid_search.index # Test"
   ]
  },
  {
   "cell_type": "code",
   "execution_count": 338,
   "metadata": {},
   "outputs": [],
   "source": [
    "from sklearn.linear_model import ElasticNet\n",
    "model_elastic_reg = Pipeline([\n",
    "    (\"scale\", StandardScaler()),\n",
    "    (\"model\", ElasticNet())\n",
    "])\n",
    "\n",
    "grid_elastic_reg = {\n",
    "    \"scale\": [None, StandardScaler()],\n",
    "    \"model__alpha\": [0.1, 1, 10, 100],\n",
    "    \"model__l1_ratio\": np.linspace(0, 1, 11)\n",
    "}"
   ]
  },
  {
   "cell_type": "markdown",
   "metadata": {},
   "source": [
    "- Come metrica di valutazione dei nostri modelli vogliamo utilizzare __l'MSE__ a differenza del coefficente $R^2$ di default, in quanto a noi interessa minimizzare l'errrore della predizione del prezzo di chiusura"
   ]
  },
  {
   "cell_type": "code",
   "execution_count": 339,
   "metadata": {},
   "outputs": [],
   "source": [
    "mse_scorer = make_scorer(mean_squared_error, greater_is_better=False)"
   ]
  },
  {
   "cell_type": "markdown",
   "metadata": {},
   "source": [
    "- Ora come nell'analisi precedente andiamo a testare i vari modelli con le __Grid Search__."
   ]
  },
  {
   "cell_type": "code",
   "execution_count": 340,
   "metadata": {
    "scrolled": true
   },
   "outputs": [
    {
     "name": "stderr",
     "output_type": "stream",
     "text": [
      "/anaconda3/lib/python3.7/site-packages/sklearn/linear_model/coordinate_descent.py:492: ConvergenceWarning: Objective did not converge. You might want to increase the number of iterations. Fitting data with very small alpha may cause precision problems.\n",
      "  ConvergenceWarning)\n",
      "/anaconda3/lib/python3.7/site-packages/sklearn/linear_model/coordinate_descent.py:492: ConvergenceWarning: Objective did not converge. You might want to increase the number of iterations. Fitting data with very small alpha may cause precision problems.\n",
      "  ConvergenceWarning)\n",
      "/anaconda3/lib/python3.7/site-packages/sklearn/linear_model/coordinate_descent.py:492: ConvergenceWarning: Objective did not converge. You might want to increase the number of iterations. Fitting data with very small alpha may cause precision problems.\n",
      "  ConvergenceWarning)\n",
      "/anaconda3/lib/python3.7/site-packages/sklearn/linear_model/coordinate_descent.py:492: ConvergenceWarning: Objective did not converge. You might want to increase the number of iterations. Fitting data with very small alpha may cause precision problems.\n",
      "  ConvergenceWarning)\n",
      "/anaconda3/lib/python3.7/site-packages/sklearn/linear_model/coordinate_descent.py:492: ConvergenceWarning: Objective did not converge. You might want to increase the number of iterations. Fitting data with very small alpha may cause precision problems.\n",
      "  ConvergenceWarning)\n",
      "/anaconda3/lib/python3.7/site-packages/sklearn/linear_model/coordinate_descent.py:492: ConvergenceWarning: Objective did not converge. You might want to increase the number of iterations. Fitting data with very small alpha may cause precision problems.\n",
      "  ConvergenceWarning)\n",
      "/anaconda3/lib/python3.7/site-packages/sklearn/linear_model/coordinate_descent.py:492: ConvergenceWarning: Objective did not converge. You might want to increase the number of iterations. Fitting data with very small alpha may cause precision problems.\n",
      "  ConvergenceWarning)\n",
      "/anaconda3/lib/python3.7/site-packages/sklearn/linear_model/coordinate_descent.py:492: ConvergenceWarning: Objective did not converge. You might want to increase the number of iterations. Fitting data with very small alpha may cause precision problems.\n",
      "  ConvergenceWarning)\n",
      "/anaconda3/lib/python3.7/site-packages/sklearn/linear_model/coordinate_descent.py:492: ConvergenceWarning: Objective did not converge. You might want to increase the number of iterations. Fitting data with very small alpha may cause precision problems.\n",
      "  ConvergenceWarning)\n",
      "/anaconda3/lib/python3.7/site-packages/sklearn/linear_model/coordinate_descent.py:492: ConvergenceWarning: Objective did not converge. You might want to increase the number of iterations. Fitting data with very small alpha may cause precision problems.\n",
      "  ConvergenceWarning)\n",
      "/anaconda3/lib/python3.7/site-packages/sklearn/linear_model/coordinate_descent.py:492: ConvergenceWarning: Objective did not converge. You might want to increase the number of iterations. Fitting data with very small alpha may cause precision problems.\n",
      "  ConvergenceWarning)\n",
      "/anaconda3/lib/python3.7/site-packages/sklearn/linear_model/coordinate_descent.py:492: ConvergenceWarning: Objective did not converge. You might want to increase the number of iterations. Fitting data with very small alpha may cause precision problems.\n",
      "  ConvergenceWarning)\n",
      "/anaconda3/lib/python3.7/site-packages/sklearn/linear_model/coordinate_descent.py:492: ConvergenceWarning: Objective did not converge. You might want to increase the number of iterations. Fitting data with very small alpha may cause precision problems.\n",
      "  ConvergenceWarning)\n",
      "/anaconda3/lib/python3.7/site-packages/sklearn/linear_model/coordinate_descent.py:492: ConvergenceWarning: Objective did not converge. You might want to increase the number of iterations. Fitting data with very small alpha may cause precision problems.\n",
      "  ConvergenceWarning)\n",
      "/anaconda3/lib/python3.7/site-packages/sklearn/linear_model/coordinate_descent.py:492: ConvergenceWarning: Objective did not converge. You might want to increase the number of iterations. Fitting data with very small alpha may cause precision problems.\n",
      "  ConvergenceWarning)\n",
      "/anaconda3/lib/python3.7/site-packages/sklearn/linear_model/coordinate_descent.py:492: ConvergenceWarning: Objective did not converge. You might want to increase the number of iterations. Fitting data with very small alpha may cause precision problems.\n",
      "  ConvergenceWarning)\n",
      "/anaconda3/lib/python3.7/site-packages/sklearn/linear_model/coordinate_descent.py:492: ConvergenceWarning: Objective did not converge. You might want to increase the number of iterations. Fitting data with very small alpha may cause precision problems.\n",
      "  ConvergenceWarning)\n",
      "/anaconda3/lib/python3.7/site-packages/sklearn/linear_model/coordinate_descent.py:492: ConvergenceWarning: Objective did not converge. You might want to increase the number of iterations. Fitting data with very small alpha may cause precision problems.\n",
      "  ConvergenceWarning)\n",
      "/anaconda3/lib/python3.7/site-packages/sklearn/linear_model/coordinate_descent.py:492: ConvergenceWarning: Objective did not converge. You might want to increase the number of iterations. Fitting data with very small alpha may cause precision problems.\n",
      "  ConvergenceWarning)\n",
      "/anaconda3/lib/python3.7/site-packages/sklearn/linear_model/coordinate_descent.py:492: ConvergenceWarning: Objective did not converge. You might want to increase the number of iterations. Fitting data with very small alpha may cause precision problems.\n",
      "  ConvergenceWarning)\n",
      "/anaconda3/lib/python3.7/site-packages/sklearn/linear_model/coordinate_descent.py:492: ConvergenceWarning: Objective did not converge. You might want to increase the number of iterations. Fitting data with very small alpha may cause precision problems.\n",
      "  ConvergenceWarning)\n",
      "/anaconda3/lib/python3.7/site-packages/sklearn/linear_model/coordinate_descent.py:492: ConvergenceWarning: Objective did not converge. You might want to increase the number of iterations. Fitting data with very small alpha may cause precision problems.\n",
      "  ConvergenceWarning)\n",
      "/anaconda3/lib/python3.7/site-packages/sklearn/linear_model/coordinate_descent.py:492: ConvergenceWarning: Objective did not converge. You might want to increase the number of iterations. Fitting data with very small alpha may cause precision problems.\n",
      "  ConvergenceWarning)\n",
      "/anaconda3/lib/python3.7/site-packages/sklearn/linear_model/coordinate_descent.py:492: ConvergenceWarning: Objective did not converge. You might want to increase the number of iterations. Fitting data with very small alpha may cause precision problems.\n",
      "  ConvergenceWarning)\n",
      "/anaconda3/lib/python3.7/site-packages/sklearn/linear_model/coordinate_descent.py:492: ConvergenceWarning: Objective did not converge. You might want to increase the number of iterations. Fitting data with very small alpha may cause precision problems.\n",
      "  ConvergenceWarning)\n",
      "/anaconda3/lib/python3.7/site-packages/sklearn/linear_model/coordinate_descent.py:492: ConvergenceWarning: Objective did not converge. You might want to increase the number of iterations. Fitting data with very small alpha may cause precision problems.\n",
      "  ConvergenceWarning)\n",
      "/anaconda3/lib/python3.7/site-packages/sklearn/linear_model/coordinate_descent.py:492: ConvergenceWarning: Objective did not converge. You might want to increase the number of iterations. Fitting data with very small alpha may cause precision problems.\n",
      "  ConvergenceWarning)\n",
      "/anaconda3/lib/python3.7/site-packages/sklearn/linear_model/coordinate_descent.py:492: ConvergenceWarning: Objective did not converge. You might want to increase the number of iterations. Fitting data with very small alpha may cause precision problems.\n",
      "  ConvergenceWarning)\n",
      "/anaconda3/lib/python3.7/site-packages/sklearn/linear_model/coordinate_descent.py:492: ConvergenceWarning: Objective did not converge. You might want to increase the number of iterations. Fitting data with very small alpha may cause precision problems.\n",
      "  ConvergenceWarning)\n",
      "/anaconda3/lib/python3.7/site-packages/sklearn/linear_model/coordinate_descent.py:492: ConvergenceWarning: Objective did not converge. You might want to increase the number of iterations. Fitting data with very small alpha may cause precision problems.\n",
      "  ConvergenceWarning)\n"
     ]
    },
    {
     "name": "stderr",
     "output_type": "stream",
     "text": [
      "/anaconda3/lib/python3.7/site-packages/sklearn/linear_model/coordinate_descent.py:492: ConvergenceWarning: Objective did not converge. You might want to increase the number of iterations. Fitting data with very small alpha may cause precision problems.\n",
      "  ConvergenceWarning)\n",
      "/anaconda3/lib/python3.7/site-packages/sklearn/linear_model/coordinate_descent.py:492: ConvergenceWarning: Objective did not converge. You might want to increase the number of iterations. Fitting data with very small alpha may cause precision problems.\n",
      "  ConvergenceWarning)\n",
      "/anaconda3/lib/python3.7/site-packages/sklearn/linear_model/coordinate_descent.py:492: ConvergenceWarning: Objective did not converge. You might want to increase the number of iterations. Fitting data with very small alpha may cause precision problems.\n",
      "  ConvergenceWarning)\n",
      "/anaconda3/lib/python3.7/site-packages/sklearn/linear_model/coordinate_descent.py:492: ConvergenceWarning: Objective did not converge. You might want to increase the number of iterations. Fitting data with very small alpha may cause precision problems.\n",
      "  ConvergenceWarning)\n",
      "/anaconda3/lib/python3.7/site-packages/sklearn/linear_model/coordinate_descent.py:492: ConvergenceWarning: Objective did not converge. You might want to increase the number of iterations. Fitting data with very small alpha may cause precision problems.\n",
      "  ConvergenceWarning)\n",
      "/anaconda3/lib/python3.7/site-packages/sklearn/linear_model/coordinate_descent.py:492: ConvergenceWarning: Objective did not converge. You might want to increase the number of iterations. Fitting data with very small alpha may cause precision problems.\n",
      "  ConvergenceWarning)\n",
      "/anaconda3/lib/python3.7/site-packages/sklearn/linear_model/coordinate_descent.py:492: ConvergenceWarning: Objective did not converge. You might want to increase the number of iterations. Fitting data with very small alpha may cause precision problems.\n",
      "  ConvergenceWarning)\n",
      "/anaconda3/lib/python3.7/site-packages/sklearn/linear_model/coordinate_descent.py:492: ConvergenceWarning: Objective did not converge. You might want to increase the number of iterations. Fitting data with very small alpha may cause precision problems.\n",
      "  ConvergenceWarning)\n",
      "/anaconda3/lib/python3.7/site-packages/sklearn/linear_model/coordinate_descent.py:492: ConvergenceWarning: Objective did not converge. You might want to increase the number of iterations. Fitting data with very small alpha may cause precision problems.\n",
      "  ConvergenceWarning)\n",
      "/anaconda3/lib/python3.7/site-packages/sklearn/linear_model/coordinate_descent.py:492: ConvergenceWarning: Objective did not converge. You might want to increase the number of iterations. Fitting data with very small alpha may cause precision problems.\n",
      "  ConvergenceWarning)\n",
      "/anaconda3/lib/python3.7/site-packages/sklearn/linear_model/coordinate_descent.py:492: ConvergenceWarning: Objective did not converge. You might want to increase the number of iterations. Fitting data with very small alpha may cause precision problems.\n",
      "  ConvergenceWarning)\n",
      "/anaconda3/lib/python3.7/site-packages/sklearn/linear_model/coordinate_descent.py:492: ConvergenceWarning: Objective did not converge. You might want to increase the number of iterations. Fitting data with very small alpha may cause precision problems.\n",
      "  ConvergenceWarning)\n",
      "/anaconda3/lib/python3.7/site-packages/sklearn/linear_model/coordinate_descent.py:492: ConvergenceWarning: Objective did not converge. You might want to increase the number of iterations. Fitting data with very small alpha may cause precision problems.\n",
      "  ConvergenceWarning)\n",
      "/anaconda3/lib/python3.7/site-packages/sklearn/linear_model/coordinate_descent.py:492: ConvergenceWarning: Objective did not converge. You might want to increase the number of iterations. Fitting data with very small alpha may cause precision problems.\n",
      "  ConvergenceWarning)\n",
      "/anaconda3/lib/python3.7/site-packages/sklearn/linear_model/coordinate_descent.py:492: ConvergenceWarning: Objective did not converge. You might want to increase the number of iterations. Fitting data with very small alpha may cause precision problems.\n",
      "  ConvergenceWarning)\n",
      "/anaconda3/lib/python3.7/site-packages/sklearn/linear_model/coordinate_descent.py:492: ConvergenceWarning: Objective did not converge. You might want to increase the number of iterations. Fitting data with very small alpha may cause precision problems.\n",
      "  ConvergenceWarning)\n",
      "/anaconda3/lib/python3.7/site-packages/sklearn/linear_model/coordinate_descent.py:492: ConvergenceWarning: Objective did not converge. You might want to increase the number of iterations. Fitting data with very small alpha may cause precision problems.\n",
      "  ConvergenceWarning)\n",
      "/anaconda3/lib/python3.7/site-packages/sklearn/linear_model/coordinate_descent.py:492: ConvergenceWarning: Objective did not converge. You might want to increase the number of iterations. Fitting data with very small alpha may cause precision problems.\n",
      "  ConvergenceWarning)\n",
      "/anaconda3/lib/python3.7/site-packages/sklearn/linear_model/coordinate_descent.py:492: ConvergenceWarning: Objective did not converge. You might want to increase the number of iterations. Fitting data with very small alpha may cause precision problems.\n",
      "  ConvergenceWarning)\n",
      "/anaconda3/lib/python3.7/site-packages/sklearn/linear_model/coordinate_descent.py:492: ConvergenceWarning: Objective did not converge. You might want to increase the number of iterations. Fitting data with very small alpha may cause precision problems.\n",
      "  ConvergenceWarning)\n",
      "/anaconda3/lib/python3.7/site-packages/sklearn/linear_model/coordinate_descent.py:492: ConvergenceWarning: Objective did not converge. You might want to increase the number of iterations. Fitting data with very small alpha may cause precision problems.\n",
      "  ConvergenceWarning)\n",
      "/anaconda3/lib/python3.7/site-packages/sklearn/linear_model/coordinate_descent.py:492: ConvergenceWarning: Objective did not converge. You might want to increase the number of iterations. Fitting data with very small alpha may cause precision problems.\n",
      "  ConvergenceWarning)\n",
      "/anaconda3/lib/python3.7/site-packages/sklearn/linear_model/coordinate_descent.py:492: ConvergenceWarning: Objective did not converge. You might want to increase the number of iterations. Fitting data with very small alpha may cause precision problems.\n",
      "  ConvergenceWarning)\n",
      "/anaconda3/lib/python3.7/site-packages/sklearn/linear_model/coordinate_descent.py:492: ConvergenceWarning: Objective did not converge. You might want to increase the number of iterations. Fitting data with very small alpha may cause precision problems.\n",
      "  ConvergenceWarning)\n",
      "/anaconda3/lib/python3.7/site-packages/sklearn/linear_model/coordinate_descent.py:492: ConvergenceWarning: Objective did not converge. You might want to increase the number of iterations. Fitting data with very small alpha may cause precision problems.\n",
      "  ConvergenceWarning)\n",
      "/anaconda3/lib/python3.7/site-packages/sklearn/linear_model/coordinate_descent.py:492: ConvergenceWarning: Objective did not converge. You might want to increase the number of iterations. Fitting data with very small alpha may cause precision problems.\n",
      "  ConvergenceWarning)\n"
     ]
    },
    {
     "data": {
      "text/plain": [
       "GridSearchCV(cv=PredefinedSplit(test_fold=array([-1, -1, ...,  0,  0])),\n",
       "       error_score='raise-deprecating',\n",
       "       estimator=Pipeline(memory=None,\n",
       "     steps=[('scale', StandardScaler(copy=True, with_mean=True, with_std=True)), ('model', ElasticNet(alpha=1.0, copy_X=True, fit_intercept=True, l1_ratio=0.5,\n",
       "      max_iter=1000, normalize=False, positive=False, precompute=False,\n",
       "      random_state=None, selection='cyclic', tol=0.0001, warm_start=False))]),\n",
       "       fit_params=None, iid='warn', n_jobs=None,\n",
       "       param_grid={'scale': [None, StandardScaler(copy=True, with_mean=True, with_std=True)], 'model__alpha': [0.1, 1, 10, 100], 'model__l1_ratio': array([0. , 0.1, 0.2, 0.3, 0.4, 0.5, 0.6, 0.7, 0.8, 0.9, 1. ])},\n",
       "       pre_dispatch='2*n_jobs', refit=True, return_train_score='warn',\n",
       "       scoring=make_scorer(mean_squared_error, greater_is_better=False),\n",
       "       verbose=0)"
      ]
     },
     "execution_count": 340,
     "metadata": {},
     "output_type": "execute_result"
    }
   ],
   "source": [
    "gs_elastic_reg = GridSearchCV(model_elastic_reg, param_grid=grid_elastic_reg, cv=split, scoring=mse_scorer)\n",
    "gs_elastic_reg.fit(x_for_grid_search, y_reg_for_grid_search)"
   ]
  },
  {
   "cell_type": "code",
   "execution_count": 341,
   "metadata": {},
   "outputs": [
    {
     "name": "stderr",
     "output_type": "stream",
     "text": [
      "/anaconda3/lib/python3.7/site-packages/sklearn/utils/deprecation.py:125: FutureWarning: You are accessing a training score ('split0_train_score'), which will not be available by default any more in 0.21. If you need training scores, please set return_train_score=True\n",
      "  warnings.warn(*warn_args, **warn_kwargs)\n",
      "/anaconda3/lib/python3.7/site-packages/sklearn/utils/deprecation.py:125: FutureWarning: You are accessing a training score ('mean_train_score'), which will not be available by default any more in 0.21. If you need training scores, please set return_train_score=True\n",
      "  warnings.warn(*warn_args, **warn_kwargs)\n",
      "/anaconda3/lib/python3.7/site-packages/sklearn/utils/deprecation.py:125: FutureWarning: You are accessing a training score ('std_train_score'), which will not be available by default any more in 0.21. If you need training scores, please set return_train_score=True\n",
      "  warnings.warn(*warn_args, **warn_kwargs)\n"
     ]
    },
    {
     "data": {
      "text/html": [
       "<div>\n",
       "<style scoped>\n",
       "    .dataframe tbody tr th:only-of-type {\n",
       "        vertical-align: middle;\n",
       "    }\n",
       "\n",
       "    .dataframe tbody tr th {\n",
       "        vertical-align: top;\n",
       "    }\n",
       "\n",
       "    .dataframe thead th {\n",
       "        text-align: right;\n",
       "    }\n",
       "</style>\n",
       "<table border=\"1\" class=\"dataframe\">\n",
       "  <thead>\n",
       "    <tr style=\"text-align: right;\">\n",
       "      <th></th>\n",
       "      <th>mean_fit_time</th>\n",
       "      <th>std_fit_time</th>\n",
       "      <th>mean_score_time</th>\n",
       "      <th>std_score_time</th>\n",
       "      <th>param_model__alpha</th>\n",
       "      <th>param_model__l1_ratio</th>\n",
       "      <th>param_scale</th>\n",
       "      <th>params</th>\n",
       "      <th>split0_test_score</th>\n",
       "      <th>mean_test_score</th>\n",
       "      <th>std_test_score</th>\n",
       "      <th>rank_test_score</th>\n",
       "      <th>split0_train_score</th>\n",
       "      <th>mean_train_score</th>\n",
       "      <th>std_train_score</th>\n",
       "    </tr>\n",
       "  </thead>\n",
       "  <tbody>\n",
       "    <tr>\n",
       "      <th>60</th>\n",
       "      <td>0.092987</td>\n",
       "      <td>0.0</td>\n",
       "      <td>0.001526</td>\n",
       "      <td>0.0</td>\n",
       "      <td>10</td>\n",
       "      <td>0.8</td>\n",
       "      <td>None</td>\n",
       "      <td>{'model__alpha': 10, 'model__l1_ratio': 0.8, '...</td>\n",
       "      <td>-937.417606</td>\n",
       "      <td>-937.417606</td>\n",
       "      <td>0.0</td>\n",
       "      <td>1</td>\n",
       "      <td>-1569.865800</td>\n",
       "      <td>-1569.865800</td>\n",
       "      <td>0.0</td>\n",
       "    </tr>\n",
       "    <tr>\n",
       "      <th>58</th>\n",
       "      <td>0.090354</td>\n",
       "      <td>0.0</td>\n",
       "      <td>0.001347</td>\n",
       "      <td>0.0</td>\n",
       "      <td>10</td>\n",
       "      <td>0.7</td>\n",
       "      <td>None</td>\n",
       "      <td>{'model__alpha': 10, 'model__l1_ratio': 0.7000...</td>\n",
       "      <td>-937.429507</td>\n",
       "      <td>-937.429507</td>\n",
       "      <td>0.0</td>\n",
       "      <td>2</td>\n",
       "      <td>-1569.605279</td>\n",
       "      <td>-1569.605279</td>\n",
       "      <td>0.0</td>\n",
       "    </tr>\n",
       "    <tr>\n",
       "      <th>56</th>\n",
       "      <td>0.096387</td>\n",
       "      <td>0.0</td>\n",
       "      <td>0.001574</td>\n",
       "      <td>0.0</td>\n",
       "      <td>10</td>\n",
       "      <td>0.6</td>\n",
       "      <td>None</td>\n",
       "      <td>{'model__alpha': 10, 'model__l1_ratio': 0.6000...</td>\n",
       "      <td>-937.480829</td>\n",
       "      <td>-937.480829</td>\n",
       "      <td>0.0</td>\n",
       "      <td>3</td>\n",
       "      <td>-1569.384812</td>\n",
       "      <td>-1569.384812</td>\n",
       "      <td>0.0</td>\n",
       "    </tr>\n",
       "    <tr>\n",
       "      <th>54</th>\n",
       "      <td>0.099765</td>\n",
       "      <td>0.0</td>\n",
       "      <td>0.001952</td>\n",
       "      <td>0.0</td>\n",
       "      <td>10</td>\n",
       "      <td>0.5</td>\n",
       "      <td>None</td>\n",
       "      <td>{'model__alpha': 10, 'model__l1_ratio': 0.5, '...</td>\n",
       "      <td>-937.619091</td>\n",
       "      <td>-937.619091</td>\n",
       "      <td>0.0</td>\n",
       "      <td>4</td>\n",
       "      <td>-1569.203788</td>\n",
       "      <td>-1569.203788</td>\n",
       "      <td>0.0</td>\n",
       "    </tr>\n",
       "    <tr>\n",
       "      <th>52</th>\n",
       "      <td>0.091667</td>\n",
       "      <td>0.0</td>\n",
       "      <td>0.002001</td>\n",
       "      <td>0.0</td>\n",
       "      <td>10</td>\n",
       "      <td>0.4</td>\n",
       "      <td>None</td>\n",
       "      <td>{'model__alpha': 10, 'model__l1_ratio': 0.4, '...</td>\n",
       "      <td>-937.882080</td>\n",
       "      <td>-937.882080</td>\n",
       "      <td>0.0</td>\n",
       "      <td>5</td>\n",
       "      <td>-1569.039043</td>\n",
       "      <td>-1569.039043</td>\n",
       "      <td>0.0</td>\n",
       "    </tr>\n",
       "  </tbody>\n",
       "</table>\n",
       "</div>"
      ],
      "text/plain": [
       "    mean_fit_time  std_fit_time  mean_score_time  std_score_time  \\\n",
       "60       0.092987           0.0         0.001526             0.0   \n",
       "58       0.090354           0.0         0.001347             0.0   \n",
       "56       0.096387           0.0         0.001574             0.0   \n",
       "54       0.099765           0.0         0.001952             0.0   \n",
       "52       0.091667           0.0         0.002001             0.0   \n",
       "\n",
       "   param_model__alpha param_model__l1_ratio param_scale  \\\n",
       "60                 10                   0.8        None   \n",
       "58                 10                   0.7        None   \n",
       "56                 10                   0.6        None   \n",
       "54                 10                   0.5        None   \n",
       "52                 10                   0.4        None   \n",
       "\n",
       "                                               params  split0_test_score  \\\n",
       "60  {'model__alpha': 10, 'model__l1_ratio': 0.8, '...        -937.417606   \n",
       "58  {'model__alpha': 10, 'model__l1_ratio': 0.7000...        -937.429507   \n",
       "56  {'model__alpha': 10, 'model__l1_ratio': 0.6000...        -937.480829   \n",
       "54  {'model__alpha': 10, 'model__l1_ratio': 0.5, '...        -937.619091   \n",
       "52  {'model__alpha': 10, 'model__l1_ratio': 0.4, '...        -937.882080   \n",
       "\n",
       "    mean_test_score  std_test_score  rank_test_score  split0_train_score  \\\n",
       "60      -937.417606             0.0                1        -1569.865800   \n",
       "58      -937.429507             0.0                2        -1569.605279   \n",
       "56      -937.480829             0.0                3        -1569.384812   \n",
       "54      -937.619091             0.0                4        -1569.203788   \n",
       "52      -937.882080             0.0                5        -1569.039043   \n",
       "\n",
       "    mean_train_score  std_train_score  \n",
       "60      -1569.865800              0.0  \n",
       "58      -1569.605279              0.0  \n",
       "56      -1569.384812              0.0  \n",
       "54      -1569.203788              0.0  \n",
       "52      -1569.039043              0.0  "
      ]
     },
     "execution_count": 341,
     "metadata": {},
     "output_type": "execute_result"
    }
   ],
   "source": [
    "pd.DataFrame(gs_elastic_reg.cv_results_).sort_values(\"rank_test_score\").head(5)"
   ]
  },
  {
   "cell_type": "markdown",
   "metadata": {},
   "source": [
    "- Come si nota dalla grid search __l'MSE__ è negativo, questo è dovuto al fatto che lo scorer cambia di segno il risultato (https://scikit-learn.org/stable/modules/generated/sklearn.metrics.make_scorer.html)."
   ]
  },
  {
   "cell_type": "code",
   "execution_count": 342,
   "metadata": {},
   "outputs": [],
   "source": [
    "from sklearn.kernel_ridge import KernelRidge\n",
    "model_kernel = Pipeline([\n",
    "    (\"scale\", StandardScaler()),\n",
    "    (\"regr\", KernelRidge())\n",
    "])\n",
    "\n",
    "alpha_vals = np.logspace(-1, 3, 5) # Peso della regolarizzazione.\n",
    "\n",
    "grid_kernel = [{\n",
    "    \"scale\": [None, StandardScaler()],\n",
    "    \"regr__alpha\": alpha_vals,\n",
    "    \"regr__kernel\": [\"poly\"],\n",
    "    \"regr__degree\": range(1, 5)\n",
    "},\n",
    "{\n",
    "    \"scale\": [None, StandardScaler()],\n",
    "    \"regr__alpha\": alpha_vals, \n",
    "    \"regr__kernel\": [\"rbf\"], \n",
    "    \"regr__gamma\": np.logspace(-3, 3, 7) # Ampiezza gaussiana.\n",
    "}]"
   ]
  },
  {
   "cell_type": "code",
   "execution_count": 343,
   "metadata": {},
   "outputs": [
    {
     "name": "stderr",
     "output_type": "stream",
     "text": [
      "/anaconda3/lib/python3.7/site-packages/sklearn/linear_model/ridge.py:167: UserWarning: Singular matrix in solving dual problem. Using least-squares solution instead.\n",
      "  warnings.warn(\"Singular matrix in solving dual problem. Using \"\n",
      "/anaconda3/lib/python3.7/site-packages/sklearn/linear_model/ridge.py:167: UserWarning: Singular matrix in solving dual problem. Using least-squares solution instead.\n",
      "  warnings.warn(\"Singular matrix in solving dual problem. Using \"\n",
      "/anaconda3/lib/python3.7/site-packages/sklearn/linear_model/ridge.py:167: UserWarning: Singular matrix in solving dual problem. Using least-squares solution instead.\n",
      "  warnings.warn(\"Singular matrix in solving dual problem. Using \"\n",
      "/anaconda3/lib/python3.7/site-packages/sklearn/linear_model/ridge.py:167: UserWarning: Singular matrix in solving dual problem. Using least-squares solution instead.\n",
      "  warnings.warn(\"Singular matrix in solving dual problem. Using \"\n",
      "/anaconda3/lib/python3.7/site-packages/sklearn/linear_model/ridge.py:167: UserWarning: Singular matrix in solving dual problem. Using least-squares solution instead.\n",
      "  warnings.warn(\"Singular matrix in solving dual problem. Using \"\n",
      "/anaconda3/lib/python3.7/site-packages/sklearn/linear_model/ridge.py:167: UserWarning: Singular matrix in solving dual problem. Using least-squares solution instead.\n",
      "  warnings.warn(\"Singular matrix in solving dual problem. Using \"\n",
      "/anaconda3/lib/python3.7/site-packages/sklearn/linear_model/ridge.py:167: UserWarning: Singular matrix in solving dual problem. Using least-squares solution instead.\n",
      "  warnings.warn(\"Singular matrix in solving dual problem. Using \"\n",
      "/anaconda3/lib/python3.7/site-packages/sklearn/linear_model/ridge.py:167: UserWarning: Singular matrix in solving dual problem. Using least-squares solution instead.\n",
      "  warnings.warn(\"Singular matrix in solving dual problem. Using \"\n",
      "/anaconda3/lib/python3.7/site-packages/sklearn/linear_model/ridge.py:167: UserWarning: Singular matrix in solving dual problem. Using least-squares solution instead.\n",
      "  warnings.warn(\"Singular matrix in solving dual problem. Using \"\n",
      "/anaconda3/lib/python3.7/site-packages/sklearn/linear_model/ridge.py:167: UserWarning: Singular matrix in solving dual problem. Using least-squares solution instead.\n",
      "  warnings.warn(\"Singular matrix in solving dual problem. Using \"\n",
      "/anaconda3/lib/python3.7/site-packages/sklearn/linear_model/ridge.py:167: UserWarning: Singular matrix in solving dual problem. Using least-squares solution instead.\n",
      "  warnings.warn(\"Singular matrix in solving dual problem. Using \"\n",
      "/anaconda3/lib/python3.7/site-packages/sklearn/linear_model/ridge.py:167: UserWarning: Singular matrix in solving dual problem. Using least-squares solution instead.\n",
      "  warnings.warn(\"Singular matrix in solving dual problem. Using \"\n",
      "/anaconda3/lib/python3.7/site-packages/sklearn/linear_model/ridge.py:167: UserWarning: Singular matrix in solving dual problem. Using least-squares solution instead.\n",
      "  warnings.warn(\"Singular matrix in solving dual problem. Using \"\n",
      "/anaconda3/lib/python3.7/site-packages/sklearn/linear_model/ridge.py:167: UserWarning: Singular matrix in solving dual problem. Using least-squares solution instead.\n",
      "  warnings.warn(\"Singular matrix in solving dual problem. Using \"\n",
      "/anaconda3/lib/python3.7/site-packages/sklearn/linear_model/ridge.py:167: UserWarning: Singular matrix in solving dual problem. Using least-squares solution instead.\n",
      "  warnings.warn(\"Singular matrix in solving dual problem. Using \"\n",
      "/anaconda3/lib/python3.7/site-packages/sklearn/linear_model/ridge.py:167: UserWarning: Singular matrix in solving dual problem. Using least-squares solution instead.\n",
      "  warnings.warn(\"Singular matrix in solving dual problem. Using \"\n",
      "/anaconda3/lib/python3.7/site-packages/sklearn/linear_model/ridge.py:167: UserWarning: Singular matrix in solving dual problem. Using least-squares solution instead.\n",
      "  warnings.warn(\"Singular matrix in solving dual problem. Using \"\n",
      "/anaconda3/lib/python3.7/site-packages/sklearn/linear_model/ridge.py:167: UserWarning: Singular matrix in solving dual problem. Using least-squares solution instead.\n",
      "  warnings.warn(\"Singular matrix in solving dual problem. Using \"\n",
      "/anaconda3/lib/python3.7/site-packages/sklearn/linear_model/ridge.py:167: UserWarning: Singular matrix in solving dual problem. Using least-squares solution instead.\n",
      "  warnings.warn(\"Singular matrix in solving dual problem. Using \"\n",
      "/anaconda3/lib/python3.7/site-packages/sklearn/linear_model/ridge.py:167: UserWarning: Singular matrix in solving dual problem. Using least-squares solution instead.\n",
      "  warnings.warn(\"Singular matrix in solving dual problem. Using \"\n",
      "/anaconda3/lib/python3.7/site-packages/sklearn/linear_model/ridge.py:167: UserWarning: Singular matrix in solving dual problem. Using least-squares solution instead.\n",
      "  warnings.warn(\"Singular matrix in solving dual problem. Using \"\n"
     ]
    },
    {
     "data": {
      "text/plain": [
       "GridSearchCV(cv=PredefinedSplit(test_fold=array([-1, -1, ...,  0,  0])),\n",
       "       error_score='raise-deprecating',\n",
       "       estimator=Pipeline(memory=None,\n",
       "     steps=[('scale', StandardScaler(copy=True, with_mean=True, with_std=True)), ('regr', KernelRidge(alpha=1, coef0=1, degree=3, gamma=None, kernel='linear',\n",
       "      kernel_params=None))]),\n",
       "       fit_params=None, iid='warn', n_jobs=None,\n",
       "       param_grid=[{'scale': [None, StandardScaler(copy=True, with_mean=True, with_std=True)], 'regr__alpha': array([1.e-01, 1.e+00, 1.e+01, 1.e+02, 1.e+03]), 'regr__kernel': ['poly'], 'regr__degree': range(1, 5)}, {'scale': [None, StandardScaler(copy=True, with_mean=True, with_std=True)], 'regr__alpha': array([1.e-01, 1.e+00, 1.e+01, 1.e+02, 1.e+03]), 'regr__kernel': ['rbf'], 'regr__gamma': array([1.e-03, 1.e-02, 1.e-01, 1.e+00, 1.e+01, 1.e+02, 1.e+03])}],\n",
       "       pre_dispatch='2*n_jobs', refit=True, return_train_score='warn',\n",
       "       scoring=make_scorer(mean_squared_error, greater_is_better=False),\n",
       "       verbose=0)"
      ]
     },
     "execution_count": 343,
     "metadata": {},
     "output_type": "execute_result"
    }
   ],
   "source": [
    "gs_kernel_reg = GridSearchCV(model_kernel, param_grid=grid_kernel, cv=split, scoring=mse_scorer)\n",
    "gs_kernel_reg.fit(x_for_grid_search, y_reg_for_grid_search)"
   ]
  },
  {
   "cell_type": "code",
   "execution_count": 344,
   "metadata": {},
   "outputs": [
    {
     "name": "stderr",
     "output_type": "stream",
     "text": [
      "/anaconda3/lib/python3.7/site-packages/sklearn/utils/deprecation.py:125: FutureWarning: You are accessing a training score ('split0_train_score'), which will not be available by default any more in 0.21. If you need training scores, please set return_train_score=True\n",
      "  warnings.warn(*warn_args, **warn_kwargs)\n",
      "/anaconda3/lib/python3.7/site-packages/sklearn/utils/deprecation.py:125: FutureWarning: You are accessing a training score ('mean_train_score'), which will not be available by default any more in 0.21. If you need training scores, please set return_train_score=True\n",
      "  warnings.warn(*warn_args, **warn_kwargs)\n",
      "/anaconda3/lib/python3.7/site-packages/sklearn/utils/deprecation.py:125: FutureWarning: You are accessing a training score ('std_train_score'), which will not be available by default any more in 0.21. If you need training scores, please set return_train_score=True\n",
      "  warnings.warn(*warn_args, **warn_kwargs)\n"
     ]
    },
    {
     "data": {
      "text/html": [
       "<div>\n",
       "<style scoped>\n",
       "    .dataframe tbody tr th:only-of-type {\n",
       "        vertical-align: middle;\n",
       "    }\n",
       "\n",
       "    .dataframe tbody tr th {\n",
       "        vertical-align: top;\n",
       "    }\n",
       "\n",
       "    .dataframe thead th {\n",
       "        text-align: right;\n",
       "    }\n",
       "</style>\n",
       "<table border=\"1\" class=\"dataframe\">\n",
       "  <thead>\n",
       "    <tr style=\"text-align: right;\">\n",
       "      <th></th>\n",
       "      <th>mean_fit_time</th>\n",
       "      <th>std_fit_time</th>\n",
       "      <th>mean_score_time</th>\n",
       "      <th>std_score_time</th>\n",
       "      <th>param_regr__alpha</th>\n",
       "      <th>param_regr__degree</th>\n",
       "      <th>param_regr__kernel</th>\n",
       "      <th>param_scale</th>\n",
       "      <th>param_regr__gamma</th>\n",
       "      <th>params</th>\n",
       "      <th>split0_test_score</th>\n",
       "      <th>mean_test_score</th>\n",
       "      <th>std_test_score</th>\n",
       "      <th>rank_test_score</th>\n",
       "      <th>split0_train_score</th>\n",
       "      <th>mean_train_score</th>\n",
       "      <th>std_train_score</th>\n",
       "    </tr>\n",
       "  </thead>\n",
       "  <tbody>\n",
       "    <tr>\n",
       "      <th>0</th>\n",
       "      <td>12.128174</td>\n",
       "      <td>0.0</td>\n",
       "      <td>0.021503</td>\n",
       "      <td>0.0</td>\n",
       "      <td>0.1</td>\n",
       "      <td>1</td>\n",
       "      <td>poly</td>\n",
       "      <td>None</td>\n",
       "      <td>NaN</td>\n",
       "      <td>{'regr__alpha': 0.1, 'regr__degree': 1, 'regr_...</td>\n",
       "      <td>-954.799138</td>\n",
       "      <td>-954.799138</td>\n",
       "      <td>0.0</td>\n",
       "      <td>1</td>\n",
       "      <td>-1719.280837</td>\n",
       "      <td>-1719.280837</td>\n",
       "      <td>0.0</td>\n",
       "    </tr>\n",
       "    <tr>\n",
       "      <th>1</th>\n",
       "      <td>0.377739</td>\n",
       "      <td>0.0</td>\n",
       "      <td>0.020709</td>\n",
       "      <td>0.0</td>\n",
       "      <td>0.1</td>\n",
       "      <td>1</td>\n",
       "      <td>poly</td>\n",
       "      <td>StandardScaler(copy=True, with_mean=True, with...</td>\n",
       "      <td>NaN</td>\n",
       "      <td>{'regr__alpha': 0.1, 'regr__degree': 1, 'regr_...</td>\n",
       "      <td>-975.680363</td>\n",
       "      <td>-975.680363</td>\n",
       "      <td>0.0</td>\n",
       "      <td>2</td>\n",
       "      <td>-1637.728615</td>\n",
       "      <td>-1637.728615</td>\n",
       "      <td>0.0</td>\n",
       "    </tr>\n",
       "    <tr>\n",
       "      <th>8</th>\n",
       "      <td>11.183776</td>\n",
       "      <td>0.0</td>\n",
       "      <td>0.021471</td>\n",
       "      <td>0.0</td>\n",
       "      <td>1</td>\n",
       "      <td>1</td>\n",
       "      <td>poly</td>\n",
       "      <td>None</td>\n",
       "      <td>NaN</td>\n",
       "      <td>{'regr__alpha': 1.0, 'regr__degree': 1, 'regr_...</td>\n",
       "      <td>-1074.010101</td>\n",
       "      <td>-1074.010101</td>\n",
       "      <td>0.0</td>\n",
       "      <td>3</td>\n",
       "      <td>-1777.911477</td>\n",
       "      <td>-1777.911477</td>\n",
       "      <td>0.0</td>\n",
       "    </tr>\n",
       "    <tr>\n",
       "      <th>3</th>\n",
       "      <td>0.376097</td>\n",
       "      <td>0.0</td>\n",
       "      <td>0.022104</td>\n",
       "      <td>0.0</td>\n",
       "      <td>0.1</td>\n",
       "      <td>2</td>\n",
       "      <td>poly</td>\n",
       "      <td>StandardScaler(copy=True, with_mean=True, with...</td>\n",
       "      <td>NaN</td>\n",
       "      <td>{'regr__alpha': 0.1, 'regr__degree': 2, 'regr_...</td>\n",
       "      <td>-1086.418674</td>\n",
       "      <td>-1086.418674</td>\n",
       "      <td>0.0</td>\n",
       "      <td>4</td>\n",
       "      <td>-1411.934175</td>\n",
       "      <td>-1411.934175</td>\n",
       "      <td>0.0</td>\n",
       "    </tr>\n",
       "    <tr>\n",
       "      <th>16</th>\n",
       "      <td>10.965712</td>\n",
       "      <td>0.0</td>\n",
       "      <td>0.021193</td>\n",
       "      <td>0.0</td>\n",
       "      <td>10</td>\n",
       "      <td>1</td>\n",
       "      <td>poly</td>\n",
       "      <td>None</td>\n",
       "      <td>NaN</td>\n",
       "      <td>{'regr__alpha': 10.0, 'regr__degree': 1, 'regr...</td>\n",
       "      <td>-1102.465782</td>\n",
       "      <td>-1102.465782</td>\n",
       "      <td>0.0</td>\n",
       "      <td>5</td>\n",
       "      <td>-1826.074296</td>\n",
       "      <td>-1826.074296</td>\n",
       "      <td>0.0</td>\n",
       "    </tr>\n",
       "  </tbody>\n",
       "</table>\n",
       "</div>"
      ],
      "text/plain": [
       "    mean_fit_time  std_fit_time  mean_score_time  std_score_time  \\\n",
       "0       12.128174           0.0         0.021503             0.0   \n",
       "1        0.377739           0.0         0.020709             0.0   \n",
       "8       11.183776           0.0         0.021471             0.0   \n",
       "3        0.376097           0.0         0.022104             0.0   \n",
       "16      10.965712           0.0         0.021193             0.0   \n",
       "\n",
       "   param_regr__alpha param_regr__degree param_regr__kernel  \\\n",
       "0                0.1                  1               poly   \n",
       "1                0.1                  1               poly   \n",
       "8                  1                  1               poly   \n",
       "3                0.1                  2               poly   \n",
       "16                10                  1               poly   \n",
       "\n",
       "                                          param_scale param_regr__gamma  \\\n",
       "0                                                None               NaN   \n",
       "1   StandardScaler(copy=True, with_mean=True, with...               NaN   \n",
       "8                                                None               NaN   \n",
       "3   StandardScaler(copy=True, with_mean=True, with...               NaN   \n",
       "16                                               None               NaN   \n",
       "\n",
       "                                               params  split0_test_score  \\\n",
       "0   {'regr__alpha': 0.1, 'regr__degree': 1, 'regr_...        -954.799138   \n",
       "1   {'regr__alpha': 0.1, 'regr__degree': 1, 'regr_...        -975.680363   \n",
       "8   {'regr__alpha': 1.0, 'regr__degree': 1, 'regr_...       -1074.010101   \n",
       "3   {'regr__alpha': 0.1, 'regr__degree': 2, 'regr_...       -1086.418674   \n",
       "16  {'regr__alpha': 10.0, 'regr__degree': 1, 'regr...       -1102.465782   \n",
       "\n",
       "    mean_test_score  std_test_score  rank_test_score  split0_train_score  \\\n",
       "0       -954.799138             0.0                1        -1719.280837   \n",
       "1       -975.680363             0.0                2        -1637.728615   \n",
       "8      -1074.010101             0.0                3        -1777.911477   \n",
       "3      -1086.418674             0.0                4        -1411.934175   \n",
       "16     -1102.465782             0.0                5        -1826.074296   \n",
       "\n",
       "    mean_train_score  std_train_score  \n",
       "0       -1719.280837              0.0  \n",
       "1       -1637.728615              0.0  \n",
       "8       -1777.911477              0.0  \n",
       "3       -1411.934175              0.0  \n",
       "16      -1826.074296              0.0  "
      ]
     },
     "execution_count": 344,
     "metadata": {},
     "output_type": "execute_result"
    }
   ],
   "source": [
    "pd.DataFrame(gs_kernel_reg.cv_results_).sort_values(\"rank_test_score\").head(5)"
   ]
  },
  {
   "cell_type": "code",
   "execution_count": 345,
   "metadata": {},
   "outputs": [],
   "source": [
    "from sklearn.svm import SVR\n",
    "model_svr = Pipeline([\n",
    "    (\"scale\", StandardScaler()),\n",
    "    (\"svr\", SVR())\n",
    "])\n",
    "\n",
    "c_vals = [0.1, 1, 10, 100, 1000] # Peso della regolarizzazione.\n",
    "epsilon_val = [0.1, 0.2, 0.5, 0.8, 1.0] \n",
    "\n",
    "grid_svr = [{\n",
    "    \"svr__C\": c_vals,\n",
    "    \"svr__kernel\": [\"poly\"],\n",
    "    \"svr__degree\": range(1, 5),\n",
    "    \"svr__epsilon\": epsilon_val\n",
    "},\n",
    "{\n",
    "    \"svr__C\": c_vals, \n",
    "    \"svr__kernel\": [\"rbf\"], \n",
    "    \"svr__gamma\": ['auto', 'scale'],\n",
    "    \"svr__epsilon\": epsilon_val\n",
    "}]"
   ]
  },
  {
   "cell_type": "code",
   "execution_count": 346,
   "metadata": {},
   "outputs": [
    {
     "data": {
      "text/plain": [
       "GridSearchCV(cv=PredefinedSplit(test_fold=array([-1, -1, ...,  0,  0])),\n",
       "       error_score='raise-deprecating',\n",
       "       estimator=Pipeline(memory=None,\n",
       "     steps=[('scale', StandardScaler(copy=True, with_mean=True, with_std=True)), ('svr', SVR(C=1.0, cache_size=200, coef0=0.0, degree=3, epsilon=0.1,\n",
       "  gamma='auto_deprecated', kernel='rbf', max_iter=-1, shrinking=True,\n",
       "  tol=0.001, verbose=False))]),\n",
       "       fit_params=None, iid='warn', n_jobs=None,\n",
       "       param_grid=[{'svr__C': [0.1, 1, 10, 100, 1000], 'svr__kernel': ['poly'], 'svr__degree': range(1, 5), 'svr__epsilon': [0.1, 0.2, 0.5, 0.8, 1.0]}, {'svr__C': [0.1, 1, 10, 100, 1000], 'svr__kernel': ['rbf'], 'svr__gamma': ['auto', 'scale'], 'svr__epsilon': [0.1, 0.2, 0.5, 0.8, 1.0]}],\n",
       "       pre_dispatch='2*n_jobs', refit=True, return_train_score='warn',\n",
       "       scoring=make_scorer(mean_squared_error, greater_is_better=False),\n",
       "       verbose=0)"
      ]
     },
     "execution_count": 346,
     "metadata": {},
     "output_type": "execute_result"
    }
   ],
   "source": [
    "gs_svr_reg = GridSearchCV(model_svr, param_grid=grid_svr, cv=split, scoring=mse_scorer)\n",
    "gs_svr_reg.fit(x_for_grid_search, y_reg_for_grid_search)"
   ]
  },
  {
   "cell_type": "code",
   "execution_count": 347,
   "metadata": {},
   "outputs": [
    {
     "name": "stderr",
     "output_type": "stream",
     "text": [
      "/anaconda3/lib/python3.7/site-packages/sklearn/utils/deprecation.py:125: FutureWarning: You are accessing a training score ('split0_train_score'), which will not be available by default any more in 0.21. If you need training scores, please set return_train_score=True\n",
      "  warnings.warn(*warn_args, **warn_kwargs)\n",
      "/anaconda3/lib/python3.7/site-packages/sklearn/utils/deprecation.py:125: FutureWarning: You are accessing a training score ('mean_train_score'), which will not be available by default any more in 0.21. If you need training scores, please set return_train_score=True\n",
      "  warnings.warn(*warn_args, **warn_kwargs)\n",
      "/anaconda3/lib/python3.7/site-packages/sklearn/utils/deprecation.py:125: FutureWarning: You are accessing a training score ('std_train_score'), which will not be available by default any more in 0.21. If you need training scores, please set return_train_score=True\n",
      "  warnings.warn(*warn_args, **warn_kwargs)\n"
     ]
    },
    {
     "data": {
      "text/html": [
       "<div>\n",
       "<style scoped>\n",
       "    .dataframe tbody tr th:only-of-type {\n",
       "        vertical-align: middle;\n",
       "    }\n",
       "\n",
       "    .dataframe tbody tr th {\n",
       "        vertical-align: top;\n",
       "    }\n",
       "\n",
       "    .dataframe thead th {\n",
       "        text-align: right;\n",
       "    }\n",
       "</style>\n",
       "<table border=\"1\" class=\"dataframe\">\n",
       "  <thead>\n",
       "    <tr style=\"text-align: right;\">\n",
       "      <th></th>\n",
       "      <th>mean_fit_time</th>\n",
       "      <th>std_fit_time</th>\n",
       "      <th>mean_score_time</th>\n",
       "      <th>std_score_time</th>\n",
       "      <th>param_svr__C</th>\n",
       "      <th>param_svr__degree</th>\n",
       "      <th>param_svr__epsilon</th>\n",
       "      <th>param_svr__kernel</th>\n",
       "      <th>param_svr__gamma</th>\n",
       "      <th>params</th>\n",
       "      <th>split0_test_score</th>\n",
       "      <th>mean_test_score</th>\n",
       "      <th>std_test_score</th>\n",
       "      <th>rank_test_score</th>\n",
       "      <th>split0_train_score</th>\n",
       "      <th>mean_train_score</th>\n",
       "      <th>std_train_score</th>\n",
       "    </tr>\n",
       "  </thead>\n",
       "  <tbody>\n",
       "    <tr>\n",
       "      <th>80</th>\n",
       "      <td>1.718267</td>\n",
       "      <td>0.0</td>\n",
       "      <td>0.075013</td>\n",
       "      <td>0.0</td>\n",
       "      <td>1000</td>\n",
       "      <td>1</td>\n",
       "      <td>0.1</td>\n",
       "      <td>poly</td>\n",
       "      <td>NaN</td>\n",
       "      <td>{'svr__C': 1000, 'svr__degree': 1, 'svr__epsil...</td>\n",
       "      <td>-876.904952</td>\n",
       "      <td>-876.904952</td>\n",
       "      <td>0.0</td>\n",
       "      <td>1</td>\n",
       "      <td>-1620.228547</td>\n",
       "      <td>-1620.228547</td>\n",
       "      <td>0.0</td>\n",
       "    </tr>\n",
       "    <tr>\n",
       "      <th>81</th>\n",
       "      <td>1.763831</td>\n",
       "      <td>0.0</td>\n",
       "      <td>0.074337</td>\n",
       "      <td>0.0</td>\n",
       "      <td>1000</td>\n",
       "      <td>1</td>\n",
       "      <td>0.2</td>\n",
       "      <td>poly</td>\n",
       "      <td>NaN</td>\n",
       "      <td>{'svr__C': 1000, 'svr__degree': 1, 'svr__epsil...</td>\n",
       "      <td>-877.075602</td>\n",
       "      <td>-877.075602</td>\n",
       "      <td>0.0</td>\n",
       "      <td>2</td>\n",
       "      <td>-1620.486341</td>\n",
       "      <td>-1620.486341</td>\n",
       "      <td>0.0</td>\n",
       "    </tr>\n",
       "    <tr>\n",
       "      <th>83</th>\n",
       "      <td>1.492604</td>\n",
       "      <td>0.0</td>\n",
       "      <td>0.073176</td>\n",
       "      <td>0.0</td>\n",
       "      <td>1000</td>\n",
       "      <td>1</td>\n",
       "      <td>0.8</td>\n",
       "      <td>poly</td>\n",
       "      <td>NaN</td>\n",
       "      <td>{'svr__C': 1000, 'svr__degree': 1, 'svr__epsil...</td>\n",
       "      <td>-877.317737</td>\n",
       "      <td>-877.317737</td>\n",
       "      <td>0.0</td>\n",
       "      <td>3</td>\n",
       "      <td>-1620.630725</td>\n",
       "      <td>-1620.630725</td>\n",
       "      <td>0.0</td>\n",
       "    </tr>\n",
       "    <tr>\n",
       "      <th>84</th>\n",
       "      <td>1.514474</td>\n",
       "      <td>0.0</td>\n",
       "      <td>0.074091</td>\n",
       "      <td>0.0</td>\n",
       "      <td>1000</td>\n",
       "      <td>1</td>\n",
       "      <td>1</td>\n",
       "      <td>poly</td>\n",
       "      <td>NaN</td>\n",
       "      <td>{'svr__C': 1000, 'svr__degree': 1, 'svr__epsil...</td>\n",
       "      <td>-877.456255</td>\n",
       "      <td>-877.456255</td>\n",
       "      <td>0.0</td>\n",
       "      <td>4</td>\n",
       "      <td>-1621.438779</td>\n",
       "      <td>-1621.438779</td>\n",
       "      <td>0.0</td>\n",
       "    </tr>\n",
       "    <tr>\n",
       "      <th>82</th>\n",
       "      <td>1.622980</td>\n",
       "      <td>0.0</td>\n",
       "      <td>0.073535</td>\n",
       "      <td>0.0</td>\n",
       "      <td>1000</td>\n",
       "      <td>1</td>\n",
       "      <td>0.5</td>\n",
       "      <td>poly</td>\n",
       "      <td>NaN</td>\n",
       "      <td>{'svr__C': 1000, 'svr__degree': 1, 'svr__epsil...</td>\n",
       "      <td>-877.458939</td>\n",
       "      <td>-877.458939</td>\n",
       "      <td>0.0</td>\n",
       "      <td>5</td>\n",
       "      <td>-1619.686434</td>\n",
       "      <td>-1619.686434</td>\n",
       "      <td>0.0</td>\n",
       "    </tr>\n",
       "  </tbody>\n",
       "</table>\n",
       "</div>"
      ],
      "text/plain": [
       "    mean_fit_time  std_fit_time  mean_score_time  std_score_time param_svr__C  \\\n",
       "80       1.718267           0.0         0.075013             0.0         1000   \n",
       "81       1.763831           0.0         0.074337             0.0         1000   \n",
       "83       1.492604           0.0         0.073176             0.0         1000   \n",
       "84       1.514474           0.0         0.074091             0.0         1000   \n",
       "82       1.622980           0.0         0.073535             0.0         1000   \n",
       "\n",
       "   param_svr__degree param_svr__epsilon param_svr__kernel param_svr__gamma  \\\n",
       "80                 1                0.1              poly              NaN   \n",
       "81                 1                0.2              poly              NaN   \n",
       "83                 1                0.8              poly              NaN   \n",
       "84                 1                  1              poly              NaN   \n",
       "82                 1                0.5              poly              NaN   \n",
       "\n",
       "                                               params  split0_test_score  \\\n",
       "80  {'svr__C': 1000, 'svr__degree': 1, 'svr__epsil...        -876.904952   \n",
       "81  {'svr__C': 1000, 'svr__degree': 1, 'svr__epsil...        -877.075602   \n",
       "83  {'svr__C': 1000, 'svr__degree': 1, 'svr__epsil...        -877.317737   \n",
       "84  {'svr__C': 1000, 'svr__degree': 1, 'svr__epsil...        -877.456255   \n",
       "82  {'svr__C': 1000, 'svr__degree': 1, 'svr__epsil...        -877.458939   \n",
       "\n",
       "    mean_test_score  std_test_score  rank_test_score  split0_train_score  \\\n",
       "80      -876.904952             0.0                1        -1620.228547   \n",
       "81      -877.075602             0.0                2        -1620.486341   \n",
       "83      -877.317737             0.0                3        -1620.630725   \n",
       "84      -877.456255             0.0                4        -1621.438779   \n",
       "82      -877.458939             0.0                5        -1619.686434   \n",
       "\n",
       "    mean_train_score  std_train_score  \n",
       "80      -1620.228547              0.0  \n",
       "81      -1620.486341              0.0  \n",
       "83      -1620.630725              0.0  \n",
       "84      -1621.438779              0.0  \n",
       "82      -1619.686434              0.0  "
      ]
     },
     "execution_count": 347,
     "metadata": {},
     "output_type": "execute_result"
    }
   ],
   "source": [
    "pd.DataFrame(gs_svr_reg.cv_results_).sort_values(\"rank_test_score\").head(5)"
   ]
  },
  {
   "cell_type": "code",
   "execution_count": 348,
   "metadata": {},
   "outputs": [],
   "source": [
    "from sklearn.ensemble import GradientBoostingRegressor\n",
    "model_gb_reg = Pipeline([\n",
    "    (\"scaler\", StandardScaler()),\n",
    "    (\"model\",  GradientBoostingRegressor(random_state=42))\n",
    "])\n",
    "\n",
    "grid_gb_reg = {\n",
    "    \"model__n_estimators\": range(20, 100)\n",
    "}"
   ]
  },
  {
   "cell_type": "code",
   "execution_count": 349,
   "metadata": {},
   "outputs": [
    {
     "data": {
      "text/plain": [
       "GridSearchCV(cv=PredefinedSplit(test_fold=array([-1, -1, ...,  0,  0])),\n",
       "       error_score='raise-deprecating',\n",
       "       estimator=Pipeline(memory=None,\n",
       "     steps=[('scaler', StandardScaler(copy=True, with_mean=True, with_std=True)), ('model', GradientBoostingRegressor(alpha=0.9, criterion='friedman_mse', init=None,\n",
       "             learning_rate=0.1, loss='ls', max_depth=3, max_features=None,\n",
       "             max_leaf_nodes=None, min_impurity_decrease=0.0,\n",
       "   ...=42, subsample=1.0, tol=0.0001,\n",
       "             validation_fraction=0.1, verbose=0, warm_start=False))]),\n",
       "       fit_params=None, iid='warn', n_jobs=None,\n",
       "       param_grid={'model__n_estimators': range(20, 100)},\n",
       "       pre_dispatch='2*n_jobs', refit=True, return_train_score='warn',\n",
       "       scoring=make_scorer(mean_squared_error, greater_is_better=False),\n",
       "       verbose=0)"
      ]
     },
     "execution_count": 349,
     "metadata": {},
     "output_type": "execute_result"
    }
   ],
   "source": [
    "gs_gb_reg = GridSearchCV(model_gb_reg, param_grid=grid_gb_reg, cv=split, scoring=mse_scorer)\n",
    "gs_gb_reg.fit(x_for_grid_search, y_reg_for_grid_search)"
   ]
  },
  {
   "cell_type": "code",
   "execution_count": 350,
   "metadata": {},
   "outputs": [
    {
     "name": "stderr",
     "output_type": "stream",
     "text": [
      "/anaconda3/lib/python3.7/site-packages/sklearn/utils/deprecation.py:125: FutureWarning: You are accessing a training score ('split0_train_score'), which will not be available by default any more in 0.21. If you need training scores, please set return_train_score=True\n",
      "  warnings.warn(*warn_args, **warn_kwargs)\n",
      "/anaconda3/lib/python3.7/site-packages/sklearn/utils/deprecation.py:125: FutureWarning: You are accessing a training score ('mean_train_score'), which will not be available by default any more in 0.21. If you need training scores, please set return_train_score=True\n",
      "  warnings.warn(*warn_args, **warn_kwargs)\n",
      "/anaconda3/lib/python3.7/site-packages/sklearn/utils/deprecation.py:125: FutureWarning: You are accessing a training score ('std_train_score'), which will not be available by default any more in 0.21. If you need training scores, please set return_train_score=True\n",
      "  warnings.warn(*warn_args, **warn_kwargs)\n"
     ]
    },
    {
     "data": {
      "text/html": [
       "<div>\n",
       "<style scoped>\n",
       "    .dataframe tbody tr th:only-of-type {\n",
       "        vertical-align: middle;\n",
       "    }\n",
       "\n",
       "    .dataframe tbody tr th {\n",
       "        vertical-align: top;\n",
       "    }\n",
       "\n",
       "    .dataframe thead th {\n",
       "        text-align: right;\n",
       "    }\n",
       "</style>\n",
       "<table border=\"1\" class=\"dataframe\">\n",
       "  <thead>\n",
       "    <tr style=\"text-align: right;\">\n",
       "      <th></th>\n",
       "      <th>mean_fit_time</th>\n",
       "      <th>std_fit_time</th>\n",
       "      <th>mean_score_time</th>\n",
       "      <th>std_score_time</th>\n",
       "      <th>param_model__n_estimators</th>\n",
       "      <th>params</th>\n",
       "      <th>split0_test_score</th>\n",
       "      <th>mean_test_score</th>\n",
       "      <th>std_test_score</th>\n",
       "      <th>rank_test_score</th>\n",
       "      <th>split0_train_score</th>\n",
       "      <th>mean_train_score</th>\n",
       "      <th>std_train_score</th>\n",
       "    </tr>\n",
       "  </thead>\n",
       "  <tbody>\n",
       "    <tr>\n",
       "      <th>44</th>\n",
       "      <td>0.385330</td>\n",
       "      <td>0.0</td>\n",
       "      <td>0.002020</td>\n",
       "      <td>0.0</td>\n",
       "      <td>64</td>\n",
       "      <td>{'model__n_estimators': 64}</td>\n",
       "      <td>-2262.297794</td>\n",
       "      <td>-2262.297794</td>\n",
       "      <td>0.0</td>\n",
       "      <td>1</td>\n",
       "      <td>-979.811524</td>\n",
       "      <td>-979.811524</td>\n",
       "      <td>0.0</td>\n",
       "    </tr>\n",
       "    <tr>\n",
       "      <th>43</th>\n",
       "      <td>0.380458</td>\n",
       "      <td>0.0</td>\n",
       "      <td>0.001798</td>\n",
       "      <td>0.0</td>\n",
       "      <td>63</td>\n",
       "      <td>{'model__n_estimators': 63}</td>\n",
       "      <td>-2264.100324</td>\n",
       "      <td>-2264.100324</td>\n",
       "      <td>0.0</td>\n",
       "      <td>2</td>\n",
       "      <td>-984.549592</td>\n",
       "      <td>-984.549592</td>\n",
       "      <td>0.0</td>\n",
       "    </tr>\n",
       "    <tr>\n",
       "      <th>47</th>\n",
       "      <td>0.404437</td>\n",
       "      <td>0.0</td>\n",
       "      <td>0.001797</td>\n",
       "      <td>0.0</td>\n",
       "      <td>67</td>\n",
       "      <td>{'model__n_estimators': 67}</td>\n",
       "      <td>-2285.271374</td>\n",
       "      <td>-2285.271374</td>\n",
       "      <td>0.0</td>\n",
       "      <td>3</td>\n",
       "      <td>-969.045698</td>\n",
       "      <td>-969.045698</td>\n",
       "      <td>0.0</td>\n",
       "    </tr>\n",
       "    <tr>\n",
       "      <th>46</th>\n",
       "      <td>0.405788</td>\n",
       "      <td>0.0</td>\n",
       "      <td>0.001798</td>\n",
       "      <td>0.0</td>\n",
       "      <td>66</td>\n",
       "      <td>{'model__n_estimators': 66}</td>\n",
       "      <td>-2290.257285</td>\n",
       "      <td>-2290.257285</td>\n",
       "      <td>0.0</td>\n",
       "      <td>4</td>\n",
       "      <td>-972.607912</td>\n",
       "      <td>-972.607912</td>\n",
       "      <td>0.0</td>\n",
       "    </tr>\n",
       "    <tr>\n",
       "      <th>45</th>\n",
       "      <td>0.395698</td>\n",
       "      <td>0.0</td>\n",
       "      <td>0.001838</td>\n",
       "      <td>0.0</td>\n",
       "      <td>65</td>\n",
       "      <td>{'model__n_estimators': 65}</td>\n",
       "      <td>-2290.619319</td>\n",
       "      <td>-2290.619319</td>\n",
       "      <td>0.0</td>\n",
       "      <td>5</td>\n",
       "      <td>-975.728901</td>\n",
       "      <td>-975.728901</td>\n",
       "      <td>0.0</td>\n",
       "    </tr>\n",
       "  </tbody>\n",
       "</table>\n",
       "</div>"
      ],
      "text/plain": [
       "    mean_fit_time  std_fit_time  mean_score_time  std_score_time  \\\n",
       "44       0.385330           0.0         0.002020             0.0   \n",
       "43       0.380458           0.0         0.001798             0.0   \n",
       "47       0.404437           0.0         0.001797             0.0   \n",
       "46       0.405788           0.0         0.001798             0.0   \n",
       "45       0.395698           0.0         0.001838             0.0   \n",
       "\n",
       "   param_model__n_estimators                       params  split0_test_score  \\\n",
       "44                        64  {'model__n_estimators': 64}       -2262.297794   \n",
       "43                        63  {'model__n_estimators': 63}       -2264.100324   \n",
       "47                        67  {'model__n_estimators': 67}       -2285.271374   \n",
       "46                        66  {'model__n_estimators': 66}       -2290.257285   \n",
       "45                        65  {'model__n_estimators': 65}       -2290.619319   \n",
       "\n",
       "    mean_test_score  std_test_score  rank_test_score  split0_train_score  \\\n",
       "44     -2262.297794             0.0                1         -979.811524   \n",
       "43     -2264.100324             0.0                2         -984.549592   \n",
       "47     -2285.271374             0.0                3         -969.045698   \n",
       "46     -2290.257285             0.0                4         -972.607912   \n",
       "45     -2290.619319             0.0                5         -975.728901   \n",
       "\n",
       "    mean_train_score  std_train_score  \n",
       "44       -979.811524              0.0  \n",
       "43       -984.549592              0.0  \n",
       "47       -969.045698              0.0  \n",
       "46       -972.607912              0.0  \n",
       "45       -975.728901              0.0  "
      ]
     },
     "execution_count": 350,
     "metadata": {},
     "output_type": "execute_result"
    }
   ],
   "source": [
    "pd.DataFrame(gs_gb_reg.cv_results_).sort_values(\"rank_test_score\").head(5)"
   ]
  },
  {
   "cell_type": "code",
   "execution_count": 351,
   "metadata": {},
   "outputs": [],
   "source": [
    "from sklearn.ensemble import RandomForestRegressor\n",
    "model_rf_reg = Pipeline([\n",
    "    (\"scaler\", StandardScaler()),\n",
    "    (\"model\",  RandomForestRegressor(random_state=42))\n",
    "])\n",
    "\n",
    "grid_rf_reg = {\n",
    "    \"model__n_estimators\": range(20, 100)\n",
    "}"
   ]
  },
  {
   "cell_type": "code",
   "execution_count": 352,
   "metadata": {},
   "outputs": [
    {
     "data": {
      "text/plain": [
       "GridSearchCV(cv=PredefinedSplit(test_fold=array([-1, -1, ...,  0,  0])),\n",
       "       error_score='raise-deprecating',\n",
       "       estimator=Pipeline(memory=None,\n",
       "     steps=[('scaler', StandardScaler(copy=True, with_mean=True, with_std=True)), ('model', RandomForestRegressor(bootstrap=True, criterion='mse', max_depth=None,\n",
       "           max_features='auto', max_leaf_nodes=None,\n",
       "           min_impurity_decrease=0.0, min_impurity_s...rs='warn', n_jobs=None,\n",
       "           oob_score=False, random_state=42, verbose=0, warm_start=False))]),\n",
       "       fit_params=None, iid='warn', n_jobs=None,\n",
       "       param_grid={'model__n_estimators': range(20, 100)},\n",
       "       pre_dispatch='2*n_jobs', refit=True, return_train_score='warn',\n",
       "       scoring=make_scorer(mean_squared_error, greater_is_better=False),\n",
       "       verbose=0)"
      ]
     },
     "execution_count": 352,
     "metadata": {},
     "output_type": "execute_result"
    }
   ],
   "source": [
    "gs_rf_reg = GridSearchCV(model_rf_reg, param_grid=grid_rf_reg, cv=split, scoring=mse_scorer)\n",
    "gs_rf_reg.fit(x_for_grid_search, y_reg_for_grid_search)"
   ]
  },
  {
   "cell_type": "code",
   "execution_count": 353,
   "metadata": {},
   "outputs": [
    {
     "name": "stderr",
     "output_type": "stream",
     "text": [
      "/anaconda3/lib/python3.7/site-packages/sklearn/utils/deprecation.py:125: FutureWarning: You are accessing a training score ('split0_train_score'), which will not be available by default any more in 0.21. If you need training scores, please set return_train_score=True\n",
      "  warnings.warn(*warn_args, **warn_kwargs)\n",
      "/anaconda3/lib/python3.7/site-packages/sklearn/utils/deprecation.py:125: FutureWarning: You are accessing a training score ('mean_train_score'), which will not be available by default any more in 0.21. If you need training scores, please set return_train_score=True\n",
      "  warnings.warn(*warn_args, **warn_kwargs)\n",
      "/anaconda3/lib/python3.7/site-packages/sklearn/utils/deprecation.py:125: FutureWarning: You are accessing a training score ('std_train_score'), which will not be available by default any more in 0.21. If you need training scores, please set return_train_score=True\n",
      "  warnings.warn(*warn_args, **warn_kwargs)\n"
     ]
    },
    {
     "data": {
      "text/html": [
       "<div>\n",
       "<style scoped>\n",
       "    .dataframe tbody tr th:only-of-type {\n",
       "        vertical-align: middle;\n",
       "    }\n",
       "\n",
       "    .dataframe tbody tr th {\n",
       "        vertical-align: top;\n",
       "    }\n",
       "\n",
       "    .dataframe thead th {\n",
       "        text-align: right;\n",
       "    }\n",
       "</style>\n",
       "<table border=\"1\" class=\"dataframe\">\n",
       "  <thead>\n",
       "    <tr style=\"text-align: right;\">\n",
       "      <th></th>\n",
       "      <th>mean_fit_time</th>\n",
       "      <th>std_fit_time</th>\n",
       "      <th>mean_score_time</th>\n",
       "      <th>std_score_time</th>\n",
       "      <th>param_model__n_estimators</th>\n",
       "      <th>params</th>\n",
       "      <th>split0_test_score</th>\n",
       "      <th>mean_test_score</th>\n",
       "      <th>std_test_score</th>\n",
       "      <th>rank_test_score</th>\n",
       "      <th>split0_train_score</th>\n",
       "      <th>mean_train_score</th>\n",
       "      <th>std_train_score</th>\n",
       "    </tr>\n",
       "  </thead>\n",
       "  <tbody>\n",
       "    <tr>\n",
       "      <th>78</th>\n",
       "      <td>4.337132</td>\n",
       "      <td>0.0</td>\n",
       "      <td>0.013290</td>\n",
       "      <td>0.0</td>\n",
       "      <td>98</td>\n",
       "      <td>{'model__n_estimators': 98}</td>\n",
       "      <td>-2428.993018</td>\n",
       "      <td>-2428.993018</td>\n",
       "      <td>0.0</td>\n",
       "      <td>1</td>\n",
       "      <td>-268.288185</td>\n",
       "      <td>-268.288185</td>\n",
       "      <td>0.0</td>\n",
       "    </tr>\n",
       "    <tr>\n",
       "      <th>77</th>\n",
       "      <td>4.272121</td>\n",
       "      <td>0.0</td>\n",
       "      <td>0.012729</td>\n",
       "      <td>0.0</td>\n",
       "      <td>97</td>\n",
       "      <td>{'model__n_estimators': 97}</td>\n",
       "      <td>-2430.714999</td>\n",
       "      <td>-2430.714999</td>\n",
       "      <td>0.0</td>\n",
       "      <td>2</td>\n",
       "      <td>-268.362256</td>\n",
       "      <td>-268.362256</td>\n",
       "      <td>0.0</td>\n",
       "    </tr>\n",
       "    <tr>\n",
       "      <th>74</th>\n",
       "      <td>4.136028</td>\n",
       "      <td>0.0</td>\n",
       "      <td>0.012422</td>\n",
       "      <td>0.0</td>\n",
       "      <td>94</td>\n",
       "      <td>{'model__n_estimators': 94}</td>\n",
       "      <td>-2443.369536</td>\n",
       "      <td>-2443.369536</td>\n",
       "      <td>0.0</td>\n",
       "      <td>3</td>\n",
       "      <td>-269.661550</td>\n",
       "      <td>-269.661550</td>\n",
       "      <td>0.0</td>\n",
       "    </tr>\n",
       "    <tr>\n",
       "      <th>73</th>\n",
       "      <td>4.206757</td>\n",
       "      <td>0.0</td>\n",
       "      <td>0.013006</td>\n",
       "      <td>0.0</td>\n",
       "      <td>93</td>\n",
       "      <td>{'model__n_estimators': 93}</td>\n",
       "      <td>-2446.038537</td>\n",
       "      <td>-2446.038537</td>\n",
       "      <td>0.0</td>\n",
       "      <td>4</td>\n",
       "      <td>-269.716491</td>\n",
       "      <td>-269.716491</td>\n",
       "      <td>0.0</td>\n",
       "    </tr>\n",
       "    <tr>\n",
       "      <th>76</th>\n",
       "      <td>4.190023</td>\n",
       "      <td>0.0</td>\n",
       "      <td>0.014399</td>\n",
       "      <td>0.0</td>\n",
       "      <td>96</td>\n",
       "      <td>{'model__n_estimators': 96}</td>\n",
       "      <td>-2446.434504</td>\n",
       "      <td>-2446.434504</td>\n",
       "      <td>0.0</td>\n",
       "      <td>5</td>\n",
       "      <td>-268.321305</td>\n",
       "      <td>-268.321305</td>\n",
       "      <td>0.0</td>\n",
       "    </tr>\n",
       "  </tbody>\n",
       "</table>\n",
       "</div>"
      ],
      "text/plain": [
       "    mean_fit_time  std_fit_time  mean_score_time  std_score_time  \\\n",
       "78       4.337132           0.0         0.013290             0.0   \n",
       "77       4.272121           0.0         0.012729             0.0   \n",
       "74       4.136028           0.0         0.012422             0.0   \n",
       "73       4.206757           0.0         0.013006             0.0   \n",
       "76       4.190023           0.0         0.014399             0.0   \n",
       "\n",
       "   param_model__n_estimators                       params  split0_test_score  \\\n",
       "78                        98  {'model__n_estimators': 98}       -2428.993018   \n",
       "77                        97  {'model__n_estimators': 97}       -2430.714999   \n",
       "74                        94  {'model__n_estimators': 94}       -2443.369536   \n",
       "73                        93  {'model__n_estimators': 93}       -2446.038537   \n",
       "76                        96  {'model__n_estimators': 96}       -2446.434504   \n",
       "\n",
       "    mean_test_score  std_test_score  rank_test_score  split0_train_score  \\\n",
       "78     -2428.993018             0.0                1         -268.288185   \n",
       "77     -2430.714999             0.0                2         -268.362256   \n",
       "74     -2443.369536             0.0                3         -269.661550   \n",
       "73     -2446.038537             0.0                4         -269.716491   \n",
       "76     -2446.434504             0.0                5         -268.321305   \n",
       "\n",
       "    mean_train_score  std_train_score  \n",
       "78       -268.288185              0.0  \n",
       "77       -268.362256              0.0  \n",
       "74       -269.661550              0.0  \n",
       "73       -269.716491              0.0  \n",
       "76       -268.321305              0.0  "
      ]
     },
     "execution_count": 353,
     "metadata": {},
     "output_type": "execute_result"
    }
   ],
   "source": [
    "pd.DataFrame(gs_rf_reg.cv_results_).sort_values(\"rank_test_score\").head(5)"
   ]
  },
  {
   "cell_type": "markdown",
   "metadata": {},
   "source": [
    "- Dopo aver testato vari modelli predittivi è risultato che il miglior score in termini di __MSE__ è dato dal modello di regressione basato su __SVM (_Support Vector Machines_)__.\n",
    "- Tale modello porta ad un __MSE__ di __876__. Dobbiamo però considerare che l'errore quadratico medio è la media degli scarti al quadrato, quindi l'errore effettivo commesso dal modello in termini di denaro è circa pari alla radice quadrata di tale valore."
   ]
  },
  {
   "cell_type": "code",
   "execution_count": 354,
   "metadata": {},
   "outputs": [
    {
     "data": {
      "text/plain": [
       "29.597297173897484"
      ]
     },
     "execution_count": 354,
     "metadata": {},
     "output_type": "execute_result"
    }
   ],
   "source": [
    "math.sqrt(876)"
   ]
  },
  {
   "cell_type": "markdown",
   "metadata": {},
   "source": [
    "- Una volta ottenuta tale stima possiamo testare il modello migliore sul __Test Set__, ovvero il modello che non è mai stato toccato dall'analisi."
   ]
  },
  {
   "cell_type": "code",
   "execution_count": 355,
   "metadata": {},
   "outputs": [
    {
     "name": "stdout",
     "output_type": "stream",
     "text": [
      "   Mean squared error: 3103.4\n",
      "       Relative error: 0.60886%\n",
      "R-squared coefficient: 0.99755\n"
     ]
    }
   ],
   "source": [
    "reg_stats(x_test, y_reg_test, gs_svr_reg.best_estimator_)"
   ]
  },
  {
   "cell_type": "markdown",
   "metadata": {},
   "source": [
    "- Anche in questo caso l'errore effettivo commesso lo possiamo stimate con la radice quadrata."
   ]
  },
  {
   "cell_type": "code",
   "execution_count": 356,
   "metadata": {},
   "outputs": [
    {
     "data": {
      "text/plain": [
       "55.70457790882182"
      ]
     },
     "execution_count": 356,
     "metadata": {},
     "output_type": "execute_result"
    }
   ],
   "source": [
    "math.sqrt(3103)"
   ]
  },
  {
   "cell_type": "markdown",
   "metadata": {},
   "source": [
    "- Avendo sia il __modello di classificazione__ che predice l'andamento (Up or Down) che il __modello di regressione__ sul valore della Close, è possibile integrare il risultato fornito dai due modelli per prendere __decisioni__ riguardo i possibili investimenti da effettuare."
   ]
  },
  {
   "cell_type": "markdown",
   "metadata": {},
   "source": [
    "## Grafici\n",
    "\n",
    "- Mettiamo ora a confronto le predizioni sul prezzo di chiusura effettuate dal nostro modello di regressione con quelle reali.\n",
    "- Proviamo ad esempio a plottare sullo stesso grafico i valori ottenuti sull'insieme di test e quelli reali."
   ]
  },
  {
   "cell_type": "code",
   "execution_count": 440,
   "metadata": {},
   "outputs": [
    {
     "data": {
      "image/png": "[encoded data removed]",
      "text/plain": [
       "<Figure size 1440x720 with 1 Axes>"
      ]
     },
     "metadata": {
      "needs_background": "light"
     },
     "output_type": "display_data"
    }
   ],
   "source": [
    "fig = plt.figure(figsize=(20.0, 10.0))\n",
    "ax = fig.subplots()\n",
    "ax.set_xlabel(\"Date\")\n",
    "ax.set_ylabel(\"Close Price\")\n",
    "plot1, = plt.plot(x_test.index, y_reg_test, c='red')\n",
    "plot2, = plt.plot(x_test.index, gs_svr_reg.predict(x_test), c=\"blue\")\n",
    "ax.legend([plot1, plot2], [\"real\", \"predicted\"])\n",
    "plt.grid()\n",
    "plt.title(\"Prezzo di chiusura Nasdaq predetto e prezzo di chiusura Nasdaq reale sul Test Set\")\n",
    "plt.savefig('static/close-nasdaq-compare.png', bbox_inches='tight')"
   ]
  },
  {
   "cell_type": "markdown",
   "metadata": {},
   "source": [
    "- Possiamo rappresentare l'andamento delle variazioni Close-Open calcolato dalla __Close__ predetta e l'andamento calcolato dalla Close reale (sempre sul __Test Set__)."
   ]
  },
  {
   "cell_type": "code",
   "execution_count": 358,
   "metadata": {},
   "outputs": [
    {
     "data": {
      "image/png": "[encoded data removed]",
      "text/plain": [
       "<Figure size 1440x720 with 1 Axes>"
      ]
     },
     "metadata": {
      "needs_background": "light"
     },
     "output_type": "display_data"
    }
   ],
   "source": [
    "fig = plt.figure(figsize=(20.0, 10.0))\n",
    "ax = fig.subplots()\n",
    "ax.set_xlabel(\"Date\")\n",
    "ax.set_ylabel(\"Close-Open\")\n",
    "plot1, = plt.plot(x_test.index, y_reg_test - x_test[\"Open\"], c='red')\n",
    "plot2, = plt.plot(x_test.index, gs_svr_reg.predict(x_test) - x_test[\"Open\"], c=\"blue\")\n",
    "ax.legend([plot1, plot2], [\"real\", \"predicted\"])\n",
    "plt.grid()"
   ]
  },
  {
   "cell_type": "markdown",
   "metadata": {},
   "source": [
    "# Classificazione DJIA\n",
    "\n",
    "- Il __DJIA (_Dow Jones Industrial Average_)__ è il più noto indice azionario della borsa di New York. L'indice è calcolato, a differenza di altri indici che tengono conto della capitalizzazione (e quindi del peso relativo delle varie società), soppesando il prezzo dei principali 30 titoli di Wall Street.\n",
    "- Consideriamo questo indice, in quanto possiede diversi titoli in comune con il __NASDAQ__ esaminato precedentemente.\n",
    "    - Ad esempio: Microsoft, Apple, Cisco, Intel ecc...\n",
    "- Ora proviamo ad addestrare il miglior modello di classificazione ottenuto su il __DJIA__. "
   ]
  },
  {
   "cell_type": "markdown",
   "metadata": {},
   "source": [
    "- Per prima cosa otteniamo i dati da __Yahoo Finance__."
   ]
  },
  {
   "cell_type": "code",
   "execution_count": 359,
   "metadata": {},
   "outputs": [
    {
     "name": "stdout",
     "output_type": "stream",
     "text": [
      "[*********************100%***********************]  1 of 1 downloaded\n"
     ]
    }
   ],
   "source": [
    "djia = yf.download(\"^DJI\", start=\"1999-01-01\", end=\"2019-05-27\")"
   ]
  },
  {
   "cell_type": "markdown",
   "metadata": {},
   "source": [
    "- Visualizziamo l'andamento di apertura dei due indici, che presumibilmente, avendo titoli in comune, devono avere un andamento simile"
   ]
  },
  {
   "cell_type": "code",
   "execution_count": 441,
   "metadata": {},
   "outputs": [
    {
     "data": {
      "image/png": "[encoded data removed]",
      "text/plain": [
       "<Figure size 1440x720 with 1 Axes>"
      ]
     },
     "metadata": {
      "needs_background": "light"
     },
     "output_type": "display_data"
    }
   ],
   "source": [
    "fig = plt.figure(figsize=(20.0, 10.0))\n",
    "ax = fig.subplots()\n",
    "ax.set_xlabel(\"Date\")\n",
    "ax.set_ylabel(\"Open Price\")\n",
    "plot1, = plt.plot(nasdaq.index, nasdaq[\"Open\"], c='red')\n",
    "plot2, = plt.plot(djia.index, djia[\"Open\"], c=\"blue\")\n",
    "ax.legend([plot1, plot2], [\"nasdaq\", \"djia\"])\n",
    "plt.grid()\n",
    "plt.title(\"Prezzo di apertura Nasdaq e prezzo di apertura DJIA\")\n",
    "plt.savefig('static/compare.png', bbox_inches='tight')"
   ]
  },
  {
   "cell_type": "markdown",
   "metadata": {},
   "source": [
    "- Ora prepariamo i dati come fatto per lo studio degli indici del Nasdaq."
   ]
  },
  {
   "cell_type": "code",
   "execution_count": 361,
   "metadata": {},
   "outputs": [],
   "source": [
    "djia[\"ROI\"] = 100*(djia[\"Close\"] - djia[\"Open\"]) / djia[\"Open\"] # Guadagno percentuale."
   ]
  },
  {
   "cell_type": "markdown",
   "metadata": {},
   "source": [
    "- Creazione delle __features__ aggiuntive."
   ]
  },
  {
   "cell_type": "code",
   "execution_count": 362,
   "metadata": {},
   "outputs": [],
   "source": [
    "for i in range(1, 6):\n",
    "    djia[\"ROILag{}\".format(i)] = djia[\"ROI\"].shift(i)"
   ]
  },
  {
   "cell_type": "code",
   "execution_count": 363,
   "metadata": {},
   "outputs": [],
   "source": [
    "djia[\"VolumeLag1\"] = djia[\"Volume\"].shift(1)"
   ]
  },
  {
   "cell_type": "code",
   "execution_count": 364,
   "metadata": {},
   "outputs": [],
   "source": [
    "for i in range(1, 6):\n",
    "    djia[\"OpenLag{}\".format(i)] = djia[\"Open\"].shift(i)"
   ]
  },
  {
   "cell_type": "code",
   "execution_count": 365,
   "metadata": {},
   "outputs": [],
   "source": [
    "for i in range(1, 6):\n",
    "    djia[\"CloseLag{}\".format(i)] = djia[\"Close\"].shift(i)"
   ]
  },
  {
   "cell_type": "code",
   "execution_count": 366,
   "metadata": {},
   "outputs": [],
   "source": [
    "for i in range(1, 6):\n",
    "    djia[\"HighLag{}\".format(i)] = djia[\"High\"].shift(i)"
   ]
  },
  {
   "cell_type": "code",
   "execution_count": 367,
   "metadata": {},
   "outputs": [],
   "source": [
    "for i in range(1, 6):\n",
    "    djia[\"LowLag{}\".format(i)] = djia[\"Low\"].shift(i)"
   ]
  },
  {
   "cell_type": "code",
   "execution_count": 368,
   "metadata": {},
   "outputs": [
    {
     "data": {
      "text/plain": [
       "array([ True,  True,  True,  True,  True,  True,  True,  True,  True,\n",
       "        True,  True,  True,  True,  True,  True,  True,  True,  True,\n",
       "        True,  True,  True,  True,  True,  True,  True,  True,  True,\n",
       "        True,  True,  True,  True,  True,  True])"
      ]
     },
     "execution_count": 368,
     "metadata": {},
     "output_type": "execute_result"
    }
   ],
   "source": [
    "djia.columns == nasdaq.columns"
   ]
  },
  {
   "cell_type": "code",
   "execution_count": 369,
   "metadata": {},
   "outputs": [
    {
     "data": {
      "text/html": [
       "<div>\n",
       "<style scoped>\n",
       "    .dataframe tbody tr th:only-of-type {\n",
       "        vertical-align: middle;\n",
       "    }\n",
       "\n",
       "    .dataframe tbody tr th {\n",
       "        vertical-align: top;\n",
       "    }\n",
       "\n",
       "    .dataframe thead th {\n",
       "        text-align: right;\n",
       "    }\n",
       "</style>\n",
       "<table border=\"1\" class=\"dataframe\">\n",
       "  <thead>\n",
       "    <tr style=\"text-align: right;\">\n",
       "      <th></th>\n",
       "      <th>Open</th>\n",
       "      <th>High</th>\n",
       "      <th>Low</th>\n",
       "      <th>Close</th>\n",
       "      <th>Adj Close</th>\n",
       "      <th>Volume</th>\n",
       "      <th>ROI</th>\n",
       "      <th>ROILag1</th>\n",
       "      <th>ROILag2</th>\n",
       "      <th>ROILag3</th>\n",
       "      <th>...</th>\n",
       "      <th>HighLag1</th>\n",
       "      <th>HighLag2</th>\n",
       "      <th>HighLag3</th>\n",
       "      <th>HighLag4</th>\n",
       "      <th>HighLag5</th>\n",
       "      <th>LowLag1</th>\n",
       "      <th>LowLag2</th>\n",
       "      <th>LowLag3</th>\n",
       "      <th>LowLag4</th>\n",
       "      <th>LowLag5</th>\n",
       "    </tr>\n",
       "  </thead>\n",
       "  <tbody>\n",
       "    <tr>\n",
       "      <th>count</th>\n",
       "      <td>5132.000000</td>\n",
       "      <td>5132.000000</td>\n",
       "      <td>5132.000000</td>\n",
       "      <td>5132.000000</td>\n",
       "      <td>5132.000000</td>\n",
       "      <td>5.132000e+03</td>\n",
       "      <td>5132.000000</td>\n",
       "      <td>5131.000000</td>\n",
       "      <td>5130.000000</td>\n",
       "      <td>5129.000000</td>\n",
       "      <td>...</td>\n",
       "      <td>5131.000000</td>\n",
       "      <td>5130.000000</td>\n",
       "      <td>5129.000000</td>\n",
       "      <td>5128.000000</td>\n",
       "      <td>5127.000000</td>\n",
       "      <td>5131.000000</td>\n",
       "      <td>5130.000000</td>\n",
       "      <td>5129.000000</td>\n",
       "      <td>5128.000000</td>\n",
       "      <td>5127.000000</td>\n",
       "    </tr>\n",
       "    <tr>\n",
       "      <th>mean</th>\n",
       "      <td>13480.276198</td>\n",
       "      <td>13559.792668</td>\n",
       "      <td>13398.098055</td>\n",
       "      <td>13483.245427</td>\n",
       "      <td>13483.245427</td>\n",
       "      <td>2.116913e+08</td>\n",
       "      <td>0.028089</td>\n",
       "      <td>0.028068</td>\n",
       "      <td>0.028201</td>\n",
       "      <td>0.028238</td>\n",
       "      <td>...</td>\n",
       "      <td>13557.432306</td>\n",
       "      <td>13555.073522</td>\n",
       "      <td>13552.670883</td>\n",
       "      <td>13550.263395</td>\n",
       "      <td>13547.883554</td>\n",
       "      <td>13395.740210</td>\n",
       "      <td>13393.414216</td>\n",
       "      <td>13391.004059</td>\n",
       "      <td>13388.588184</td>\n",
       "      <td>13386.214094</td>\n",
       "    </tr>\n",
       "    <tr>\n",
       "      <th>std</th>\n",
       "      <td>4677.356002</td>\n",
       "      <td>4685.174913</td>\n",
       "      <td>4668.137153</td>\n",
       "      <td>4678.019999</td>\n",
       "      <td>4678.019999</td>\n",
       "      <td>1.010507e+08</td>\n",
       "      <td>1.106776</td>\n",
       "      <td>1.106883</td>\n",
       "      <td>1.106950</td>\n",
       "      <td>1.107055</td>\n",
       "      <td>...</td>\n",
       "      <td>4682.578921</td>\n",
       "      <td>4679.985753</td>\n",
       "      <td>4677.276789</td>\n",
       "      <td>4674.553635</td>\n",
       "      <td>4671.901723</td>\n",
       "      <td>4665.534885</td>\n",
       "      <td>4663.013437</td>\n",
       "      <td>4660.271372</td>\n",
       "      <td>4657.512672</td>\n",
       "      <td>4654.862782</td>\n",
       "    </tr>\n",
       "    <tr>\n",
       "      <th>min</th>\n",
       "      <td>6547.010000</td>\n",
       "      <td>6709.610000</td>\n",
       "      <td>6469.950000</td>\n",
       "      <td>6547.050000</td>\n",
       "      <td>6547.050000</td>\n",
       "      <td>8.410000e+06</td>\n",
       "      <td>-7.783348</td>\n",
       "      <td>-7.783348</td>\n",
       "      <td>-7.783348</td>\n",
       "      <td>-7.783348</td>\n",
       "      <td>...</td>\n",
       "      <td>6709.610000</td>\n",
       "      <td>6709.610000</td>\n",
       "      <td>6709.610000</td>\n",
       "      <td>6709.610000</td>\n",
       "      <td>6709.610000</td>\n",
       "      <td>6469.950000</td>\n",
       "      <td>6469.950000</td>\n",
       "      <td>6469.950000</td>\n",
       "      <td>6469.950000</td>\n",
       "      <td>6469.950000</td>\n",
       "    </tr>\n",
       "    <tr>\n",
       "      <th>25%</th>\n",
       "      <td>10378.590000</td>\n",
       "      <td>10439.887500</td>\n",
       "      <td>10302.972500</td>\n",
       "      <td>10380.430000</td>\n",
       "      <td>10380.430000</td>\n",
       "      <td>1.302825e+08</td>\n",
       "      <td>-0.450716</td>\n",
       "      <td>-0.450832</td>\n",
       "      <td>-0.450374</td>\n",
       "      <td>-0.450601</td>\n",
       "      <td>...</td>\n",
       "      <td>10439.725000</td>\n",
       "      <td>10439.562500</td>\n",
       "      <td>10439.400000</td>\n",
       "      <td>10439.377500</td>\n",
       "      <td>10439.355000</td>\n",
       "      <td>10302.945000</td>\n",
       "      <td>10302.917500</td>\n",
       "      <td>10302.890000</td>\n",
       "      <td>10302.745000</td>\n",
       "      <td>10302.600000</td>\n",
       "    </tr>\n",
       "    <tr>\n",
       "      <th>50%</th>\n",
       "      <td>11459.880000</td>\n",
       "      <td>11537.425000</td>\n",
       "      <td>11382.480000</td>\n",
       "      <td>11468.310000</td>\n",
       "      <td>11468.310000</td>\n",
       "      <td>2.068800e+08</td>\n",
       "      <td>0.053041</td>\n",
       "      <td>0.052961</td>\n",
       "      <td>0.053041</td>\n",
       "      <td>0.053121</td>\n",
       "      <td>...</td>\n",
       "      <td>11533.070000</td>\n",
       "      <td>11532.775000</td>\n",
       "      <td>11532.480000</td>\n",
       "      <td>11532.475000</td>\n",
       "      <td>11532.470000</td>\n",
       "      <td>11382.210000</td>\n",
       "      <td>11382.070000</td>\n",
       "      <td>11381.930000</td>\n",
       "      <td>11381.850000</td>\n",
       "      <td>11381.770000</td>\n",
       "    </tr>\n",
       "    <tr>\n",
       "      <th>75%</th>\n",
       "      <td>16329.852500</td>\n",
       "      <td>16423.935000</td>\n",
       "      <td>16218.510000</td>\n",
       "      <td>16330.615000</td>\n",
       "      <td>16330.615000</td>\n",
       "      <td>2.682625e+08</td>\n",
       "      <td>0.532050</td>\n",
       "      <td>0.532107</td>\n",
       "      <td>0.532164</td>\n",
       "      <td>0.532221</td>\n",
       "      <td>...</td>\n",
       "      <td>16422.505000</td>\n",
       "      <td>16421.087500</td>\n",
       "      <td>16420.210000</td>\n",
       "      <td>16419.670000</td>\n",
       "      <td>16417.175000</td>\n",
       "      <td>16216.770000</td>\n",
       "      <td>16214.690000</td>\n",
       "      <td>16212.080000</td>\n",
       "      <td>16212.005000</td>\n",
       "      <td>16208.525000</td>\n",
       "    </tr>\n",
       "    <tr>\n",
       "      <th>max</th>\n",
       "      <td>26833.470000</td>\n",
       "      <td>26951.810000</td>\n",
       "      <td>26789.080000</td>\n",
       "      <td>26828.390000</td>\n",
       "      <td>26828.390000</td>\n",
       "      <td>9.005100e+08</td>\n",
       "      <td>10.932925</td>\n",
       "      <td>10.932925</td>\n",
       "      <td>10.932925</td>\n",
       "      <td>10.932925</td>\n",
       "      <td>...</td>\n",
       "      <td>26951.810000</td>\n",
       "      <td>26951.810000</td>\n",
       "      <td>26951.810000</td>\n",
       "      <td>26951.810000</td>\n",
       "      <td>26951.810000</td>\n",
       "      <td>26789.080000</td>\n",
       "      <td>26789.080000</td>\n",
       "      <td>26789.080000</td>\n",
       "      <td>26789.080000</td>\n",
       "      <td>26789.080000</td>\n",
       "    </tr>\n",
       "  </tbody>\n",
       "</table>\n",
       "<p>8 rows × 33 columns</p>\n",
       "</div>"
      ],
      "text/plain": [
       "               Open          High           Low         Close     Adj Close  \\\n",
       "count   5132.000000   5132.000000   5132.000000   5132.000000   5132.000000   \n",
       "mean   13480.276198  13559.792668  13398.098055  13483.245427  13483.245427   \n",
       "std     4677.356002   4685.174913   4668.137153   4678.019999   4678.019999   \n",
       "min     6547.010000   6709.610000   6469.950000   6547.050000   6547.050000   \n",
       "25%    10378.590000  10439.887500  10302.972500  10380.430000  10380.430000   \n",
       "50%    11459.880000  11537.425000  11382.480000  11468.310000  11468.310000   \n",
       "75%    16329.852500  16423.935000  16218.510000  16330.615000  16330.615000   \n",
       "max    26833.470000  26951.810000  26789.080000  26828.390000  26828.390000   \n",
       "\n",
       "             Volume          ROI      ROILag1      ROILag2      ROILag3  ...  \\\n",
       "count  5.132000e+03  5132.000000  5131.000000  5130.000000  5129.000000  ...   \n",
       "mean   2.116913e+08     0.028089     0.028068     0.028201     0.028238  ...   \n",
       "std    1.010507e+08     1.106776     1.106883     1.106950     1.107055  ...   \n",
       "min    8.410000e+06    -7.783348    -7.783348    -7.783348    -7.783348  ...   \n",
       "25%    1.302825e+08    -0.450716    -0.450832    -0.450374    -0.450601  ...   \n",
       "50%    2.068800e+08     0.053041     0.052961     0.053041     0.053121  ...   \n",
       "75%    2.682625e+08     0.532050     0.532107     0.532164     0.532221  ...   \n",
       "max    9.005100e+08    10.932925    10.932925    10.932925    10.932925  ...   \n",
       "\n",
       "           HighLag1      HighLag2      HighLag3      HighLag4      HighLag5  \\\n",
       "count   5131.000000   5130.000000   5129.000000   5128.000000   5127.000000   \n",
       "mean   13557.432306  13555.073522  13552.670883  13550.263395  13547.883554   \n",
       "std     4682.578921   4679.985753   4677.276789   4674.553635   4671.901723   \n",
       "min     6709.610000   6709.610000   6709.610000   6709.610000   6709.610000   \n",
       "25%    10439.725000  10439.562500  10439.400000  10439.377500  10439.355000   \n",
       "50%    11533.070000  11532.775000  11532.480000  11532.475000  11532.470000   \n",
       "75%    16422.505000  16421.087500  16420.210000  16419.670000  16417.175000   \n",
       "max    26951.810000  26951.810000  26951.810000  26951.810000  26951.810000   \n",
       "\n",
       "            LowLag1       LowLag2       LowLag3       LowLag4       LowLag5  \n",
       "count   5131.000000   5130.000000   5129.000000   5128.000000   5127.000000  \n",
       "mean   13395.740210  13393.414216  13391.004059  13388.588184  13386.214094  \n",
       "std     4665.534885   4663.013437   4660.271372   4657.512672   4654.862782  \n",
       "min     6469.950000   6469.950000   6469.950000   6469.950000   6469.950000  \n",
       "25%    10302.945000  10302.917500  10302.890000  10302.745000  10302.600000  \n",
       "50%    11382.210000  11382.070000  11381.930000  11381.850000  11381.770000  \n",
       "75%    16216.770000  16214.690000  16212.080000  16212.005000  16208.525000  \n",
       "max    26789.080000  26789.080000  26789.080000  26789.080000  26789.080000  \n",
       "\n",
       "[8 rows x 33 columns]"
      ]
     },
     "execution_count": 369,
     "metadata": {},
     "output_type": "execute_result"
    }
   ],
   "source": [
    "djia.describe()"
   ]
  },
  {
   "cell_type": "markdown",
   "metadata": {},
   "source": [
    "- Utilizziamo le features dell'analisi precedente."
   ]
  },
  {
   "cell_type": "code",
   "execution_count": 370,
   "metadata": {},
   "outputs": [],
   "source": [
    "X_djia = djia[features].copy()"
   ]
  },
  {
   "cell_type": "code",
   "execution_count": 371,
   "metadata": {},
   "outputs": [],
   "source": [
    "X_djia.dropna(inplace=True)"
   ]
  },
  {
   "cell_type": "code",
   "execution_count": 372,
   "metadata": {},
   "outputs": [
    {
     "data": {
      "text/html": [
       "<div>\n",
       "<style scoped>\n",
       "    .dataframe tbody tr th:only-of-type {\n",
       "        vertical-align: middle;\n",
       "    }\n",
       "\n",
       "    .dataframe tbody tr th {\n",
       "        vertical-align: top;\n",
       "    }\n",
       "\n",
       "    .dataframe thead th {\n",
       "        text-align: right;\n",
       "    }\n",
       "</style>\n",
       "<table border=\"1\" class=\"dataframe\">\n",
       "  <thead>\n",
       "    <tr style=\"text-align: right;\">\n",
       "      <th></th>\n",
       "      <th>Open</th>\n",
       "      <th>VolumeLag1</th>\n",
       "      <th>ROILag1</th>\n",
       "      <th>ROILag2</th>\n",
       "      <th>ROILag3</th>\n",
       "      <th>ROILag4</th>\n",
       "      <th>ROILag5</th>\n",
       "      <th>OpenLag1</th>\n",
       "      <th>OpenLag2</th>\n",
       "      <th>OpenLag3</th>\n",
       "      <th>...</th>\n",
       "      <th>HighLag1</th>\n",
       "      <th>HighLag2</th>\n",
       "      <th>HighLag3</th>\n",
       "      <th>HighLag4</th>\n",
       "      <th>HighLag5</th>\n",
       "      <th>LowLag1</th>\n",
       "      <th>LowLag2</th>\n",
       "      <th>LowLag3</th>\n",
       "      <th>LowLag4</th>\n",
       "      <th>LowLag5</th>\n",
       "    </tr>\n",
       "    <tr>\n",
       "      <th>Date</th>\n",
       "      <th></th>\n",
       "      <th></th>\n",
       "      <th></th>\n",
       "      <th></th>\n",
       "      <th></th>\n",
       "      <th></th>\n",
       "      <th></th>\n",
       "      <th></th>\n",
       "      <th></th>\n",
       "      <th></th>\n",
       "      <th></th>\n",
       "      <th></th>\n",
       "      <th></th>\n",
       "      <th></th>\n",
       "      <th></th>\n",
       "      <th></th>\n",
       "      <th></th>\n",
       "      <th></th>\n",
       "      <th></th>\n",
       "      <th></th>\n",
       "      <th></th>\n",
       "    </tr>\n",
       "  </thead>\n",
       "  <tbody>\n",
       "    <tr>\n",
       "      <th>1999-01-08</th>\n",
       "      <td>9538.28</td>\n",
       "      <td>88290000.0</td>\n",
       "      <td>-0.045902</td>\n",
       "      <td>2.464194</td>\n",
       "      <td>1.376299</td>\n",
       "      <td>0.002831</td>\n",
       "      <td>-0.999448</td>\n",
       "      <td>9542.14</td>\n",
       "      <td>9315.42</td>\n",
       "      <td>9184.78</td>\n",
       "      <td>...</td>\n",
       "      <td>9542.14</td>\n",
       "      <td>9562.22</td>\n",
       "      <td>9338.74</td>\n",
       "      <td>9350.33</td>\n",
       "      <td>9287.77</td>\n",
       "      <td>9426.02</td>\n",
       "      <td>9315.42</td>\n",
       "      <td>9182.98</td>\n",
       "      <td>9122.47</td>\n",
       "      <td>9181.43</td>\n",
       "    </tr>\n",
       "    <tr>\n",
       "      <th>1999-01-11</th>\n",
       "      <td>9643.32</td>\n",
       "      <td>103250000.0</td>\n",
       "      <td>1.101247</td>\n",
       "      <td>-0.045902</td>\n",
       "      <td>2.464194</td>\n",
       "      <td>1.376299</td>\n",
       "      <td>0.002831</td>\n",
       "      <td>9538.28</td>\n",
       "      <td>9542.14</td>\n",
       "      <td>9315.42</td>\n",
       "      <td>...</td>\n",
       "      <td>9647.96</td>\n",
       "      <td>9542.14</td>\n",
       "      <td>9562.22</td>\n",
       "      <td>9338.74</td>\n",
       "      <td>9350.33</td>\n",
       "      <td>9525.41</td>\n",
       "      <td>9426.02</td>\n",
       "      <td>9315.42</td>\n",
       "      <td>9182.98</td>\n",
       "      <td>9122.47</td>\n",
       "    </tr>\n",
       "    <tr>\n",
       "      <th>1999-01-12</th>\n",
       "      <td>9618.86</td>\n",
       "      <td>98720000.0</td>\n",
       "      <td>-0.242966</td>\n",
       "      <td>1.101247</td>\n",
       "      <td>-0.045902</td>\n",
       "      <td>2.464194</td>\n",
       "      <td>1.376299</td>\n",
       "      <td>9643.32</td>\n",
       "      <td>9538.28</td>\n",
       "      <td>9542.14</td>\n",
       "      <td>...</td>\n",
       "      <td>9643.32</td>\n",
       "      <td>9647.96</td>\n",
       "      <td>9542.14</td>\n",
       "      <td>9562.22</td>\n",
       "      <td>9338.74</td>\n",
       "      <td>9532.61</td>\n",
       "      <td>9525.41</td>\n",
       "      <td>9426.02</td>\n",
       "      <td>9315.42</td>\n",
       "      <td>9182.98</td>\n",
       "    </tr>\n",
       "    <tr>\n",
       "      <th>1999-01-13</th>\n",
       "      <td>9471.34</td>\n",
       "      <td>95680000.0</td>\n",
       "      <td>-1.498930</td>\n",
       "      <td>-0.242966</td>\n",
       "      <td>1.101247</td>\n",
       "      <td>-0.045902</td>\n",
       "      <td>2.464194</td>\n",
       "      <td>9618.86</td>\n",
       "      <td>9643.32</td>\n",
       "      <td>9538.28</td>\n",
       "      <td>...</td>\n",
       "      <td>9620.15</td>\n",
       "      <td>9643.32</td>\n",
       "      <td>9647.96</td>\n",
       "      <td>9542.14</td>\n",
       "      <td>9562.22</td>\n",
       "      <td>9451.77</td>\n",
       "      <td>9532.61</td>\n",
       "      <td>9525.41</td>\n",
       "      <td>9426.02</td>\n",
       "      <td>9315.42</td>\n",
       "    </tr>\n",
       "    <tr>\n",
       "      <th>1999-01-14</th>\n",
       "      <td>9349.56</td>\n",
       "      <td>109060000.0</td>\n",
       "      <td>-1.285774</td>\n",
       "      <td>-1.498930</td>\n",
       "      <td>-0.242966</td>\n",
       "      <td>1.101247</td>\n",
       "      <td>-0.045902</td>\n",
       "      <td>9471.34</td>\n",
       "      <td>9618.86</td>\n",
       "      <td>9643.32</td>\n",
       "      <td>...</td>\n",
       "      <td>9471.34</td>\n",
       "      <td>9620.15</td>\n",
       "      <td>9643.32</td>\n",
       "      <td>9647.96</td>\n",
       "      <td>9542.14</td>\n",
       "      <td>9213.10</td>\n",
       "      <td>9451.77</td>\n",
       "      <td>9532.61</td>\n",
       "      <td>9525.41</td>\n",
       "      <td>9426.02</td>\n",
       "    </tr>\n",
       "  </tbody>\n",
       "</table>\n",
       "<p>5 rows × 27 columns</p>\n",
       "</div>"
      ],
      "text/plain": [
       "               Open   VolumeLag1   ROILag1   ROILag2   ROILag3   ROILag4  \\\n",
       "Date                                                                       \n",
       "1999-01-08  9538.28   88290000.0 -0.045902  2.464194  1.376299  0.002831   \n",
       "1999-01-11  9643.32  103250000.0  1.101247 -0.045902  2.464194  1.376299   \n",
       "1999-01-12  9618.86   98720000.0 -0.242966  1.101247 -0.045902  2.464194   \n",
       "1999-01-13  9471.34   95680000.0 -1.498930 -0.242966  1.101247 -0.045902   \n",
       "1999-01-14  9349.56  109060000.0 -1.285774 -1.498930 -0.242966  1.101247   \n",
       "\n",
       "             ROILag5  OpenLag1  OpenLag2  OpenLag3  ...  HighLag1  HighLag2  \\\n",
       "Date                                                ...                       \n",
       "1999-01-08 -0.999448   9542.14   9315.42   9184.78  ...   9542.14   9562.22   \n",
       "1999-01-11  0.002831   9538.28   9542.14   9315.42  ...   9647.96   9542.14   \n",
       "1999-01-12  1.376299   9643.32   9538.28   9542.14  ...   9643.32   9647.96   \n",
       "1999-01-13  2.464194   9618.86   9643.32   9538.28  ...   9620.15   9643.32   \n",
       "1999-01-14 -0.045902   9471.34   9618.86   9643.32  ...   9471.34   9620.15   \n",
       "\n",
       "            HighLag3  HighLag4  HighLag5  LowLag1  LowLag2  LowLag3  LowLag4  \\\n",
       "Date                                                                           \n",
       "1999-01-08   9338.74   9350.33   9287.77  9426.02  9315.42  9182.98  9122.47   \n",
       "1999-01-11   9562.22   9338.74   9350.33  9525.41  9426.02  9315.42  9182.98   \n",
       "1999-01-12   9542.14   9562.22   9338.74  9532.61  9525.41  9426.02  9315.42   \n",
       "1999-01-13   9647.96   9542.14   9562.22  9451.77  9532.61  9525.41  9426.02   \n",
       "1999-01-14   9643.32   9647.96   9542.14  9213.10  9451.77  9532.61  9525.41   \n",
       "\n",
       "            LowLag5  \n",
       "Date                 \n",
       "1999-01-08  9181.43  \n",
       "1999-01-11  9122.47  \n",
       "1999-01-12  9182.98  \n",
       "1999-01-13  9315.42  \n",
       "1999-01-14  9426.02  \n",
       "\n",
       "[5 rows x 27 columns]"
      ]
     },
     "execution_count": 372,
     "metadata": {},
     "output_type": "execute_result"
    }
   ],
   "source": [
    "X_djia.head(5)"
   ]
  },
  {
   "cell_type": "code",
   "execution_count": 373,
   "metadata": {},
   "outputs": [],
   "source": [
    "y_djia = djia[5:][\"ROI\"].copy()"
   ]
  },
  {
   "cell_type": "code",
   "execution_count": 374,
   "metadata": {},
   "outputs": [],
   "source": [
    "y_djia = pd.Series(np.where(y_djia >= 0, \"Up\", \"Down\"), index=y_djia.index)"
   ]
  },
  {
   "cell_type": "markdown",
   "metadata": {},
   "source": [
    "## Divisione Training, Validation, Test Set"
   ]
  },
  {
   "cell_type": "code",
   "execution_count": 375,
   "metadata": {},
   "outputs": [
    {
     "data": {
      "text/plain": [
       "1025"
      ]
     },
     "execution_count": 375,
     "metadata": {},
     "output_type": "execute_result"
    }
   ],
   "source": [
    "test_perc_djia = X_djia.shape[0] * 20 // 100 # // --> divisione intera.\n",
    "test_perc_djia"
   ]
  },
  {
   "cell_type": "code",
   "execution_count": 376,
   "metadata": {},
   "outputs": [],
   "source": [
    "x_test_djia = X_djia.tail(test_perc_djia).copy()\n",
    "y_test_djia = y_djia.tail(test_perc_djia).copy()"
   ]
  },
  {
   "cell_type": "code",
   "execution_count": 377,
   "metadata": {},
   "outputs": [
    {
     "data": {
      "text/plain": [
       "3076"
      ]
     },
     "execution_count": 377,
     "metadata": {},
     "output_type": "execute_result"
    }
   ],
   "source": [
    "train_perc_djia = X_djia.shape[0] * 60 // 100\n",
    "train_perc_djia"
   ]
  },
  {
   "cell_type": "code",
   "execution_count": 378,
   "metadata": {},
   "outputs": [
    {
     "data": {
      "text/plain": [
       "1026"
      ]
     },
     "execution_count": 378,
     "metadata": {},
     "output_type": "execute_result"
    }
   ],
   "source": [
    "validation_perc_djia = (X_djia.shape[0] - train_perc_djia - test_perc_djia)\n",
    "validation_perc_djia"
   ]
  },
  {
   "cell_type": "code",
   "execution_count": 379,
   "metadata": {},
   "outputs": [
    {
     "data": {
      "text/plain": [
       "True"
      ]
     },
     "execution_count": 379,
     "metadata": {},
     "output_type": "execute_result"
    }
   ],
   "source": [
    "test_perc_djia + train_perc_djia + validation_perc_djia == X_djia.shape[0] == y_djia.shape[0]"
   ]
  },
  {
   "cell_type": "code",
   "execution_count": 380,
   "metadata": {},
   "outputs": [],
   "source": [
    "x_train_djia = X_djia[0:train_perc_djia]\n",
    "y_train_djia = y_djia[0:train_perc_djia]"
   ]
  },
  {
   "cell_type": "code",
   "execution_count": 381,
   "metadata": {},
   "outputs": [],
   "source": [
    "x_val_djia = X_djia[train_perc_djia:train_perc_djia+validation_perc_djia]\n",
    "y_val_djia = y_djia[train_perc_djia:train_perc_djia+validation_perc_djia]"
   ]
  },
  {
   "cell_type": "markdown",
   "metadata": {},
   "source": [
    "- Plottiamo le distribuzioni di __Up__ e __Down__ nei tre insiemi."
   ]
  },
  {
   "cell_type": "code",
   "execution_count": 382,
   "metadata": {},
   "outputs": [
    {
     "data": {
      "text/plain": [
       "<matplotlib.axes._subplots.AxesSubplot at 0x1a1ec35630>"
      ]
     },
     "execution_count": 382,
     "metadata": {},
     "output_type": "execute_result"
    },
    {
     "data": {
      "image/png": "[encoded data removed]",
      "text/plain": [
       "<Figure size 648x432 with 3 Axes>"
      ]
     },
     "metadata": {},
     "output_type": "display_data"
    }
   ],
   "source": [
    "plt.figure(figsize=(9, 6))\n",
    "y_train_djia.value_counts().plot.pie(ax=plt.subplot(1, 3, 1))\n",
    "y_val_djia.value_counts().plot.pie(ax=plt.subplot(1, 3, 2))\n",
    "y_test_djia.value_counts().plot.pie(ax=plt.subplot(1, 3, 3))"
   ]
  },
  {
   "cell_type": "markdown",
   "metadata": {},
   "source": [
    "## Preparazione dati per addestramento del modello"
   ]
  },
  {
   "cell_type": "code",
   "execution_count": 383,
   "metadata": {},
   "outputs": [],
   "source": [
    "x_for_grid_search_djia = X_djia[0:train_perc_djia + validation_perc_djia]"
   ]
  },
  {
   "cell_type": "code",
   "execution_count": 384,
   "metadata": {},
   "outputs": [],
   "source": [
    "y_for_grid_search_djia = y_djia.reindex_like(x_for_grid_search_djia)"
   ]
  },
  {
   "cell_type": "markdown",
   "metadata": {},
   "source": [
    "- Ora fittiamo il modello migliore di classificazione sul nuovo DataSet."
   ]
  },
  {
   "cell_type": "code",
   "execution_count": 385,
   "metadata": {},
   "outputs": [],
   "source": [
    "from sklearn.base import clone\n",
    "ensemble_djia = clone(ensemble) # Clone del modello precedente."
   ]
  },
  {
   "cell_type": "code",
   "execution_count": 386,
   "metadata": {},
   "outputs": [
    {
     "name": "stderr",
     "output_type": "stream",
     "text": [
      "/anaconda3/lib/python3.7/site-packages/sklearn/linear_model/logistic.py:433: FutureWarning: Default solver will be changed to 'lbfgs' in 0.22. Specify a solver to silence this warning.\n",
      "  FutureWarning)\n"
     ]
    },
    {
     "data": {
      "text/plain": [
       "VotingClassifier(estimators=[('svc', Pipeline(memory=None,\n",
       "     steps=[('scaler', StandardScaler(copy=True, with_mean=True, with_std=True)), ('model', SVC(C=10.0, cache_size=200, class_weight=None, coef0=0.0,\n",
       "  decision_function_shape='ovr', degree=3, gamma=1.0, kernel='rbf',\n",
       "  max_iter=-1, probability=False, random... subsample=1.0, tol=0.0001, validation_fraction=0.1,\n",
       "              verbose=0, warm_start=False))]))],\n",
       "         flatten_transform=None, n_jobs=None, voting='hard', weights=None)"
      ]
     },
     "execution_count": 386,
     "metadata": {},
     "output_type": "execute_result"
    }
   ],
   "source": [
    "ensemble_djia.fit(x_for_grid_search_djia, y_for_grid_search_djia)"
   ]
  },
  {
   "cell_type": "markdown",
   "metadata": {},
   "source": [
    "- Ora testiamo tale modello sul __Test Set__ per ricaverne il __ROI__."
   ]
  },
  {
   "cell_type": "code",
   "execution_count": 387,
   "metadata": {},
   "outputs": [
    {
     "name": "stdout",
     "output_type": "stream",
     "text": [
      "Accuratezza:  0.5365853658536586\n",
      "ROI:  0.14798749544233128\n",
      "Guadagno:  908.7799999999943\n",
      "F1:  0.418435200989989\n"
     ]
    }
   ],
   "source": [
    "model_stat(x_test_djia, y_test_djia, ensemble_djia)"
   ]
  },
  {
   "cell_type": "markdown",
   "metadata": {},
   "source": [
    "- In questo caso il modello che forniva il __ROI__ maggiore sul DataSet del __Nasdaq__ è stato addestrato sul DataSet __DJIA__ e porta ad un __ROI__ del ~15%.\n",
    "- Il __ROI__ misurato risulta più basso ripetto a quello sul DataSet precedente, questo potrebbe essere dovuto alle maggiori oscillazioni nell'andamento del mercato."
   ]
  },
  {
   "cell_type": "markdown",
   "metadata": {},
   "source": [
    "## Applichiamo il modello di  Regressione sul DJIA\n",
    "\n",
    "- Proviamo ad applicare il modello di regressione sul DJIA. "
   ]
  },
  {
   "cell_type": "code",
   "execution_count": 388,
   "metadata": {},
   "outputs": [
    {
     "data": {
      "text/plain": [
       "array([ True,  True,  True, ...,  True,  True,  True])"
      ]
     },
     "execution_count": 388,
     "metadata": {},
     "output_type": "execute_result"
    }
   ],
   "source": [
    "y_reg_train_djia = djia[\"Close\"].reindex_like(x_train_djia)\n",
    "\n",
    "y_reg_train_djia.index == x_train_djia.index # Test.\n",
    "\n",
    "y_reg_val_djia = djia[\"Close\"].reindex_like(x_val_djia)\n",
    "\n",
    "y_reg_val_djia.index == x_val_djia.index # Test.\n",
    "\n",
    "y_reg_test_djia = djia[\"Close\"].reindex_like(x_test_djia)\n",
    "\n",
    "y_reg_test_djia.index == x_test_djia.index # Test."
   ]
  },
  {
   "cell_type": "code",
   "execution_count": 389,
   "metadata": {},
   "outputs": [
    {
     "data": {
      "text/plain": [
       "array([ True,  True,  True, ...,  True,  True,  True])"
      ]
     },
     "execution_count": 389,
     "metadata": {},
     "output_type": "execute_result"
    }
   ],
   "source": [
    "y_reg_for_grid_search_djia = djia[\"Close\"].reindex_like(x_for_grid_search_djia)\n",
    "\n",
    "y_reg_for_grid_search_djia.index == x_for_grid_search_djia.index # Test"
   ]
  },
  {
   "cell_type": "code",
   "execution_count": 390,
   "metadata": {},
   "outputs": [
    {
     "data": {
      "text/plain": [
       "GridSearchCV(cv=PredefinedSplit(test_fold=array([-1, -1, ...,  0,  0])),\n",
       "       error_score='raise-deprecating',\n",
       "       estimator=Pipeline(memory=None,\n",
       "     steps=[('scale', StandardScaler(copy=True, with_mean=True, with_std=True)), ('svr', SVR(C=1.0, cache_size=200, coef0=0.0, degree=3, epsilon=0.1,\n",
       "  gamma='auto_deprecated', kernel='rbf', max_iter=-1, shrinking=True,\n",
       "  tol=0.001, verbose=False))]),\n",
       "       fit_params=None, iid='warn', n_jobs=None,\n",
       "       param_grid=[{'svr__C': [0.1, 1, 10, 100, 1000], 'svr__kernel': ['poly'], 'svr__degree': range(1, 5), 'svr__epsilon': [0.1, 0.2, 0.5, 0.8, 1.0]}, {'svr__C': [0.1, 1, 10, 100, 1000], 'svr__kernel': ['rbf'], 'svr__gamma': ['auto', 'scale'], 'svr__epsilon': [0.1, 0.2, 0.5, 0.8, 1.0]}],\n",
       "       pre_dispatch='2*n_jobs', refit=True, return_train_score='warn',\n",
       "       scoring=make_scorer(mean_squared_error, greater_is_better=False),\n",
       "       verbose=0)"
      ]
     },
     "execution_count": 390,
     "metadata": {},
     "output_type": "execute_result"
    }
   ],
   "source": [
    "gs_svr_reg_djia = GridSearchCV(model_svr, param_grid=grid_svr, cv=split, scoring=mse_scorer)\n",
    "gs_svr_reg_djia.fit(x_for_grid_search_djia, y_reg_for_grid_search_djia)"
   ]
  },
  {
   "cell_type": "code",
   "execution_count": 391,
   "metadata": {},
   "outputs": [
    {
     "name": "stderr",
     "output_type": "stream",
     "text": [
      "/anaconda3/lib/python3.7/site-packages/sklearn/utils/deprecation.py:125: FutureWarning: You are accessing a training score ('split0_train_score'), which will not be available by default any more in 0.21. If you need training scores, please set return_train_score=True\n",
      "  warnings.warn(*warn_args, **warn_kwargs)\n",
      "/anaconda3/lib/python3.7/site-packages/sklearn/utils/deprecation.py:125: FutureWarning: You are accessing a training score ('mean_train_score'), which will not be available by default any more in 0.21. If you need training scores, please set return_train_score=True\n",
      "  warnings.warn(*warn_args, **warn_kwargs)\n",
      "/anaconda3/lib/python3.7/site-packages/sklearn/utils/deprecation.py:125: FutureWarning: You are accessing a training score ('std_train_score'), which will not be available by default any more in 0.21. If you need training scores, please set return_train_score=True\n",
      "  warnings.warn(*warn_args, **warn_kwargs)\n"
     ]
    },
    {
     "data": {
      "text/html": [
       "<div>\n",
       "<style scoped>\n",
       "    .dataframe tbody tr th:only-of-type {\n",
       "        vertical-align: middle;\n",
       "    }\n",
       "\n",
       "    .dataframe tbody tr th {\n",
       "        vertical-align: top;\n",
       "    }\n",
       "\n",
       "    .dataframe thead th {\n",
       "        text-align: right;\n",
       "    }\n",
       "</style>\n",
       "<table border=\"1\" class=\"dataframe\">\n",
       "  <thead>\n",
       "    <tr style=\"text-align: right;\">\n",
       "      <th></th>\n",
       "      <th>mean_fit_time</th>\n",
       "      <th>std_fit_time</th>\n",
       "      <th>mean_score_time</th>\n",
       "      <th>std_score_time</th>\n",
       "      <th>param_svr__C</th>\n",
       "      <th>param_svr__degree</th>\n",
       "      <th>param_svr__epsilon</th>\n",
       "      <th>param_svr__kernel</th>\n",
       "      <th>param_svr__gamma</th>\n",
       "      <th>params</th>\n",
       "      <th>split0_test_score</th>\n",
       "      <th>mean_test_score</th>\n",
       "      <th>std_test_score</th>\n",
       "      <th>rank_test_score</th>\n",
       "      <th>split0_train_score</th>\n",
       "      <th>mean_train_score</th>\n",
       "      <th>std_train_score</th>\n",
       "    </tr>\n",
       "  </thead>\n",
       "  <tbody>\n",
       "    <tr>\n",
       "      <th>83</th>\n",
       "      <td>0.753792</td>\n",
       "      <td>0.0</td>\n",
       "      <td>0.076048</td>\n",
       "      <td>0.0</td>\n",
       "      <td>1000</td>\n",
       "      <td>1</td>\n",
       "      <td>0.8</td>\n",
       "      <td>poly</td>\n",
       "      <td>NaN</td>\n",
       "      <td>{'svr__C': 1000, 'svr__degree': 1, 'svr__epsil...</td>\n",
       "      <td>-15235.468427</td>\n",
       "      <td>-15235.468427</td>\n",
       "      <td>0.0</td>\n",
       "      <td>1</td>\n",
       "      <td>-15292.573511</td>\n",
       "      <td>-15292.573511</td>\n",
       "      <td>0.0</td>\n",
       "    </tr>\n",
       "    <tr>\n",
       "      <th>82</th>\n",
       "      <td>0.763508</td>\n",
       "      <td>0.0</td>\n",
       "      <td>0.075007</td>\n",
       "      <td>0.0</td>\n",
       "      <td>1000</td>\n",
       "      <td>1</td>\n",
       "      <td>0.5</td>\n",
       "      <td>poly</td>\n",
       "      <td>NaN</td>\n",
       "      <td>{'svr__C': 1000, 'svr__degree': 1, 'svr__epsil...</td>\n",
       "      <td>-15238.130500</td>\n",
       "      <td>-15238.130500</td>\n",
       "      <td>0.0</td>\n",
       "      <td>2</td>\n",
       "      <td>-15292.713848</td>\n",
       "      <td>-15292.713848</td>\n",
       "      <td>0.0</td>\n",
       "    </tr>\n",
       "    <tr>\n",
       "      <th>84</th>\n",
       "      <td>0.809218</td>\n",
       "      <td>0.0</td>\n",
       "      <td>0.074972</td>\n",
       "      <td>0.0</td>\n",
       "      <td>1000</td>\n",
       "      <td>1</td>\n",
       "      <td>1</td>\n",
       "      <td>poly</td>\n",
       "      <td>NaN</td>\n",
       "      <td>{'svr__C': 1000, 'svr__degree': 1, 'svr__epsil...</td>\n",
       "      <td>-15239.780229</td>\n",
       "      <td>-15239.780229</td>\n",
       "      <td>0.0</td>\n",
       "      <td>3</td>\n",
       "      <td>-15292.941239</td>\n",
       "      <td>-15292.941239</td>\n",
       "      <td>0.0</td>\n",
       "    </tr>\n",
       "    <tr>\n",
       "      <th>80</th>\n",
       "      <td>0.847634</td>\n",
       "      <td>0.0</td>\n",
       "      <td>0.078342</td>\n",
       "      <td>0.0</td>\n",
       "      <td>1000</td>\n",
       "      <td>1</td>\n",
       "      <td>0.1</td>\n",
       "      <td>poly</td>\n",
       "      <td>NaN</td>\n",
       "      <td>{'svr__C': 1000, 'svr__degree': 1, 'svr__epsil...</td>\n",
       "      <td>-15243.519311</td>\n",
       "      <td>-15243.519311</td>\n",
       "      <td>0.0</td>\n",
       "      <td>4</td>\n",
       "      <td>-15292.358185</td>\n",
       "      <td>-15292.358185</td>\n",
       "      <td>0.0</td>\n",
       "    </tr>\n",
       "    <tr>\n",
       "      <th>81</th>\n",
       "      <td>0.864591</td>\n",
       "      <td>0.0</td>\n",
       "      <td>0.078809</td>\n",
       "      <td>0.0</td>\n",
       "      <td>1000</td>\n",
       "      <td>1</td>\n",
       "      <td>0.2</td>\n",
       "      <td>poly</td>\n",
       "      <td>NaN</td>\n",
       "      <td>{'svr__C': 1000, 'svr__degree': 1, 'svr__epsil...</td>\n",
       "      <td>-15245.957658</td>\n",
       "      <td>-15245.957658</td>\n",
       "      <td>0.0</td>\n",
       "      <td>5</td>\n",
       "      <td>-15293.571095</td>\n",
       "      <td>-15293.571095</td>\n",
       "      <td>0.0</td>\n",
       "    </tr>\n",
       "  </tbody>\n",
       "</table>\n",
       "</div>"
      ],
      "text/plain": [
       "    mean_fit_time  std_fit_time  mean_score_time  std_score_time param_svr__C  \\\n",
       "83       0.753792           0.0         0.076048             0.0         1000   \n",
       "82       0.763508           0.0         0.075007             0.0         1000   \n",
       "84       0.809218           0.0         0.074972             0.0         1000   \n",
       "80       0.847634           0.0         0.078342             0.0         1000   \n",
       "81       0.864591           0.0         0.078809             0.0         1000   \n",
       "\n",
       "   param_svr__degree param_svr__epsilon param_svr__kernel param_svr__gamma  \\\n",
       "83                 1                0.8              poly              NaN   \n",
       "82                 1                0.5              poly              NaN   \n",
       "84                 1                  1              poly              NaN   \n",
       "80                 1                0.1              poly              NaN   \n",
       "81                 1                0.2              poly              NaN   \n",
       "\n",
       "                                               params  split0_test_score  \\\n",
       "83  {'svr__C': 1000, 'svr__degree': 1, 'svr__epsil...      -15235.468427   \n",
       "82  {'svr__C': 1000, 'svr__degree': 1, 'svr__epsil...      -15238.130500   \n",
       "84  {'svr__C': 1000, 'svr__degree': 1, 'svr__epsil...      -15239.780229   \n",
       "80  {'svr__C': 1000, 'svr__degree': 1, 'svr__epsil...      -15243.519311   \n",
       "81  {'svr__C': 1000, 'svr__degree': 1, 'svr__epsil...      -15245.957658   \n",
       "\n",
       "    mean_test_score  std_test_score  rank_test_score  split0_train_score  \\\n",
       "83    -15235.468427             0.0                1       -15292.573511   \n",
       "82    -15238.130500             0.0                2       -15292.713848   \n",
       "84    -15239.780229             0.0                3       -15292.941239   \n",
       "80    -15243.519311             0.0                4       -15292.358185   \n",
       "81    -15245.957658             0.0                5       -15293.571095   \n",
       "\n",
       "    mean_train_score  std_train_score  \n",
       "83     -15292.573511              0.0  \n",
       "82     -15292.713848              0.0  \n",
       "84     -15292.941239              0.0  \n",
       "80     -15292.358185              0.0  \n",
       "81     -15293.571095              0.0  "
      ]
     },
     "execution_count": 391,
     "metadata": {},
     "output_type": "execute_result"
    }
   ],
   "source": [
    "pd.DataFrame(gs_svr_reg_djia.cv_results_).sort_values(\"rank_test_score\").head(5)"
   ]
  },
  {
   "cell_type": "code",
   "execution_count": 392,
   "metadata": {},
   "outputs": [
    {
     "name": "stdout",
     "output_type": "stream",
     "text": [
      "   Mean squared error: 3.7954e+04\n",
      "       Relative error: 0.62249%\n",
      "R-squared coefficient: 0.99669\n"
     ]
    }
   ],
   "source": [
    "reg_stats(x_test_djia, y_reg_test_djia, gs_svr_reg_djia.best_estimator_)"
   ]
  },
  {
   "cell_type": "code",
   "execution_count": 393,
   "metadata": {},
   "outputs": [
    {
     "data": {
      "text/plain": [
       "194.81786365731455"
      ]
     },
     "execution_count": 393,
     "metadata": {},
     "output_type": "execute_result"
    }
   ],
   "source": [
    "math.sqrt(3.7954e+04)"
   ]
  },
  {
   "cell_type": "markdown",
   "metadata": {},
   "source": [
    "- Abbiamo effettuato la grid search che ci ha portato ai risultati migliori sul __nasdaq__ anche sull'indice __djia__. Abbiamo ottenuto un __RMSE__ di circa  195 dollari."
   ]
  },
  {
   "cell_type": "code",
   "execution_count": 442,
   "metadata": {},
   "outputs": [
    {
     "data": {
      "image/png": "[encoded data removed]",
      "text/plain": [
       "<Figure size 1440x720 with 1 Axes>"
      ]
     },
     "metadata": {
      "needs_background": "light"
     },
     "output_type": "display_data"
    }
   ],
   "source": [
    "fig = plt.figure(figsize=(20.0, 10.0))\n",
    "ax = fig.subplots()\n",
    "ax.set_xlabel(\"Date\")\n",
    "ax.set_ylabel(\"Close Price\")\n",
    "plot1, = plt.plot(x_test_djia.index, y_reg_test_djia, c='red')\n",
    "plot2, = plt.plot(x_test_djia.index, gs_svr_reg_djia.predict(x_test_djia), c=\"blue\")\n",
    "ax.legend([plot1, plot2], [\"real\", \"predicted\"])\n",
    "plt.grid()\n",
    "plt.title(\"Prezzo di chiusura DJIA predetto e prezzo di chiusura DJIA reale sul Test Set\")\n",
    "plt.savefig('static/close-djia-compare.png', bbox_inches='tight')"
   ]
  },
  {
   "cell_type": "markdown",
   "metadata": {},
   "source": [
    "# Conslusioni Finali\n",
    "\n",
    "- Il __modello di classificazione__ da noi realizzato consente di fornire consigli sulle azioni di __trading__ da effettuare. Il miglior modello ottenuto (quello di __ensemble__) consente di ottenere un __ROI__ del __31%__, con una confidenza del 95% che l'accuratezza su dati ignoti cadrà nell'intervallo [0.52, 0,58].\n",
    "\n",
    "- Infine abbiamo voluto realizzare anche un semplice __modello di regressione__ per provare a predire il prezzo di chiusura del mercato. Il risultato migliore è stato raggiunto con un modello basato sulle __SVM__, con __MSE__ di circa __57__ dollari sul __Test Set__. \n",
    "\n",
    "- Abbiamo deciso di realizzare entrambi i modelli in quanto il loro utilizzo combinato potrebbe tornare utile per eseguire azioni di trading in maniera sicura.\n",
    "    - __Ad esempio__: se il modello di classificazione all'inizio di una giornata predice __Up__ e quello di regressione ci predice una Close = Open + epsilon, con epsilon valore piccolo, allora considerando anche eventuali costi aggiuntivi (ad esempio quelli di transazione) non conviene eseguire azioni di trading. Invece, se il modello di classificazione predice __Up__ e quello di regressone ci predice una Close = Open + Delta, con delta abbastanza grande, allora il __trader__ potrà investire con maggior sicurezza."
   ]
  },
  {
   "cell_type": "markdown",
   "metadata": {},
   "source": [
    "- Infine testiamo il modello addestrato sul DataSet __Nasdaq__ per calcolare il __ROI__ sul TestSet __DJIA__."
   ]
  },
  {
   "cell_type": "code",
   "execution_count": 394,
   "metadata": {},
   "outputs": [
    {
     "name": "stdout",
     "output_type": "stream",
     "text": [
      "Accuratezza:  0.5404878048780488\n",
      "ROI:  0.16471787604241622\n",
      "Guadagno:  1011.5199999999941\n",
      "F1:  0.35085497150094996\n"
     ]
    },
    {
     "name": "stderr",
     "output_type": "stream",
     "text": [
      "/anaconda3/lib/python3.7/site-packages/sklearn/metrics/classification.py:1143: UndefinedMetricWarning: F-score is ill-defined and being set to 0.0 in labels with no predicted samples.\n",
      "  'precision', 'predicted', average, warn_for)\n"
     ]
    }
   ],
   "source": [
    "model_stat(x_test_djia, y_test_djia, ensemble)"
   ]
  },
  {
   "cell_type": "markdown",
   "metadata": {},
   "source": [
    "- Eseguiamo anche l'operazione contraria, ossia testiamo il modello addestrato sul DataSet __DJIA__ per calcolare il __ROI__ sul TestSet __Nasdaq__. "
   ]
  },
  {
   "cell_type": "code",
   "execution_count": 395,
   "metadata": {},
   "outputs": [
    {
     "name": "stdout",
     "output_type": "stream",
     "text": [
      "Accuratezza:  0.5346341463414634\n",
      "ROI:  0.24878991124011854\n",
      "Guadagno:  1527.7999999999984\n",
      "F1:  0.4763356293129948\n"
     ]
    }
   ],
   "source": [
    "model_stat(x_test, y_test, ensemble_djia)"
   ]
  },
  {
   "cell_type": "markdown",
   "metadata": {},
   "source": [
    "- Dall'esempio sopra riportato risulta che il modello addestrato sul DataSet __DJIA__ porta ad un __ROI__ maggiore sul __test set__ del DataSet __Nasdaq__ rispetto al proprio __test set__ , questo potrebbe essere dovuto al fatto che il mercato __Nasdaq__ è più stabile e quindi più facilmente prevedibile.\n",
    "- L'errore è più alto del precedente, questo è dovuto al fatto che nel __DJIA__ i prezzi dei titoli sono molto più alti."
   ]
  },
  {
   "cell_type": "markdown",
   "metadata": {},
   "source": [
    "# Scrittura modelli su file\n",
    "\n",
    "- Scriviamo i modelli su file i modelli di predizione ottenuti per integrarli nella Web App."
   ]
  },
  {
   "cell_type": "code",
   "execution_count": 414,
   "metadata": {},
   "outputs": [],
   "source": [
    "import pickle\n",
    "with open(\"instance/model_classification_nasdaq.bin\", \"wb\") as f:\n",
    "    pickle.dump(ensemble, f)"
   ]
  },
  {
   "cell_type": "code",
   "execution_count": 415,
   "metadata": {},
   "outputs": [],
   "source": [
    "with open(\"instance/model_regression_nasdaq.bin\", \"wb\") as f:\n",
    "    pickle.dump(gs_svr_reg.best_estimator_, f)"
   ]
  },
  {
   "cell_type": "code",
   "execution_count": 416,
   "metadata": {},
   "outputs": [],
   "source": [
    "with open(\"instance/model_classification_djia.bin\", \"wb\") as f:\n",
    "    pickle.dump(ensemble_djia, f)"
   ]
  },
  {
   "cell_type": "code",
   "execution_count": 417,
   "metadata": {},
   "outputs": [],
   "source": [
    "with open(\"instance/model_regression_djia.bin\", \"wb\") as f:\n",
    "    pickle.dump(gs_svr_reg_djia.best_estimator_, f)"
   ]
  },
  {
   "cell_type": "code",
   "execution_count": 420,
   "metadata": {},
   "outputs": [],
   "source": [
    "import csv\n",
    "with open('instance/model_stat.csv', mode='w') as f:\n",
    "    employee_writer = csv.writer(f, delimiter=',', quotechar='\"', quoting=csv.QUOTE_MINIMAL)\n",
    "    employee_writer.writerow([\"title\", \"roi\", \"rmse\", \"acc\"])\n",
    "    employee_writer.writerow([\"nasdaq\", roi(y_test, ensemble.predict(x_test)), math.sqrt(mean_squared_error(gs_svr_reg.best_estimator_.predict(x_test), y_reg_test)), ensemble.score(x_test, y_test)])\n",
    "    employee_writer.writerow([\"djia\", roi(y_test_djia, ensemble_djia.predict(x_test_djia)), math.sqrt(mean_squared_error(gs_svr_reg_djia.best_estimator_.predict(x_test_djia), y_reg_test_djia)), ensemble_djia.score(x_test_djia, y_test_djia)])  "
   ]
  }
 ],
 "metadata": {
  "kernelspec": {
   "display_name": "Python 3",
   "language": "python",
   "name": "python3"
  },
  "language_info": {
   "codemirror_mode": {
    "name": "ipython",
    "version": 3
   },
   "file_extension": ".py",
   "mimetype": "text/x-python",
   "name": "python",
   "nbconvert_exporter": "python",
   "pygments_lexer": "ipython3",
   "version": "3.7.1"
  }
 },
 "nbformat": 4,
 "nbformat_minor": 2
}
